{
 "cells": [
  {
   "cell_type": "code",
   "execution_count": 1,
   "id": "3c6ba746",
   "metadata": {},
   "outputs": [],
   "source": [
    "import pandas as pd"
   ]
  },
  {
   "cell_type": "code",
   "execution_count": 3,
   "id": "009d937b",
   "metadata": {
    "scrolled": true
   },
   "outputs": [
    {
     "data": {
      "text/html": [
       "<div>\n",
       "<style scoped>\n",
       "    .dataframe tbody tr th:only-of-type {\n",
       "        vertical-align: middle;\n",
       "    }\n",
       "\n",
       "    .dataframe tbody tr th {\n",
       "        vertical-align: top;\n",
       "    }\n",
       "\n",
       "    .dataframe thead th {\n",
       "        text-align: right;\n",
       "    }\n",
       "</style>\n",
       "<table border=\"1\" class=\"dataframe\">\n",
       "  <thead>\n",
       "    <tr style=\"text-align: right;\">\n",
       "      <th></th>\n",
       "      <th>input</th>\n",
       "      <th>output</th>\n",
       "    </tr>\n",
       "  </thead>\n",
       "  <tbody>\n",
       "    <tr>\n",
       "      <th>0</th>\n",
       "      <td>1</td>\n",
       "      <td>2</td>\n",
       "    </tr>\n",
       "    <tr>\n",
       "      <th>1</th>\n",
       "      <td>2</td>\n",
       "      <td>4</td>\n",
       "    </tr>\n",
       "    <tr>\n",
       "      <th>2</th>\n",
       "      <td>3</td>\n",
       "      <td>6</td>\n",
       "    </tr>\n",
       "    <tr>\n",
       "      <th>3</th>\n",
       "      <td>4</td>\n",
       "      <td>8</td>\n",
       "    </tr>\n",
       "    <tr>\n",
       "      <th>4</th>\n",
       "      <td>5</td>\n",
       "      <td>10</td>\n",
       "    </tr>\n",
       "    <tr>\n",
       "      <th>5</th>\n",
       "      <td>6</td>\n",
       "      <td>12</td>\n",
       "    </tr>\n",
       "    <tr>\n",
       "      <th>6</th>\n",
       "      <td>7</td>\n",
       "      <td>14</td>\n",
       "    </tr>\n",
       "    <tr>\n",
       "      <th>7</th>\n",
       "      <td>8</td>\n",
       "      <td>16</td>\n",
       "    </tr>\n",
       "    <tr>\n",
       "      <th>8</th>\n",
       "      <td>9</td>\n",
       "      <td>18</td>\n",
       "    </tr>\n",
       "    <tr>\n",
       "      <th>9</th>\n",
       "      <td>10</td>\n",
       "      <td>20</td>\n",
       "    </tr>\n",
       "  </tbody>\n",
       "</table>\n",
       "</div>"
      ],
      "text/plain": [
       "   input  output\n",
       "0      1       2\n",
       "1      2       4\n",
       "2      3       6\n",
       "3      4       8\n",
       "4      5      10\n",
       "5      6      12\n",
       "6      7      14\n",
       "7      8      16\n",
       "8      9      18\n",
       "9     10      20"
      ]
     },
     "execution_count": 3,
     "metadata": {},
     "output_type": "execute_result"
    }
   ],
   "source": [
    "data = pd.read_excel(\"data.xlsx\",usecols=[\"input\",\"output\"])\n",
    "data"
   ]
  },
  {
   "cell_type": "code",
   "execution_count": 6,
   "id": "da64140a",
   "metadata": {},
   "outputs": [
    {
     "data": {
      "text/plain": [
       "10"
      ]
     },
     "execution_count": 6,
     "metadata": {},
     "output_type": "execute_result"
    }
   ],
   "source": [
    "len(data)"
   ]
  },
  {
   "cell_type": "code",
   "execution_count": 4,
   "id": "c05732cf",
   "metadata": {},
   "outputs": [
    {
     "name": "stdout",
     "output_type": "stream",
     "text": [
      "[ 1  2  3  4  5  6  7  8  9 10]\n",
      "[ 2  4  6  8 10 12 14 16 18 20]\n"
     ]
    }
   ],
   "source": [
    "X, Y = data.input.values , data.output.values\n",
    "print(X)\n",
    "print(Y)"
   ]
  },
  {
   "cell_type": "code",
   "execution_count": 5,
   "id": "0fa53aaf",
   "metadata": {},
   "outputs": [],
   "source": [
    "training_ratio = 80"
   ]
  },
  {
   "cell_type": "code",
   "execution_count": 7,
   "id": "eb235a92",
   "metadata": {
    "scrolled": true
   },
   "outputs": [
    {
     "name": "stdout",
     "output_type": "stream",
     "text": [
      "Training Ratio, get index 8\n"
     ]
    }
   ],
   "source": [
    "print(\"Training Ratio, get index\", int(len(data)*training_ratio/100))"
   ]
  },
  {
   "cell_type": "code",
   "execution_count": 18,
   "id": "ac8ae31b",
   "metadata": {
    "scrolled": true
   },
   "outputs": [
    {
     "name": "stdout",
     "output_type": "stream",
     "text": [
      "Training X:[1 2 3 4 5 6 7 8]\n",
      "Training Y:[ 2  4  6  8 10 12 14 16]\n",
      "Testing X:[ 9 10]\n",
      "Testing Y:[18 20]\n"
     ]
    }
   ],
   "source": [
    "X_train = X[ :int(len(data)*training_ratio/100)]#start-7index-1\n",
    "Y_train = Y[ :int(len(data)*training_ratio/100)]#start-7index-1\n",
    "\n",
    "\n",
    "X_test = X[int(len(data)*training_ratio/100): ]#7index - endindex\n",
    "Y_test = Y[int(len(data)*training_ratio/100): ]#7index - endindex\n",
    "\n",
    "print(f\"Training X:{X_train}\\nTraining Y:{Y_train}\\nTesting X:{X_test}\\nTesting Y:{Y_test}\")"
   ]
  },
  {
   "cell_type": "markdown",
   "id": "583fb170",
   "metadata": {},
   "source": [
    "### data spliting for ML model (Ratio)\n",
    "- 70% for training 30% for testing\n",
    "- 80% for training 20% for testing\n",
    "- 60% for training 40% for testing\n",
    "- 60% for training, 20% validation, 20% for Testing"
   ]
  },
  {
   "cell_type": "markdown",
   "id": "07ec2556",
   "metadata": {},
   "source": [
    "### Train and test data distribution with sklearn library"
   ]
  },
  {
   "cell_type": "code",
   "execution_count": 20,
   "id": "2b11e6bd",
   "metadata": {
    "scrolled": false
   },
   "outputs": [
    {
     "data": {
      "text/html": [
       "<div>\n",
       "<style scoped>\n",
       "    .dataframe tbody tr th:only-of-type {\n",
       "        vertical-align: middle;\n",
       "    }\n",
       "\n",
       "    .dataframe tbody tr th {\n",
       "        vertical-align: top;\n",
       "    }\n",
       "\n",
       "    .dataframe thead th {\n",
       "        text-align: right;\n",
       "    }\n",
       "</style>\n",
       "<table border=\"1\" class=\"dataframe\">\n",
       "  <thead>\n",
       "    <tr style=\"text-align: right;\">\n",
       "      <th></th>\n",
       "      <th>input</th>\n",
       "      <th>output</th>\n",
       "    </tr>\n",
       "  </thead>\n",
       "  <tbody>\n",
       "    <tr>\n",
       "      <th>0</th>\n",
       "      <td>1</td>\n",
       "      <td>2</td>\n",
       "    </tr>\n",
       "    <tr>\n",
       "      <th>1</th>\n",
       "      <td>2</td>\n",
       "      <td>4</td>\n",
       "    </tr>\n",
       "    <tr>\n",
       "      <th>2</th>\n",
       "      <td>3</td>\n",
       "      <td>6</td>\n",
       "    </tr>\n",
       "    <tr>\n",
       "      <th>3</th>\n",
       "      <td>4</td>\n",
       "      <td>8</td>\n",
       "    </tr>\n",
       "    <tr>\n",
       "      <th>4</th>\n",
       "      <td>5</td>\n",
       "      <td>10</td>\n",
       "    </tr>\n",
       "  </tbody>\n",
       "</table>\n",
       "</div>"
      ],
      "text/plain": [
       "   input  output\n",
       "0      1       2\n",
       "1      2       4\n",
       "2      3       6\n",
       "3      4       8\n",
       "4      5      10"
      ]
     },
     "execution_count": 20,
     "metadata": {},
     "output_type": "execute_result"
    }
   ],
   "source": [
    "data.head()"
   ]
  },
  {
   "cell_type": "code",
   "execution_count": 21,
   "id": "af461ff4",
   "metadata": {},
   "outputs": [],
   "source": [
    "X = data['input'].values\n",
    "Y = data['output'].values"
   ]
  },
  {
   "cell_type": "code",
   "execution_count": 22,
   "id": "7a855016",
   "metadata": {},
   "outputs": [
    {
     "data": {
      "text/plain": [
       "array([ 1,  2,  3,  4,  5,  6,  7,  8,  9, 10], dtype=int64)"
      ]
     },
     "execution_count": 22,
     "metadata": {},
     "output_type": "execute_result"
    }
   ],
   "source": [
    "X"
   ]
  },
  {
   "cell_type": "code",
   "execution_count": 23,
   "id": "8c17bebb",
   "metadata": {
    "scrolled": true
   },
   "outputs": [
    {
     "data": {
      "text/plain": [
       "array([ 2,  4,  6,  8, 10, 12, 14, 16, 18, 20], dtype=int64)"
      ]
     },
     "execution_count": 23,
     "metadata": {},
     "output_type": "execute_result"
    }
   ],
   "source": [
    "Y"
   ]
  },
  {
   "cell_type": "code",
   "execution_count": 25,
   "id": "16b5c6d4",
   "metadata": {},
   "outputs": [],
   "source": [
    "from sklearn.model_selection import train_test_split"
   ]
  },
  {
   "cell_type": "code",
   "execution_count": 26,
   "id": "9ba7c74d",
   "metadata": {
    "scrolled": true
   },
   "outputs": [
    {
     "data": {
      "text/plain": [
       "[array([ 1,  4,  7, 10,  5,  9,  8], dtype=int64),\n",
       " array([2, 6, 3], dtype=int64),\n",
       " array([ 2,  8, 14, 20, 10, 18, 16], dtype=int64),\n",
       " array([ 4, 12,  6], dtype=int64)]"
      ]
     },
     "execution_count": 26,
     "metadata": {},
     "output_type": "execute_result"
    }
   ],
   "source": [
    "train_test_split(X,Y,test_size=0.3)"
   ]
  },
  {
   "cell_type": "code",
   "execution_count": 27,
   "id": "e10dbdd5",
   "metadata": {},
   "outputs": [
    {
     "data": {
      "text/plain": [
       "[array([1, 2, 3, 4, 5, 6, 7], dtype=int64),\n",
       " array([ 8,  9, 10], dtype=int64),\n",
       " array([ 2,  4,  6,  8, 10, 12, 14], dtype=int64),\n",
       " array([16, 18, 20], dtype=int64)]"
      ]
     },
     "execution_count": 27,
     "metadata": {},
     "output_type": "execute_result"
    }
   ],
   "source": [
    "train_test_split(X,Y,test_size=0.3, shuffle=False)"
   ]
  },
  {
   "cell_type": "code",
   "execution_count": 31,
   "id": "c51b9128",
   "metadata": {},
   "outputs": [
    {
     "name": "stdout",
     "output_type": "stream",
     "text": [
      "Training X:[1 2 3 4 5 6 7]\n",
      "Training Y:[ 2  4  6  8 10 12 14]\n",
      "Testing X:[ 8  9 10]\n",
      "Testing Y:[16 18 20]\n"
     ]
    }
   ],
   "source": [
    "X_train, X_test, Y_train, Y_test = train_test_split(X,Y,test_size=0.3,shuffle=False)\n",
    "print(f\"Training X:{X_train}\\nTraining Y:{Y_train}\\nTesting X:{X_test}\\nTesting Y:{Y_test}\")"
   ]
  },
  {
   "cell_type": "code",
   "execution_count": 30,
   "id": "30fc96fa",
   "metadata": {},
   "outputs": [
    {
     "name": "stdout",
     "output_type": "stream",
     "text": [
      "Training X:[9 6 5 1 3 7 2]\n",
      "Training Y:[18 12 10  2  6 14  4]\n",
      "Testing X:[ 8  4 10]\n",
      "Testing Y:[16  8 20]\n"
     ]
    }
   ],
   "source": [
    "X_train, X_test, Y_train, Y_test = train_test_split(X,Y,test_size=0.3,shuffle=True)\n",
    "print(f\"Training X:{X_train}\\nTraining Y:{Y_train}\\nTesting X:{X_test}\\nTesting Y:{Y_test}\")"
   ]
  },
  {
   "cell_type": "code",
   "execution_count": 32,
   "id": "b27055cf",
   "metadata": {},
   "outputs": [
    {
     "name": "stdout",
     "output_type": "stream",
     "text": [
      "20\n"
     ]
    }
   ],
   "source": [
    "import re\n",
    "\n",
    "x = \"\"\"\n",
    "You4:40 PM\n",
    "i'm audio able or not?\n",
    "Syed Zaim Nazir4:41 PM\n",
    "probably you can't hear us\n",
    "Muhammad Fahad4:41 PM\n",
    "yes\n",
    "clearly\n",
    "Kenneth Fahad4:41 PM\n",
    "we can hear you\n",
    "Madiha Obaid Obaid4:42 PM\n",
    "screen share?\n",
    "You4:44 PM\n",
    "https://github.com/EnggQasim/PIAIC_ISLAMABAD_BATCH3/blob/master/9%20to%2012/python/class9(File%20Handling)/File%20Handling.ipynb\n",
    "Syed Umair Ahmed5:20 PM\n",
    "Sir 10 minutes ka break deden Namaz ka time\n",
    "Syed Umair Ahmed6:17 PM\n",
    "okay sir\n",
    "You6:31 PM\n",
    "https://github.com/EnggQasim/PGD_Batch2_Machine_Learning\n",
    "Kenneth Fahad6:31 PM\n",
    "33105-4159733-1\n",
    "Syed Sajjad Ali Shah6:31 PM\n",
    "1510120026221\n",
    "Bilal Uddin6:31 PM\n",
    "4220122191357\n",
    "Amna Shahid6:31 PM\n",
    "34603-4824275-6\n",
    "MUSTAFA NADIMI6:31 PM\n",
    "5440053241639\n",
    "Muneeb Abdul Rauf6:31 PM\n",
    "42301-8154478-7\n",
    "Zoya Ansari6:31 PM\n",
    "4220186465696\n",
    "TARIQ JAMIL6:31 PM\n",
    "4250182298545\n",
    "Muhammad Fahad6:32 PM\n",
    "Muhammad Fahad (CNIC 4210117498405)\n",
    "Madiha Obaid Obaid6:32 PM\n",
    "4220105920780\n",
    "Syed Mohammad Asad Asad6:32 PM\n",
    "42401-8056136-5\n",
    "Syed Zaim Nazir6:32 PM\n",
    "4220171026219\n",
    "Rizwan Ali6:32 PM\n",
    "4230174256393\n",
    "Syed Umair Ahmed6:32 PM\n",
    "Syed Umair Ahmed\n",
    "CNIC: 41304-8519667-3\n",
    "Syed Abbas Abbas6:32 PM\n",
    "4200034578253\n",
    "syed daniyal6:32 PM\n",
    "4250189782769\n",
    "Farrukh Jalil6:32 PM\n",
    "Farrukh Jalil\n",
    "CNIC: 42101-1397876-3\n",
    "Mustafa6:32 PM\n",
    "4220106546787\n",
    "Nadir Ali6:32 PM\n",
    "4130311530273\n",
    "mustafa zaidi6:33 PM\n",
    "Maria Mustafa\n",
    "4200068281176\n",
    "Syed Umair Ahmed6:33 PM\n",
    "Nadir bhai bolo na\n",
    "mcc-qjtf-rix\n",
    "\"\"\"\n",
    "x = x.replace('-','')\n",
    "\n",
    "cnic = list(set(re.findall(r\"\\b\\d{13}\\b\",x)))\n",
    "print(len(cnic))"
   ]
  },
  {
   "cell_type": "code",
   "execution_count": 33,
   "id": "03f57389",
   "metadata": {},
   "outputs": [
    {
     "data": {
      "text/html": [
       "<div>\n",
       "<style scoped>\n",
       "    .dataframe tbody tr th:only-of-type {\n",
       "        vertical-align: middle;\n",
       "    }\n",
       "\n",
       "    .dataframe tbody tr th {\n",
       "        vertical-align: top;\n",
       "    }\n",
       "\n",
       "    .dataframe thead th {\n",
       "        text-align: right;\n",
       "    }\n",
       "</style>\n",
       "<table border=\"1\" class=\"dataframe\">\n",
       "  <thead>\n",
       "    <tr style=\"text-align: right;\">\n",
       "      <th></th>\n",
       "      <th>CNIC</th>\n",
       "    </tr>\n",
       "  </thead>\n",
       "  <tbody>\n",
       "    <tr>\n",
       "      <th>0</th>\n",
       "      <td>4250182298545</td>\n",
       "    </tr>\n",
       "    <tr>\n",
       "      <th>1</th>\n",
       "      <td>4240180561365</td>\n",
       "    </tr>\n",
       "    <tr>\n",
       "      <th>2</th>\n",
       "      <td>4130311530273</td>\n",
       "    </tr>\n",
       "    <tr>\n",
       "      <th>3</th>\n",
       "      <td>4230181544787</td>\n",
       "    </tr>\n",
       "    <tr>\n",
       "      <th>4</th>\n",
       "      <td>4200068281176</td>\n",
       "    </tr>\n",
       "    <tr>\n",
       "      <th>5</th>\n",
       "      <td>5440053241639</td>\n",
       "    </tr>\n",
       "    <tr>\n",
       "      <th>6</th>\n",
       "      <td>4250189782769</td>\n",
       "    </tr>\n",
       "    <tr>\n",
       "      <th>7</th>\n",
       "      <td>4220122191357</td>\n",
       "    </tr>\n",
       "    <tr>\n",
       "      <th>8</th>\n",
       "      <td>4200034578253</td>\n",
       "    </tr>\n",
       "    <tr>\n",
       "      <th>9</th>\n",
       "      <td>4220105920780</td>\n",
       "    </tr>\n",
       "    <tr>\n",
       "      <th>10</th>\n",
       "      <td>4130485196673</td>\n",
       "    </tr>\n",
       "    <tr>\n",
       "      <th>11</th>\n",
       "      <td>3460348242756</td>\n",
       "    </tr>\n",
       "    <tr>\n",
       "      <th>12</th>\n",
       "      <td>4220106546787</td>\n",
       "    </tr>\n",
       "    <tr>\n",
       "      <th>13</th>\n",
       "      <td>4220186465696</td>\n",
       "    </tr>\n",
       "    <tr>\n",
       "      <th>14</th>\n",
       "      <td>3310541597331</td>\n",
       "    </tr>\n",
       "    <tr>\n",
       "      <th>15</th>\n",
       "      <td>4220171026219</td>\n",
       "    </tr>\n",
       "    <tr>\n",
       "      <th>16</th>\n",
       "      <td>1510120026221</td>\n",
       "    </tr>\n",
       "    <tr>\n",
       "      <th>17</th>\n",
       "      <td>4210117498405</td>\n",
       "    </tr>\n",
       "    <tr>\n",
       "      <th>18</th>\n",
       "      <td>4210113978763</td>\n",
       "    </tr>\n",
       "    <tr>\n",
       "      <th>19</th>\n",
       "      <td>4230174256393</td>\n",
       "    </tr>\n",
       "  </tbody>\n",
       "</table>\n",
       "</div>"
      ],
      "text/plain": [
       "             CNIC\n",
       "0   4250182298545\n",
       "1   4240180561365\n",
       "2   4130311530273\n",
       "3   4230181544787\n",
       "4   4200068281176\n",
       "5   5440053241639\n",
       "6   4250189782769\n",
       "7   4220122191357\n",
       "8   4200034578253\n",
       "9   4220105920780\n",
       "10  4130485196673\n",
       "11  3460348242756\n",
       "12  4220106546787\n",
       "13  4220186465696\n",
       "14  3310541597331\n",
       "15  4220171026219\n",
       "16  1510120026221\n",
       "17  4210117498405\n",
       "18  4210113978763\n",
       "19  4230174256393"
      ]
     },
     "execution_count": 33,
     "metadata": {},
     "output_type": "execute_result"
    }
   ],
   "source": [
    "df = pd.DataFrame(cnic, columns=[\"CNIC\"])\n",
    "df"
   ]
  },
  {
   "cell_type": "code",
   "execution_count": 34,
   "id": "a9452a5b",
   "metadata": {},
   "outputs": [],
   "source": [
    "df.to_excel(\"class2Attendance.xlsx\",index=False)"
   ]
  },
  {
   "cell_type": "code",
   "execution_count": null,
   "id": "5f263124",
   "metadata": {},
   "outputs": [],
   "source": []
  }
 ],
 "metadata": {
  "kernelspec": {
   "display_name": "Python 3 (ipykernel)",
   "language": "python",
   "name": "python3"
  },
  "language_info": {
   "codemirror_mode": {
    "name": "ipython",
    "version": 3
   },
   "file_extension": ".py",
   "mimetype": "text/x-python",
   "name": "python",
   "nbconvert_exporter": "python",
   "pygments_lexer": "ipython3",
   "version": "3.9.12"
  }
 },
 "nbformat": 4,
 "nbformat_minor": 5
}
