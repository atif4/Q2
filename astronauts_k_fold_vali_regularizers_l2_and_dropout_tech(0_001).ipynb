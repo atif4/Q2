{
  "cells": [
    {
      "cell_type": "markdown",
      "metadata": {
        "id": "view-in-github",
        "colab_type": "text"
      },
      "source": [
        "<a href=\"https://colab.research.google.com/github/atif4/Q2/blob/gh-pages/astronauts_k_fold_vali_regularizers_l2_and_dropout_tech(0_001).ipynb\" target=\"_parent\"><img src=\"https://colab.research.google.com/assets/colab-badge.svg\" alt=\"Open In Colab\"/></a>"
      ]
    },
    {
      "cell_type": "code",
      "execution_count": 1,
      "metadata": {
        "id": "DwB5BPeqv7Q-"
      },
      "outputs": [],
      "source": [
        "#hide earrings \n",
        "import warnings\n",
        "warnings.filterwarnings('ignore')\n",
        "import pandas as pd\n",
        "import numpy as np"
      ]
    },
    {
      "cell_type": "code",
      "source": [
        "from sklearn.preprocessing import LabelEncoder\n",
        "from sklearn.model_selection import train_test_split\n",
        "from sklearn import preprocessing"
      ],
      "metadata": {
        "id": "3K6233uBwQmI"
      },
      "execution_count": 2,
      "outputs": []
    },
    {
      "cell_type": "code",
      "execution_count": 3,
      "metadata": {
        "id": "zJx7TcUiPodo"
      },
      "outputs": [],
      "source": [
        "import matplotlib.pyplot as plt\n",
        "%matplotlib inline\n",
        "import seaborn as sns\n",
        "plt.style.use('seaborn')"
      ]
    },
    {
      "cell_type": "code",
      "execution_count": 4,
      "metadata": {
        "id": "ede6KExlPsQ_"
      },
      "outputs": [],
      "source": [
        "from sklearn.model_selection import train_test_split\n",
        "from sklearn.preprocessing import MinMaxScaler"
      ]
    },
    {
      "cell_type": "code",
      "execution_count": 5,
      "metadata": {
        "id": "M8t6wX9fT2k5"
      },
      "outputs": [],
      "source": [
        "\"\"\"from tensorflow.keras.models import Sequential\n",
        "from tensorflow.keras.layers import Dense\"\"\"\n",
        "from tensorflow.keras.models import Sequential\n",
        "from tensorflow.keras.layers import Dense\n",
        "from tensorflow.keras.optimizers import Adam, SGD\n",
        "from keras import layers \n",
        "from keras import regularizers"
      ]
    },
    {
      "cell_type": "code",
      "execution_count": 6,
      "metadata": {
        "colab": {
          "base_uri": "https://localhost:8080/",
          "height": 485
        },
        "id": "fHIWSftWT3QS",
        "outputId": "c04ddab7-1531-4ea9-f50a-c249744f8f46"
      },
      "outputs": [
        {
          "output_type": "execute_result",
          "data": {
            "text/plain": [
              "               Name    Year  Group   Status Birth Date    Birth Place Gender  \\\n",
              "0   Joseph M. Acaba  2004.0   19.0   Active  5/17/1967  Inglewood, CA   Male   \n",
              "1    Loren W. Acton     NaN    NaN  Retired   3/7/1936   Lewiston, MT   Male   \n",
              "2  James C. Adamson  1984.0   10.0  Retired   3/3/1946     Warsaw, NY   Male   \n",
              "\n",
              "                                          Alma Mater  Undergraduate Major  \\\n",
              "0  University of California-Santa Barbara; Univer...              Geology   \n",
              "1   Montana State University; University of Colorado  Engineering Physics   \n",
              "2          US Military Academy; Princeton University          Engineering   \n",
              "\n",
              "          Graduate Major Military Rank    Military Branch  Space Flights  \\\n",
              "0                Geology           NaN                NaN              2   \n",
              "1          Solar Physics           NaN                NaN              1   \n",
              "2  Aerospace Engineering       Colonel  US Army (Retired)              2   \n",
              "\n",
              "   Space Flight (hr)  Space Walks  Space Walks (hr)  \\\n",
              "0               3307            2              13.0   \n",
              "1                190            0               0.0   \n",
              "2                334            0               0.0   \n",
              "\n",
              "                                 Missions Death Date Death Mission  \n",
              "0  STS-119 (Discovery), ISS-31/32 (Soyuz)        NaN           NaN  \n",
              "1                   STS 51-F (Challenger)        NaN           NaN  \n",
              "2    STS-28 (Columbia), STS-43 (Atlantis)        NaN           NaN  "
            ],
            "text/html": [
              "\n",
              "  <div id=\"df-6d9ea08e-38ab-4586-9d25-1adf4b13d47c\">\n",
              "    <div class=\"colab-df-container\">\n",
              "      <div>\n",
              "<style scoped>\n",
              "    .dataframe tbody tr th:only-of-type {\n",
              "        vertical-align: middle;\n",
              "    }\n",
              "\n",
              "    .dataframe tbody tr th {\n",
              "        vertical-align: top;\n",
              "    }\n",
              "\n",
              "    .dataframe thead th {\n",
              "        text-align: right;\n",
              "    }\n",
              "</style>\n",
              "<table border=\"1\" class=\"dataframe\">\n",
              "  <thead>\n",
              "    <tr style=\"text-align: right;\">\n",
              "      <th></th>\n",
              "      <th>Name</th>\n",
              "      <th>Year</th>\n",
              "      <th>Group</th>\n",
              "      <th>Status</th>\n",
              "      <th>Birth Date</th>\n",
              "      <th>Birth Place</th>\n",
              "      <th>Gender</th>\n",
              "      <th>Alma Mater</th>\n",
              "      <th>Undergraduate Major</th>\n",
              "      <th>Graduate Major</th>\n",
              "      <th>Military Rank</th>\n",
              "      <th>Military Branch</th>\n",
              "      <th>Space Flights</th>\n",
              "      <th>Space Flight (hr)</th>\n",
              "      <th>Space Walks</th>\n",
              "      <th>Space Walks (hr)</th>\n",
              "      <th>Missions</th>\n",
              "      <th>Death Date</th>\n",
              "      <th>Death Mission</th>\n",
              "    </tr>\n",
              "  </thead>\n",
              "  <tbody>\n",
              "    <tr>\n",
              "      <th>0</th>\n",
              "      <td>Joseph M. Acaba</td>\n",
              "      <td>2004.0</td>\n",
              "      <td>19.0</td>\n",
              "      <td>Active</td>\n",
              "      <td>5/17/1967</td>\n",
              "      <td>Inglewood, CA</td>\n",
              "      <td>Male</td>\n",
              "      <td>University of California-Santa Barbara; Univer...</td>\n",
              "      <td>Geology</td>\n",
              "      <td>Geology</td>\n",
              "      <td>NaN</td>\n",
              "      <td>NaN</td>\n",
              "      <td>2</td>\n",
              "      <td>3307</td>\n",
              "      <td>2</td>\n",
              "      <td>13.0</td>\n",
              "      <td>STS-119 (Discovery), ISS-31/32 (Soyuz)</td>\n",
              "      <td>NaN</td>\n",
              "      <td>NaN</td>\n",
              "    </tr>\n",
              "    <tr>\n",
              "      <th>1</th>\n",
              "      <td>Loren W. Acton</td>\n",
              "      <td>NaN</td>\n",
              "      <td>NaN</td>\n",
              "      <td>Retired</td>\n",
              "      <td>3/7/1936</td>\n",
              "      <td>Lewiston, MT</td>\n",
              "      <td>Male</td>\n",
              "      <td>Montana State University; University of Colorado</td>\n",
              "      <td>Engineering Physics</td>\n",
              "      <td>Solar Physics</td>\n",
              "      <td>NaN</td>\n",
              "      <td>NaN</td>\n",
              "      <td>1</td>\n",
              "      <td>190</td>\n",
              "      <td>0</td>\n",
              "      <td>0.0</td>\n",
              "      <td>STS 51-F (Challenger)</td>\n",
              "      <td>NaN</td>\n",
              "      <td>NaN</td>\n",
              "    </tr>\n",
              "    <tr>\n",
              "      <th>2</th>\n",
              "      <td>James C. Adamson</td>\n",
              "      <td>1984.0</td>\n",
              "      <td>10.0</td>\n",
              "      <td>Retired</td>\n",
              "      <td>3/3/1946</td>\n",
              "      <td>Warsaw, NY</td>\n",
              "      <td>Male</td>\n",
              "      <td>US Military Academy; Princeton University</td>\n",
              "      <td>Engineering</td>\n",
              "      <td>Aerospace Engineering</td>\n",
              "      <td>Colonel</td>\n",
              "      <td>US Army (Retired)</td>\n",
              "      <td>2</td>\n",
              "      <td>334</td>\n",
              "      <td>0</td>\n",
              "      <td>0.0</td>\n",
              "      <td>STS-28 (Columbia), STS-43 (Atlantis)</td>\n",
              "      <td>NaN</td>\n",
              "      <td>NaN</td>\n",
              "    </tr>\n",
              "  </tbody>\n",
              "</table>\n",
              "</div>\n",
              "      <button class=\"colab-df-convert\" onclick=\"convertToInteractive('df-6d9ea08e-38ab-4586-9d25-1adf4b13d47c')\"\n",
              "              title=\"Convert this dataframe to an interactive table.\"\n",
              "              style=\"display:none;\">\n",
              "        \n",
              "  <svg xmlns=\"http://www.w3.org/2000/svg\" height=\"24px\"viewBox=\"0 0 24 24\"\n",
              "       width=\"24px\">\n",
              "    <path d=\"M0 0h24v24H0V0z\" fill=\"none\"/>\n",
              "    <path d=\"M18.56 5.44l.94 2.06.94-2.06 2.06-.94-2.06-.94-.94-2.06-.94 2.06-2.06.94zm-11 1L8.5 8.5l.94-2.06 2.06-.94-2.06-.94L8.5 2.5l-.94 2.06-2.06.94zm10 10l.94 2.06.94-2.06 2.06-.94-2.06-.94-.94-2.06-.94 2.06-2.06.94z\"/><path d=\"M17.41 7.96l-1.37-1.37c-.4-.4-.92-.59-1.43-.59-.52 0-1.04.2-1.43.59L10.3 9.45l-7.72 7.72c-.78.78-.78 2.05 0 2.83L4 21.41c.39.39.9.59 1.41.59.51 0 1.02-.2 1.41-.59l7.78-7.78 2.81-2.81c.8-.78.8-2.07 0-2.86zM5.41 20L4 18.59l7.72-7.72 1.47 1.35L5.41 20z\"/>\n",
              "  </svg>\n",
              "      </button>\n",
              "      \n",
              "  <style>\n",
              "    .colab-df-container {\n",
              "      display:flex;\n",
              "      flex-wrap:wrap;\n",
              "      gap: 12px;\n",
              "    }\n",
              "\n",
              "    .colab-df-convert {\n",
              "      background-color: #E8F0FE;\n",
              "      border: none;\n",
              "      border-radius: 50%;\n",
              "      cursor: pointer;\n",
              "      display: none;\n",
              "      fill: #1967D2;\n",
              "      height: 32px;\n",
              "      padding: 0 0 0 0;\n",
              "      width: 32px;\n",
              "    }\n",
              "\n",
              "    .colab-df-convert:hover {\n",
              "      background-color: #E2EBFA;\n",
              "      box-shadow: 0px 1px 2px rgba(60, 64, 67, 0.3), 0px 1px 3px 1px rgba(60, 64, 67, 0.15);\n",
              "      fill: #174EA6;\n",
              "    }\n",
              "\n",
              "    [theme=dark] .colab-df-convert {\n",
              "      background-color: #3B4455;\n",
              "      fill: #D2E3FC;\n",
              "    }\n",
              "\n",
              "    [theme=dark] .colab-df-convert:hover {\n",
              "      background-color: #434B5C;\n",
              "      box-shadow: 0px 1px 3px 1px rgba(0, 0, 0, 0.15);\n",
              "      filter: drop-shadow(0px 1px 2px rgba(0, 0, 0, 0.3));\n",
              "      fill: #FFFFFF;\n",
              "    }\n",
              "  </style>\n",
              "\n",
              "      <script>\n",
              "        const buttonEl =\n",
              "          document.querySelector('#df-6d9ea08e-38ab-4586-9d25-1adf4b13d47c button.colab-df-convert');\n",
              "        buttonEl.style.display =\n",
              "          google.colab.kernel.accessAllowed ? 'block' : 'none';\n",
              "\n",
              "        async function convertToInteractive(key) {\n",
              "          const element = document.querySelector('#df-6d9ea08e-38ab-4586-9d25-1adf4b13d47c');\n",
              "          const dataTable =\n",
              "            await google.colab.kernel.invokeFunction('convertToInteractive',\n",
              "                                                     [key], {});\n",
              "          if (!dataTable) return;\n",
              "\n",
              "          const docLinkHtml = 'Like what you see? Visit the ' +\n",
              "            '<a target=\"_blank\" href=https://colab.research.google.com/notebooks/data_table.ipynb>data table notebook</a>'\n",
              "            + ' to learn more about interactive tables.';\n",
              "          element.innerHTML = '';\n",
              "          dataTable['output_type'] = 'display_data';\n",
              "          await google.colab.output.renderOutput(dataTable, element);\n",
              "          const docLink = document.createElement('div');\n",
              "          docLink.innerHTML = docLinkHtml;\n",
              "          element.appendChild(docLink);\n",
              "        }\n",
              "      </script>\n",
              "    </div>\n",
              "  </div>\n",
              "  "
            ]
          },
          "metadata": {},
          "execution_count": 6
        }
      ],
      "source": [
        "df = pd.read_csv(\"/content/drive/MyDrive/Dataset/astronauts.csv\")\n",
        "df.head(3)"
      ]
    },
    {
      "cell_type": "code",
      "execution_count": 7,
      "metadata": {
        "id": "8QtGSUB1EaSu"
      },
      "outputs": [],
      "source": [
        "df.rename(columns={'Birth Date':'Birth_Date', 'Birth Place':'Birth_Place','Alma Mater':'Alma_Mater', 'Undergraduate Major':'Undergraduate_Major', 'Graduate Major':'Graduate_Major',\n",
        "       'Military Rank':'Military_Rank', 'Military Branch':'Military_Branch', 'Space Flights':'Space_Flights',\n",
        "       'Space Flight (hr)':'Space_Flight_(hr)', 'Space Walks':'Space_Walks', 'Space Walks (hr)':'Space_Walks_(hr)',\n",
        "       'Death Date':'Death_Date', 'Death Mission':'Death_Mission'},inplace=True)"
      ]
    },
    {
      "cell_type": "code",
      "execution_count": 8,
      "metadata": {
        "colab": {
          "base_uri": "https://localhost:8080/"
        },
        "id": "DuZIyHzqUIAc",
        "outputId": "cb938db8-165a-4fff-e3f0-0a1e080e7078"
      },
      "outputs": [
        {
          "output_type": "stream",
          "name": "stdout",
          "text": [
            "<class 'pandas.core.frame.DataFrame'>\n",
            "RangeIndex: 357 entries, 0 to 356\n",
            "Data columns (total 19 columns):\n",
            " #   Column               Non-Null Count  Dtype  \n",
            "---  ------               --------------  -----  \n",
            " 0   Name                 357 non-null    object \n",
            " 1   Year                 330 non-null    float64\n",
            " 2   Group                330 non-null    float64\n",
            " 3   Status               357 non-null    object \n",
            " 4   Birth_Date           357 non-null    object \n",
            " 5   Birth_Place          357 non-null    object \n",
            " 6   Gender               357 non-null    object \n",
            " 7   Alma_Mater           356 non-null    object \n",
            " 8   Undergraduate_Major  335 non-null    object \n",
            " 9   Graduate_Major       298 non-null    object \n",
            " 10  Military_Rank        207 non-null    object \n",
            " 11  Military_Branch      211 non-null    object \n",
            " 12  Space_Flights        357 non-null    int64  \n",
            " 13  Space_Flight_(hr)    357 non-null    int64  \n",
            " 14  Space_Walks          357 non-null    int64  \n",
            " 15  Space_Walks_(hr)     357 non-null    float64\n",
            " 16  Missions             334 non-null    object \n",
            " 17  Death_Date           52 non-null     object \n",
            " 18  Death_Mission        16 non-null     object \n",
            "dtypes: float64(3), int64(3), object(13)\n",
            "memory usage: 53.1+ KB\n"
          ]
        }
      ],
      "source": [
        "df.info()"
      ]
    },
    {
      "cell_type": "code",
      "source": [
        "df['Death_Date']=df['Death_Date'].astype('datetime64[ns]')\n",
        "df['Birth_Date']=df['Birth_Date'].astype('datetime64[ns]')"
      ],
      "metadata": {
        "id": "9HfGd-2LkBa3"
      },
      "execution_count": 9,
      "outputs": []
    },
    {
      "cell_type": "code",
      "source": [
        "def get_each_dtpyes(col_list):\n",
        "    ob = []\n",
        "    integer = []\n",
        "    fl = []\n",
        "    data_time = []\n",
        "    bol = []\n",
        "    for i in col_list:\n",
        "        if df[i].dtypes == 'object':\n",
        "            ob.append(i)\n",
        "        if df[i].dtypes == 'int64':\n",
        "            integer.append(i)\n",
        "        if  df[i].dtypes == 'float64':\n",
        "            fl.append(i)\n",
        "        if df[i].dtypes == 'datetime64[ns]':\n",
        "            data_time.append(i)\n",
        "        if df[i].dtypes == \"bool\":\n",
        "            bol.append(i)\n",
        "    return print(f\"list of object dtpyes:\\n{ob}\\n{len(ob)}\\n\\nlist of integers dtypes:\\n{integer}\\n{len(integer)}\\n\\nlist of float dtypes:\\n{fl}\\n{len(fl)}\\n\\nlist of datatime dtype:\\n{data_time}\\n{len(data_time)}\\nlist of datatime dtype:\\n{bol}\\n{len(bol)}\\n\")\n",
        "get_each_dtpyes(['Name', 'Year', 'Group', 'Status', 'Birth_Date', 'Birth_Place','Gender', 'Alma_Mater', 'Undergraduate_Major', 'Graduate_Major',\n",
        "       'Military_Rank', 'Military_Branch', 'Space_Flights','Space_Flight_(hr)', 'Space_Walks', 'Space_Walks_(hr)', 'Missions','Death_Date', 'Death_Mission'])"
      ],
      "metadata": {
        "colab": {
          "base_uri": "https://localhost:8080/"
        },
        "id": "K7JV-6eNjynO",
        "outputId": "ec8fd25f-6d9d-4398-882b-6ef15c4b87d5"
      },
      "execution_count": 10,
      "outputs": [
        {
          "output_type": "stream",
          "name": "stdout",
          "text": [
            "list of object dtpyes:\n",
            "['Name', 'Status', 'Birth_Place', 'Gender', 'Alma_Mater', 'Undergraduate_Major', 'Graduate_Major', 'Military_Rank', 'Military_Branch', 'Missions', 'Death_Mission']\n",
            "11\n",
            "\n",
            "list of integers dtypes:\n",
            "['Space_Flights', 'Space_Flight_(hr)', 'Space_Walks']\n",
            "3\n",
            "\n",
            "list of float dtypes:\n",
            "['Year', 'Group', 'Space_Walks_(hr)']\n",
            "3\n",
            "\n",
            "list of datatime dtype:\n",
            "['Birth_Date', 'Death_Date']\n",
            "2\n",
            "list of datatime dtype:\n",
            "[]\n",
            "0\n",
            "\n"
          ]
        }
      ]
    },
    {
      "cell_type": "code",
      "source": [
        "null_value = {}\n",
        "not_null_value = {}\n",
        "def get_null_value_col(list_col):\n",
        "  for i in list_col:\n",
        "    if df[i].isnull().sum() == 0:\n",
        "      not_null_value[i]=df[i].isnull().sum()\n",
        "    else:\n",
        "      null_value[i]=df[i].isnull().sum()\n",
        "get_null_value_col(['Name', 'Year', 'Group', 'Status', 'Birth_Date', 'Birth_Place', 'Gender', 'Alma_Mater', 'Undergraduate_Major', 'Graduate_Major',\n",
        "       'Military_Rank', 'Military_Branch', 'Space_Flights','Space_Flight_(hr)', 'Space_Walks', 'Space_Walks_(hr)', 'Missions', 'Death_Date', 'Death_Mission'])"
      ],
      "metadata": {
        "id": "xzFU-Ckxg7me"
      },
      "execution_count": 11,
      "outputs": []
    },
    {
      "cell_type": "code",
      "source": [
        "display(\"This is list of columns which has null values: \",null_value)\n",
        "display(\"The number of columns which has null value are  \",len(null_value))\n",
        "#display(\"This is list of columns which does not have null values: \",not_null_value)\n",
        "#display(\"This is lenght of list which does not have null value: \",len(not_null_value))"
      ],
      "metadata": {
        "colab": {
          "base_uri": "https://localhost:8080/",
          "height": 245
        },
        "id": "Z2ZuUHAUikW8",
        "outputId": "af8da660-9b6e-4877-8b15-0993462e2e83"
      },
      "execution_count": 12,
      "outputs": [
        {
          "output_type": "display_data",
          "data": {
            "text/plain": [
              "'This is list of columns which has null values: '"
            ],
            "application/vnd.google.colaboratory.intrinsic+json": {
              "type": "string"
            }
          },
          "metadata": {}
        },
        {
          "output_type": "display_data",
          "data": {
            "text/plain": [
              "{'Year': 27,\n",
              " 'Group': 27,\n",
              " 'Alma_Mater': 1,\n",
              " 'Undergraduate_Major': 22,\n",
              " 'Graduate_Major': 59,\n",
              " 'Military_Rank': 150,\n",
              " 'Military_Branch': 146,\n",
              " 'Missions': 23,\n",
              " 'Death_Date': 305,\n",
              " 'Death_Mission': 341}"
            ]
          },
          "metadata": {}
        },
        {
          "output_type": "display_data",
          "data": {
            "text/plain": [
              "'The number of columns which has null value are  '"
            ],
            "application/vnd.google.colaboratory.intrinsic+json": {
              "type": "string"
            }
          },
          "metadata": {}
        },
        {
          "output_type": "display_data",
          "data": {
            "text/plain": [
              "10"
            ]
          },
          "metadata": {}
        }
      ]
    },
    {
      "cell_type": "code",
      "source": [
        "null_value.keys()"
      ],
      "metadata": {
        "colab": {
          "base_uri": "https://localhost:8080/"
        },
        "id": "YXy_zBani-nB",
        "outputId": "5c00e329-f4eb-4518-8943-9bf0ea29621f"
      },
      "execution_count": 13,
      "outputs": [
        {
          "output_type": "execute_result",
          "data": {
            "text/plain": [
              "dict_keys(['Year', 'Group', 'Alma_Mater', 'Undergraduate_Major', 'Graduate_Major', 'Military_Rank', 'Military_Branch', 'Missions', 'Death_Date', 'Death_Mission'])"
            ]
          },
          "metadata": {},
          "execution_count": 13
        }
      ]
    },
    {
      "cell_type": "code",
      "source": [
        "update_col_dic={}\n",
        "drop_col_dic ={}\n",
        "def get_percentage_of_each_col(list_col):\n",
        "  for i in list_col:\n",
        "    if df[i].isnull().sum()/len(df)*100 > 30:\n",
        "      update_col_dic[i] = df[i].isnull().sum()/len(df)*100\n",
        "    else:\n",
        "      drop_col_dic[i]=df[i].isnull().sum()/len(df)*100 \n",
        "get_percentage_of_each_col(['Year', 'Group', 'Alma_Mater', 'Undergraduate_Major', 'Graduate_Major', 'Military_Rank', 'Military_Branch', 'Missions', 'Death_Date', 'Death_Mission'])"
      ],
      "metadata": {
        "id": "iSuQ4Qzzi7CP"
      },
      "execution_count": 14,
      "outputs": []
    },
    {
      "cell_type": "code",
      "source": [
        "display(\"These percentages are greater then 30 you have to use techniques to fill the missing values of following columns: \", update_col_dic)"
      ],
      "metadata": {
        "colab": {
          "base_uri": "https://localhost:8080/",
          "height": 105
        },
        "id": "BWACP1RNjg2U",
        "outputId": "ba72b048-cbfa-42db-ec7d-48355e06fbff"
      },
      "execution_count": 15,
      "outputs": [
        {
          "output_type": "display_data",
          "data": {
            "text/plain": [
              "'These percentages are greater then 30 you have to use techniques to fill the missing values of following columns: '"
            ],
            "application/vnd.google.colaboratory.intrinsic+json": {
              "type": "string"
            }
          },
          "metadata": {}
        },
        {
          "output_type": "display_data",
          "data": {
            "text/plain": [
              "{'Military_Rank': 42.016806722689076,\n",
              " 'Military_Branch': 40.896358543417364,\n",
              " 'Death_Date': 85.43417366946778,\n",
              " 'Death_Mission': 95.51820728291317}"
            ]
          },
          "metadata": {}
        }
      ]
    },
    {
      "cell_type": "code",
      "source": [
        "display(\"These percentages are not greater then 30 you have to drop the following columns: \",drop_col_dic)"
      ],
      "metadata": {
        "colab": {
          "base_uri": "https://localhost:8080/",
          "height": 140
        },
        "id": "WwwrmLxxjnN_",
        "outputId": "6555e839-8219-4125-b967-c409df7f5202"
      },
      "execution_count": 16,
      "outputs": [
        {
          "output_type": "display_data",
          "data": {
            "text/plain": [
              "'These percentages are not greater then 30 you have to drop the following columns: '"
            ],
            "application/vnd.google.colaboratory.intrinsic+json": {
              "type": "string"
            }
          },
          "metadata": {}
        },
        {
          "output_type": "display_data",
          "data": {
            "text/plain": [
              "{'Year': 7.563025210084033,\n",
              " 'Group': 7.563025210084033,\n",
              " 'Alma_Mater': 0.2801120448179272,\n",
              " 'Undergraduate_Major': 6.162464985994398,\n",
              " 'Graduate_Major': 16.5266106442577,\n",
              " 'Missions': 6.442577030812324}"
            ]
          },
          "metadata": {}
        }
      ]
    },
    {
      "cell_type": "code",
      "execution_count": 17,
      "metadata": {
        "colab": {
          "base_uri": "https://localhost:8080/"
        },
        "id": "9k1Busjxrxhx",
        "outputId": "0cb78d5e-b8d6-40dc-9a50-7dd97172bae3"
      },
      "outputs": [
        {
          "output_type": "execute_result",
          "data": {
            "text/plain": [
              "dict_keys(['Year', 'Group', 'Alma_Mater', 'Undergraduate_Major', 'Graduate_Major', 'Missions'])"
            ]
          },
          "metadata": {},
          "execution_count": 17
        }
      ],
      "source": [
        "drop_col_dic.keys()"
      ]
    },
    {
      "cell_type": "code",
      "execution_count": 18,
      "metadata": {
        "id": "v378-t3K_HDG"
      },
      "outputs": [],
      "source": [
        "df.drop(['Year', 'Group', 'Alma_Mater', 'Undergraduate_Major', 'Graduate_Major', 'Missions'],axis=1,inplace=True)"
      ]
    },
    {
      "cell_type": "code",
      "execution_count": 19,
      "metadata": {
        "colab": {
          "base_uri": "https://localhost:8080/",
          "height": 246
        },
        "id": "M8OTfyDW_Y_R",
        "outputId": "33aab928-86dd-4ec0-d5b6-ba74febc145e"
      },
      "outputs": [
        {
          "output_type": "execute_result",
          "data": {
            "text/plain": [
              "              Name   Status Birth_Date    Birth_Place Gender Military_Rank  \\\n",
              "0  Joseph M. Acaba   Active 1967-05-17  Inglewood, CA   Male           NaN   \n",
              "1   Loren W. Acton  Retired 1936-03-07   Lewiston, MT   Male           NaN   \n",
              "\n",
              "  Military_Branch  Space_Flights  Space_Flight_(hr)  Space_Walks  \\\n",
              "0             NaN              2               3307            2   \n",
              "1             NaN              1                190            0   \n",
              "\n",
              "   Space_Walks_(hr) Death_Date Death_Mission  \n",
              "0              13.0        NaT           NaN  \n",
              "1               0.0        NaT           NaN  "
            ],
            "text/html": [
              "\n",
              "  <div id=\"df-914b975d-ae62-4179-a5f1-ef2421c24080\">\n",
              "    <div class=\"colab-df-container\">\n",
              "      <div>\n",
              "<style scoped>\n",
              "    .dataframe tbody tr th:only-of-type {\n",
              "        vertical-align: middle;\n",
              "    }\n",
              "\n",
              "    .dataframe tbody tr th {\n",
              "        vertical-align: top;\n",
              "    }\n",
              "\n",
              "    .dataframe thead th {\n",
              "        text-align: right;\n",
              "    }\n",
              "</style>\n",
              "<table border=\"1\" class=\"dataframe\">\n",
              "  <thead>\n",
              "    <tr style=\"text-align: right;\">\n",
              "      <th></th>\n",
              "      <th>Name</th>\n",
              "      <th>Status</th>\n",
              "      <th>Birth_Date</th>\n",
              "      <th>Birth_Place</th>\n",
              "      <th>Gender</th>\n",
              "      <th>Military_Rank</th>\n",
              "      <th>Military_Branch</th>\n",
              "      <th>Space_Flights</th>\n",
              "      <th>Space_Flight_(hr)</th>\n",
              "      <th>Space_Walks</th>\n",
              "      <th>Space_Walks_(hr)</th>\n",
              "      <th>Death_Date</th>\n",
              "      <th>Death_Mission</th>\n",
              "    </tr>\n",
              "  </thead>\n",
              "  <tbody>\n",
              "    <tr>\n",
              "      <th>0</th>\n",
              "      <td>Joseph M. Acaba</td>\n",
              "      <td>Active</td>\n",
              "      <td>1967-05-17</td>\n",
              "      <td>Inglewood, CA</td>\n",
              "      <td>Male</td>\n",
              "      <td>NaN</td>\n",
              "      <td>NaN</td>\n",
              "      <td>2</td>\n",
              "      <td>3307</td>\n",
              "      <td>2</td>\n",
              "      <td>13.0</td>\n",
              "      <td>NaT</td>\n",
              "      <td>NaN</td>\n",
              "    </tr>\n",
              "    <tr>\n",
              "      <th>1</th>\n",
              "      <td>Loren W. Acton</td>\n",
              "      <td>Retired</td>\n",
              "      <td>1936-03-07</td>\n",
              "      <td>Lewiston, MT</td>\n",
              "      <td>Male</td>\n",
              "      <td>NaN</td>\n",
              "      <td>NaN</td>\n",
              "      <td>1</td>\n",
              "      <td>190</td>\n",
              "      <td>0</td>\n",
              "      <td>0.0</td>\n",
              "      <td>NaT</td>\n",
              "      <td>NaN</td>\n",
              "    </tr>\n",
              "  </tbody>\n",
              "</table>\n",
              "</div>\n",
              "      <button class=\"colab-df-convert\" onclick=\"convertToInteractive('df-914b975d-ae62-4179-a5f1-ef2421c24080')\"\n",
              "              title=\"Convert this dataframe to an interactive table.\"\n",
              "              style=\"display:none;\">\n",
              "        \n",
              "  <svg xmlns=\"http://www.w3.org/2000/svg\" height=\"24px\"viewBox=\"0 0 24 24\"\n",
              "       width=\"24px\">\n",
              "    <path d=\"M0 0h24v24H0V0z\" fill=\"none\"/>\n",
              "    <path d=\"M18.56 5.44l.94 2.06.94-2.06 2.06-.94-2.06-.94-.94-2.06-.94 2.06-2.06.94zm-11 1L8.5 8.5l.94-2.06 2.06-.94-2.06-.94L8.5 2.5l-.94 2.06-2.06.94zm10 10l.94 2.06.94-2.06 2.06-.94-2.06-.94-.94-2.06-.94 2.06-2.06.94z\"/><path d=\"M17.41 7.96l-1.37-1.37c-.4-.4-.92-.59-1.43-.59-.52 0-1.04.2-1.43.59L10.3 9.45l-7.72 7.72c-.78.78-.78 2.05 0 2.83L4 21.41c.39.39.9.59 1.41.59.51 0 1.02-.2 1.41-.59l7.78-7.78 2.81-2.81c.8-.78.8-2.07 0-2.86zM5.41 20L4 18.59l7.72-7.72 1.47 1.35L5.41 20z\"/>\n",
              "  </svg>\n",
              "      </button>\n",
              "      \n",
              "  <style>\n",
              "    .colab-df-container {\n",
              "      display:flex;\n",
              "      flex-wrap:wrap;\n",
              "      gap: 12px;\n",
              "    }\n",
              "\n",
              "    .colab-df-convert {\n",
              "      background-color: #E8F0FE;\n",
              "      border: none;\n",
              "      border-radius: 50%;\n",
              "      cursor: pointer;\n",
              "      display: none;\n",
              "      fill: #1967D2;\n",
              "      height: 32px;\n",
              "      padding: 0 0 0 0;\n",
              "      width: 32px;\n",
              "    }\n",
              "\n",
              "    .colab-df-convert:hover {\n",
              "      background-color: #E2EBFA;\n",
              "      box-shadow: 0px 1px 2px rgba(60, 64, 67, 0.3), 0px 1px 3px 1px rgba(60, 64, 67, 0.15);\n",
              "      fill: #174EA6;\n",
              "    }\n",
              "\n",
              "    [theme=dark] .colab-df-convert {\n",
              "      background-color: #3B4455;\n",
              "      fill: #D2E3FC;\n",
              "    }\n",
              "\n",
              "    [theme=dark] .colab-df-convert:hover {\n",
              "      background-color: #434B5C;\n",
              "      box-shadow: 0px 1px 3px 1px rgba(0, 0, 0, 0.15);\n",
              "      filter: drop-shadow(0px 1px 2px rgba(0, 0, 0, 0.3));\n",
              "      fill: #FFFFFF;\n",
              "    }\n",
              "  </style>\n",
              "\n",
              "      <script>\n",
              "        const buttonEl =\n",
              "          document.querySelector('#df-914b975d-ae62-4179-a5f1-ef2421c24080 button.colab-df-convert');\n",
              "        buttonEl.style.display =\n",
              "          google.colab.kernel.accessAllowed ? 'block' : 'none';\n",
              "\n",
              "        async function convertToInteractive(key) {\n",
              "          const element = document.querySelector('#df-914b975d-ae62-4179-a5f1-ef2421c24080');\n",
              "          const dataTable =\n",
              "            await google.colab.kernel.invokeFunction('convertToInteractive',\n",
              "                                                     [key], {});\n",
              "          if (!dataTable) return;\n",
              "\n",
              "          const docLinkHtml = 'Like what you see? Visit the ' +\n",
              "            '<a target=\"_blank\" href=https://colab.research.google.com/notebooks/data_table.ipynb>data table notebook</a>'\n",
              "            + ' to learn more about interactive tables.';\n",
              "          element.innerHTML = '';\n",
              "          dataTable['output_type'] = 'display_data';\n",
              "          await google.colab.output.renderOutput(dataTable, element);\n",
              "          const docLink = document.createElement('div');\n",
              "          docLink.innerHTML = docLinkHtml;\n",
              "          element.appendChild(docLink);\n",
              "        }\n",
              "      </script>\n",
              "    </div>\n",
              "  </div>\n",
              "  "
            ]
          },
          "metadata": {},
          "execution_count": 19
        }
      ],
      "source": [
        "df.head(2)"
      ]
    },
    {
      "cell_type": "code",
      "execution_count": 20,
      "metadata": {
        "colab": {
          "base_uri": "https://localhost:8080/"
        },
        "id": "2T54dnxfDu1r",
        "outputId": "addfb293-aa92-4b2a-81c8-8455b9cd0506"
      },
      "outputs": [
        {
          "output_type": "execute_result",
          "data": {
            "text/plain": [
              "dict_keys(['Military_Rank', 'Military_Branch', 'Death_Date', 'Death_Mission'])"
            ]
          },
          "metadata": {},
          "execution_count": 20
        }
      ],
      "source": [
        "update_col_dic.keys()"
      ]
    },
    {
      "cell_type": "code",
      "source": [
        "dict_of_mode_values = {}\n",
        "def get_mode_value_to_fill_na_values(col_list):\n",
        "    for i in col_list:\n",
        "        dict_of_mode_values[i] = df[i].mode()\n",
        "get_mode_value_to_fill_na_values(['Military_Rank', 'Military_Branch', 'Death_Date', 'Death_Mission'])"
      ],
      "metadata": {
        "id": "hhBcNpqVVj5b"
      },
      "execution_count": 21,
      "outputs": []
    },
    {
      "cell_type": "code",
      "source": [
        "dict_of_mode_values"
      ],
      "metadata": {
        "colab": {
          "base_uri": "https://localhost:8080/"
        },
        "id": "w40i_7UzWb24",
        "outputId": "d6d617c4-2540-4fd8-aea9-ce19951ee36c"
      },
      "execution_count": 22,
      "outputs": [
        {
          "output_type": "execute_result",
          "data": {
            "text/plain": [
              "{'Military_Rank': 0    Colonel\n",
              " dtype: object, 'Military_Branch': 0    US Air Force (Retired)\n",
              " dtype: object, 'Death_Date': 0   1986-01-28\n",
              " dtype: datetime64[ns], 'Death_Mission': 0    STS 51-L (Challenger)\n",
              " dtype: object}"
            ]
          },
          "metadata": {},
          "execution_count": 22
        }
      ]
    },
    {
      "cell_type": "code",
      "source": [
        "df[\"Military_Rank\"].fillna(\"Colonel\", inplace = True)\n",
        "df[\"Death_Mission\"].fillna(\"STS 51-L (Challenger)\", inplace = True)\n",
        "df[\"Military_Branch\"].fillna(\"US Air Force (Retired)\", inplace = True)\n",
        "df[\"Death_Date\"].fillna(\"1986-01-28\", inplace=True)"
      ],
      "metadata": {
        "id": "aYnH-GBcWtXY"
      },
      "execution_count": 23,
      "outputs": []
    },
    {
      "cell_type": "code",
      "source": [
        "\"\"\"def get_fill(list_of_col_id):\n",
        "  for i in list_of_col_id:\n",
        "    df[i].fillna(df[i].mode(), inplace = True)\"\"\""
      ],
      "metadata": {
        "id": "7Oe_mcrDXmnr",
        "outputId": "62a2019a-9314-45d5-d6e4-337c954fd16d",
        "colab": {
          "base_uri": "https://localhost:8080/",
          "height": 35
        }
      },
      "execution_count": 24,
      "outputs": [
        {
          "output_type": "execute_result",
          "data": {
            "text/plain": [
              "'def get_fill(list_of_col_id):\\n  for i in list_of_col_id:\\n    df[i].fillna(df[i].mode(), inplace = True)'"
            ],
            "application/vnd.google.colaboratory.intrinsic+json": {
              "type": "string"
            }
          },
          "metadata": {},
          "execution_count": 24
        }
      ]
    },
    {
      "cell_type": "code",
      "source": [
        "df.info()"
      ],
      "metadata": {
        "colab": {
          "base_uri": "https://localhost:8080/"
        },
        "id": "ZSSPdwx-bJFK",
        "outputId": "5e1e7e05-4649-4126-a13c-ba04ae488944"
      },
      "execution_count": 25,
      "outputs": [
        {
          "output_type": "stream",
          "name": "stdout",
          "text": [
            "<class 'pandas.core.frame.DataFrame'>\n",
            "RangeIndex: 357 entries, 0 to 356\n",
            "Data columns (total 13 columns):\n",
            " #   Column             Non-Null Count  Dtype         \n",
            "---  ------             --------------  -----         \n",
            " 0   Name               357 non-null    object        \n",
            " 1   Status             357 non-null    object        \n",
            " 2   Birth_Date         357 non-null    datetime64[ns]\n",
            " 3   Birth_Place        357 non-null    object        \n",
            " 4   Gender             357 non-null    object        \n",
            " 5   Military_Rank      357 non-null    object        \n",
            " 6   Military_Branch    357 non-null    object        \n",
            " 7   Space_Flights      357 non-null    int64         \n",
            " 8   Space_Flight_(hr)  357 non-null    int64         \n",
            " 9   Space_Walks        357 non-null    int64         \n",
            " 10  Space_Walks_(hr)   357 non-null    float64       \n",
            " 11  Death_Date         357 non-null    datetime64[ns]\n",
            " 12  Death_Mission      357 non-null    object        \n",
            "dtypes: datetime64[ns](2), float64(1), int64(3), object(7)\n",
            "memory usage: 36.4+ KB\n"
          ]
        }
      ]
    },
    {
      "cell_type": "code",
      "source": [
        "df.head()"
      ],
      "metadata": {
        "colab": {
          "base_uri": "https://localhost:8080/",
          "height": 357
        },
        "id": "kP7ZkqqIbcty",
        "outputId": "41750550-18db-4fd8-b64f-1956b0ed3664"
      },
      "execution_count": 26,
      "outputs": [
        {
          "output_type": "execute_result",
          "data": {
            "text/plain": [
              "               Name   Status Birth_Date    Birth_Place Gender Military_Rank  \\\n",
              "0   Joseph M. Acaba   Active 1967-05-17  Inglewood, CA   Male       Colonel   \n",
              "1    Loren W. Acton  Retired 1936-03-07   Lewiston, MT   Male       Colonel   \n",
              "2  James C. Adamson  Retired 1946-03-03     Warsaw, NY   Male       Colonel   \n",
              "3   Thomas D. Akers  Retired 1951-05-20  St. Louis, MO   Male       Colonel   \n",
              "4       Buzz Aldrin  Retired 1930-01-20  Montclair, NJ   Male       Colonel   \n",
              "\n",
              "          Military_Branch  Space_Flights  Space_Flight_(hr)  Space_Walks  \\\n",
              "0  US Air Force (Retired)              2               3307            2   \n",
              "1  US Air Force (Retired)              1                190            0   \n",
              "2       US Army (Retired)              2                334            0   \n",
              "3  US Air Force (Retired)              4                814            4   \n",
              "4  US Air Force (Retired)              2                289            2   \n",
              "\n",
              "   Space_Walks_(hr) Death_Date          Death_Mission  \n",
              "0              13.0 1986-01-28  STS 51-L (Challenger)  \n",
              "1               0.0 1986-01-28  STS 51-L (Challenger)  \n",
              "2               0.0 1986-01-28  STS 51-L (Challenger)  \n",
              "3              29.0 1986-01-28  STS 51-L (Challenger)  \n",
              "4               8.0 1986-01-28  STS 51-L (Challenger)  "
            ],
            "text/html": [
              "\n",
              "  <div id=\"df-2323bee5-8c3d-455e-addb-05ab4c9bbf85\">\n",
              "    <div class=\"colab-df-container\">\n",
              "      <div>\n",
              "<style scoped>\n",
              "    .dataframe tbody tr th:only-of-type {\n",
              "        vertical-align: middle;\n",
              "    }\n",
              "\n",
              "    .dataframe tbody tr th {\n",
              "        vertical-align: top;\n",
              "    }\n",
              "\n",
              "    .dataframe thead th {\n",
              "        text-align: right;\n",
              "    }\n",
              "</style>\n",
              "<table border=\"1\" class=\"dataframe\">\n",
              "  <thead>\n",
              "    <tr style=\"text-align: right;\">\n",
              "      <th></th>\n",
              "      <th>Name</th>\n",
              "      <th>Status</th>\n",
              "      <th>Birth_Date</th>\n",
              "      <th>Birth_Place</th>\n",
              "      <th>Gender</th>\n",
              "      <th>Military_Rank</th>\n",
              "      <th>Military_Branch</th>\n",
              "      <th>Space_Flights</th>\n",
              "      <th>Space_Flight_(hr)</th>\n",
              "      <th>Space_Walks</th>\n",
              "      <th>Space_Walks_(hr)</th>\n",
              "      <th>Death_Date</th>\n",
              "      <th>Death_Mission</th>\n",
              "    </tr>\n",
              "  </thead>\n",
              "  <tbody>\n",
              "    <tr>\n",
              "      <th>0</th>\n",
              "      <td>Joseph M. Acaba</td>\n",
              "      <td>Active</td>\n",
              "      <td>1967-05-17</td>\n",
              "      <td>Inglewood, CA</td>\n",
              "      <td>Male</td>\n",
              "      <td>Colonel</td>\n",
              "      <td>US Air Force (Retired)</td>\n",
              "      <td>2</td>\n",
              "      <td>3307</td>\n",
              "      <td>2</td>\n",
              "      <td>13.0</td>\n",
              "      <td>1986-01-28</td>\n",
              "      <td>STS 51-L (Challenger)</td>\n",
              "    </tr>\n",
              "    <tr>\n",
              "      <th>1</th>\n",
              "      <td>Loren W. Acton</td>\n",
              "      <td>Retired</td>\n",
              "      <td>1936-03-07</td>\n",
              "      <td>Lewiston, MT</td>\n",
              "      <td>Male</td>\n",
              "      <td>Colonel</td>\n",
              "      <td>US Air Force (Retired)</td>\n",
              "      <td>1</td>\n",
              "      <td>190</td>\n",
              "      <td>0</td>\n",
              "      <td>0.0</td>\n",
              "      <td>1986-01-28</td>\n",
              "      <td>STS 51-L (Challenger)</td>\n",
              "    </tr>\n",
              "    <tr>\n",
              "      <th>2</th>\n",
              "      <td>James C. Adamson</td>\n",
              "      <td>Retired</td>\n",
              "      <td>1946-03-03</td>\n",
              "      <td>Warsaw, NY</td>\n",
              "      <td>Male</td>\n",
              "      <td>Colonel</td>\n",
              "      <td>US Army (Retired)</td>\n",
              "      <td>2</td>\n",
              "      <td>334</td>\n",
              "      <td>0</td>\n",
              "      <td>0.0</td>\n",
              "      <td>1986-01-28</td>\n",
              "      <td>STS 51-L (Challenger)</td>\n",
              "    </tr>\n",
              "    <tr>\n",
              "      <th>3</th>\n",
              "      <td>Thomas D. Akers</td>\n",
              "      <td>Retired</td>\n",
              "      <td>1951-05-20</td>\n",
              "      <td>St. Louis, MO</td>\n",
              "      <td>Male</td>\n",
              "      <td>Colonel</td>\n",
              "      <td>US Air Force (Retired)</td>\n",
              "      <td>4</td>\n",
              "      <td>814</td>\n",
              "      <td>4</td>\n",
              "      <td>29.0</td>\n",
              "      <td>1986-01-28</td>\n",
              "      <td>STS 51-L (Challenger)</td>\n",
              "    </tr>\n",
              "    <tr>\n",
              "      <th>4</th>\n",
              "      <td>Buzz Aldrin</td>\n",
              "      <td>Retired</td>\n",
              "      <td>1930-01-20</td>\n",
              "      <td>Montclair, NJ</td>\n",
              "      <td>Male</td>\n",
              "      <td>Colonel</td>\n",
              "      <td>US Air Force (Retired)</td>\n",
              "      <td>2</td>\n",
              "      <td>289</td>\n",
              "      <td>2</td>\n",
              "      <td>8.0</td>\n",
              "      <td>1986-01-28</td>\n",
              "      <td>STS 51-L (Challenger)</td>\n",
              "    </tr>\n",
              "  </tbody>\n",
              "</table>\n",
              "</div>\n",
              "      <button class=\"colab-df-convert\" onclick=\"convertToInteractive('df-2323bee5-8c3d-455e-addb-05ab4c9bbf85')\"\n",
              "              title=\"Convert this dataframe to an interactive table.\"\n",
              "              style=\"display:none;\">\n",
              "        \n",
              "  <svg xmlns=\"http://www.w3.org/2000/svg\" height=\"24px\"viewBox=\"0 0 24 24\"\n",
              "       width=\"24px\">\n",
              "    <path d=\"M0 0h24v24H0V0z\" fill=\"none\"/>\n",
              "    <path d=\"M18.56 5.44l.94 2.06.94-2.06 2.06-.94-2.06-.94-.94-2.06-.94 2.06-2.06.94zm-11 1L8.5 8.5l.94-2.06 2.06-.94-2.06-.94L8.5 2.5l-.94 2.06-2.06.94zm10 10l.94 2.06.94-2.06 2.06-.94-2.06-.94-.94-2.06-.94 2.06-2.06.94z\"/><path d=\"M17.41 7.96l-1.37-1.37c-.4-.4-.92-.59-1.43-.59-.52 0-1.04.2-1.43.59L10.3 9.45l-7.72 7.72c-.78.78-.78 2.05 0 2.83L4 21.41c.39.39.9.59 1.41.59.51 0 1.02-.2 1.41-.59l7.78-7.78 2.81-2.81c.8-.78.8-2.07 0-2.86zM5.41 20L4 18.59l7.72-7.72 1.47 1.35L5.41 20z\"/>\n",
              "  </svg>\n",
              "      </button>\n",
              "      \n",
              "  <style>\n",
              "    .colab-df-container {\n",
              "      display:flex;\n",
              "      flex-wrap:wrap;\n",
              "      gap: 12px;\n",
              "    }\n",
              "\n",
              "    .colab-df-convert {\n",
              "      background-color: #E8F0FE;\n",
              "      border: none;\n",
              "      border-radius: 50%;\n",
              "      cursor: pointer;\n",
              "      display: none;\n",
              "      fill: #1967D2;\n",
              "      height: 32px;\n",
              "      padding: 0 0 0 0;\n",
              "      width: 32px;\n",
              "    }\n",
              "\n",
              "    .colab-df-convert:hover {\n",
              "      background-color: #E2EBFA;\n",
              "      box-shadow: 0px 1px 2px rgba(60, 64, 67, 0.3), 0px 1px 3px 1px rgba(60, 64, 67, 0.15);\n",
              "      fill: #174EA6;\n",
              "    }\n",
              "\n",
              "    [theme=dark] .colab-df-convert {\n",
              "      background-color: #3B4455;\n",
              "      fill: #D2E3FC;\n",
              "    }\n",
              "\n",
              "    [theme=dark] .colab-df-convert:hover {\n",
              "      background-color: #434B5C;\n",
              "      box-shadow: 0px 1px 3px 1px rgba(0, 0, 0, 0.15);\n",
              "      filter: drop-shadow(0px 1px 2px rgba(0, 0, 0, 0.3));\n",
              "      fill: #FFFFFF;\n",
              "    }\n",
              "  </style>\n",
              "\n",
              "      <script>\n",
              "        const buttonEl =\n",
              "          document.querySelector('#df-2323bee5-8c3d-455e-addb-05ab4c9bbf85 button.colab-df-convert');\n",
              "        buttonEl.style.display =\n",
              "          google.colab.kernel.accessAllowed ? 'block' : 'none';\n",
              "\n",
              "        async function convertToInteractive(key) {\n",
              "          const element = document.querySelector('#df-2323bee5-8c3d-455e-addb-05ab4c9bbf85');\n",
              "          const dataTable =\n",
              "            await google.colab.kernel.invokeFunction('convertToInteractive',\n",
              "                                                     [key], {});\n",
              "          if (!dataTable) return;\n",
              "\n",
              "          const docLinkHtml = 'Like what you see? Visit the ' +\n",
              "            '<a target=\"_blank\" href=https://colab.research.google.com/notebooks/data_table.ipynb>data table notebook</a>'\n",
              "            + ' to learn more about interactive tables.';\n",
              "          element.innerHTML = '';\n",
              "          dataTable['output_type'] = 'display_data';\n",
              "          await google.colab.output.renderOutput(dataTable, element);\n",
              "          const docLink = document.createElement('div');\n",
              "          docLink.innerHTML = docLinkHtml;\n",
              "          element.appendChild(docLink);\n",
              "        }\n",
              "      </script>\n",
              "    </div>\n",
              "  </div>\n",
              "  "
            ]
          },
          "metadata": {},
          "execution_count": 26
        }
      ]
    },
    {
      "cell_type": "code",
      "source": [
        "display(df.Military_Rank.unique())\n",
        "display(len(df.Military_Rank.unique()))"
      ],
      "metadata": {
        "colab": {
          "base_uri": "https://localhost:8080/",
          "height": 104
        },
        "id": "nIf8xh562NI9",
        "outputId": "1e911d4c-77f0-40a6-b163-0fa149f1292e"
      },
      "execution_count": 27,
      "outputs": [
        {
          "output_type": "display_data",
          "data": {
            "text/plain": [
              "array(['Colonel', 'Lieutenant Colonel', 'Captain', 'Major General',\n",
              "       'Commander', 'Lieutenant Commander', 'Brigadier General', 'Major',\n",
              "       'Lieutenant General', 'Chief Warrant Officer', 'Rear Admiral',\n",
              "       'Vice Admiral'], dtype=object)"
            ]
          },
          "metadata": {}
        },
        {
          "output_type": "display_data",
          "data": {
            "text/plain": [
              "12"
            ]
          },
          "metadata": {}
        }
      ]
    },
    {
      "cell_type": "code",
      "source": [
        "df.to_csv('/content/drive/MyDrive/Dataset/astronauts_ready_for_viz.csv', index=False)"
      ],
      "metadata": {
        "id": "_VLhkVlMlMrC"
      },
      "execution_count": 28,
      "outputs": []
    },
    {
      "cell_type": "code",
      "source": [
        "def get_labed_encoder(col_ids_list):\n",
        "    for col_id_list in col_ids_list:\n",
        "        df[col_id_list] = df[col_id_list].apply(LabelEncoder().fit_transform)\n",
        "get_labed_encoder([['Name', 'Status', 'Birth_Place', 'Gender', 'Military_Rank', 'Military_Branch', 'Death_Mission']])\n",
        "df.head(3)"
      ],
      "metadata": {
        "colab": {
          "base_uri": "https://localhost:8080/",
          "height": 207
        },
        "id": "T166Z-Vwu9wp",
        "outputId": "553f9e16-4683-447d-9b97-6abe2b2a236f"
      },
      "execution_count": 29,
      "outputs": [
        {
          "output_type": "execute_result",
          "data": {
            "text/plain": [
              "   Name  Status Birth_Date  Birth_Place  Gender  Military_Rank  \\\n",
              "0   167       0 1967-05-17          115       1              3   \n",
              "1   203       3 1936-03-07          135       1              3   \n",
              "2   127       3 1946-03-03          259       1              3   \n",
              "\n",
              "   Military_Branch  Space_Flights  Space_Flight_(hr)  Space_Walks  \\\n",
              "0                1              2               3307            2   \n",
              "1                1              1                190            0   \n",
              "2                5              2                334            0   \n",
              "\n",
              "   Space_Walks_(hr) Death_Date  Death_Mission  \n",
              "0              13.0 1986-01-28              1  \n",
              "1               0.0 1986-01-28              1  \n",
              "2               0.0 1986-01-28              1  "
            ],
            "text/html": [
              "\n",
              "  <div id=\"df-1a8ada5f-796c-42d3-b324-b75e8f790eb0\">\n",
              "    <div class=\"colab-df-container\">\n",
              "      <div>\n",
              "<style scoped>\n",
              "    .dataframe tbody tr th:only-of-type {\n",
              "        vertical-align: middle;\n",
              "    }\n",
              "\n",
              "    .dataframe tbody tr th {\n",
              "        vertical-align: top;\n",
              "    }\n",
              "\n",
              "    .dataframe thead th {\n",
              "        text-align: right;\n",
              "    }\n",
              "</style>\n",
              "<table border=\"1\" class=\"dataframe\">\n",
              "  <thead>\n",
              "    <tr style=\"text-align: right;\">\n",
              "      <th></th>\n",
              "      <th>Name</th>\n",
              "      <th>Status</th>\n",
              "      <th>Birth_Date</th>\n",
              "      <th>Birth_Place</th>\n",
              "      <th>Gender</th>\n",
              "      <th>Military_Rank</th>\n",
              "      <th>Military_Branch</th>\n",
              "      <th>Space_Flights</th>\n",
              "      <th>Space_Flight_(hr)</th>\n",
              "      <th>Space_Walks</th>\n",
              "      <th>Space_Walks_(hr)</th>\n",
              "      <th>Death_Date</th>\n",
              "      <th>Death_Mission</th>\n",
              "    </tr>\n",
              "  </thead>\n",
              "  <tbody>\n",
              "    <tr>\n",
              "      <th>0</th>\n",
              "      <td>167</td>\n",
              "      <td>0</td>\n",
              "      <td>1967-05-17</td>\n",
              "      <td>115</td>\n",
              "      <td>1</td>\n",
              "      <td>3</td>\n",
              "      <td>1</td>\n",
              "      <td>2</td>\n",
              "      <td>3307</td>\n",
              "      <td>2</td>\n",
              "      <td>13.0</td>\n",
              "      <td>1986-01-28</td>\n",
              "      <td>1</td>\n",
              "    </tr>\n",
              "    <tr>\n",
              "      <th>1</th>\n",
              "      <td>203</td>\n",
              "      <td>3</td>\n",
              "      <td>1936-03-07</td>\n",
              "      <td>135</td>\n",
              "      <td>1</td>\n",
              "      <td>3</td>\n",
              "      <td>1</td>\n",
              "      <td>1</td>\n",
              "      <td>190</td>\n",
              "      <td>0</td>\n",
              "      <td>0.0</td>\n",
              "      <td>1986-01-28</td>\n",
              "      <td>1</td>\n",
              "    </tr>\n",
              "    <tr>\n",
              "      <th>2</th>\n",
              "      <td>127</td>\n",
              "      <td>3</td>\n",
              "      <td>1946-03-03</td>\n",
              "      <td>259</td>\n",
              "      <td>1</td>\n",
              "      <td>3</td>\n",
              "      <td>5</td>\n",
              "      <td>2</td>\n",
              "      <td>334</td>\n",
              "      <td>0</td>\n",
              "      <td>0.0</td>\n",
              "      <td>1986-01-28</td>\n",
              "      <td>1</td>\n",
              "    </tr>\n",
              "  </tbody>\n",
              "</table>\n",
              "</div>\n",
              "      <button class=\"colab-df-convert\" onclick=\"convertToInteractive('df-1a8ada5f-796c-42d3-b324-b75e8f790eb0')\"\n",
              "              title=\"Convert this dataframe to an interactive table.\"\n",
              "              style=\"display:none;\">\n",
              "        \n",
              "  <svg xmlns=\"http://www.w3.org/2000/svg\" height=\"24px\"viewBox=\"0 0 24 24\"\n",
              "       width=\"24px\">\n",
              "    <path d=\"M0 0h24v24H0V0z\" fill=\"none\"/>\n",
              "    <path d=\"M18.56 5.44l.94 2.06.94-2.06 2.06-.94-2.06-.94-.94-2.06-.94 2.06-2.06.94zm-11 1L8.5 8.5l.94-2.06 2.06-.94-2.06-.94L8.5 2.5l-.94 2.06-2.06.94zm10 10l.94 2.06.94-2.06 2.06-.94-2.06-.94-.94-2.06-.94 2.06-2.06.94z\"/><path d=\"M17.41 7.96l-1.37-1.37c-.4-.4-.92-.59-1.43-.59-.52 0-1.04.2-1.43.59L10.3 9.45l-7.72 7.72c-.78.78-.78 2.05 0 2.83L4 21.41c.39.39.9.59 1.41.59.51 0 1.02-.2 1.41-.59l7.78-7.78 2.81-2.81c.8-.78.8-2.07 0-2.86zM5.41 20L4 18.59l7.72-7.72 1.47 1.35L5.41 20z\"/>\n",
              "  </svg>\n",
              "      </button>\n",
              "      \n",
              "  <style>\n",
              "    .colab-df-container {\n",
              "      display:flex;\n",
              "      flex-wrap:wrap;\n",
              "      gap: 12px;\n",
              "    }\n",
              "\n",
              "    .colab-df-convert {\n",
              "      background-color: #E8F0FE;\n",
              "      border: none;\n",
              "      border-radius: 50%;\n",
              "      cursor: pointer;\n",
              "      display: none;\n",
              "      fill: #1967D2;\n",
              "      height: 32px;\n",
              "      padding: 0 0 0 0;\n",
              "      width: 32px;\n",
              "    }\n",
              "\n",
              "    .colab-df-convert:hover {\n",
              "      background-color: #E2EBFA;\n",
              "      box-shadow: 0px 1px 2px rgba(60, 64, 67, 0.3), 0px 1px 3px 1px rgba(60, 64, 67, 0.15);\n",
              "      fill: #174EA6;\n",
              "    }\n",
              "\n",
              "    [theme=dark] .colab-df-convert {\n",
              "      background-color: #3B4455;\n",
              "      fill: #D2E3FC;\n",
              "    }\n",
              "\n",
              "    [theme=dark] .colab-df-convert:hover {\n",
              "      background-color: #434B5C;\n",
              "      box-shadow: 0px 1px 3px 1px rgba(0, 0, 0, 0.15);\n",
              "      filter: drop-shadow(0px 1px 2px rgba(0, 0, 0, 0.3));\n",
              "      fill: #FFFFFF;\n",
              "    }\n",
              "  </style>\n",
              "\n",
              "      <script>\n",
              "        const buttonEl =\n",
              "          document.querySelector('#df-1a8ada5f-796c-42d3-b324-b75e8f790eb0 button.colab-df-convert');\n",
              "        buttonEl.style.display =\n",
              "          google.colab.kernel.accessAllowed ? 'block' : 'none';\n",
              "\n",
              "        async function convertToInteractive(key) {\n",
              "          const element = document.querySelector('#df-1a8ada5f-796c-42d3-b324-b75e8f790eb0');\n",
              "          const dataTable =\n",
              "            await google.colab.kernel.invokeFunction('convertToInteractive',\n",
              "                                                     [key], {});\n",
              "          if (!dataTable) return;\n",
              "\n",
              "          const docLinkHtml = 'Like what you see? Visit the ' +\n",
              "            '<a target=\"_blank\" href=https://colab.research.google.com/notebooks/data_table.ipynb>data table notebook</a>'\n",
              "            + ' to learn more about interactive tables.';\n",
              "          element.innerHTML = '';\n",
              "          dataTable['output_type'] = 'display_data';\n",
              "          await google.colab.output.renderOutput(dataTable, element);\n",
              "          const docLink = document.createElement('div');\n",
              "          docLink.innerHTML = docLinkHtml;\n",
              "          element.appendChild(docLink);\n",
              "        }\n",
              "      </script>\n",
              "    </div>\n",
              "  </div>\n",
              "  "
            ]
          },
          "metadata": {},
          "execution_count": 29
        }
      ]
    },
    {
      "cell_type": "code",
      "source": [
        "#df.drop(],axis=1)\n",
        "df.drop([\"Birth_Date\",\"Death_Date\"],axis=1,inplace=True)"
      ],
      "metadata": {
        "id": "Hxp_MaHO_6Io"
      },
      "execution_count": 30,
      "outputs": []
    },
    {
      "cell_type": "code",
      "source": [
        "df"
      ],
      "metadata": {
        "colab": {
          "base_uri": "https://localhost:8080/",
          "height": 488
        },
        "id": "MvlgJCtoAsvh",
        "outputId": "7423658f-c313-4998-e9a5-9831da0cb81b"
      },
      "execution_count": 31,
      "outputs": [
        {
          "output_type": "execute_result",
          "data": {
            "text/plain": [
              "     Name  Status  Birth_Place  Gender  Military_Rank  Military_Branch  \\\n",
              "0     167       0          115       1              3                1   \n",
              "1     203       3          135       1              3                1   \n",
              "2     127       3          259       1              3                5   \n",
              "3     329       3          241       1              3                1   \n",
              "4      23       3          165       1              3                1   \n",
              "..    ...     ...          ...     ...            ...              ...   \n",
              "352    54       3          114       1              3                1   \n",
              "353   238       3           48       1              4               12   \n",
              "354     4       3          116       1              3                1   \n",
              "355   163       3          224       1              1               13   \n",
              "356   106       3          121       1              3                8   \n",
              "\n",
              "     Space_Flights  Space_Flight_(hr)  Space_Walks  Space_Walks_(hr)  \\\n",
              "0                2               3307            2              13.0   \n",
              "1                1                190            0               0.0   \n",
              "2                2                334            0               0.0   \n",
              "3                4                814            4              29.0   \n",
              "4                2                289            2               8.0   \n",
              "..             ...                ...          ...               ...   \n",
              "352              3               4044            7              41.0   \n",
              "353              0                  0            0               0.0   \n",
              "354              1                295            1               0.5   \n",
              "355              6                835            3              20.0   \n",
              "356              2                692            0               0.0   \n",
              "\n",
              "     Death_Mission  \n",
              "0                1  \n",
              "1                1  \n",
              "2                1  \n",
              "3                1  \n",
              "4                1  \n",
              "..             ...  \n",
              "352              1  \n",
              "353              1  \n",
              "354              1  \n",
              "355              1  \n",
              "356              1  \n",
              "\n",
              "[357 rows x 11 columns]"
            ],
            "text/html": [
              "\n",
              "  <div id=\"df-9061ec58-4456-4999-8b51-af4aa1add708\">\n",
              "    <div class=\"colab-df-container\">\n",
              "      <div>\n",
              "<style scoped>\n",
              "    .dataframe tbody tr th:only-of-type {\n",
              "        vertical-align: middle;\n",
              "    }\n",
              "\n",
              "    .dataframe tbody tr th {\n",
              "        vertical-align: top;\n",
              "    }\n",
              "\n",
              "    .dataframe thead th {\n",
              "        text-align: right;\n",
              "    }\n",
              "</style>\n",
              "<table border=\"1\" class=\"dataframe\">\n",
              "  <thead>\n",
              "    <tr style=\"text-align: right;\">\n",
              "      <th></th>\n",
              "      <th>Name</th>\n",
              "      <th>Status</th>\n",
              "      <th>Birth_Place</th>\n",
              "      <th>Gender</th>\n",
              "      <th>Military_Rank</th>\n",
              "      <th>Military_Branch</th>\n",
              "      <th>Space_Flights</th>\n",
              "      <th>Space_Flight_(hr)</th>\n",
              "      <th>Space_Walks</th>\n",
              "      <th>Space_Walks_(hr)</th>\n",
              "      <th>Death_Mission</th>\n",
              "    </tr>\n",
              "  </thead>\n",
              "  <tbody>\n",
              "    <tr>\n",
              "      <th>0</th>\n",
              "      <td>167</td>\n",
              "      <td>0</td>\n",
              "      <td>115</td>\n",
              "      <td>1</td>\n",
              "      <td>3</td>\n",
              "      <td>1</td>\n",
              "      <td>2</td>\n",
              "      <td>3307</td>\n",
              "      <td>2</td>\n",
              "      <td>13.0</td>\n",
              "      <td>1</td>\n",
              "    </tr>\n",
              "    <tr>\n",
              "      <th>1</th>\n",
              "      <td>203</td>\n",
              "      <td>3</td>\n",
              "      <td>135</td>\n",
              "      <td>1</td>\n",
              "      <td>3</td>\n",
              "      <td>1</td>\n",
              "      <td>1</td>\n",
              "      <td>190</td>\n",
              "      <td>0</td>\n",
              "      <td>0.0</td>\n",
              "      <td>1</td>\n",
              "    </tr>\n",
              "    <tr>\n",
              "      <th>2</th>\n",
              "      <td>127</td>\n",
              "      <td>3</td>\n",
              "      <td>259</td>\n",
              "      <td>1</td>\n",
              "      <td>3</td>\n",
              "      <td>5</td>\n",
              "      <td>2</td>\n",
              "      <td>334</td>\n",
              "      <td>0</td>\n",
              "      <td>0.0</td>\n",
              "      <td>1</td>\n",
              "    </tr>\n",
              "    <tr>\n",
              "      <th>3</th>\n",
              "      <td>329</td>\n",
              "      <td>3</td>\n",
              "      <td>241</td>\n",
              "      <td>1</td>\n",
              "      <td>3</td>\n",
              "      <td>1</td>\n",
              "      <td>4</td>\n",
              "      <td>814</td>\n",
              "      <td>4</td>\n",
              "      <td>29.0</td>\n",
              "      <td>1</td>\n",
              "    </tr>\n",
              "    <tr>\n",
              "      <th>4</th>\n",
              "      <td>23</td>\n",
              "      <td>3</td>\n",
              "      <td>165</td>\n",
              "      <td>1</td>\n",
              "      <td>3</td>\n",
              "      <td>1</td>\n",
              "      <td>2</td>\n",
              "      <td>289</td>\n",
              "      <td>2</td>\n",
              "      <td>8.0</td>\n",
              "      <td>1</td>\n",
              "    </tr>\n",
              "    <tr>\n",
              "      <th>...</th>\n",
              "      <td>...</td>\n",
              "      <td>...</td>\n",
              "      <td>...</td>\n",
              "      <td>...</td>\n",
              "      <td>...</td>\n",
              "      <td>...</td>\n",
              "      <td>...</td>\n",
              "      <td>...</td>\n",
              "      <td>...</td>\n",
              "      <td>...</td>\n",
              "      <td>...</td>\n",
              "    </tr>\n",
              "    <tr>\n",
              "      <th>352</th>\n",
              "      <td>54</td>\n",
              "      <td>3</td>\n",
              "      <td>114</td>\n",
              "      <td>1</td>\n",
              "      <td>3</td>\n",
              "      <td>1</td>\n",
              "      <td>3</td>\n",
              "      <td>4044</td>\n",
              "      <td>7</td>\n",
              "      <td>41.0</td>\n",
              "      <td>1</td>\n",
              "    </tr>\n",
              "    <tr>\n",
              "      <th>353</th>\n",
              "      <td>238</td>\n",
              "      <td>3</td>\n",
              "      <td>48</td>\n",
              "      <td>1</td>\n",
              "      <td>4</td>\n",
              "      <td>12</td>\n",
              "      <td>0</td>\n",
              "      <td>0</td>\n",
              "      <td>0</td>\n",
              "      <td>0.0</td>\n",
              "      <td>1</td>\n",
              "    </tr>\n",
              "    <tr>\n",
              "      <th>354</th>\n",
              "      <td>4</td>\n",
              "      <td>3</td>\n",
              "      <td>116</td>\n",
              "      <td>1</td>\n",
              "      <td>3</td>\n",
              "      <td>1</td>\n",
              "      <td>1</td>\n",
              "      <td>295</td>\n",
              "      <td>1</td>\n",
              "      <td>0.5</td>\n",
              "      <td>1</td>\n",
              "    </tr>\n",
              "    <tr>\n",
              "      <th>355</th>\n",
              "      <td>163</td>\n",
              "      <td>3</td>\n",
              "      <td>224</td>\n",
              "      <td>1</td>\n",
              "      <td>1</td>\n",
              "      <td>13</td>\n",
              "      <td>6</td>\n",
              "      <td>835</td>\n",
              "      <td>3</td>\n",
              "      <td>20.0</td>\n",
              "      <td>1</td>\n",
              "    </tr>\n",
              "    <tr>\n",
              "      <th>356</th>\n",
              "      <td>106</td>\n",
              "      <td>3</td>\n",
              "      <td>121</td>\n",
              "      <td>1</td>\n",
              "      <td>3</td>\n",
              "      <td>8</td>\n",
              "      <td>2</td>\n",
              "      <td>692</td>\n",
              "      <td>0</td>\n",
              "      <td>0.0</td>\n",
              "      <td>1</td>\n",
              "    </tr>\n",
              "  </tbody>\n",
              "</table>\n",
              "<p>357 rows × 11 columns</p>\n",
              "</div>\n",
              "      <button class=\"colab-df-convert\" onclick=\"convertToInteractive('df-9061ec58-4456-4999-8b51-af4aa1add708')\"\n",
              "              title=\"Convert this dataframe to an interactive table.\"\n",
              "              style=\"display:none;\">\n",
              "        \n",
              "  <svg xmlns=\"http://www.w3.org/2000/svg\" height=\"24px\"viewBox=\"0 0 24 24\"\n",
              "       width=\"24px\">\n",
              "    <path d=\"M0 0h24v24H0V0z\" fill=\"none\"/>\n",
              "    <path d=\"M18.56 5.44l.94 2.06.94-2.06 2.06-.94-2.06-.94-.94-2.06-.94 2.06-2.06.94zm-11 1L8.5 8.5l.94-2.06 2.06-.94-2.06-.94L8.5 2.5l-.94 2.06-2.06.94zm10 10l.94 2.06.94-2.06 2.06-.94-2.06-.94-.94-2.06-.94 2.06-2.06.94z\"/><path d=\"M17.41 7.96l-1.37-1.37c-.4-.4-.92-.59-1.43-.59-.52 0-1.04.2-1.43.59L10.3 9.45l-7.72 7.72c-.78.78-.78 2.05 0 2.83L4 21.41c.39.39.9.59 1.41.59.51 0 1.02-.2 1.41-.59l7.78-7.78 2.81-2.81c.8-.78.8-2.07 0-2.86zM5.41 20L4 18.59l7.72-7.72 1.47 1.35L5.41 20z\"/>\n",
              "  </svg>\n",
              "      </button>\n",
              "      \n",
              "  <style>\n",
              "    .colab-df-container {\n",
              "      display:flex;\n",
              "      flex-wrap:wrap;\n",
              "      gap: 12px;\n",
              "    }\n",
              "\n",
              "    .colab-df-convert {\n",
              "      background-color: #E8F0FE;\n",
              "      border: none;\n",
              "      border-radius: 50%;\n",
              "      cursor: pointer;\n",
              "      display: none;\n",
              "      fill: #1967D2;\n",
              "      height: 32px;\n",
              "      padding: 0 0 0 0;\n",
              "      width: 32px;\n",
              "    }\n",
              "\n",
              "    .colab-df-convert:hover {\n",
              "      background-color: #E2EBFA;\n",
              "      box-shadow: 0px 1px 2px rgba(60, 64, 67, 0.3), 0px 1px 3px 1px rgba(60, 64, 67, 0.15);\n",
              "      fill: #174EA6;\n",
              "    }\n",
              "\n",
              "    [theme=dark] .colab-df-convert {\n",
              "      background-color: #3B4455;\n",
              "      fill: #D2E3FC;\n",
              "    }\n",
              "\n",
              "    [theme=dark] .colab-df-convert:hover {\n",
              "      background-color: #434B5C;\n",
              "      box-shadow: 0px 1px 3px 1px rgba(0, 0, 0, 0.15);\n",
              "      filter: drop-shadow(0px 1px 2px rgba(0, 0, 0, 0.3));\n",
              "      fill: #FFFFFF;\n",
              "    }\n",
              "  </style>\n",
              "\n",
              "      <script>\n",
              "        const buttonEl =\n",
              "          document.querySelector('#df-9061ec58-4456-4999-8b51-af4aa1add708 button.colab-df-convert');\n",
              "        buttonEl.style.display =\n",
              "          google.colab.kernel.accessAllowed ? 'block' : 'none';\n",
              "\n",
              "        async function convertToInteractive(key) {\n",
              "          const element = document.querySelector('#df-9061ec58-4456-4999-8b51-af4aa1add708');\n",
              "          const dataTable =\n",
              "            await google.colab.kernel.invokeFunction('convertToInteractive',\n",
              "                                                     [key], {});\n",
              "          if (!dataTable) return;\n",
              "\n",
              "          const docLinkHtml = 'Like what you see? Visit the ' +\n",
              "            '<a target=\"_blank\" href=https://colab.research.google.com/notebooks/data_table.ipynb>data table notebook</a>'\n",
              "            + ' to learn more about interactive tables.';\n",
              "          element.innerHTML = '';\n",
              "          dataTable['output_type'] = 'display_data';\n",
              "          await google.colab.output.renderOutput(dataTable, element);\n",
              "          const docLink = document.createElement('div');\n",
              "          docLink.innerHTML = docLinkHtml;\n",
              "          element.appendChild(docLink);\n",
              "        }\n",
              "      </script>\n",
              "    </div>\n",
              "  </div>\n",
              "  "
            ]
          },
          "metadata": {},
          "execution_count": 31
        }
      ]
    },
    {
      "cell_type": "code",
      "source": [
        "def get_seprate_features(df_id,col_id):\n",
        "    #col_id is special col or target col b/c this the whole model is going to be created \n",
        "    global X, y\n",
        "    X = df_id.drop(col_id,axis = 1) \n",
        "    y = df_id[col_id]\n",
        "get_seprate_features(df,['Military_Rank'])"
      ],
      "metadata": {
        "id": "m61CJsqa2xDg"
      },
      "execution_count": 32,
      "outputs": []
    },
    {
      "cell_type": "code",
      "source": [
        "X"
      ],
      "metadata": {
        "colab": {
          "base_uri": "https://localhost:8080/",
          "height": 488
        },
        "id": "TIGTuG1J3fh6",
        "outputId": "2b2ac9bf-fb92-4ab7-bd21-d34dce34a966"
      },
      "execution_count": 33,
      "outputs": [
        {
          "output_type": "execute_result",
          "data": {
            "text/plain": [
              "     Name  Status  Birth_Place  Gender  Military_Branch  Space_Flights  \\\n",
              "0     167       0          115       1                1              2   \n",
              "1     203       3          135       1                1              1   \n",
              "2     127       3          259       1                5              2   \n",
              "3     329       3          241       1                1              4   \n",
              "4      23       3          165       1                1              2   \n",
              "..    ...     ...          ...     ...              ...            ...   \n",
              "352    54       3          114       1                1              3   \n",
              "353   238       3           48       1               12              0   \n",
              "354     4       3          116       1                1              1   \n",
              "355   163       3          224       1               13              6   \n",
              "356   106       3          121       1                8              2   \n",
              "\n",
              "     Space_Flight_(hr)  Space_Walks  Space_Walks_(hr)  Death_Mission  \n",
              "0                 3307            2              13.0              1  \n",
              "1                  190            0               0.0              1  \n",
              "2                  334            0               0.0              1  \n",
              "3                  814            4              29.0              1  \n",
              "4                  289            2               8.0              1  \n",
              "..                 ...          ...               ...            ...  \n",
              "352               4044            7              41.0              1  \n",
              "353                  0            0               0.0              1  \n",
              "354                295            1               0.5              1  \n",
              "355                835            3              20.0              1  \n",
              "356                692            0               0.0              1  \n",
              "\n",
              "[357 rows x 10 columns]"
            ],
            "text/html": [
              "\n",
              "  <div id=\"df-897ca5dc-1809-45db-9956-8059bddc104f\">\n",
              "    <div class=\"colab-df-container\">\n",
              "      <div>\n",
              "<style scoped>\n",
              "    .dataframe tbody tr th:only-of-type {\n",
              "        vertical-align: middle;\n",
              "    }\n",
              "\n",
              "    .dataframe tbody tr th {\n",
              "        vertical-align: top;\n",
              "    }\n",
              "\n",
              "    .dataframe thead th {\n",
              "        text-align: right;\n",
              "    }\n",
              "</style>\n",
              "<table border=\"1\" class=\"dataframe\">\n",
              "  <thead>\n",
              "    <tr style=\"text-align: right;\">\n",
              "      <th></th>\n",
              "      <th>Name</th>\n",
              "      <th>Status</th>\n",
              "      <th>Birth_Place</th>\n",
              "      <th>Gender</th>\n",
              "      <th>Military_Branch</th>\n",
              "      <th>Space_Flights</th>\n",
              "      <th>Space_Flight_(hr)</th>\n",
              "      <th>Space_Walks</th>\n",
              "      <th>Space_Walks_(hr)</th>\n",
              "      <th>Death_Mission</th>\n",
              "    </tr>\n",
              "  </thead>\n",
              "  <tbody>\n",
              "    <tr>\n",
              "      <th>0</th>\n",
              "      <td>167</td>\n",
              "      <td>0</td>\n",
              "      <td>115</td>\n",
              "      <td>1</td>\n",
              "      <td>1</td>\n",
              "      <td>2</td>\n",
              "      <td>3307</td>\n",
              "      <td>2</td>\n",
              "      <td>13.0</td>\n",
              "      <td>1</td>\n",
              "    </tr>\n",
              "    <tr>\n",
              "      <th>1</th>\n",
              "      <td>203</td>\n",
              "      <td>3</td>\n",
              "      <td>135</td>\n",
              "      <td>1</td>\n",
              "      <td>1</td>\n",
              "      <td>1</td>\n",
              "      <td>190</td>\n",
              "      <td>0</td>\n",
              "      <td>0.0</td>\n",
              "      <td>1</td>\n",
              "    </tr>\n",
              "    <tr>\n",
              "      <th>2</th>\n",
              "      <td>127</td>\n",
              "      <td>3</td>\n",
              "      <td>259</td>\n",
              "      <td>1</td>\n",
              "      <td>5</td>\n",
              "      <td>2</td>\n",
              "      <td>334</td>\n",
              "      <td>0</td>\n",
              "      <td>0.0</td>\n",
              "      <td>1</td>\n",
              "    </tr>\n",
              "    <tr>\n",
              "      <th>3</th>\n",
              "      <td>329</td>\n",
              "      <td>3</td>\n",
              "      <td>241</td>\n",
              "      <td>1</td>\n",
              "      <td>1</td>\n",
              "      <td>4</td>\n",
              "      <td>814</td>\n",
              "      <td>4</td>\n",
              "      <td>29.0</td>\n",
              "      <td>1</td>\n",
              "    </tr>\n",
              "    <tr>\n",
              "      <th>4</th>\n",
              "      <td>23</td>\n",
              "      <td>3</td>\n",
              "      <td>165</td>\n",
              "      <td>1</td>\n",
              "      <td>1</td>\n",
              "      <td>2</td>\n",
              "      <td>289</td>\n",
              "      <td>2</td>\n",
              "      <td>8.0</td>\n",
              "      <td>1</td>\n",
              "    </tr>\n",
              "    <tr>\n",
              "      <th>...</th>\n",
              "      <td>...</td>\n",
              "      <td>...</td>\n",
              "      <td>...</td>\n",
              "      <td>...</td>\n",
              "      <td>...</td>\n",
              "      <td>...</td>\n",
              "      <td>...</td>\n",
              "      <td>...</td>\n",
              "      <td>...</td>\n",
              "      <td>...</td>\n",
              "    </tr>\n",
              "    <tr>\n",
              "      <th>352</th>\n",
              "      <td>54</td>\n",
              "      <td>3</td>\n",
              "      <td>114</td>\n",
              "      <td>1</td>\n",
              "      <td>1</td>\n",
              "      <td>3</td>\n",
              "      <td>4044</td>\n",
              "      <td>7</td>\n",
              "      <td>41.0</td>\n",
              "      <td>1</td>\n",
              "    </tr>\n",
              "    <tr>\n",
              "      <th>353</th>\n",
              "      <td>238</td>\n",
              "      <td>3</td>\n",
              "      <td>48</td>\n",
              "      <td>1</td>\n",
              "      <td>12</td>\n",
              "      <td>0</td>\n",
              "      <td>0</td>\n",
              "      <td>0</td>\n",
              "      <td>0.0</td>\n",
              "      <td>1</td>\n",
              "    </tr>\n",
              "    <tr>\n",
              "      <th>354</th>\n",
              "      <td>4</td>\n",
              "      <td>3</td>\n",
              "      <td>116</td>\n",
              "      <td>1</td>\n",
              "      <td>1</td>\n",
              "      <td>1</td>\n",
              "      <td>295</td>\n",
              "      <td>1</td>\n",
              "      <td>0.5</td>\n",
              "      <td>1</td>\n",
              "    </tr>\n",
              "    <tr>\n",
              "      <th>355</th>\n",
              "      <td>163</td>\n",
              "      <td>3</td>\n",
              "      <td>224</td>\n",
              "      <td>1</td>\n",
              "      <td>13</td>\n",
              "      <td>6</td>\n",
              "      <td>835</td>\n",
              "      <td>3</td>\n",
              "      <td>20.0</td>\n",
              "      <td>1</td>\n",
              "    </tr>\n",
              "    <tr>\n",
              "      <th>356</th>\n",
              "      <td>106</td>\n",
              "      <td>3</td>\n",
              "      <td>121</td>\n",
              "      <td>1</td>\n",
              "      <td>8</td>\n",
              "      <td>2</td>\n",
              "      <td>692</td>\n",
              "      <td>0</td>\n",
              "      <td>0.0</td>\n",
              "      <td>1</td>\n",
              "    </tr>\n",
              "  </tbody>\n",
              "</table>\n",
              "<p>357 rows × 10 columns</p>\n",
              "</div>\n",
              "      <button class=\"colab-df-convert\" onclick=\"convertToInteractive('df-897ca5dc-1809-45db-9956-8059bddc104f')\"\n",
              "              title=\"Convert this dataframe to an interactive table.\"\n",
              "              style=\"display:none;\">\n",
              "        \n",
              "  <svg xmlns=\"http://www.w3.org/2000/svg\" height=\"24px\"viewBox=\"0 0 24 24\"\n",
              "       width=\"24px\">\n",
              "    <path d=\"M0 0h24v24H0V0z\" fill=\"none\"/>\n",
              "    <path d=\"M18.56 5.44l.94 2.06.94-2.06 2.06-.94-2.06-.94-.94-2.06-.94 2.06-2.06.94zm-11 1L8.5 8.5l.94-2.06 2.06-.94-2.06-.94L8.5 2.5l-.94 2.06-2.06.94zm10 10l.94 2.06.94-2.06 2.06-.94-2.06-.94-.94-2.06-.94 2.06-2.06.94z\"/><path d=\"M17.41 7.96l-1.37-1.37c-.4-.4-.92-.59-1.43-.59-.52 0-1.04.2-1.43.59L10.3 9.45l-7.72 7.72c-.78.78-.78 2.05 0 2.83L4 21.41c.39.39.9.59 1.41.59.51 0 1.02-.2 1.41-.59l7.78-7.78 2.81-2.81c.8-.78.8-2.07 0-2.86zM5.41 20L4 18.59l7.72-7.72 1.47 1.35L5.41 20z\"/>\n",
              "  </svg>\n",
              "      </button>\n",
              "      \n",
              "  <style>\n",
              "    .colab-df-container {\n",
              "      display:flex;\n",
              "      flex-wrap:wrap;\n",
              "      gap: 12px;\n",
              "    }\n",
              "\n",
              "    .colab-df-convert {\n",
              "      background-color: #E8F0FE;\n",
              "      border: none;\n",
              "      border-radius: 50%;\n",
              "      cursor: pointer;\n",
              "      display: none;\n",
              "      fill: #1967D2;\n",
              "      height: 32px;\n",
              "      padding: 0 0 0 0;\n",
              "      width: 32px;\n",
              "    }\n",
              "\n",
              "    .colab-df-convert:hover {\n",
              "      background-color: #E2EBFA;\n",
              "      box-shadow: 0px 1px 2px rgba(60, 64, 67, 0.3), 0px 1px 3px 1px rgba(60, 64, 67, 0.15);\n",
              "      fill: #174EA6;\n",
              "    }\n",
              "\n",
              "    [theme=dark] .colab-df-convert {\n",
              "      background-color: #3B4455;\n",
              "      fill: #D2E3FC;\n",
              "    }\n",
              "\n",
              "    [theme=dark] .colab-df-convert:hover {\n",
              "      background-color: #434B5C;\n",
              "      box-shadow: 0px 1px 3px 1px rgba(0, 0, 0, 0.15);\n",
              "      filter: drop-shadow(0px 1px 2px rgba(0, 0, 0, 0.3));\n",
              "      fill: #FFFFFF;\n",
              "    }\n",
              "  </style>\n",
              "\n",
              "      <script>\n",
              "        const buttonEl =\n",
              "          document.querySelector('#df-897ca5dc-1809-45db-9956-8059bddc104f button.colab-df-convert');\n",
              "        buttonEl.style.display =\n",
              "          google.colab.kernel.accessAllowed ? 'block' : 'none';\n",
              "\n",
              "        async function convertToInteractive(key) {\n",
              "          const element = document.querySelector('#df-897ca5dc-1809-45db-9956-8059bddc104f');\n",
              "          const dataTable =\n",
              "            await google.colab.kernel.invokeFunction('convertToInteractive',\n",
              "                                                     [key], {});\n",
              "          if (!dataTable) return;\n",
              "\n",
              "          const docLinkHtml = 'Like what you see? Visit the ' +\n",
              "            '<a target=\"_blank\" href=https://colab.research.google.com/notebooks/data_table.ipynb>data table notebook</a>'\n",
              "            + ' to learn more about interactive tables.';\n",
              "          element.innerHTML = '';\n",
              "          dataTable['output_type'] = 'display_data';\n",
              "          await google.colab.output.renderOutput(dataTable, element);\n",
              "          const docLink = document.createElement('div');\n",
              "          docLink.innerHTML = docLinkHtml;\n",
              "          element.appendChild(docLink);\n",
              "        }\n",
              "      </script>\n",
              "    </div>\n",
              "  </div>\n",
              "  "
            ]
          },
          "metadata": {},
          "execution_count": 33
        }
      ]
    },
    {
      "cell_type": "code",
      "source": [
        "min_max_scaler = preprocessing.MinMaxScaler()\n",
        "X = min_max_scaler.fit_transform(X)\n",
        "X"
      ],
      "metadata": {
        "colab": {
          "base_uri": "https://localhost:8080/"
        },
        "id": "u2uy2KTV4TDd",
        "outputId": "c68599de-347d-4e23-ddbf-71734e1eea9c"
      },
      "execution_count": 34,
      "outputs": [
        {
          "output_type": "execute_result",
          "data": {
            "text/plain": [
              "array([[0.46910112, 0.        , 0.42435424, ..., 0.2       , 0.19402985,\n",
              "        0.5       ],\n",
              "       [0.57022472, 1.        , 0.49815498, ..., 0.        , 0.        ,\n",
              "        0.5       ],\n",
              "       [0.35674157, 1.        , 0.95571956, ..., 0.        , 0.        ,\n",
              "        0.5       ],\n",
              "       ...,\n",
              "       [0.01123596, 1.        , 0.42804428, ..., 0.1       , 0.00746269,\n",
              "        0.5       ],\n",
              "       [0.45786517, 1.        , 0.82656827, ..., 0.3       , 0.29850746,\n",
              "        0.5       ],\n",
              "       [0.29775281, 1.        , 0.44649446, ..., 0.        , 0.        ,\n",
              "        0.5       ]])"
            ]
          },
          "metadata": {},
          "execution_count": 34
        }
      ]
    },
    {
      "cell_type": "code",
      "source": [
        "y = df.Military_Rank\n",
        "y = pd.get_dummies(y)\n",
        "y.head()"
      ],
      "metadata": {
        "colab": {
          "base_uri": "https://localhost:8080/",
          "height": 206
        },
        "id": "iAgiQuEy8YTS",
        "outputId": "98af802f-0fbe-4f79-910c-ae22919543eb"
      },
      "execution_count": 35,
      "outputs": [
        {
          "output_type": "execute_result",
          "data": {
            "text/plain": [
              "   0   1   2   3   4   5   6   7   8   9   10  11\n",
              "0   0   0   0   1   0   0   0   0   0   0   0   0\n",
              "1   0   0   0   1   0   0   0   0   0   0   0   0\n",
              "2   0   0   0   1   0   0   0   0   0   0   0   0\n",
              "3   0   0   0   1   0   0   0   0   0   0   0   0\n",
              "4   0   0   0   1   0   0   0   0   0   0   0   0"
            ],
            "text/html": [
              "\n",
              "  <div id=\"df-f32ef7ac-2034-429a-9dc8-d9eac0dda28c\">\n",
              "    <div class=\"colab-df-container\">\n",
              "      <div>\n",
              "<style scoped>\n",
              "    .dataframe tbody tr th:only-of-type {\n",
              "        vertical-align: middle;\n",
              "    }\n",
              "\n",
              "    .dataframe tbody tr th {\n",
              "        vertical-align: top;\n",
              "    }\n",
              "\n",
              "    .dataframe thead th {\n",
              "        text-align: right;\n",
              "    }\n",
              "</style>\n",
              "<table border=\"1\" class=\"dataframe\">\n",
              "  <thead>\n",
              "    <tr style=\"text-align: right;\">\n",
              "      <th></th>\n",
              "      <th>0</th>\n",
              "      <th>1</th>\n",
              "      <th>2</th>\n",
              "      <th>3</th>\n",
              "      <th>4</th>\n",
              "      <th>5</th>\n",
              "      <th>6</th>\n",
              "      <th>7</th>\n",
              "      <th>8</th>\n",
              "      <th>9</th>\n",
              "      <th>10</th>\n",
              "      <th>11</th>\n",
              "    </tr>\n",
              "  </thead>\n",
              "  <tbody>\n",
              "    <tr>\n",
              "      <th>0</th>\n",
              "      <td>0</td>\n",
              "      <td>0</td>\n",
              "      <td>0</td>\n",
              "      <td>1</td>\n",
              "      <td>0</td>\n",
              "      <td>0</td>\n",
              "      <td>0</td>\n",
              "      <td>0</td>\n",
              "      <td>0</td>\n",
              "      <td>0</td>\n",
              "      <td>0</td>\n",
              "      <td>0</td>\n",
              "    </tr>\n",
              "    <tr>\n",
              "      <th>1</th>\n",
              "      <td>0</td>\n",
              "      <td>0</td>\n",
              "      <td>0</td>\n",
              "      <td>1</td>\n",
              "      <td>0</td>\n",
              "      <td>0</td>\n",
              "      <td>0</td>\n",
              "      <td>0</td>\n",
              "      <td>0</td>\n",
              "      <td>0</td>\n",
              "      <td>0</td>\n",
              "      <td>0</td>\n",
              "    </tr>\n",
              "    <tr>\n",
              "      <th>2</th>\n",
              "      <td>0</td>\n",
              "      <td>0</td>\n",
              "      <td>0</td>\n",
              "      <td>1</td>\n",
              "      <td>0</td>\n",
              "      <td>0</td>\n",
              "      <td>0</td>\n",
              "      <td>0</td>\n",
              "      <td>0</td>\n",
              "      <td>0</td>\n",
              "      <td>0</td>\n",
              "      <td>0</td>\n",
              "    </tr>\n",
              "    <tr>\n",
              "      <th>3</th>\n",
              "      <td>0</td>\n",
              "      <td>0</td>\n",
              "      <td>0</td>\n",
              "      <td>1</td>\n",
              "      <td>0</td>\n",
              "      <td>0</td>\n",
              "      <td>0</td>\n",
              "      <td>0</td>\n",
              "      <td>0</td>\n",
              "      <td>0</td>\n",
              "      <td>0</td>\n",
              "      <td>0</td>\n",
              "    </tr>\n",
              "    <tr>\n",
              "      <th>4</th>\n",
              "      <td>0</td>\n",
              "      <td>0</td>\n",
              "      <td>0</td>\n",
              "      <td>1</td>\n",
              "      <td>0</td>\n",
              "      <td>0</td>\n",
              "      <td>0</td>\n",
              "      <td>0</td>\n",
              "      <td>0</td>\n",
              "      <td>0</td>\n",
              "      <td>0</td>\n",
              "      <td>0</td>\n",
              "    </tr>\n",
              "  </tbody>\n",
              "</table>\n",
              "</div>\n",
              "      <button class=\"colab-df-convert\" onclick=\"convertToInteractive('df-f32ef7ac-2034-429a-9dc8-d9eac0dda28c')\"\n",
              "              title=\"Convert this dataframe to an interactive table.\"\n",
              "              style=\"display:none;\">\n",
              "        \n",
              "  <svg xmlns=\"http://www.w3.org/2000/svg\" height=\"24px\"viewBox=\"0 0 24 24\"\n",
              "       width=\"24px\">\n",
              "    <path d=\"M0 0h24v24H0V0z\" fill=\"none\"/>\n",
              "    <path d=\"M18.56 5.44l.94 2.06.94-2.06 2.06-.94-2.06-.94-.94-2.06-.94 2.06-2.06.94zm-11 1L8.5 8.5l.94-2.06 2.06-.94-2.06-.94L8.5 2.5l-.94 2.06-2.06.94zm10 10l.94 2.06.94-2.06 2.06-.94-2.06-.94-.94-2.06-.94 2.06-2.06.94z\"/><path d=\"M17.41 7.96l-1.37-1.37c-.4-.4-.92-.59-1.43-.59-.52 0-1.04.2-1.43.59L10.3 9.45l-7.72 7.72c-.78.78-.78 2.05 0 2.83L4 21.41c.39.39.9.59 1.41.59.51 0 1.02-.2 1.41-.59l7.78-7.78 2.81-2.81c.8-.78.8-2.07 0-2.86zM5.41 20L4 18.59l7.72-7.72 1.47 1.35L5.41 20z\"/>\n",
              "  </svg>\n",
              "      </button>\n",
              "      \n",
              "  <style>\n",
              "    .colab-df-container {\n",
              "      display:flex;\n",
              "      flex-wrap:wrap;\n",
              "      gap: 12px;\n",
              "    }\n",
              "\n",
              "    .colab-df-convert {\n",
              "      background-color: #E8F0FE;\n",
              "      border: none;\n",
              "      border-radius: 50%;\n",
              "      cursor: pointer;\n",
              "      display: none;\n",
              "      fill: #1967D2;\n",
              "      height: 32px;\n",
              "      padding: 0 0 0 0;\n",
              "      width: 32px;\n",
              "    }\n",
              "\n",
              "    .colab-df-convert:hover {\n",
              "      background-color: #E2EBFA;\n",
              "      box-shadow: 0px 1px 2px rgba(60, 64, 67, 0.3), 0px 1px 3px 1px rgba(60, 64, 67, 0.15);\n",
              "      fill: #174EA6;\n",
              "    }\n",
              "\n",
              "    [theme=dark] .colab-df-convert {\n",
              "      background-color: #3B4455;\n",
              "      fill: #D2E3FC;\n",
              "    }\n",
              "\n",
              "    [theme=dark] .colab-df-convert:hover {\n",
              "      background-color: #434B5C;\n",
              "      box-shadow: 0px 1px 3px 1px rgba(0, 0, 0, 0.15);\n",
              "      filter: drop-shadow(0px 1px 2px rgba(0, 0, 0, 0.3));\n",
              "      fill: #FFFFFF;\n",
              "    }\n",
              "  </style>\n",
              "\n",
              "      <script>\n",
              "        const buttonEl =\n",
              "          document.querySelector('#df-f32ef7ac-2034-429a-9dc8-d9eac0dda28c button.colab-df-convert');\n",
              "        buttonEl.style.display =\n",
              "          google.colab.kernel.accessAllowed ? 'block' : 'none';\n",
              "\n",
              "        async function convertToInteractive(key) {\n",
              "          const element = document.querySelector('#df-f32ef7ac-2034-429a-9dc8-d9eac0dda28c');\n",
              "          const dataTable =\n",
              "            await google.colab.kernel.invokeFunction('convertToInteractive',\n",
              "                                                     [key], {});\n",
              "          if (!dataTable) return;\n",
              "\n",
              "          const docLinkHtml = 'Like what you see? Visit the ' +\n",
              "            '<a target=\"_blank\" href=https://colab.research.google.com/notebooks/data_table.ipynb>data table notebook</a>'\n",
              "            + ' to learn more about interactive tables.';\n",
              "          element.innerHTML = '';\n",
              "          dataTable['output_type'] = 'display_data';\n",
              "          await google.colab.output.renderOutput(dataTable, element);\n",
              "          const docLink = document.createElement('div');\n",
              "          docLink.innerHTML = docLinkHtml;\n",
              "          element.appendChild(docLink);\n",
              "        }\n",
              "      </script>\n",
              "    </div>\n",
              "  </div>\n",
              "  "
            ]
          },
          "metadata": {},
          "execution_count": 35
        }
      ]
    },
    {
      "cell_type": "code",
      "source": [
        "y.head()"
      ],
      "metadata": {
        "colab": {
          "base_uri": "https://localhost:8080/",
          "height": 206
        },
        "id": "N7GZtvzJ3iWQ",
        "outputId": "505b5929-8313-4f1b-f698-49d6bdfc0978"
      },
      "execution_count": 36,
      "outputs": [
        {
          "output_type": "execute_result",
          "data": {
            "text/plain": [
              "   0   1   2   3   4   5   6   7   8   9   10  11\n",
              "0   0   0   0   1   0   0   0   0   0   0   0   0\n",
              "1   0   0   0   1   0   0   0   0   0   0   0   0\n",
              "2   0   0   0   1   0   0   0   0   0   0   0   0\n",
              "3   0   0   0   1   0   0   0   0   0   0   0   0\n",
              "4   0   0   0   1   0   0   0   0   0   0   0   0"
            ],
            "text/html": [
              "\n",
              "  <div id=\"df-b9ed1c6c-aa15-4926-bc02-5d1036347a22\">\n",
              "    <div class=\"colab-df-container\">\n",
              "      <div>\n",
              "<style scoped>\n",
              "    .dataframe tbody tr th:only-of-type {\n",
              "        vertical-align: middle;\n",
              "    }\n",
              "\n",
              "    .dataframe tbody tr th {\n",
              "        vertical-align: top;\n",
              "    }\n",
              "\n",
              "    .dataframe thead th {\n",
              "        text-align: right;\n",
              "    }\n",
              "</style>\n",
              "<table border=\"1\" class=\"dataframe\">\n",
              "  <thead>\n",
              "    <tr style=\"text-align: right;\">\n",
              "      <th></th>\n",
              "      <th>0</th>\n",
              "      <th>1</th>\n",
              "      <th>2</th>\n",
              "      <th>3</th>\n",
              "      <th>4</th>\n",
              "      <th>5</th>\n",
              "      <th>6</th>\n",
              "      <th>7</th>\n",
              "      <th>8</th>\n",
              "      <th>9</th>\n",
              "      <th>10</th>\n",
              "      <th>11</th>\n",
              "    </tr>\n",
              "  </thead>\n",
              "  <tbody>\n",
              "    <tr>\n",
              "      <th>0</th>\n",
              "      <td>0</td>\n",
              "      <td>0</td>\n",
              "      <td>0</td>\n",
              "      <td>1</td>\n",
              "      <td>0</td>\n",
              "      <td>0</td>\n",
              "      <td>0</td>\n",
              "      <td>0</td>\n",
              "      <td>0</td>\n",
              "      <td>0</td>\n",
              "      <td>0</td>\n",
              "      <td>0</td>\n",
              "    </tr>\n",
              "    <tr>\n",
              "      <th>1</th>\n",
              "      <td>0</td>\n",
              "      <td>0</td>\n",
              "      <td>0</td>\n",
              "      <td>1</td>\n",
              "      <td>0</td>\n",
              "      <td>0</td>\n",
              "      <td>0</td>\n",
              "      <td>0</td>\n",
              "      <td>0</td>\n",
              "      <td>0</td>\n",
              "      <td>0</td>\n",
              "      <td>0</td>\n",
              "    </tr>\n",
              "    <tr>\n",
              "      <th>2</th>\n",
              "      <td>0</td>\n",
              "      <td>0</td>\n",
              "      <td>0</td>\n",
              "      <td>1</td>\n",
              "      <td>0</td>\n",
              "      <td>0</td>\n",
              "      <td>0</td>\n",
              "      <td>0</td>\n",
              "      <td>0</td>\n",
              "      <td>0</td>\n",
              "      <td>0</td>\n",
              "      <td>0</td>\n",
              "    </tr>\n",
              "    <tr>\n",
              "      <th>3</th>\n",
              "      <td>0</td>\n",
              "      <td>0</td>\n",
              "      <td>0</td>\n",
              "      <td>1</td>\n",
              "      <td>0</td>\n",
              "      <td>0</td>\n",
              "      <td>0</td>\n",
              "      <td>0</td>\n",
              "      <td>0</td>\n",
              "      <td>0</td>\n",
              "      <td>0</td>\n",
              "      <td>0</td>\n",
              "    </tr>\n",
              "    <tr>\n",
              "      <th>4</th>\n",
              "      <td>0</td>\n",
              "      <td>0</td>\n",
              "      <td>0</td>\n",
              "      <td>1</td>\n",
              "      <td>0</td>\n",
              "      <td>0</td>\n",
              "      <td>0</td>\n",
              "      <td>0</td>\n",
              "      <td>0</td>\n",
              "      <td>0</td>\n",
              "      <td>0</td>\n",
              "      <td>0</td>\n",
              "    </tr>\n",
              "  </tbody>\n",
              "</table>\n",
              "</div>\n",
              "      <button class=\"colab-df-convert\" onclick=\"convertToInteractive('df-b9ed1c6c-aa15-4926-bc02-5d1036347a22')\"\n",
              "              title=\"Convert this dataframe to an interactive table.\"\n",
              "              style=\"display:none;\">\n",
              "        \n",
              "  <svg xmlns=\"http://www.w3.org/2000/svg\" height=\"24px\"viewBox=\"0 0 24 24\"\n",
              "       width=\"24px\">\n",
              "    <path d=\"M0 0h24v24H0V0z\" fill=\"none\"/>\n",
              "    <path d=\"M18.56 5.44l.94 2.06.94-2.06 2.06-.94-2.06-.94-.94-2.06-.94 2.06-2.06.94zm-11 1L8.5 8.5l.94-2.06 2.06-.94-2.06-.94L8.5 2.5l-.94 2.06-2.06.94zm10 10l.94 2.06.94-2.06 2.06-.94-2.06-.94-.94-2.06-.94 2.06-2.06.94z\"/><path d=\"M17.41 7.96l-1.37-1.37c-.4-.4-.92-.59-1.43-.59-.52 0-1.04.2-1.43.59L10.3 9.45l-7.72 7.72c-.78.78-.78 2.05 0 2.83L4 21.41c.39.39.9.59 1.41.59.51 0 1.02-.2 1.41-.59l7.78-7.78 2.81-2.81c.8-.78.8-2.07 0-2.86zM5.41 20L4 18.59l7.72-7.72 1.47 1.35L5.41 20z\"/>\n",
              "  </svg>\n",
              "      </button>\n",
              "      \n",
              "  <style>\n",
              "    .colab-df-container {\n",
              "      display:flex;\n",
              "      flex-wrap:wrap;\n",
              "      gap: 12px;\n",
              "    }\n",
              "\n",
              "    .colab-df-convert {\n",
              "      background-color: #E8F0FE;\n",
              "      border: none;\n",
              "      border-radius: 50%;\n",
              "      cursor: pointer;\n",
              "      display: none;\n",
              "      fill: #1967D2;\n",
              "      height: 32px;\n",
              "      padding: 0 0 0 0;\n",
              "      width: 32px;\n",
              "    }\n",
              "\n",
              "    .colab-df-convert:hover {\n",
              "      background-color: #E2EBFA;\n",
              "      box-shadow: 0px 1px 2px rgba(60, 64, 67, 0.3), 0px 1px 3px 1px rgba(60, 64, 67, 0.15);\n",
              "      fill: #174EA6;\n",
              "    }\n",
              "\n",
              "    [theme=dark] .colab-df-convert {\n",
              "      background-color: #3B4455;\n",
              "      fill: #D2E3FC;\n",
              "    }\n",
              "\n",
              "    [theme=dark] .colab-df-convert:hover {\n",
              "      background-color: #434B5C;\n",
              "      box-shadow: 0px 1px 3px 1px rgba(0, 0, 0, 0.15);\n",
              "      filter: drop-shadow(0px 1px 2px rgba(0, 0, 0, 0.3));\n",
              "      fill: #FFFFFF;\n",
              "    }\n",
              "  </style>\n",
              "\n",
              "      <script>\n",
              "        const buttonEl =\n",
              "          document.querySelector('#df-b9ed1c6c-aa15-4926-bc02-5d1036347a22 button.colab-df-convert');\n",
              "        buttonEl.style.display =\n",
              "          google.colab.kernel.accessAllowed ? 'block' : 'none';\n",
              "\n",
              "        async function convertToInteractive(key) {\n",
              "          const element = document.querySelector('#df-b9ed1c6c-aa15-4926-bc02-5d1036347a22');\n",
              "          const dataTable =\n",
              "            await google.colab.kernel.invokeFunction('convertToInteractive',\n",
              "                                                     [key], {});\n",
              "          if (!dataTable) return;\n",
              "\n",
              "          const docLinkHtml = 'Like what you see? Visit the ' +\n",
              "            '<a target=\"_blank\" href=https://colab.research.google.com/notebooks/data_table.ipynb>data table notebook</a>'\n",
              "            + ' to learn more about interactive tables.';\n",
              "          element.innerHTML = '';\n",
              "          dataTable['output_type'] = 'display_data';\n",
              "          await google.colab.output.renderOutput(dataTable, element);\n",
              "          const docLink = document.createElement('div');\n",
              "          docLink.innerHTML = docLinkHtml;\n",
              "          element.appendChild(docLink);\n",
              "        }\n",
              "      </script>\n",
              "    </div>\n",
              "  </div>\n",
              "  "
            ]
          },
          "metadata": {},
          "execution_count": 36
        }
      ]
    },
    {
      "cell_type": "code",
      "source": [
        "def get_train_test_split(array1, array2, test_size, random_state):\n",
        "    global X_train, X_test, y_train, y_test\n",
        "    X_train, X_test, y_train, y_test = train_test_split(array1, array2, test_size=test_size,random_state=random_state)\n",
        "get_train_test_split(X,y,0.3,0)"
      ],
      "metadata": {
        "id": "n_Z6BjLF6iJB"
      },
      "execution_count": 37,
      "outputs": []
    },
    {
      "cell_type": "code",
      "source": [
        "# when you are plaNing to use k-fold validation so it better to made a custom method\\function for network b/c we have to use \n",
        "# the network in k-fold validation section.\n",
        "def build_model():\n",
        "    model = Sequential()\n",
        "    model.add(Dense(10, kernel_regularizer=regularizers.l2(0.001),  activation='relu',input_shape=(X_train.shape[1],)))\n",
        "    model.add(layers.Dropout(0.5))\n",
        "    model.add(Dense(8, kernel_regularizer=regularizers.l2(0.001), activation='relu'))\n",
        "    model.add(layers.Dropout(0.5))\n",
        "    model.add(Dense(6, kernel_regularizer=regularizers.l2(0.001), activation='relu'))\n",
        "    model.add(layers.Dropout(0.5))\n",
        "    model.add(Dense(12, activation='softmax'))\n",
        "    #print(model.summary())\n",
        "    model.compile(optimizer='adam', loss='categorical_crossentropy', metrics=['accuracy'])\n",
        "    # we use loss='mse'(mean square error) always use in regression problems. it is loss function \n",
        "    # in regression we do not measure the accuracy, we mearure the mae(mean absolute error) \n",
        "    return model"
      ],
      "metadata": {
        "id": "gBAw3yhi4-9H"
      },
      "execution_count": 38,
      "outputs": []
    },
    {
      "cell_type": "code",
      "source": [
        "build_model().summary()"
      ],
      "metadata": {
        "colab": {
          "base_uri": "https://localhost:8080/"
        },
        "id": "w-ds2LGV5WTx",
        "outputId": "44386ee5-6df4-4bb9-e1d1-74072cc30503"
      },
      "execution_count": 39,
      "outputs": [
        {
          "output_type": "stream",
          "name": "stdout",
          "text": [
            "Model: \"sequential\"\n",
            "_________________________________________________________________\n",
            " Layer (type)                Output Shape              Param #   \n",
            "=================================================================\n",
            " dense (Dense)               (None, 10)                110       \n",
            "                                                                 \n",
            " dropout (Dropout)           (None, 10)                0         \n",
            "                                                                 \n",
            " dense_1 (Dense)             (None, 8)                 88        \n",
            "                                                                 \n",
            " dropout_1 (Dropout)         (None, 8)                 0         \n",
            "                                                                 \n",
            " dense_2 (Dense)             (None, 6)                 54        \n",
            "                                                                 \n",
            " dropout_2 (Dropout)         (None, 6)                 0         \n",
            "                                                                 \n",
            " dense_3 (Dense)             (None, 12)                84        \n",
            "                                                                 \n",
            "=================================================================\n",
            "Total params: 336\n",
            "Trainable params: 336\n",
            "Non-trainable params: 0\n",
            "_________________________________________________________________\n"
          ]
        }
      ]
    },
    {
      "cell_type": "code",
      "source": [
        "357//4\n",
        "0+89\n",
        "89+178\n",
        "178+89\n",
        "267+89"
      ],
      "metadata": {
        "colab": {
          "base_uri": "https://localhost:8080/"
        },
        "id": "vJdbImBk0u45",
        "outputId": "604bf680-7e0f-4f7e-c468-2235b840217b"
      },
      "execution_count": 40,
      "outputs": [
        {
          "output_type": "execute_result",
          "data": {
            "text/plain": [
              "356"
            ]
          },
          "metadata": {},
          "execution_count": 40
        }
      ]
    },
    {
      "cell_type": "code",
      "source": [
        "# here it follow the same policy of k-for validation such as \n",
        "# here we made 4 groups every time singal behave like test_data and other train_data and keep the acc: in list and \n",
        "# it keeps doing untill it get all 4 acccuray \n",
        "k=4\n",
        "num_val_samples = len(X_train) // k # 357//4 --> 101 the // sign avido the point such as 101.0 it is flod division \n",
        "# it will have 4 fold mean 357 is going divide into 4 range \n",
        "num_epochs = 100\n",
        "all_acc_histories = []\n",
        "for i in range(k):\n",
        "    print('processing fold #', i)\n",
        "    # i = 1\n",
        "    val_data = X_train[i * num_val_samples: (i + 1) * num_val_samples]   \n",
        "    val_targets = y_train[i * num_val_samples: (i + 1) * num_val_samples] \n",
        "    partial_train_data = np.concatenate([X_train[:i * num_val_samples], X_train[(i + 1) * num_val_samples:]], axis=0)\n",
        "    partial_train_targets = np.concatenate([y_train[:i * num_val_samples], y_train[(i + 1) * num_val_samples:]], axis=0)\n",
        "    model = build_model() \n",
        "    history = model.fit(partial_train_data, partial_train_targets, validation_data=(val_data, val_targets), epochs=num_epochs, batch_size=1, verbose=0)\n",
        "    acc_history = history.history['val_accuracy']\n",
        "    all_acc_histories.append(acc_history)"
      ],
      "metadata": {
        "id": "iEZpO0fFoY6Y",
        "colab": {
          "base_uri": "https://localhost:8080/"
        },
        "outputId": "6f7e992f-31ec-449f-8003-f043f56b6605"
      },
      "execution_count": 41,
      "outputs": [
        {
          "output_type": "stream",
          "name": "stdout",
          "text": [
            "processing fold # 0\n",
            "processing fold # 1\n",
            "processing fold # 2\n",
            "processing fold # 3\n"
          ]
        }
      ]
    },
    {
      "cell_type": "code",
      "source": [
        "history.history.keys()"
      ],
      "metadata": {
        "id": "FEZy4Nng5jed",
        "colab": {
          "base_uri": "https://localhost:8080/"
        },
        "outputId": "f7801d53-4634-44c9-de4e-53c893ba0cc6"
      },
      "execution_count": 42,
      "outputs": [
        {
          "output_type": "execute_result",
          "data": {
            "text/plain": [
              "dict_keys(['loss', 'accuracy', 'val_loss', 'val_accuracy'])"
            ]
          },
          "metadata": {},
          "execution_count": 42
        }
      ]
    },
    {
      "cell_type": "code",
      "source": [
        "average_acc_history = [np.mean([x[i] for x in all_acc_histories]) for i in range(num_epochs)]\n",
        "print(len(average_acc_history))\n",
        "average_acc_history "
      ],
      "metadata": {
        "colab": {
          "base_uri": "https://localhost:8080/"
        },
        "id": "pTJS6Tog5sqH",
        "outputId": "b50bb078-51c5-411c-8dab-b70f1cd43258"
      },
      "execution_count": 43,
      "outputs": [
        {
          "output_type": "stream",
          "name": "stdout",
          "text": [
            "100\n"
          ]
        },
        {
          "output_type": "execute_result",
          "data": {
            "text/plain": [
              "[0.6653225719928741,\n",
              " 0.6653225719928741,\n",
              " 0.6653225719928741,\n",
              " 0.6653225719928741,\n",
              " 0.6653225719928741,\n",
              " 0.6653225719928741,\n",
              " 0.6653225719928741,\n",
              " 0.6653225719928741,\n",
              " 0.6653225719928741,\n",
              " 0.6653225719928741,\n",
              " 0.6653225719928741,\n",
              " 0.6653225719928741,\n",
              " 0.6653225719928741,\n",
              " 0.6653225719928741,\n",
              " 0.6653225719928741,\n",
              " 0.6653225719928741,\n",
              " 0.6653225719928741,\n",
              " 0.6653225719928741,\n",
              " 0.6653225719928741,\n",
              " 0.6653225719928741,\n",
              " 0.6653225719928741,\n",
              " 0.6653225719928741,\n",
              " 0.6653225719928741,\n",
              " 0.6653225719928741,\n",
              " 0.6653225719928741,\n",
              " 0.6653225719928741,\n",
              " 0.6653225719928741,\n",
              " 0.6653225719928741,\n",
              " 0.6653225719928741,\n",
              " 0.6653225719928741,\n",
              " 0.6653225719928741,\n",
              " 0.6653225719928741,\n",
              " 0.6653225719928741,\n",
              " 0.6653225719928741,\n",
              " 0.6653225719928741,\n",
              " 0.6653225719928741,\n",
              " 0.6653225719928741,\n",
              " 0.6653225719928741,\n",
              " 0.6653225719928741,\n",
              " 0.6653225719928741,\n",
              " 0.6653225719928741,\n",
              " 0.6774193495512009,\n",
              " 0.6774193495512009,\n",
              " 0.6774193495512009,\n",
              " 0.6774193495512009,\n",
              " 0.681451603770256,\n",
              " 0.6774193495512009,\n",
              " 0.6733870953321457,\n",
              " 0.6774193495512009,\n",
              " 0.6733870953321457,\n",
              " 0.681451603770256,\n",
              " 0.6774193495512009,\n",
              " 0.6693548411130905,\n",
              " 0.6733870953321457,\n",
              " 0.681451603770256,\n",
              " 0.681451603770256,\n",
              " 0.6733870953321457,\n",
              " 0.6733870953321457,\n",
              " 0.6774193495512009,\n",
              " 0.6733870953321457,\n",
              " 0.6774193495512009,\n",
              " 0.681451603770256,\n",
              " 0.681451603770256,\n",
              " 0.6733870953321457,\n",
              " 0.681451603770256,\n",
              " 0.681451603770256,\n",
              " 0.681451603770256,\n",
              " 0.681451603770256,\n",
              " 0.681451603770256,\n",
              " 0.7379032075405121,\n",
              " 0.7661290168762207,\n",
              " 0.7661290168762207,\n",
              " 0.7661290168762207,\n",
              " 0.7580645084381104,\n",
              " 0.7661290168762207,\n",
              " 0.7661290168762207,\n",
              " 0.7661290168762207,\n",
              " 0.7620967626571655,\n",
              " 0.7741935402154922,\n",
              " 0.7661290168762207,\n",
              " 0.7661290168762207,\n",
              " 0.7661290168762207,\n",
              " 0.7741935402154922,\n",
              " 0.7741935402154922,\n",
              " 0.7741935402154922,\n",
              " 0.7701612710952759,\n",
              " 0.7741935402154922,\n",
              " 0.7782257944345474,\n",
              " 0.7782257944345474,\n",
              " 0.7701612710952759,\n",
              " 0.7741935402154922,\n",
              " 0.7661290168762207,\n",
              " 0.7701612710952759,\n",
              " 0.7701612710952759,\n",
              " 0.7741935402154922,\n",
              " 0.7701612710952759,\n",
              " 0.7741935402154922,\n",
              " 0.7741935402154922,\n",
              " 0.7741935402154922,\n",
              " 0.7782257944345474]"
            ]
          },
          "metadata": {},
          "execution_count": 43
        }
      ]
    },
    {
      "cell_type": "code",
      "source": [
        "plt.plot(average_acc_history)\n",
        "plt.xlabel('Epochs')\n",
        "plt.ylabel('Validation acc')\n",
        "plt.show()"
      ],
      "metadata": {
        "colab": {
          "base_uri": "https://localhost:8080/",
          "height": 361
        },
        "id": "T1pe_Bq_5wBR",
        "outputId": "c0b29d00-6c89-4212-9f62-b946a3421cf5"
      },
      "execution_count": 44,
      "outputs": [
        {
          "output_type": "display_data",
          "data": {
            "text/plain": [
              "<Figure size 576x396 with 1 Axes>"
            ],
            "image/png": "[encoded data removed]"
          },
          "metadata": {}
        }
      ]
    },
    {
      "cell_type": "code",
      "source": [
        "def smooth_curve(points, factor=0.9): # 0.9 is the default value \n",
        "    smoothed_points = []\n",
        "    for point in points:\n",
        "        if smoothed_points:\n",
        "            previous = smoothed_points[-1]\n",
        "            smoothed_points.append(previous * factor + point * (1 - factor))\n",
        "        else:\n",
        "            smoothed_points.append(point)\n",
        "    return smoothed_points\n",
        "    \n",
        "smooth_acc_history = smooth_curve(average_acc_history[10:])\n",
        "plt.plot(range(1, len(smooth_acc_history) + 1), smooth_acc_history)\n",
        "plt.xlabel('Epochs')\n",
        "plt.ylabel('Validation acc')\n",
        "plt.show()\n",
        "# it say that your epoch are fine upto 95 then it might be possible change would observe in loss "
      ],
      "metadata": {
        "id": "zZmktMvmCFat",
        "colab": {
          "base_uri": "https://localhost:8080/",
          "height": 361
        },
        "outputId": "90a63952-cfa9-4b58-cfd0-d5a12502e376"
      },
      "execution_count": 45,
      "outputs": [
        {
          "output_type": "display_data",
          "data": {
            "text/plain": [
              "<Figure size 576x396 with 1 Axes>"
            ],
            "image/png": "[encoded data removed]"
          },
          "metadata": {}
        }
      ]
    },
    {
      "cell_type": "code",
      "source": [
        "model = build_model()\n",
        "model.fit(X_train, y_train, epochs=35, batch_size=16, verbose=0)\n",
        "#epochs=80 the problem of overfitting is finished b/c we get the idea what are right epochs \n",
        "train_loss, train_acc= model.evaluate(X_train, y_train)\n",
        "print('train accuracy:', train_acc*100)\n",
        "print('train loss:', train_loss*100)"
      ],
      "metadata": {
        "colab": {
          "base_uri": "https://localhost:8080/"
        },
        "id": "czezYooX5eMl",
        "outputId": "0c9fbb2d-0b5a-40f3-b708-cad4aea4b331"
      },
      "execution_count": 47,
      "outputs": [
        {
          "output_type": "stream",
          "name": "stdout",
          "text": [
            "8/8 [==============================] - 0s 4ms/step - loss: 1.0983 - accuracy: 0.6667\n",
            "train accuracy: 66.66666865348816\n",
            "train loss: 109.83062982559204\n"
          ]
        }
      ]
    },
    {
      "cell_type": "code",
      "source": [],
      "metadata": {
        "id": "3CKNeZlQ6L3y"
      },
      "execution_count": 46,
      "outputs": []
    }
  ],
  "metadata": {
    "colab": {
      "provenance": [],
      "mount_file_id": "1nLvvL-mNy9aPQiSmUPXcXUKEKKONEvNs",
      "authorship_tag": "ABX9TyM+WZRzGZfE89AD4PVvTroJ",
      "include_colab_link": true
    },
    "kernelspec": {
      "display_name": "Python 3",
      "name": "python3"
    },
    "language_info": {
      "name": "python"
    }
  },
  "nbformat": 4,
  "nbformat_minor": 0
}