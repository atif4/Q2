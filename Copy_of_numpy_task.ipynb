{
  "nbformat": 4,
  "nbformat_minor": 0,
  "metadata": {
    "colab": {
      "provenance": [],
      "include_colab_link": true
    },
    "kernelspec": {
      "name": "python3",
      "display_name": "Python 3"
    },
    "language_info": {
      "name": "python"
    }
  },
  "cells": [
    {
      "cell_type": "markdown",
      "metadata": {
        "id": "view-in-github",
        "colab_type": "text"
      },
      "source": [
        "<a href=\"https://colab.research.google.com/github/atif4/Q2/blob/gh-pages/Copy_of_numpy_task.ipynb\" target=\"_parent\"><img src=\"https://colab.research.google.com/assets/colab-badge.svg\" alt=\"Open In Colab\"/></a>"
      ]
    },
    {
      "cell_type": "markdown",
      "source": [
        "Problem  1\n",
        "\n",
        "Convert a 1D array to a 2D array with 2 rows\n",
        "\n",
        "Input:\n",
        "```\n",
        "np.arange(10)\n",
        "\n",
        "#> array([ 0, 1, 2, 3, 4, 5, 6, 7, 8, 9])\n",
        "```\n",
        "\n",
        "Output:\n",
        "\n",
        "\n",
        "```\n",
        "#> array([[0, 1, 2, 3, 4],\n",
        "#>        [5, 6, 7, 8, 9]])\n",
        "```\n",
        "\n"
      ],
      "metadata": {
        "id": "3c7NCXD4uwMi"
      }
    },
    {
      "cell_type": "code",
      "source": [
        "# Import the NumPy package with the alias 'np'\n",
        "import numpy as np\n",
        "\n",
        "# Create a one-dimensional array of 10 elements using the arange function from NumPy and assign it to the variable 'a'\n",
        "a = np.arange(2*5)\n",
        "\n",
        "# Display the contents of the array 'a' using the display function\n",
        "display(a)\n",
        "\n",
        "# Reshape the array 'a' into a two-dimensional array with 2 rows and 5 columns using the reshape method and display the result\n",
        "display(a.reshape(2,5))\n"
      ],
      "metadata": {
        "id": "5RraJf7rWDlx",
        "outputId": "f69c9bef-55e7-4bc7-a947-cb2d15c155ee",
        "colab": {
          "base_uri": "https://localhost:8080/",
          "height": 69
        }
      },
      "execution_count": null,
      "outputs": [
        {
          "output_type": "display_data",
          "data": {
            "text/plain": [
              "array([0, 1, 2, 3, 4, 5, 6, 7, 8, 9])"
            ]
          },
          "metadata": {}
        },
        {
          "output_type": "display_data",
          "data": {
            "text/plain": [
              "array([[0, 1, 2, 3, 4],\n",
              "       [5, 6, 7, 8, 9]])"
            ]
          },
          "metadata": {}
        }
      ]
    },
    {
      "cell_type": "markdown",
      "source": [
        "Problem  2\n",
        "\n",
        "Extract all odd numbers from arr\n",
        "\n",
        "```\n",
        "arr = np.array([0, 1, 2, 3, 4, 5, 6, 7, 8, 9])\n",
        "```\n",
        "\n"
      ],
      "metadata": {
        "id": "Jfm1H1quvQ2v"
      }
    },
    {
      "cell_type": "code",
      "source": [
        "# Create a NumPy array of integers from 0 to 9 and assign it to the variable 'arr'\n",
        "arr = np.array([0, 1, 2, 3, 4, 5, 6, 7, 8, 9])\n",
        "\n",
        "# Create a new array 'arr_odd' that only contains the odd elements of 'arr'\n",
        "# This is achieved by selecting the elements of 'arr' where their value modulo 2 is not 0 (i.e., odd numbers)\n",
        "arr_odd = arr[arr%2!=0]\n",
        "\n",
        "# Display a message and the contents of the 'arr_odd' array using the display function\n",
        "display(\"ODD\",arr_odd)\n",
        "\n",
        "# Create a new array 'arr_even' that only contains the even elements of 'arr'\n",
        "# This is achieved by selecting the elements of 'arr' where their value modulo 2 is 0 (i.e., even numbers)\n",
        "arr_even = arr[arr%2==0]\n",
        "\n",
        "# Display a message and the contents of the 'arr_even' array using the display function\n",
        "display(\"EVEN\",arr_even)\n"
      ],
      "metadata": {
        "id": "zpGv0vISWgH3",
        "outputId": "5f019b42-ee40-4376-f327-200a141f2f92",
        "colab": {
          "base_uri": "https://localhost:8080/",
          "height": 88
        }
      },
      "execution_count": null,
      "outputs": [
        {
          "output_type": "display_data",
          "data": {
            "text/plain": [
              "'ODD'"
            ],
            "application/vnd.google.colaboratory.intrinsic+json": {
              "type": "string"
            }
          },
          "metadata": {}
        },
        {
          "output_type": "display_data",
          "data": {
            "text/plain": [
              "array([1, 3, 5, 7, 9])"
            ]
          },
          "metadata": {}
        },
        {
          "output_type": "display_data",
          "data": {
            "text/plain": [
              "'EVEN'"
            ],
            "application/vnd.google.colaboratory.intrinsic+json": {
              "type": "string"
            }
          },
          "metadata": {}
        },
        {
          "output_type": "display_data",
          "data": {
            "text/plain": [
              "array([0, 2, 4, 6, 8])"
            ]
          },
          "metadata": {}
        }
      ]
    },
    {
      "cell_type": "markdown",
      "source": [
        "Problem  3\n",
        "\n",
        "Replace all odd numbers in arr with -1\n",
        "\n",
        "```\n",
        "arr = np.array([0, 1, 2, 3, 4, 5, 6, 7, 8, 9])\n",
        "```\n",
        "\n",
        "Output:\n",
        "\n",
        "\n",
        "```\n",
        "#>  array([ 0, -1,  2, -1,  4, -1,  6, -1,  8, -1])\n",
        "```\n",
        "\n"
      ],
      "metadata": {
        "id": "DbI3SEjgvkoJ"
      }
    },
    {
      "cell_type": "code",
      "source": [
        "# Create a NumPy array of integers from 0 to 9 and assign it to the variable 'arr'\n",
        "arr = np.array([0, 1, 2, 3, 4, 5, 6, 7, 8, 9])\n",
        "\n",
        "# Select the elements of 'arr' where their value modulo 2 is not 0 (i.e., odd numbers)\n",
        "# Assign the value -1 to those elements, effectively replacing them with -1\n",
        "arr[arr%2!=0] = -1\n",
        "\n",
        "# Display the contents of the modified 'arr' array using the display function\n",
        "display(arr)\n"
      ],
      "metadata": {
        "id": "-NWl6hrCWxZC",
        "outputId": "a2b411a5-a9fb-4b58-9a59-d15e9e15e7ba",
        "colab": {
          "base_uri": "https://localhost:8080/",
          "height": 34
        }
      },
      "execution_count": null,
      "outputs": [
        {
          "output_type": "display_data",
          "data": {
            "text/plain": [
              "array([ 0, -1,  2, -1,  4, -1,  6, -1,  8, -1])"
            ]
          },
          "metadata": {}
        }
      ]
    },
    {
      "cell_type": "markdown",
      "source": [
        "Problem  4\n",
        "\n",
        "Replace all odd numbers in arr with -1 without changing arr\n",
        "\n",
        "Input:\n",
        "\n",
        "`arr = np.array([0, 1, 2, 3, 4, 5, 6, 7, 8, 9])`\n",
        "\n",
        "Desired Output:\n",
        "\n",
        "```\n",
        "out\n",
        "#>  array([ 0, -1,  2, -1,  4, -1,  6, -1,  8, -1])\n",
        "arr\n",
        "#>  array([0, 1, 2, 3, 4, 5, 6, 7, 8, 9])\n",
        "```\n",
        "\n",
        "\n"
      ],
      "metadata": {
        "id": "DVPkniOuwHj_"
      }
    },
    {
      "cell_type": "code",
      "source": [
        "# Create a NumPy array of integers from 0 to 9 and assign it to the variable 'arr'\n",
        "arr = np.array([0, 1, 2, 3, 4, 5, 6, 7, 8, 9])\n",
        "\n",
        "# Create a copy of the 'arr' array using the copy method of NumPy and assign it to the variable 'copy'\n",
        "copy = np.copy(arr)\n",
        "\n",
        "# Select the elements of 'arr' where their value modulo 2 is not 0 (i.e., odd numbers)\n",
        "# Assign the value -1 to those elements, effectively replacing them with -1\n",
        "arr[arr%2!=0] = -1\n",
        "\n",
        "# Display a message and the contents of the modified 'arr' array using the display function\n",
        "display(\"output\",arr)\n",
        "\n",
        "# Display a message and the contents of the original 'arr' array using the display function\n",
        "display(\"arr\",copy)\n"
      ],
      "metadata": {
        "id": "etmqheEZXEJm",
        "outputId": "1b3792af-cca8-4a2a-c8b0-19f33f1a6293",
        "colab": {
          "base_uri": "https://localhost:8080/",
          "height": 88
        }
      },
      "execution_count": null,
      "outputs": [
        {
          "output_type": "display_data",
          "data": {
            "text/plain": [
              "'output'"
            ],
            "application/vnd.google.colaboratory.intrinsic+json": {
              "type": "string"
            }
          },
          "metadata": {}
        },
        {
          "output_type": "display_data",
          "data": {
            "text/plain": [
              "array([ 0, -1,  2, -1,  4, -1,  6, -1,  8, -1])"
            ]
          },
          "metadata": {}
        },
        {
          "output_type": "display_data",
          "data": {
            "text/plain": [
              "'arr'"
            ],
            "application/vnd.google.colaboratory.intrinsic+json": {
              "type": "string"
            }
          },
          "metadata": {}
        },
        {
          "output_type": "display_data",
          "data": {
            "text/plain": [
              "array([0, 1, 2, 3, 4, 5, 6, 7, 8, 9])"
            ]
          },
          "metadata": {}
        }
      ]
    },
    {
      "cell_type": "markdown",
      "source": [
        "Problem  5\n",
        "\n",
        "Stack arrays a and b vertically\n",
        "\n",
        "Input\n",
        "\n",
        "\n",
        "\n",
        "```\n",
        "a = np.arange(10).reshape(2,-1)\n",
        "b = np.repeat(1, 10).reshape(2,-1)\n",
        "```\n",
        "\n",
        "\n",
        "Desired Output:\n",
        "\n",
        "\n",
        "```\n",
        "array([[0, 1, 2, 3, 4],\n",
        "       [5, 6, 7, 8, 9],\n",
        "       [1, 1, 1, 1, 1],\n",
        "       [1, 1, 1, 1, 1]])\n",
        "```\n",
        "\n",
        "\n"
      ],
      "metadata": {
        "id": "jXUu_NSCwfDP"
      }
    },
    {
      "cell_type": "code",
      "source": [
        "# Create a NumPy array containing integers from 0 to 9 using the arange method and then reshape it into a 2x5 array\n",
        "a = np.arange(10).reshape(2,-1)\n",
        "\n",
        "# Create a NumPy array containing ten 1s using the repeat method and then reshape it into a 2x5 array\n",
        "b = np.repeat(1, 10).reshape(2,-1)\n",
        "\n",
        "# Display the desired output of vertically stacking the 'a' and 'b' arrays using the vstack method of NumPy\n",
        "display(\"Desired Output: vstack\",np.vstack((a,b)))\n"
      ],
      "metadata": {
        "id": "dRV3uog-XU9f",
        "outputId": "68a8237d-6f85-4784-e447-27a17ad315bf",
        "colab": {
          "base_uri": "https://localhost:8080/",
          "height": 105
        }
      },
      "execution_count": null,
      "outputs": [
        {
          "output_type": "display_data",
          "data": {
            "text/plain": [
              "'Desired Output: vstack'"
            ],
            "application/vnd.google.colaboratory.intrinsic+json": {
              "type": "string"
            }
          },
          "metadata": {}
        },
        {
          "output_type": "display_data",
          "data": {
            "text/plain": [
              "array([[0, 1, 2, 3, 4],\n",
              "       [5, 6, 7, 8, 9],\n",
              "       [1, 1, 1, 1, 1],\n",
              "       [1, 1, 1, 1, 1]])"
            ]
          },
          "metadata": {}
        }
      ]
    },
    {
      "cell_type": "markdown",
      "source": [
        "Problem  6\n",
        "\n",
        "Stack the arrays a and b horizontally.\n",
        "\n",
        "Input\n",
        "\n",
        "\n",
        "```\n",
        "a = np.arange(10).reshape(2,-1)\n",
        "b = np.repeat(1, 10).reshape(2,-1)\n",
        "```\n",
        "\n",
        "\n",
        "Desired Output:\n",
        "\n",
        "\n",
        "\n",
        "```\n",
        "array([[0, 1, 2, 3, 4, 1, 1, 1, 1, 1],\n",
        "       [5, 6, 7, 8, 9, 1, 1, 1, 1, 1]])\n",
        "```\n",
        "\n",
        "\n"
      ],
      "metadata": {
        "id": "dWoOzOMQw0E5"
      }
    },
    {
      "cell_type": "code",
      "source": [
        "# Display the desired output of horizontally stacking the 'a' and 'b' arrays using the hstack method of NumPy\n",
        "display(\"Desired Output: np.hstack\",np.hstack((a,b)))"
      ],
      "metadata": {
        "id": "Y9gbvlD6XqSU",
        "outputId": "e731fb8f-7357-448d-de24-f0720f16ba38",
        "colab": {
          "base_uri": "https://localhost:8080/",
          "height": 70
        }
      },
      "execution_count": null,
      "outputs": [
        {
          "output_type": "display_data",
          "data": {
            "text/plain": [
              "'Desired Output: np.hstack'"
            ],
            "application/vnd.google.colaboratory.intrinsic+json": {
              "type": "string"
            }
          },
          "metadata": {}
        },
        {
          "output_type": "display_data",
          "data": {
            "text/plain": [
              "array([[0, 1, 2, 3, 4, 1, 1, 1, 1, 1],\n",
              "       [5, 6, 7, 8, 9, 1, 1, 1, 1, 1]])"
            ]
          },
          "metadata": {}
        }
      ]
    },
    {
      "cell_type": "markdown",
      "source": [
        "Problem  7\n",
        "\n",
        "Create the following pattern without hardcoding. Use only numpy functions and the below input array a.\n",
        "\n",
        "Input:\n",
        "\n",
        "\n",
        "\n",
        "```\n",
        "a = np.array([1,2,3])\n",
        "```\n",
        "\n",
        "\n",
        "Desired Output:\n",
        "\n",
        "\n",
        "\n",
        "```\n",
        "#> array([1, 1, 1, 2, 2, 2, 3, 3, 3, 1, 2, 3, 1, 2, 3, 1, 2, 3])\n",
        "```\n",
        "\n",
        "\n"
      ],
      "metadata": {
        "id": "qiU8NCeexCLB"
      }
    },
    {
      "cell_type": "code",
      "source": [
        "a = np.array([1,2,3])\n",
        "#display(\"a\",a)\n",
        "\n",
        "repeat = np.repeat(a, 3)\n",
        "#display(\"np.repeat:\",repeat)\n",
        "\n",
        "\"\"\"Numpy tile (np.tile) in Python simply repeats the numbers of elements present in an array. Suppose you have a numpy array [4,5,6,7],\n",
        "then np.tile([4,5,6,7], 3) will duplicate the elements three times and make a new array.\"\"\"\n",
        "tile = np.tile([1, 2, 3], 3)\n",
        "# display(\"np.tile\",tile)\n",
        "# np.r_[] concatenates arrays along first axis.\n",
        "r_ = np.r_[repeat, tile]\n",
        "display(\"Desired Output: np.r_\",r_)\n",
        "\n",
        "# np.c_[] concatenates arrays along second axis.\n",
        "c_ = np.c_[repeat, tile]\n",
        "#display(\"np.c_\",c_)"
      ],
      "metadata": {
        "id": "ucqs8mKuxOu_",
        "colab": {
          "base_uri": "https://localhost:8080/",
          "height": 53
        },
        "outputId": "77b6581e-1c57-4042-d839-4e9d0a95ed1f"
      },
      "execution_count": null,
      "outputs": [
        {
          "output_type": "display_data",
          "data": {
            "text/plain": [
              "'Desired Output: np.r_'"
            ],
            "application/vnd.google.colaboratory.intrinsic+json": {
              "type": "string"
            }
          },
          "metadata": {}
        },
        {
          "output_type": "display_data",
          "data": {
            "text/plain": [
              "array([1, 1, 1, 2, 2, 2, 3, 3, 3, 1, 2, 3, 1, 2, 3, 1, 2, 3])"
            ]
          },
          "metadata": {}
        }
      ]
    },
    {
      "cell_type": "markdown",
      "source": [
        "Problem  8\n",
        "\n",
        "From array a remove all items present in array b\n",
        "\n",
        "Input:\n",
        "\n",
        "\n",
        "```\n",
        "a = np.array([1,2,3,4,5])\n",
        "b = np.array([5,6,7,8,9])\n",
        "```\n",
        "\n",
        "Desired Output:\n",
        "\n",
        "```\n",
        "array([1,2,3,4])\n",
        "```\n",
        "\n",
        "\n"
      ],
      "metadata": {
        "id": "z714O_AoyOKW"
      }
    },
    {
      "cell_type": "code",
      "source": [
        "a = np.array([1,2,3,4,5])\n",
        "b = np.array([5,6,7,8,9])\n",
        "\"\"\"Find the set difference of two arrays.\n",
        "Return the unique values in ar1 that are not in ar2.\"\"\"\n",
        "diff_of_a_b = np.setdiff1d(a, b)\n",
        "display(\"Desired Output: np.setdiff1d\",diff_of_a_b)"
      ],
      "metadata": {
        "id": "9S49aVovyY3D",
        "colab": {
          "base_uri": "https://localhost:8080/",
          "height": 53
        },
        "outputId": "23a5e8e7-5c72-4fb9-e62a-b4ddabf43e6b"
      },
      "execution_count": null,
      "outputs": [
        {
          "output_type": "display_data",
          "data": {
            "text/plain": [
              "'Desired Output: np.setdiff1d'"
            ],
            "application/vnd.google.colaboratory.intrinsic+json": {
              "type": "string"
            }
          },
          "metadata": {}
        },
        {
          "output_type": "display_data",
          "data": {
            "text/plain": [
              "array([1, 2, 3, 4])"
            ]
          },
          "metadata": {}
        }
      ]
    },
    {
      "cell_type": "markdown",
      "source": [
        "Problem  9\n",
        "\n",
        "Get the positions where elements of a and b match\n",
        "\n",
        "Input:\n",
        "\n",
        "\n",
        "\n",
        "```\n",
        "a = np.array([1,2,3,2,3,4,3,4,5,6])\n",
        "b = np.array([7,2,10,2,7,4,9,4,9,8])\n",
        "```\n",
        "\n",
        "\n",
        "Desired Output:\n",
        "\n",
        "\n",
        "\n",
        "```\n",
        "(array([1, 3, 5, 7]),)\n",
        "```\n",
        "\n"
      ],
      "metadata": {
        "id": "EAfoETZyyZi2"
      }
    },
    {
      "cell_type": "code",
      "source": [
        "# Create two NumPy arrays, 'a' and 'b', containing integer values\n",
        "a = np.array([1,2,3,2,3,4,3,4,5,6])\n",
        "b = np.array([7,2,10,2,7,4,9,4,9,8])\n",
        "\n",
        "# Use the where() method of NumPy to compare the values in 'a' and 'b', and return the indices of where they are equal\n",
        "indices = np.where(a == b)\n",
        "\n",
        "# Display the resulting indices as the desired output\n",
        "display(\"Desired Output:\", indices)\n"
      ],
      "metadata": {
        "id": "begXcLTMYIln",
        "outputId": "6e0d7b74-e889-4a23-8b38-b5ba14005628",
        "colab": {
          "base_uri": "https://localhost:8080/",
          "height": 53
        }
      },
      "execution_count": null,
      "outputs": [
        {
          "output_type": "display_data",
          "data": {
            "text/plain": [
              "'Desired Output:'"
            ],
            "application/vnd.google.colaboratory.intrinsic+json": {
              "type": "string"
            }
          },
          "metadata": {}
        },
        {
          "output_type": "display_data",
          "data": {
            "text/plain": [
              "(array([1, 3, 5, 7]),)"
            ]
          },
          "metadata": {}
        }
      ]
    },
    {
      "cell_type": "markdown",
      "source": [
        "Problem  10\n",
        "\n",
        "Swap columns 1 and 2 in the array arr.\n",
        "\n",
        "```\n",
        "arr = np.arange(9).reshape(3,3)\n",
        "```\n",
        "\n",
        "Output:\n",
        "\n",
        "\n",
        "\n",
        "```\n",
        "array([[1, 0, 2],\n",
        "      [4, 3, 5],\n",
        "      [7, 6, 8]])\n",
        "```\n",
        "\n",
        "\n"
      ],
      "metadata": {
        "id": "0wj25KsAyxfv"
      }
    },
    {
      "cell_type": "code",
      "source": [
        "# Create a NumPy array 'arr' containing integer values and reshape it to a 3x3 array\n",
        "arr = np.arange(9).reshape(3,3)\n",
        "\n",
        "# Use NumPy slicing to swap the first and second columns of 'arr', and assign the result to 'swap'\n",
        "swap = arr[:, [1, 0, 2]]\n",
        "\n",
        "# Display the resulting array with swapped columns using the display function\n",
        "display(\"output swap:\", swap)\n"
      ],
      "metadata": {
        "id": "3rXtAqdHYhWa",
        "outputId": "e59e6462-8da5-44ca-b18e-2156d0ff4f50",
        "colab": {
          "base_uri": "https://localhost:8080/",
          "height": 87
        }
      },
      "execution_count": null,
      "outputs": [
        {
          "output_type": "display_data",
          "data": {
            "text/plain": [
              "'output swap:'"
            ],
            "application/vnd.google.colaboratory.intrinsic+json": {
              "type": "string"
            }
          },
          "metadata": {}
        },
        {
          "output_type": "display_data",
          "data": {
            "text/plain": [
              "array([[1, 0, 2],\n",
              "       [4, 3, 5],\n",
              "       [7, 6, 8]])"
            ]
          },
          "metadata": {}
        }
      ]
    },
    {
      "cell_type": "markdown",
      "source": [
        "Problem  11\n",
        "\n",
        "From the array a, replace all values greater than 30 to 30 and less than 10 to 10.\n",
        "\n",
        "Input:\n",
        "\n",
        "\n",
        "```\n",
        "np.random.seed(100)\n",
        "a = np.random.uniform(1,50, 20)\n",
        "```\n"
      ],
      "metadata": {
        "id": "T3JTUp181MAR"
      }
    },
    {
      "cell_type": "code",
      "source": [
        "# Set the seed for NumPy's random number generator to ensure consistent results\n",
        "np.random.seed(100)\n",
        "\n",
        "# Generate a NumPy array 'a' containing 20 random float values between 1 and 50 using the uniform distribution\n",
        "a = np.random.uniform(1,50, 20)\n",
        "\n",
        "# Use NumPy indexing to replace any values in 'a' that are greater than or equal to 30 with the value 30\n",
        "a[a >= 30] = 30\n",
        "\n",
        "# Use NumPy indexing to replace any values in 'a' that are less than or equal to 10 with the value 10\n",
        "a[a <= 10] = 10\n",
        "\n",
        "# Display the resulting array 'a' using the display function\n",
        "display(\"a\",a)\n"
      ],
      "metadata": {
        "id": "sP_E43XHYs_Y",
        "outputId": "f6a4dde4-ba13-4c56-bb8b-675978cb7b93",
        "colab": {
          "base_uri": "https://localhost:8080/",
          "height": 105
        }
      },
      "execution_count": null,
      "outputs": [
        {
          "output_type": "display_data",
          "data": {
            "text/plain": [
              "'a'"
            ],
            "application/vnd.google.colaboratory.intrinsic+json": {
              "type": "string"
            }
          },
          "metadata": {}
        },
        {
          "output_type": "display_data",
          "data": {
            "text/plain": [
              "array([27.62684215, 14.64009987, 21.80136195, 30.        , 10.        ,\n",
              "       10.        , 30.        , 30.        , 10.        , 29.17957314,\n",
              "       30.        , 11.25090398, 10.08108276, 10.        , 11.76517714,\n",
              "       30.        , 30.        , 10.        , 30.        , 14.42961361])"
            ]
          },
          "metadata": {}
        }
      ]
    },
    {
      "cell_type": "markdown",
      "source": [
        "Problem  12\n",
        "\n",
        "Compute the counts of unique values row-wise.\n",
        "\n",
        "Input:\n",
        "\n",
        "\n",
        "\n",
        "```\n",
        "np.random.seed(100)\n",
        "arr = np.random.randint(1,11,size=(6, 10))\n",
        "arr\n",
        "> array([[ 9,  9,  4,  8,  8,  1,  5,  3,  6,  3],\n",
        ">        [ 3,  3,  2,  1,  9,  5,  1, 10,  7,  3],\n",
        ">        [ 5,  2,  6,  4,  5,  5,  4,  8,  2,  2],\n",
        ">        [ 8,  8,  1,  3, 10, 10,  4,  3,  6,  9],\n",
        ">        [ 2,  1,  8,  7,  3,  1,  9,  3,  6,  2],\n",
        ">        [ 9,  2,  6,  5,  3,  9,  4,  6,  1, 10]])\n",
        "```\n",
        "\n",
        "\n",
        "\n",
        "Desired Output:\n",
        "\n",
        "\n",
        "\n",
        "```\n",
        "> [[1, 0, 2, 1, 1, 1, 0, 2, 2, 0],\n",
        ">  [2, 1, 3, 0, 1, 0, 1, 0, 1, 1],\n",
        ">  [0, 3, 0, 2, 3, 1, 0, 1, 0, 0],\n",
        ">  [1, 0, 2, 1, 0, 1, 0, 2, 1, 2],\n",
        ">  [2, 2, 2, 0, 0, 1, 1, 1, 1, 0],\n",
        ">  [1, 1, 1, 1, 1, 2, 0, 0, 2, 1]]\n",
        "```\n",
        "\n"
      ],
      "metadata": {
        "id": "LHQfYYtLrz5e"
      }
    },
    {
      "cell_type": "code",
      "source": [
        "# Set seed for reproducibility\n",
        "np.random.seed(100)\n",
        "\n",
        "# Generate a 6x10 array of random integers from 1 to 10\n",
        "arr = np.random.randint(1, 11, size=(6, 10))\n",
        "\n",
        "# Create a result array with 6 rows and a number of columns equal to the maximum value in arr\n",
        "result = np.zeros((arr.shape[0], arr.max()), dtype=int)\n",
        "\n",
        "# Loop over the rows in arr\n",
        "for i in range(arr.shape[0]):\n",
        "    # Get the unique values and their counts for the current row\n",
        "    unique, counts = np.unique(arr[i], return_counts=True)\n",
        "    # Assign the counts to the appropriate positions in the result array\n",
        "    result[i, unique-1] = counts\n",
        "\n",
        "# Display the result array\n",
        "print(result)\n"
      ],
      "metadata": {
        "id": "WWp1b6lNaLZA",
        "outputId": "a2d308ff-a525-4cc3-c502-8767facaf1a2",
        "colab": {
          "base_uri": "https://localhost:8080/"
        }
      },
      "execution_count": null,
      "outputs": [
        {
          "output_type": "stream",
          "name": "stdout",
          "text": [
            "[[1 0 2 1 1 1 0 2 2 0]\n",
            " [2 1 3 0 1 0 1 0 1 1]\n",
            " [0 3 0 2 3 1 0 1 0 0]\n",
            " [1 0 2 1 0 1 0 2 1 2]\n",
            " [2 2 2 0 0 1 1 1 1 0]\n",
            " [1 1 1 1 1 2 0 0 2 1]]\n"
          ]
        }
      ]
    },
    {
      "cell_type": "markdown",
      "source": [
        "Problem  13\n",
        "\n",
        "Compute the one-hot encodings (dummy binary variables for each unique value in the array)"
      ],
      "metadata": {
        "id": "j5DBowUpsTSR"
      }
    },
    {
      "cell_type": "code",
      "source": [
        "array = np.array([1, 0, 2, 1, 0])  # Create a numpy array with 5 elements\n",
        "#display(array)\n",
        "unique_values = np.unique(array)  # Find the unique elements in the array and store them in a new array\n",
        "#display(unique_values)\n",
        "one_hot_encodings = np.eye(len(unique_values))[array]  # Create a one-hot encoding of the array using an identity matrix and the unique values of the array\n",
        "# np.eye(len(unique_values)) creates an identity matrix with number of rows/columns equal to the length of unique values\n",
        "# [array] indexes the identity matrix such that for each element in the original array, a one-hot encoding is created\n",
        "display(one_hot_encodings)  # Display the one-hot encoding of the array\n"
      ],
      "metadata": {
        "id": "Jvg2vp9tal0z",
        "outputId": "4b479f9b-987e-490a-a4f0-ec3b290d9d18",
        "colab": {
          "base_uri": "https://localhost:8080/",
          "height": 104
        }
      },
      "execution_count": null,
      "outputs": [
        {
          "output_type": "display_data",
          "data": {
            "text/plain": [
              "array([[0., 1., 0.],\n",
              "       [1., 0., 0.],\n",
              "       [0., 0., 1.],\n",
              "       [0., 1., 0.],\n",
              "       [1., 0., 0.]])"
            ]
          },
          "metadata": {}
        }
      ]
    },
    {
      "cell_type": "markdown",
      "source": [
        "Problem  14\n",
        "\n",
        "Create the ranks for the given numeric array a.\n",
        "\n",
        "Input:\n",
        "\n",
        "\n",
        "\n",
        "```\n",
        "np.random.seed(10)\n",
        "a = np.random.randint(20, size=10)\n",
        "print(a)\n",
        "#> [ 9  4 15  0 17 16 17  8  9  0]\n",
        "```\n",
        "\n",
        "Desired output:\n",
        "\n",
        "```\n",
        "[4 2 6 0 8 7 9 3 5 1]\n",
        "```"
      ],
      "metadata": {
        "id": "ku1ShYriwWg5"
      }
    },
    {
      "cell_type": "code",
      "source": [
        "np.random.seed(10) # set seed value for random number generator\n",
        "a = np.random.randint(20, size=10) # generate random integer values between 0 to 20 of length 10\n",
        "display(\"Actual array\",a) # display the actual array\n",
        "order = a.argsort() # sort the indices of each element of the actual array in ascending order\n",
        "display('sorted index of actual array',order) # display the sorted indices of the actual array\n",
        "re_order = order.argsort() # resort the indices of the actual sorted array to get the desired output\n",
        "display(\"resorted index of actual sorted array\",re_order) # display the resorted indices of the actual sorted array\n"
      ],
      "metadata": {
        "id": "y2dEpDdMa7yd",
        "outputId": "409b3ddd-a59b-4473-b606-c7e9e57ab80d",
        "colab": {
          "base_uri": "https://localhost:8080/",
          "height": 124
        }
      },
      "execution_count": null,
      "outputs": [
        {
          "output_type": "display_data",
          "data": {
            "text/plain": [
              "'Actual array'"
            ],
            "application/vnd.google.colaboratory.intrinsic+json": {
              "type": "string"
            }
          },
          "metadata": {}
        },
        {
          "output_type": "display_data",
          "data": {
            "text/plain": [
              "array([ 9,  4, 15,  0, 17, 16, 17,  8,  9,  0])"
            ]
          },
          "metadata": {}
        },
        {
          "output_type": "display_data",
          "data": {
            "text/plain": [
              "'sorted index of actual array'"
            ],
            "application/vnd.google.colaboratory.intrinsic+json": {
              "type": "string"
            }
          },
          "metadata": {}
        },
        {
          "output_type": "display_data",
          "data": {
            "text/plain": [
              "array([3, 9, 1, 7, 0, 8, 2, 5, 4, 6])"
            ]
          },
          "metadata": {}
        },
        {
          "output_type": "display_data",
          "data": {
            "text/plain": [
              "'resorted index of actual sorted array'"
            ],
            "application/vnd.google.colaboratory.intrinsic+json": {
              "type": "string"
            }
          },
          "metadata": {}
        },
        {
          "output_type": "display_data",
          "data": {
            "text/plain": [
              "array([4, 2, 6, 0, 8, 7, 9, 3, 5, 1])"
            ]
          },
          "metadata": {}
        }
      ]
    },
    {
      "cell_type": "markdown",
      "source": [
        "Problem  15\n",
        "\n",
        "Create a rank array of the same shape as a given numeric array a.\n",
        "\n",
        "Input:\n",
        "\n",
        "\n",
        "\n",
        "```\n",
        "np.random.seed(10)\n",
        "a = np.random.randint(20, size=[2,5])\n",
        "print(a)\n",
        "#> [[ 9  4 15  0 17]\n",
        "#>  [16 17  8  9  0]]\n",
        "```\n",
        "\n",
        "\n",
        "Desired output:\n",
        "\n",
        "\n",
        "\n",
        "```\n",
        "#> [[4 2 6 0 8]\n",
        "#>  [7 9 3 5 1]]\n",
        "```\n",
        "\n"
      ],
      "metadata": {
        "id": "GTX22O_CwBCn"
      }
    },
    {
      "cell_type": "code",
      "source": [
        "np.random.seed(10)\n",
        "a = np.random.randint(20, size=[2,5])\n",
        "display(\"actual array \",a)\n",
        "\n",
        "# Convert the 2D array into a 1D array\n",
        "convert_1D = np.ravel(a)\n",
        "display(\"conversion of actual 2D array into 1D array by np.ravel\",convert_1D)\n",
        "\n",
        "# Sort the index of the actual converted 1D array using np.argsort\n",
        "ranked = np.argsort(convert_1D)\n",
        "display(\"sorted the index of of actual converted 1D array by np.argsort\",ranked)\n",
        "\n",
        "# Resort the index by np.argsort\n",
        "np_argsort = np.argsort(ranked)\n",
        "display(\"again resort the index by np.argsort\",np_argsort)\n",
        "\n",
        "# Reshape np_argsort to have the same shape as the original array 'a'\n",
        "desire_output = np_argsort.reshape(a.shape)\n",
        "display(\"np_argsort.reshape(a.shape) to give the same shape as the array a had\",desire_output)\n"
      ],
      "metadata": {
        "id": "JanEVVI2bM1M",
        "outputId": "1de892ce-7586-4f20-9198-f0d8881b9d13",
        "colab": {
          "base_uri": "https://localhost:8080/",
          "height": 230
        }
      },
      "execution_count": null,
      "outputs": [
        {
          "output_type": "display_data",
          "data": {
            "text/plain": [
              "'actual array '"
            ],
            "application/vnd.google.colaboratory.intrinsic+json": {
              "type": "string"
            }
          },
          "metadata": {}
        },
        {
          "output_type": "display_data",
          "data": {
            "text/plain": [
              "array([[ 9,  4, 15,  0, 17],\n",
              "       [16, 17,  8,  9,  0]])"
            ]
          },
          "metadata": {}
        },
        {
          "output_type": "display_data",
          "data": {
            "text/plain": [
              "'conversion of actual 2D array into 1D array by np.ravel'"
            ],
            "application/vnd.google.colaboratory.intrinsic+json": {
              "type": "string"
            }
          },
          "metadata": {}
        },
        {
          "output_type": "display_data",
          "data": {
            "text/plain": [
              "array([ 9,  4, 15,  0, 17, 16, 17,  8,  9,  0])"
            ]
          },
          "metadata": {}
        },
        {
          "output_type": "display_data",
          "data": {
            "text/plain": [
              "'sorted the index of of actual converted 1D array by np.argsort'"
            ],
            "application/vnd.google.colaboratory.intrinsic+json": {
              "type": "string"
            }
          },
          "metadata": {}
        },
        {
          "output_type": "display_data",
          "data": {
            "text/plain": [
              "array([3, 9, 1, 7, 0, 8, 2, 5, 4, 6])"
            ]
          },
          "metadata": {}
        },
        {
          "output_type": "display_data",
          "data": {
            "text/plain": [
              "'again resort the index by np.argsort'"
            ],
            "application/vnd.google.colaboratory.intrinsic+json": {
              "type": "string"
            }
          },
          "metadata": {}
        },
        {
          "output_type": "display_data",
          "data": {
            "text/plain": [
              "array([4, 2, 6, 0, 8, 7, 9, 3, 5, 1])"
            ]
          },
          "metadata": {}
        },
        {
          "output_type": "display_data",
          "data": {
            "text/plain": [
              "'np_argsort.reshape(a.shape) to give the same shape as the array a had'"
            ],
            "application/vnd.google.colaboratory.intrinsic+json": {
              "type": "string"
            }
          },
          "metadata": {}
        },
        {
          "output_type": "display_data",
          "data": {
            "text/plain": [
              "array([[4, 2, 6, 0, 8],\n",
              "       [7, 9, 3, 5, 1]])"
            ]
          },
          "metadata": {}
        }
      ]
    },
    {
      "cell_type": "markdown",
      "source": [
        "Problem  16\n",
        "\n",
        "Compute the min-by-max for each row for given 2d numpy array\n",
        "\n",
        "Input:\n",
        "\n",
        "```\n",
        "np.random.seed(100)\n",
        "a = np.random.randint(1,10, [5,3])\n",
        "a\n",
        "#> array([[9, 9, 4],\n",
        "#>        [8, 8, 1],\n",
        "#>        [5, 3, 6],\n",
        "#>        [3, 3, 3],\n",
        "#>        [2, 1, 9]])\n",
        "```\n",
        "\n",
        "Desired Output:\n",
        "\n",
        "```\n",
        "array([ 0.44444444,  0.125     ,  0.5       ,  1.        ,  0.11111111])\n",
        "```"
      ],
      "metadata": {
        "id": "JX1wmQYXwsZP"
      }
    },
    {
      "cell_type": "code",
      "source": [
        "np.random.seed(100) # set the seed for reproducibility\n",
        "a = np.random.randint(1,10, [5,3]) # create a 5x3 array with random integers between 1 and 10\n",
        "display(a) # display the actual array\n",
        "print('')\n",
        "min = np.amin(a,axis=1) # get the minimum value from each row of the actual array using np.amin() function\n",
        "display('np.amin(a,axis=1) it bring the min value from each row of actual array',min)\n",
        "print('')\n",
        "max = np.amax(a,axis=1) # get the maximum value from each row of the actual array using np.amax() function\n",
        "display('np.amax(a,axis=1) it bring the max value from each row of actual array',max)\n",
        "print('')\n",
        "min_by_max = min/max # divide the minimum value by the maximum value for each row\n",
        "display('Desired Output:',min_by_max) # display the desired output"
      ],
      "metadata": {
        "id": "Oqi1Bp-9b0dG",
        "outputId": "f00dd85a-9f5d-42e3-e417-d176616dc4ad",
        "colab": {
          "base_uri": "https://localhost:8080/",
          "height": 263
        }
      },
      "execution_count": null,
      "outputs": [
        {
          "output_type": "display_data",
          "data": {
            "text/plain": [
              "array([[9, 9, 4],\n",
              "       [8, 8, 1],\n",
              "       [5, 3, 6],\n",
              "       [3, 3, 3],\n",
              "       [2, 1, 9]])"
            ]
          },
          "metadata": {}
        },
        {
          "output_type": "stream",
          "name": "stdout",
          "text": [
            "\n"
          ]
        },
        {
          "output_type": "display_data",
          "data": {
            "text/plain": [
              "'np.amin(a,axis=1) it bring the min value from each row of actual array'"
            ],
            "application/vnd.google.colaboratory.intrinsic+json": {
              "type": "string"
            }
          },
          "metadata": {}
        },
        {
          "output_type": "display_data",
          "data": {
            "text/plain": [
              "array([4, 1, 3, 3, 1])"
            ]
          },
          "metadata": {}
        },
        {
          "output_type": "stream",
          "name": "stdout",
          "text": [
            "\n"
          ]
        },
        {
          "output_type": "display_data",
          "data": {
            "text/plain": [
              "'np.amax(a,axis=1) it bring the max value from each row of actual array'"
            ],
            "application/vnd.google.colaboratory.intrinsic+json": {
              "type": "string"
            }
          },
          "metadata": {}
        },
        {
          "output_type": "display_data",
          "data": {
            "text/plain": [
              "array([9, 8, 6, 3, 9])"
            ]
          },
          "metadata": {}
        },
        {
          "output_type": "stream",
          "name": "stdout",
          "text": [
            "\n"
          ]
        },
        {
          "output_type": "display_data",
          "data": {
            "text/plain": [
              "'Desired Output:'"
            ],
            "application/vnd.google.colaboratory.intrinsic+json": {
              "type": "string"
            }
          },
          "metadata": {}
        },
        {
          "output_type": "display_data",
          "data": {
            "text/plain": [
              "array([0.44444444, 0.125     , 0.5       , 1.        , 0.11111111])"
            ]
          },
          "metadata": {}
        }
      ]
    },
    {
      "cell_type": "markdown",
      "source": [
        "Problem  17\n",
        "\n",
        "Find the duplicate entries (2nd occurrence onwards) in the given numpy array and mark them as True. First time occurrences should be False\n",
        "\n",
        "Input\n",
        "```\n",
        "np.random.seed(100)\n",
        "a = np.random.randint(0, 5, 10)\n",
        "print('Array: ', a)\n",
        "#> Array: [0 0 3 0 2 4 2 2 2 2]\n",
        "```\n",
        "Desired Output:\n",
        "```\n",
        "#> [False  True False  True False False  True  True  True  True]\n",
        "```"
      ],
      "metadata": {
        "id": "pLwGxnDdwvNZ"
      }
    },
    {
      "cell_type": "code",
      "source": [
        "# Set random seed for reproducibility\n",
        "np.random.seed(100)\n",
        "\n",
        "# Generate a random array with integers between 0 and 4\n",
        "a = np.random.randint(0, 5, 10)\n",
        "\n",
        "# Display the generated array\n",
        "print(\"Array: \", a)\n",
        "\n",
        "# Find the unique elements in the array and their respective counts\n",
        "unique, counts = np.unique(a, return_counts=True)\n",
        "\n",
        "# Create a boolean array to mark the duplicates\n",
        "duplicates = np.zeros(a.shape, dtype=bool)\n",
        "\n",
        "# Mark the elements which occur more than once as duplicates\n",
        "duplicates[np.in1d(a, unique[counts > 1])] = True\n",
        "\n",
        "# Display the boolean array indicating the duplicate elements\n",
        "print(\"Duplicates: \", duplicates)\n"
      ],
      "metadata": {
        "id": "o_mDJNcYclA2",
        "outputId": "6bebfcba-2535-4b63-feee-0c50fc8a27ff",
        "colab": {
          "base_uri": "https://localhost:8080/"
        }
      },
      "execution_count": null,
      "outputs": [
        {
          "output_type": "stream",
          "name": "stdout",
          "text": [
            "Array:  [0 0 3 0 2 4 2 2 2 2]\n",
            "Duplicates:  [ True  True False  True  True False  True  True  True  True]\n"
          ]
        }
      ]
    },
    {
      "cell_type": "markdown",
      "source": [
        "Problem  18\n",
        "\n",
        "Drop all nan values from a 1D numpy array\n",
        "\n",
        "Input:\n",
        "```\n",
        "np.array([1,2,3,np.nan,5,6,7,np.nan])\n",
        "```\n",
        "Desired Output:\n",
        "```\n",
        "array([ 1.,  2.,  3.,  5.,  6.,  7.])\n",
        "```"
      ],
      "metadata": {
        "id": "gE2QG7lfwvKP"
      }
    },
    {
      "cell_type": "code",
      "source": [
        "# Set seed for reproducibility\n",
        "np.random.seed(100)\n",
        "\n",
        "# Create an array with some elements as NaN\n",
        "a = np.array([1,2,3,np.nan,5,6,7,np.nan])\n",
        "\n",
        "# Display the array\n",
        "display(a)\n",
        "\n",
        "# Get a boolean mask of non-NaN values in the array\n",
        "mask = ~np.isnan(a)\n",
        "\n",
        "# Display the non-NaN values using the boolean mask\n",
        "display(a[mask])\n"
      ],
      "metadata": {
        "id": "RI3pFzUMdU4j",
        "outputId": "a8db097b-349d-48a3-9a3a-0c43253276fd",
        "colab": {
          "base_uri": "https://localhost:8080/",
          "height": 52
        }
      },
      "execution_count": null,
      "outputs": [
        {
          "output_type": "display_data",
          "data": {
            "text/plain": [
              "array([ 1.,  2.,  3., nan,  5.,  6.,  7., nan])"
            ]
          },
          "metadata": {}
        },
        {
          "output_type": "display_data",
          "data": {
            "text/plain": [
              "array([1., 2., 3., 5., 6., 7.])"
            ]
          },
          "metadata": {}
        }
      ]
    },
    {
      "cell_type": "markdown",
      "source": [
        "Problem 19\n",
        "\n",
        "Find all the peaks in a 1D numpy array a. Peaks are points surrounded by smaller values on both sides.\n",
        "\n",
        "Input:\n",
        "```\n",
        "a = np.array([1, 3, 7, 1, 2, 6, 0, 1])\n",
        "```\n",
        "Desired Output:\n",
        "```\n",
        "#> array([2, 5])\n",
        "```"
      ],
      "metadata": {
        "id": "aDvGrDytx7Jh"
      }
    },
    {
      "cell_type": "code",
      "source": [
        "# The code defines a function called \"find_peaks\" which takes an array a as input\n",
        "def find_peaks(a):\n",
        "  # Creates an empty list called \"peaks\" to store the peak indices\n",
        "  peaks = []\n",
        "  \n",
        "  # Loops through the array indices from the second element to the second last element\n",
        "  for i in range(1, len(a) - 1):\n",
        "    # If the current element is greater than its two neighbors, it is a peak\n",
        "    if a[i] > a[i - 1] and a[i] > a[i + 1]:\n",
        "      # Adds the current index to the \"peaks\" list\n",
        "      peaks.append(i)\n",
        "  \n",
        "  # Returns the \"peaks\" list\n",
        "  return peaks\n",
        "\n",
        "# Defines an array \"a\" with some values\n",
        "a = np.array([1, 3, 7, 1, 2, 6, 0, 1])\n",
        "\n",
        "# Calls the \"find_peaks\" function with the array \"a\" as input and stores the returned list of peak indices in a variable called \"peaks\"\n",
        "peaks = find_peaks(a)\n",
        "\n",
        "# Prints the list of peak indices\n",
        "print(peaks)\n"
      ],
      "metadata": {
        "id": "bfDxMOugeMdR",
        "outputId": "7c523617-7bca-4c62-b529-07b9b5efb14d",
        "colab": {
          "base_uri": "https://localhost:8080/"
        }
      },
      "execution_count": null,
      "outputs": [
        {
          "output_type": "stream",
          "name": "stdout",
          "text": [
            "[2, 5]\n"
          ]
        }
      ]
    },
    {
      "cell_type": "markdown",
      "source": [
        "Problem 20\n",
        "\n",
        "Subtract the 1d array b_1d from the 2d array a_2d, such that each item of b_1d subtracts from respective row of a_2d.\n",
        "\n",
        "\n",
        "Input\n",
        "```\n",
        "a_2d = np.array([[3,3,3],[4,4,4],[5,5,5]])\n",
        "b_1d = np.array([1,1,1]\n",
        "\n",
        "```\n",
        "Desired Output:\n",
        "```\n",
        "#> [[2 2 2]\n",
        "#>  [2 2 2]\n",
        "#>  [2 2 2]]\n",
        "```"
      ],
      "metadata": {
        "id": "ueqd1H7WyHT6"
      }
    },
    {
      "cell_type": "code",
      "source": [
        "# Create a 2D numpy array with shape (3, 3) filled with the value 3\n",
        "a_2d = np.array([[3,3,3],[4,4,4],[5,5,5]])\n",
        "\n",
        "# Create a 1D numpy array with length 3 filled with the value 1\n",
        "b_1d = np.array([1,1,1])\n",
        "\n",
        "# Loop through each row in the 2D array\n",
        "for a in a_2d:\n",
        "  \n",
        "  # Subtract the 1D array from the current row in the 2D array, element-wise\n",
        "  result = a - b_1d\n",
        "  \n",
        "  # Increment each value in the 1D array by 1\n",
        "  b_1d += 1\n",
        "  \n",
        "  # Display the resulting array after subtraction\n",
        "  display(result)\n"
      ],
      "metadata": {
        "id": "Tr8FQkjGepqi",
        "outputId": "ac2ceb0b-651c-4622-d601-e5e5ee1c9980",
        "colab": {
          "base_uri": "https://localhost:8080/",
          "height": 69
        }
      },
      "execution_count": null,
      "outputs": [
        {
          "output_type": "display_data",
          "data": {
            "text/plain": [
              "array([2, 2, 2])"
            ]
          },
          "metadata": {}
        },
        {
          "output_type": "display_data",
          "data": {
            "text/plain": [
              "array([2, 2, 2])"
            ]
          },
          "metadata": {}
        },
        {
          "output_type": "display_data",
          "data": {
            "text/plain": [
              "array([2, 2, 2])"
            ]
          },
          "metadata": {}
        }
      ]
    },
    {
      "cell_type": "markdown",
      "source": [
        "Problem 21\n",
        "\n",
        "Find the index of 5th repetition of number 1 in x.\n",
        "\n",
        "Input:\n",
        "\n",
        "```\n",
        "x = np.array([1, 2, 1, 1, 3, 4, 3, 1, 1, 2, 1, 1, 2])\n",
        "```\n",
        "\n"
      ],
      "metadata": {
        "id": "HWe3-R9C3rMi"
      }
    },
    {
      "cell_type": "code",
      "source": [
        "# Define an array\n",
        "x = np.array([1, 2, 1, 1, 3, 4, 3, 1, 1, 2, 1, 1, 2])\n",
        "\n",
        "# Find the indices where the value equals 1\n",
        "indices = np.where(x == 1)[0]\n",
        "\n",
        "# Get the index of the fifth occurrence of 1\n",
        "fifth_rep = indices[4]\n",
        "\n",
        "# Print the index\n",
        "print(fifth_rep) # this will output the index of the fifth occurrence of 1 in the array\n"
      ],
      "metadata": {
        "id": "fo8MbPhsfN41",
        "outputId": "b8cf2698-87c0-4a2d-d4af-1a321d81757e",
        "colab": {
          "base_uri": "https://localhost:8080/"
        }
      },
      "execution_count": null,
      "outputs": [
        {
          "output_type": "stream",
          "name": "stdout",
          "text": [
            "8\n"
          ]
        }
      ]
    },
    {
      "cell_type": "markdown",
      "source": [
        "Problem 22\n",
        "\n",
        "Create a numpy array of length 10, starting from 5 and has a step of 3 between consecutive numbers"
      ],
      "metadata": {
        "id": "I791Ruie3xBD"
      }
    },
    {
      "cell_type": "code",
      "source": [
        "# create a one-dimensional numpy array 'a' using arange() function with starting value 5, ending value 33 (exclusive) and step 3\n",
        "a = np.arange(5, 33, 3)\n",
        "\n",
        "# display the numpy array 'a'\n",
        "display(a)\n",
        "\n",
        "# # display the length of the numpy array 'a'\n",
        "# This line is commented out using the '#' symbol, which means it will be ignored by the interpreter and not executed.\n",
        "# If you remove the '#' symbol, the line will display the length of the numpy array 'a'. \n",
        "# However, it is not necessary to display the length of the array in this case since we can easily determine it from the values passed to arange(). \n",
        "# If you do want to display the length of the array, you can uncomment this line by removing the '#' symbol.\n"
      ],
      "metadata": {
        "id": "YCv82xHof9cd",
        "outputId": "502fbb21-1b64-482c-f073-8521514e225b",
        "colab": {
          "base_uri": "https://localhost:8080/",
          "height": 34
        }
      },
      "execution_count": null,
      "outputs": [
        {
          "output_type": "display_data",
          "data": {
            "text/plain": [
              "array([ 5,  8, 11, 14, 17, 20, 23, 26, 29, 32])"
            ]
          },
          "metadata": {}
        }
      ]
    },
    {
      "cell_type": "markdown",
      "source": [
        "Problem 23\n",
        "\n",
        " From the given 1d array arr, generate a 2d matrix using strides, with a window length of 4 and strides of 2, like [[0,1,2,3], [2,3,4,5], [4,5,6,7]..]\n",
        "\n",
        "Input:\n",
        "```\n",
        "arr = np.arange(15) \n",
        "arr\n",
        "#> array([ 0,  1,  2,  3,  4,  5,  6,  7,  8,  9, 10, 11, 12, 13, 14])\n",
        "```\n",
        "\n",
        "Desired Output:\n",
        "```\n",
        "#> [[ 0  1  2  3]\n",
        "#>  [ 2  3  4  5]\n",
        "#>  [ 4  5  6  7]\n",
        "#>  [ 6  7  8  9]\n",
        "#>  [ 8  9 10 11]\n",
        "#>  [10 11 12 13]]\n",
        "```"
      ],
      "metadata": {
        "id": "QyQmrqM43-SS"
      }
    },
    {
      "cell_type": "code",
      "source": [
        "# define a function named 'rolling' that takes two arguments, an array 'a' and a window size 'window'\n",
        "def rolling(a, window):\n",
        "    \n",
        "    # calculate the shape of the output array\n",
        "    shape = (a.size - window + 1, window)\n",
        "    \n",
        "    # calculate the strides of the output array\n",
        "    strides = (a.itemsize, a.itemsize)\n",
        "    \n",
        "    # return a new numpy array with the specified shape and strides\n",
        "    # the 'as_strided' function returns a view of the input array 'a' with the given shape and strides\n",
        "    return np.lib.stride_tricks.as_strided(a, shape=shape, strides=strides)\n",
        "\n",
        "# create a one-dimensional numpy array 'a' with 15 elements using arange() function\n",
        "a = np.arange(15)\n",
        "\n",
        "# call the 'rolling' function with the array 'a' and a window size of 4, and print the result\n",
        "print(rolling(a, 4))\n"
      ],
      "metadata": {
        "id": "mnbwxupzgT3y",
        "outputId": "eda0f985-efad-4305-a8e7-d57555fcd92f",
        "colab": {
          "base_uri": "https://localhost:8080/"
        }
      },
      "execution_count": null,
      "outputs": [
        {
          "output_type": "stream",
          "name": "stdout",
          "text": [
            "[[ 0  1  2  3]\n",
            " [ 1  2  3  4]\n",
            " [ 2  3  4  5]\n",
            " [ 3  4  5  6]\n",
            " [ 4  5  6  7]\n",
            " [ 5  6  7  8]\n",
            " [ 6  7  8  9]\n",
            " [ 7  8  9 10]\n",
            " [ 8  9 10 11]\n",
            " [ 9 10 11 12]\n",
            " [10 11 12 13]\n",
            " [11 12 13 14]]\n"
          ]
        }
      ]
    }
  ]
}