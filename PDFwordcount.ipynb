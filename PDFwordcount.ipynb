{
 "cells": [
  {
   "cell_type": "code",
   "execution_count": 1,
   "id": "8f144292",
   "metadata": {},
   "outputs": [],
   "source": [
    "import PyPDF2\n",
    "import re"
   ]
  },
  {
   "cell_type": "code",
   "execution_count": null,
   "id": "7125ea91",
   "metadata": {},
   "outputs": [],
   "source": [
    "def get_word_page_count_pdf(file:str,search:str):\n",
    "    #give the name to pdffile reader \n",
    "    doc = PyPDF2.PdfFileReader(file)\n",
    "    #here I pass var which get number of pages \n",
    "    pages = doc.getNumPages()\n",
    "    #list of tuples (all occurances, page number)\n",
    "    list_pages = []\n",
    "    #loop which run on each page \n",
    "    for i in range(pages):\n",
    "        #take each page as a current page \n",
    "        current_page = doc.getPage(i)\n",
    "        #then extract the text from each page \n",
    "        text = current_page.extractText()\n",
    "        #if statement to find all and give list of all occurance  \n",
    "        if re.findall(search,text):\n",
    "            #here it search the word and count its occurance on page\n",
    "            count_page = len(re.findall(search,text))\n",
    "            #then add the tups to the empty list \n",
    "            list_pages.append((count_page,i))\n",
    "    #no of pages that contain search at least once \n",
    "    count = len(list_pages)\n",
    "    #total word count\n",
    "    total = sum([tup[0] for tup in list_pages])\n",
    "    return count,total\n",
    "file = 'KCCI.pdf'\n",
    "search = \"Karachi\"\n",
    "result = get_word_page_count_pdf(file,search)\n",
    "print(f\"the word '{search}' was found {result[1]} times on {result[0]} pages.\")"
   ]
  },
  {
   "cell_type": "code",
   "execution_count": null,
   "id": "954602c0",
   "metadata": {},
   "outputs": [],
   "source": []
  }
 ],
 "metadata": {
  "kernelspec": {
   "display_name": "Python 3 (ipykernel)",
   "language": "python",
   "name": "python3"
  },
  "language_info": {
   "codemirror_mode": {
    "name": "ipython",
    "version": 3
   },
   "file_extension": ".py",
   "mimetype": "text/x-python",
   "name": "python",
   "nbconvert_exporter": "python",
   "pygments_lexer": "ipython3",
   "version": "3.9.12"
  }
 },
 "nbformat": 4,
 "nbformat_minor": 5
}
