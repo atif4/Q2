{
 "cells": [
  {
   "cell_type": "markdown",
   "id": "f39be7d0",
   "metadata": {},
   "source": [
    "# Numpy\n",
    "- numpy is array \n",
    "- it is fast \n",
    "- 1d = vector \n",
    "- 2d = Matrix \n",
    "- 3d = cube\n",
    "- Numerical Python\n",
    "- Fastest\n",
    "- Vectorised Operation\n",
    "- Contigous Memory"
   ]
  },
  {
   "cell_type": "code",
   "execution_count": 2,
   "id": "849e3317",
   "metadata": {},
   "outputs": [],
   "source": [
    "import numpy as np"
   ]
  },
  {
   "cell_type": "code",
   "execution_count": 8,
   "id": "0c00ebc9",
   "metadata": {
    "scrolled": true
   },
   "outputs": [
    {
     "data": {
      "text/plain": [
       "'x: [0 1 2 3 4 5 6 7 8 9] size: 10 shape: (10,) dimension 1'"
      ]
     },
     "execution_count": 8,
     "metadata": {},
     "output_type": "execute_result"
    }
   ],
   "source": [
    "x = np.arange(10)\n",
    "(f\"x: {x} size: {x.size} shape: {x.shape} dimension {x.ndim}\")"
   ]
  },
  {
   "cell_type": "code",
   "execution_count": 7,
   "id": "2f8fc95d",
   "metadata": {},
   "outputs": [
    {
     "data": {
      "text/plain": [
       "'x: [0 1 2 3 4 5 6 7 8 9] size: 10 shape: (10,) dimension 1'"
      ]
     },
     "execution_count": 7,
     "metadata": {},
     "output_type": "execute_result"
    }
   ],
   "source": []
  },
  {
   "cell_type": "code",
   "execution_count": 4,
   "id": "20271653",
   "metadata": {},
   "outputs": [
    {
     "data": {
      "text/plain": [
       "range(0, 10)"
      ]
     },
     "execution_count": 4,
     "metadata": {},
     "output_type": "execute_result"
    }
   ],
   "source": [
    "range(10)"
   ]
  },
  {
   "cell_type": "code",
   "execution_count": 5,
   "id": "5b0b383b",
   "metadata": {},
   "outputs": [
    {
     "data": {
      "text/plain": [
       "[0, 1, 2, 3, 4, 5, 6, 7, 8, 9]"
      ]
     },
     "execution_count": 5,
     "metadata": {},
     "output_type": "execute_result"
    }
   ],
   "source": [
    "list(range(10))"
   ]
  },
  {
   "cell_type": "code",
   "execution_count": 21,
   "id": "db12f05d",
   "metadata": {},
   "outputs": [],
   "source": [
    "arr2d = np.arange(20).reshape(4,5)"
   ]
  },
  {
   "cell_type": "code",
   "execution_count": 22,
   "id": "236caf20",
   "metadata": {},
   "outputs": [
    {
     "name": "stdout",
     "output_type": "stream",
     "text": [
      "array:\n",
      " [[ 0  1  2  3  4]\n",
      " [ 5  6  7  8  9]\n",
      " [10 11 12 13 14]\n",
      " [15 16 17 18 19]]\n",
      " size: 20 shape: (4, 5) dimension 2\n"
     ]
    }
   ],
   "source": [
    "arr2d\n",
    "print(f\"array:\\n {arr2d}\\n size: {arr2d.size} shape: {arr2d.shape} dimension {arr2d.ndim}\")"
   ]
  },
  {
   "cell_type": "code",
   "execution_count": 23,
   "id": "8847da35",
   "metadata": {},
   "outputs": [
    {
     "data": {
      "text/plain": [
       "array([ 0,  1,  2,  3,  4,  5,  6,  7,  8,  9, 10, 11, 12, 13, 14, 15, 16,\n",
       "       17, 18, 19])"
      ]
     },
     "execution_count": 23,
     "metadata": {},
     "output_type": "execute_result"
    }
   ],
   "source": [
    "arr2d.flatten() # 1000 can be convert into 1 dimension "
   ]
  },
  {
   "cell_type": "code",
   "execution_count": 24,
   "id": "b86b9ea0",
   "metadata": {},
   "outputs": [
    {
     "data": {
      "text/plain": [
       "array([[ 0,  1,  2,  3,  4],\n",
       "       [ 5,  6,  7,  8,  9],\n",
       "       [10, 11, 12, 13, 14],\n",
       "       [15, 16, 17, 18, 19]])"
      ]
     },
     "execution_count": 24,
     "metadata": {},
     "output_type": "execute_result"
    }
   ],
   "source": [
    "arr2d"
   ]
  },
  {
   "cell_type": "code",
   "execution_count": 25,
   "id": "fe0d1e55",
   "metadata": {
    "scrolled": false
   },
   "outputs": [
    {
     "data": {
      "text/plain": [
       "array([ 0,  1,  2,  3,  4,  5,  6,  7,  8,  9, 10, 11, 12, 13, 14, 15, 16,\n",
       "       17, 18, 19])"
      ]
     },
     "execution_count": 25,
     "metadata": {},
     "output_type": "execute_result"
    }
   ],
   "source": [
    "arr2d.ravel()"
   ]
  },
  {
   "cell_type": "code",
   "execution_count": 26,
   "id": "b2629594",
   "metadata": {
    "scrolled": true
   },
   "outputs": [
    {
     "data": {
      "text/plain": [
       "array([[ 0,  1,  2,  3,  4],\n",
       "       [ 5,  6,  7,  8,  9],\n",
       "       [10, 11, 12, 13, 14],\n",
       "       [15, 16, 17, 18, 19]])"
      ]
     },
     "execution_count": 26,
     "metadata": {},
     "output_type": "execute_result"
    }
   ],
   "source": [
    "arr2d"
   ]
  },
  {
   "cell_type": "code",
   "execution_count": 42,
   "id": "f2bc9955",
   "metadata": {
    "scrolled": true
   },
   "outputs": [
    {
     "name": "stdout",
     "output_type": "stream",
     "text": [
      "arr2d:\n",
      " [[ 0  1  2  3  4]\n",
      " [ 5  6  7  8  9]\n",
      " [10 11 12 13 14]\n",
      " [15 16 17 18 19]]\n",
      "arr2d[3,2]: 17 \n",
      "arr2d[3][2]: 17\n"
     ]
    }
   ],
   "source": [
    "print(f\"arr2d:\\n {arr2d}\\narr2d[3,2]: {arr2d[3,2]} \\narr2d[3][2]: {arr2d[3][2]}\")"
   ]
  },
  {
   "cell_type": "code",
   "execution_count": 51,
   "id": "2735348b",
   "metadata": {},
   "outputs": [
    {
     "data": {
      "text/plain": [
       "array([[0. , 0.1, 0.2, 0.3, 0.4],\n",
       "       [0.5, 0.6, 0.7, 0.8, 0.9],\n",
       "       [1. , 1.1, 1.2, 1.3, 1.4],\n",
       "       [1.5, 1.6, 1.7, 1.8, 1.9]])"
      ]
     },
     "execution_count": 51,
     "metadata": {},
     "output_type": "execute_result"
    }
   ],
   "source": [
    "arr2d /10"
   ]
  },
  {
   "cell_type": "code",
   "execution_count": 27,
   "id": "1cd69d8e",
   "metadata": {},
   "outputs": [
    {
     "name": "stdout",
     "output_type": "stream",
     "text": [
      "array: [10] dimension:1\n"
     ]
    }
   ],
   "source": [
    "arr=np.array([10])\n",
    "print(f\"array: {arr} dimension:{arr.ndim}\")"
   ]
  },
  {
   "cell_type": "code",
   "execution_count": 28,
   "id": "ce31e0db",
   "metadata": {},
   "outputs": [
    {
     "name": "stdout",
     "output_type": "stream",
     "text": [
      "array: 10 dimension:0\n"
     ]
    }
   ],
   "source": [
    "arr=np.array(10)\n",
    "print(f\"array: {arr} dimension:{arr.ndim}\")"
   ]
  },
  {
   "cell_type": "code",
   "execution_count": 21,
   "id": "4274e9c5",
   "metadata": {},
   "outputs": [
    {
     "name": "stdout",
     "output_type": "stream",
     "text": [
      "[[10]] 2\n"
     ]
    }
   ],
   "source": [
    "arr=np.array([[10]])\n",
    "print(f\"{arr} {arr.ndim}\")"
   ]
  },
  {
   "cell_type": "code",
   "execution_count": 30,
   "id": "74a80801",
   "metadata": {},
   "outputs": [
    {
     "name": "stdout",
     "output_type": "stream",
     "text": [
      "array: [[[10]]] dimension:3\n"
     ]
    }
   ],
   "source": [
    "arr=np.array([[[10]]])\n",
    "print(f\"array: {arr} dimension:{arr.ndim}\")"
   ]
  },
  {
   "cell_type": "code",
   "execution_count": 31,
   "id": "af607489",
   "metadata": {},
   "outputs": [
    {
     "name": "stdout",
     "output_type": "stream",
     "text": [
      "array: [[[[10]]]] dimension:4\n"
     ]
    }
   ],
   "source": [
    "arr=np.array([[[[10]]]])\n",
    "print(f\"array: {arr} dimension:{arr.ndim}\")"
   ]
  },
  {
   "cell_type": "code",
   "execution_count": 32,
   "id": "f377f9ef",
   "metadata": {},
   "outputs": [
    {
     "name": "stdout",
     "output_type": "stream",
     "text": [
      "array: [[[[10]]]] dimension:4\n"
     ]
    }
   ],
   "source": [
    "arr3d = np.arange(64).reshape(4,4,4)\n",
    "#depth, row , column \n",
    "print(f\"array: {arr} dimension:{arr.ndim}\")"
   ]
  },
  {
   "cell_type": "code",
   "execution_count": 44,
   "id": "35d11863",
   "metadata": {
    "scrolled": true
   },
   "outputs": [],
   "source": [
    "arr3d = np.arange(81).reshape(9,3,3)\n",
    "#depth, row , column "
   ]
  },
  {
   "cell_type": "code",
   "execution_count": 48,
   "id": "ebb7ec01",
   "metadata": {
    "scrolled": true
   },
   "outputs": [
    {
     "name": "stdout",
     "output_type": "stream",
     "text": [
      "arr3d: [[[ 0  1  2]\n",
      "  [ 3  4  5]\n",
      "  [ 6  7  8]]\n",
      "\n",
      " [[ 9 10 11]\n",
      "  [12 13 14]\n",
      "  [15 16 17]]\n",
      "\n",
      " [[18 19 20]\n",
      "  [21 22 23]\n",
      "  [24 25 26]]\n",
      "\n",
      " [[27 28 29]\n",
      "  [30 31 32]\n",
      "  [33 34 35]]\n",
      "\n",
      " [[36 37 38]\n",
      "  [39 40 41]\n",
      "  [42 43 44]]\n",
      "\n",
      " [[45 46 47]\n",
      "  [48 49 50]\n",
      "  [51 52 53]]\n",
      "\n",
      " [[54 55 56]\n",
      "  [57 58 59]\n",
      "  [60 61 62]]\n",
      "\n",
      " [[63 64 65]\n",
      "  [66 67 68]\n",
      "  [69 70 71]]\n",
      "\n",
      " [[72 73 74]\n",
      "  [75 76 77]\n",
      "  [78 79 80]]]\n",
      "\n",
      "arr3d[2]:\n",
      " [[18 19 20]\n",
      " [21 22 23]\n",
      " [24 25 26]]\n",
      "\n",
      "arr3d[2,1,2]: 23\n"
     ]
    }
   ],
   "source": [
    "print(f\"arr3d: {arr3d}\\n\\narr3d[2]:\\n {arr3d[2]}\\n\\narr3d[2,1,2]: {arr3d[2,1,2]}\")"
   ]
  },
  {
   "cell_type": "code",
   "execution_count": 52,
   "id": "41f584e6",
   "metadata": {},
   "outputs": [
    {
     "data": {
      "text/plain": [
       "array([[[  0,  10,  20],\n",
       "        [ 30,  40,  50],\n",
       "        [ 60,  70,  80]],\n",
       "\n",
       "       [[ 90, 100, 110],\n",
       "        [120, 130, 140],\n",
       "        [150, 160, 170]],\n",
       "\n",
       "       [[180, 190, 200],\n",
       "        [210, 220, 230],\n",
       "        [240, 250, 260]],\n",
       "\n",
       "       [[270, 280, 290],\n",
       "        [300, 310, 320],\n",
       "        [330, 340, 350]],\n",
       "\n",
       "       [[360, 370, 380],\n",
       "        [390, 400, 410],\n",
       "        [420, 430, 440]],\n",
       "\n",
       "       [[450, 460, 470],\n",
       "        [480, 490, 500],\n",
       "        [510, 520, 530]],\n",
       "\n",
       "       [[540, 550, 560],\n",
       "        [570, 580, 590],\n",
       "        [600, 610, 620]],\n",
       "\n",
       "       [[630, 640, 650],\n",
       "        [660, 670, 680],\n",
       "        [690, 700, 710]],\n",
       "\n",
       "       [[720, 730, 740],\n",
       "        [750, 760, 770],\n",
       "        [780, 790, 800]]])"
      ]
     },
     "execution_count": 52,
     "metadata": {},
     "output_type": "execute_result"
    }
   ],
   "source": [
    "arr3d*10"
   ]
  },
  {
   "cell_type": "code",
   "execution_count": 49,
   "id": "b1959ba3",
   "metadata": {
    "scrolled": true
   },
   "outputs": [
    {
     "name": "stdout",
     "output_type": "stream",
     "text": [
      "x: [ 0  1  4  9 16 25 36 49 64 81]\n"
     ]
    }
   ],
   "source": [
    "x = np.arange(10)\n",
    "x = x**2 # perment change \n",
    "print(f\"x: {x}\")"
   ]
  },
  {
   "cell_type": "code",
   "execution_count": 53,
   "id": "2fed20e4",
   "metadata": {
    "scrolled": true
   },
   "outputs": [
    {
     "data": {
      "text/plain": [
       "[0, 1, 16, 81, 256, 625, 1296, 2401, 4096, 6561]"
      ]
     },
     "execution_count": 53,
     "metadata": {},
     "output_type": "execute_result"
    }
   ],
   "source": [
    "[n**2 for n in x]"
   ]
  },
  {
   "cell_type": "code",
   "execution_count": 54,
   "id": "c454eb85",
   "metadata": {},
   "outputs": [],
   "source": [
    "# mirroring = element vise operation \n",
    "a = np.arange(25).reshape(5,5)\n",
    "b = np.arange(25,50).reshape(5,5)"
   ]
  },
  {
   "cell_type": "code",
   "execution_count": 55,
   "id": "7562f397",
   "metadata": {},
   "outputs": [
    {
     "data": {
      "text/plain": [
       "array([[ 0,  1,  2,  3,  4],\n",
       "       [ 5,  6,  7,  8,  9],\n",
       "       [10, 11, 12, 13, 14],\n",
       "       [15, 16, 17, 18, 19],\n",
       "       [20, 21, 22, 23, 24]])"
      ]
     },
     "execution_count": 55,
     "metadata": {},
     "output_type": "execute_result"
    }
   ],
   "source": [
    "a"
   ]
  },
  {
   "cell_type": "code",
   "execution_count": 56,
   "id": "f21119cd",
   "metadata": {},
   "outputs": [
    {
     "data": {
      "text/plain": [
       "array([[25, 26, 27, 28, 29],\n",
       "       [30, 31, 32, 33, 34],\n",
       "       [35, 36, 37, 38, 39],\n",
       "       [40, 41, 42, 43, 44],\n",
       "       [45, 46, 47, 48, 49]])"
      ]
     },
     "execution_count": 56,
     "metadata": {},
     "output_type": "execute_result"
    }
   ],
   "source": [
    "b"
   ]
  },
  {
   "cell_type": "code",
   "execution_count": 57,
   "id": "0c16d1ad",
   "metadata": {},
   "outputs": [
    {
     "data": {
      "text/plain": [
       "array([[25, 27, 29, 31, 33],\n",
       "       [35, 37, 39, 41, 43],\n",
       "       [45, 47, 49, 51, 53],\n",
       "       [55, 57, 59, 61, 63],\n",
       "       [65, 67, 69, 71, 73]])"
      ]
     },
     "execution_count": 57,
     "metadata": {},
     "output_type": "execute_result"
    }
   ],
   "source": [
    "a+b"
   ]
  },
  {
   "cell_type": "code",
   "execution_count": 58,
   "id": "bbff6f8b",
   "metadata": {},
   "outputs": [
    {
     "data": {
      "text/plain": [
       "array([[   0,   26,   54,   84,  116],\n",
       "       [ 150,  186,  224,  264,  306],\n",
       "       [ 350,  396,  444,  494,  546],\n",
       "       [ 600,  656,  714,  774,  836],\n",
       "       [ 900,  966, 1034, 1104, 1176]])"
      ]
     },
     "execution_count": 58,
     "metadata": {},
     "output_type": "execute_result"
    }
   ],
   "source": [
    "a*b"
   ]
  },
  {
   "cell_type": "code",
   "execution_count": 59,
   "id": "8918b830",
   "metadata": {},
   "outputs": [
    {
     "data": {
      "text/plain": [
       "array([[ 400,  410,  420,  430,  440],\n",
       "       [1275, 1310, 1345, 1380, 1415],\n",
       "       [2150, 2210, 2270, 2330, 2390],\n",
       "       [3025, 3110, 3195, 3280, 3365],\n",
       "       [3900, 4010, 4120, 4230, 4340]])"
      ]
     },
     "execution_count": 59,
     "metadata": {},
     "output_type": "execute_result"
    }
   ],
   "source": [
    "a@b #this for multiplication \n",
    "## a.dot(b)"
   ]
  },
  {
   "cell_type": "code",
   "execution_count": null,
   "id": "2b6acc08",
   "metadata": {},
   "outputs": [],
   "source": []
  }
 ],
 "metadata": {
  "kernelspec": {
   "display_name": "Python 3 (ipykernel)",
   "language": "python",
   "name": "python3"
  },
  "language_info": {
   "codemirror_mode": {
    "name": "ipython",
    "version": 3
   },
   "file_extension": ".py",
   "mimetype": "text/x-python",
   "name": "python",
   "nbconvert_exporter": "python",
   "pygments_lexer": "ipython3",
   "version": "3.9.12"
  }
 },
 "nbformat": 4,
 "nbformat_minor": 5
}
