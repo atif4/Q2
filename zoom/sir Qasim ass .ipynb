{
 "cells": [
  {
   "cell_type": "markdown",
   "id": "1a9e876d",
   "metadata": {},
   "source": [
    "### Universal Functions: Fast Element-Wise Array Functions"
   ]
  },
  {
   "cell_type": "code",
   "execution_count": 35,
   "id": "0f3c9936",
   "metadata": {},
   "outputs": [],
   "source": [
    "import numpy as np"
   ]
  },
  {
   "cell_type": "code",
   "execution_count": 53,
   "id": "a86d7b3a",
   "metadata": {},
   "outputs": [],
   "source": [
    "import warnings\n",
    "warnings.filterwarnings(\"ignore\")"
   ]
  },
  {
   "cell_type": "code",
   "execution_count": 36,
   "id": "60f72016",
   "metadata": {
    "scrolled": true
   },
   "outputs": [],
   "source": [
    "arr = np.arange(10)"
   ]
  },
  {
   "cell_type": "code",
   "execution_count": 37,
   "id": "33514992",
   "metadata": {},
   "outputs": [
    {
     "data": {
      "text/plain": [
       "array([0, 1, 2, 3, 4, 5, 6, 7, 8, 9])"
      ]
     },
     "metadata": {},
     "output_type": "display_data"
    },
    {
     "data": {
      "text/plain": [
       "array([0.        , 1.        , 1.41421356, 1.73205081, 2.        ,\n",
       "       2.23606798, 2.44948974, 2.64575131, 2.82842712, 3.        ])"
      ]
     },
     "metadata": {},
     "output_type": "display_data"
    }
   ],
   "source": [
    "display(arr)\n",
    "sqrt = np.sqrt(arr) #sqrt Compute the square root of each element (equivalent to arr ** 0.5)\n",
    "display(sqrt)"
   ]
  },
  {
   "cell_type": "code",
   "execution_count": 38,
   "id": "b3052a71",
   "metadata": {},
   "outputs": [
    {
     "data": {
      "text/plain": [
       "array([0, 1, 2, 3, 4, 5, 6, 7, 8, 9])"
      ]
     },
     "metadata": {},
     "output_type": "display_data"
    },
    {
     "data": {
      "text/plain": [
       "'sq_root'"
      ]
     },
     "metadata": {},
     "output_type": "display_data"
    },
    {
     "data": {
      "text/plain": [
       "array([0.        , 1.        , 1.41421356, 1.73205081, 2.        ,\n",
       "       2.23606798, 2.44948974, 2.64575131, 2.82842712, 3.        ])"
      ]
     },
     "metadata": {},
     "output_type": "display_data"
    }
   ],
   "source": [
    "display(arr)\n",
    "sq_root = arr**0.5\n",
    "display(\"sq_root\",sq_root)"
   ]
  },
  {
   "cell_type": "code",
   "execution_count": 42,
   "id": "dff248b8",
   "metadata": {},
   "outputs": [
    {
     "data": {
      "text/plain": [
       "array([0, 1, 2, 3, 4, 5, 6, 7, 8, 9])"
      ]
     },
     "metadata": {},
     "output_type": "display_data"
    },
    {
     "data": {
      "text/plain": [
       "'arr**2'"
      ]
     },
     "metadata": {},
     "output_type": "display_data"
    },
    {
     "data": {
      "text/plain": [
       "array([ 0,  1,  4,  9, 16, 25, 36, 49, 64, 81], dtype=int32)"
      ]
     },
     "metadata": {},
     "output_type": "display_data"
    },
    {
     "data": {
      "text/plain": [
       "'np.square'"
      ]
     },
     "metadata": {},
     "output_type": "display_data"
    },
    {
     "data": {
      "text/plain": [
       "array([ 0,  1,  4,  9, 16, 25, 36, 49, 64, 81], dtype=int32)"
      ]
     },
     "metadata": {},
     "output_type": "display_data"
    }
   ],
   "source": [
    "# square Compute the square of each element (equivalent to arr ** 2)\n",
    "display(arr)\n",
    "sq = arr**2\n",
    "display(\"arr**2\",sq)\n",
    "np_square = np.square(arr)\n",
    "display(\"np.square\",np_square)"
   ]
  },
  {
   "cell_type": "code",
   "execution_count": 44,
   "id": "aa646a6f",
   "metadata": {
    "scrolled": true
   },
   "outputs": [
    {
     "data": {
      "text/plain": [
       "array([0, 1, 2, 3, 4, 5, 6, 7, 8, 9])"
      ]
     },
     "metadata": {},
     "output_type": "display_data"
    },
    {
     "data": {
      "text/plain": [
       "'exp'"
      ]
     },
     "metadata": {},
     "output_type": "display_data"
    },
    {
     "data": {
      "text/plain": [
       "array([1.00000000e+00, 2.71828183e+00, 7.38905610e+00, 2.00855369e+01,\n",
       "       5.45981500e+01, 1.48413159e+02, 4.03428793e+02, 1.09663316e+03,\n",
       "       2.98095799e+03, 8.10308393e+03])"
      ]
     },
     "metadata": {},
     "output_type": "display_data"
    }
   ],
   "source": [
    "display(arr)\n",
    "#exp Compute the exponent ex of each element\n",
    "exp = np.exp(arr)\n",
    "display(\"exp\",exp)"
   ]
  },
  {
   "cell_type": "code",
   "execution_count": 54,
   "id": "b1c3dce4",
   "metadata": {},
   "outputs": [
    {
     "data": {
      "text/plain": [
       "array([0, 1, 2, 3, 4, 5, 6, 7, 8, 9])"
      ]
     },
     "metadata": {},
     "output_type": "display_data"
    },
    {
     "data": {
      "text/plain": [
       "'log'"
      ]
     },
     "metadata": {},
     "output_type": "display_data"
    },
    {
     "data": {
      "text/plain": [
       "array([      -inf, 0.        , 0.69314718, 1.09861229, 1.38629436,\n",
       "       1.60943791, 1.79175947, 1.94591015, 2.07944154, 2.19722458])"
      ]
     },
     "metadata": {},
     "output_type": "display_data"
    },
    {
     "data": {
      "text/plain": [
       "'log10'"
      ]
     },
     "metadata": {},
     "output_type": "display_data"
    },
    {
     "data": {
      "text/plain": [
       "array([      -inf, 0.        , 0.30103   , 0.47712125, 0.60205999,\n",
       "       0.69897   , 0.77815125, 0.84509804, 0.90308999, 0.95424251])"
      ]
     },
     "metadata": {},
     "output_type": "display_data"
    },
    {
     "data": {
      "text/plain": [
       "'log1p'"
      ]
     },
     "metadata": {},
     "output_type": "display_data"
    },
    {
     "data": {
      "text/plain": [
       "array([0.        , 0.69314718, 1.09861229, 1.38629436, 1.60943791,\n",
       "       1.79175947, 1.94591015, 2.07944154, 2.19722458, 2.30258509])"
      ]
     },
     "metadata": {},
     "output_type": "display_data"
    }
   ],
   "source": [
    "\"\"\"log, log10, \n",
    "log2, log1p\n",
    "Natural logarithm (base e), log base 10, log base 2, and log(1 + x), respectively\n",
    "The natural logarithm log is the inverse of the exponential function, so that log(exp(x)) = x. \n",
    "The natural logarithm is logarithm in base e.\"\"\"\n",
    "display(arr)\n",
    "log = np.log(arr)\n",
    "display(\"log\",log)\n",
    "log10 = np.log10(arr)\n",
    "display(\"log10\",log10)\n",
    "log1p = np.log1p(arr)\n",
    "display(\"log1p\",log1p)"
   ]
  },
  {
   "cell_type": "code",
   "execution_count": 57,
   "id": "ef58b64e",
   "metadata": {
    "scrolled": true
   },
   "outputs": [
    {
     "data": {
      "text/plain": [
       "array([ 0.29211292, -0.43243851,  1.68077287, -0.12891062,  0.16908463,\n",
       "       -0.24321828,  0.05365252, -1.25405022])"
      ]
     },
     "metadata": {},
     "output_type": "display_data"
    },
    {
     "data": {
      "text/plain": [
       "array([ 1., -1.,  1., -1.,  1., -1.,  1., -1.])"
      ]
     },
     "execution_count": 57,
     "metadata": {},
     "output_type": "execute_result"
    }
   ],
   "source": [
    "# sign Compute the sign of each element: 1 (positive), 0 (zero), or –1 (negative)\n",
    "x = np.random.randn(8)\n",
    "display(x)\n",
    "np.sign(x)"
   ]
  },
  {
   "cell_type": "code",
   "execution_count": 61,
   "id": "f92ade8d",
   "metadata": {
    "scrolled": true
   },
   "outputs": [
    {
     "data": {
      "text/plain": [
       "array([ 0.29211292, -0.43243851,  1.68077287, -0.12891062,  0.16908463,\n",
       "       -0.24321828,  0.05365252, -1.25405022])"
      ]
     },
     "metadata": {},
     "output_type": "display_data"
    },
    {
     "data": {
      "text/plain": [
       "array([ 1., -0.,  2., -0.,  1., -0.,  1., -1.])"
      ]
     },
     "execution_count": 61,
     "metadata": {},
     "output_type": "execute_result"
    }
   ],
   "source": [
    "# ceil Compute the ceiling of each element (i.e., the smallest integer greater than or equal to that number)\n",
    "display(x)\n",
    "np.ceil(x)"
   ]
  },
  {
   "cell_type": "code",
   "execution_count": 67,
   "id": "14e35558",
   "metadata": {
    "scrolled": true
   },
   "outputs": [
    {
     "data": {
      "text/plain": [
       "array([ 0.29211292, -0.43243851,  1.68077287, -0.12891062,  0.16908463,\n",
       "       -0.24321828,  0.05365252, -1.25405022])"
      ]
     },
     "metadata": {},
     "output_type": "display_data"
    },
    {
     "data": {
      "text/plain": [
       "'np.floor'"
      ]
     },
     "metadata": {},
     "output_type": "display_data"
    },
    {
     "data": {
      "text/plain": [
       "array([ 0., -1.,  1., -1.,  0., -1.,  0., -2.])"
      ]
     },
     "metadata": {},
     "output_type": "display_data"
    }
   ],
   "source": [
    "# floor Compute the floor of each element (i.e., the largest integer less than or equal to each element)\n",
    "display(x)\n",
    "display(\"np.floor\",np.floor(x))"
   ]
  },
  {
   "cell_type": "code",
   "execution_count": 69,
   "id": "6b48c98d",
   "metadata": {
    "scrolled": false
   },
   "outputs": [
    {
     "data": {
      "text/plain": [
       "array([ 0.29211292, -0.43243851,  1.68077287, -0.12891062,  0.16908463,\n",
       "       -0.24321828,  0.05365252, -1.25405022])"
      ]
     },
     "metadata": {},
     "output_type": "display_data"
    },
    {
     "data": {
      "text/plain": [
       "'np.rint'"
      ]
     },
     "metadata": {},
     "output_type": "display_data"
    },
    {
     "data": {
      "text/plain": [
       "array([ 0., -0.,  2., -0.,  0., -0.,  0., -1.])"
      ]
     },
     "metadata": {},
     "output_type": "display_data"
    }
   ],
   "source": [
    "# rint Round elements to the nearest integer, preserving the dtype\n",
    "display(x)\n",
    "display(\"np.rint\",np.rint(x))"
   ]
  },
  {
   "cell_type": "code",
   "execution_count": 73,
   "id": "e691e082",
   "metadata": {},
   "outputs": [
    {
     "data": {
      "text/plain": [
       "array([ 0.29211292, -0.43243851,  1.68077287, -0.12891062,  0.16908463,\n",
       "       -0.24321828,  0.05365252, -1.25405022])"
      ]
     },
     "metadata": {},
     "output_type": "display_data"
    },
    {
     "data": {
      "text/plain": [
       "'np.modf'"
      ]
     },
     "metadata": {},
     "output_type": "display_data"
    },
    {
     "data": {
      "text/plain": [
       "(array([ 0.29211292, -0.43243851,  0.68077287, -0.12891062,  0.16908463,\n",
       "        -0.24321828,  0.05365252, -0.25405022]),\n",
       " array([ 0., -0.,  1., -0.,  0., -0.,  0., -1.]))"
      ]
     },
     "metadata": {},
     "output_type": "display_data"
    }
   ],
   "source": [
    "# modf Return fractional and integral parts of array as a separate array\n",
    "display(x)\n",
    "display(\"np.modf\",np.modf(x))"
   ]
  },
  {
   "cell_type": "code",
   "execution_count": 14,
   "id": "c2b774fe",
   "metadata": {
    "scrolled": true
   },
   "outputs": [
    {
     "data": {
      "text/plain": [
       "'arr'"
      ]
     },
     "metadata": {},
     "output_type": "display_data"
    },
    {
     "data": {
      "text/plain": [
       "array([-3.67283537, -0.2458653 , -0.13894765, -4.54084001, -4.74107167,\n",
       "       -0.53620194,  7.15511577])"
      ]
     },
     "metadata": {},
     "output_type": "display_data"
    },
    {
     "data": {
      "text/plain": [
       "'remainder'"
      ]
     },
     "metadata": {},
     "output_type": "display_data"
    },
    {
     "data": {
      "text/plain": [
       "array([-0.67283537, -0.2458653 , -0.13894765, -0.54084001, -0.74107167,\n",
       "       -0.53620194,  0.15511577])"
      ]
     },
     "metadata": {},
     "output_type": "display_data"
    },
    {
     "data": {
      "text/plain": [
       "'whole_part'"
      ]
     },
     "metadata": {},
     "output_type": "display_data"
    },
    {
     "data": {
      "text/plain": [
       "array([-3., -0., -0., -4., -4., -0.,  7.])"
      ]
     },
     "metadata": {},
     "output_type": "display_data"
    }
   ],
   "source": [
    "\"\"\"While not common, a ufunc can return multiple arrays. modf is one example, a vec‐\n",
    "torized version of the built-in Python divmod; it returns the fractional and integral\n",
    "parts of a floating-point array:\n",
    "modf Return fractional and integral parts of array as a separate array\n",
    "\"\"\"\n",
    "arr = np.random.randn(7) * 5\n",
    "display(\"arr\",arr)\n",
    "remainder, whole_part = np.modf(arr)\n",
    "display(\"remainder\",remainder)\n",
    "display(\"whole_part\",whole_part)"
   ]
  },
  {
   "cell_type": "code",
   "execution_count": 76,
   "id": "99ca6114",
   "metadata": {
    "scrolled": false
   },
   "outputs": [
    {
     "data": {
      "text/plain": [
       "array([ 0.29211292, -0.43243851,  1.68077287, -0.12891062,  0.16908463,\n",
       "       -0.24321828,  0.05365252, -1.25405022])"
      ]
     },
     "metadata": {},
     "output_type": "display_data"
    },
    {
     "data": {
      "text/plain": [
       "'np.isnan'"
      ]
     },
     "metadata": {},
     "output_type": "display_data"
    },
    {
     "data": {
      "text/plain": [
       "array([False, False, False, False, False, False, False, False])"
      ]
     },
     "metadata": {},
     "output_type": "display_data"
    }
   ],
   "source": [
    "# isnan Return boolean array indicating whether each value is NaN (Not a Number)\n",
    "display(x)\n",
    "display(\"np.isnan\",np.isnan(x))"
   ]
  },
  {
   "cell_type": "code",
   "execution_count": 84,
   "id": "be72fbaf",
   "metadata": {
    "scrolled": false
   },
   "outputs": [
    {
     "data": {
      "text/plain": [
       "array([ 0.29211292, -0.43243851,  1.68077287, -0.12891062,  0.16908463,\n",
       "       -0.24321828,  0.05365252, -1.25405022])"
      ]
     },
     "metadata": {},
     "output_type": "display_data"
    },
    {
     "data": {
      "text/plain": [
       "'np.isinf'"
      ]
     },
     "metadata": {},
     "output_type": "display_data"
    },
    {
     "data": {
      "text/plain": [
       "array([False, False, False, False, False, False, False, False])"
      ]
     },
     "metadata": {},
     "output_type": "display_data"
    },
    {
     "data": {
      "text/plain": [
       "'np.isnan'"
      ]
     },
     "metadata": {},
     "output_type": "display_data"
    },
    {
     "data": {
      "text/plain": [
       "array([ True,  True,  True,  True,  True,  True,  True,  True])"
      ]
     },
     "metadata": {},
     "output_type": "display_data"
    }
   ],
   "source": [
    "# isfinite, isinf Return boolean array indicating whether each element is finite (non-inf, non-NaN) or infinite, respectively\n",
    "display(x)\n",
    "display(\"np.isinf\",np.isinf(x))\n",
    "display(\"np.isnan\",np.isfinite(x))\n"
   ]
  },
  {
   "cell_type": "code",
   "execution_count": 96,
   "id": "1de53a92",
   "metadata": {
    "scrolled": true
   },
   "outputs": [
    {
     "data": {
      "text/plain": [
       "array([ 0.29211292, -0.43243851,  1.68077287, -0.12891062,  0.16908463,\n",
       "       -0.24321828,  0.05365252, -1.25405022])"
      ]
     },
     "metadata": {},
     "output_type": "display_data"
    },
    {
     "data": {
      "text/plain": [
       "array([ 0., -0.,  2., -0.,  0., -0.,  0., -1.])"
      ]
     },
     "metadata": {},
     "output_type": "display_data"
    },
    {
     "data": {
      "text/plain": [
       "'np.cos'"
      ]
     },
     "metadata": {},
     "output_type": "display_data"
    },
    {
     "data": {
      "text/plain": [
       "array([ 1.        ,  1.        , -0.41614684,  1.        ,  1.        ,\n",
       "        1.        ,  1.        ,  0.54030231])"
      ]
     },
     "metadata": {},
     "output_type": "display_data"
    },
    {
     "data": {
      "text/plain": [
       "'np.cosh'"
      ]
     },
     "metadata": {},
     "output_type": "display_data"
    },
    {
     "data": {
      "text/plain": [
       "array([1.04296923, 1.09496774, 2.77796721, 1.00832049, 1.0143289 ,\n",
       "       1.02972366, 1.00143964, 1.89492751])"
      ]
     },
     "metadata": {},
     "output_type": "display_data"
    },
    {
     "data": {
      "text/plain": [
       "'np.sin'"
      ]
     },
     "metadata": {},
     "output_type": "display_data"
    },
    {
     "data": {
      "text/plain": [
       "array([ 0.        , -0.        ,  0.90929743, -0.        ,  0.        ,\n",
       "       -0.        ,  0.        , -0.84147098])"
      ]
     },
     "metadata": {},
     "output_type": "display_data"
    },
    {
     "data": {
      "text/plain": [
       "'np.sinh'"
      ]
     },
     "metadata": {},
     "output_type": "display_data"
    },
    {
     "data": {
      "text/plain": [
       "array([ 0.29628501, -0.44604298,  2.59173722, -0.12926795,  0.16989146,\n",
       "       -0.24562332,  0.05367827, -1.60958077])"
      ]
     },
     "metadata": {},
     "output_type": "display_data"
    },
    {
     "data": {
      "text/plain": [
       "'np.tan'"
      ]
     },
     "metadata": {},
     "output_type": "display_data"
    },
    {
     "data": {
      "text/plain": [
       "array([ 0.        , -0.        , -2.18503986, -0.        ,  0.        ,\n",
       "       -0.        ,  0.        , -1.55740772])"
      ]
     },
     "metadata": {},
     "output_type": "display_data"
    },
    {
     "data": {
      "text/plain": [
       "'np.tanh'"
      ]
     },
     "metadata": {},
     "output_type": "display_data"
    },
    {
     "data": {
      "text/plain": [
       "array([ 0.28407838, -0.40735719,  0.93296178, -0.12820126,  0.16749149,\n",
       "       -0.23853323,  0.0536011 , -0.84941549])"
      ]
     },
     "metadata": {},
     "output_type": "display_data"
    }
   ],
   "source": [
    "#cos, cosh, sin, sinh, tan, tanh Regular and hyperbolic trigonometric functions\n",
    "display(x)\n",
    "display(np.rint(x))\n",
    "y = np.rint(x)\n",
    "display(\"np.cos\",np.cos(y))\n",
    "display(\"np.cosh\",np.cosh(x))\n",
    "display(\"np.sin\",np.sin(y))\n",
    "display(\"np.sinh\",np.sinh(x))\n",
    "\n",
    "display(\"np.tan\",np.tan(y))\n",
    "display(\"np.tanh\",np.tanh(x))"
   ]
  },
  {
   "cell_type": "code",
   "execution_count": 98,
   "id": "20be7a86",
   "metadata": {
    "scrolled": true
   },
   "outputs": [
    {
     "data": {
      "text/plain": [
       "'x'"
      ]
     },
     "metadata": {},
     "output_type": "display_data"
    },
    {
     "data": {
      "text/plain": [
       "array([ 0.29211292, -0.43243851,  1.68077287, -0.12891062,  0.16908463,\n",
       "       -0.24321828,  0.05365252, -1.25405022])"
      ]
     },
     "metadata": {},
     "output_type": "display_data"
    },
    {
     "data": {
      "text/plain": [
       "'np.rint'"
      ]
     },
     "metadata": {},
     "output_type": "display_data"
    },
    {
     "data": {
      "text/plain": [
       "array([ 0., -0.,  2., -0.,  0., -0.,  0., -1.])"
      ]
     },
     "metadata": {},
     "output_type": "display_data"
    },
    {
     "data": {
      "text/plain": [
       "'np.arccos'"
      ]
     },
     "metadata": {},
     "output_type": "display_data"
    },
    {
     "data": {
      "text/plain": [
       "array([1.57079633, 1.57079633,        nan, 1.57079633, 1.57079633,\n",
       "       1.57079633, 1.57079633, 3.14159265])"
      ]
     },
     "metadata": {},
     "output_type": "display_data"
    },
    {
     "data": {
      "text/plain": [
       "'np.arccosh'"
      ]
     },
     "metadata": {},
     "output_type": "display_data"
    },
    {
     "data": {
      "text/plain": [
       "array([      nan,       nan, 1.1091227,       nan,       nan,       nan,\n",
       "             nan,       nan])"
      ]
     },
     "metadata": {},
     "output_type": "display_data"
    },
    {
     "data": {
      "text/plain": [
       "'np.arcsin'"
      ]
     },
     "metadata": {},
     "output_type": "display_data"
    },
    {
     "data": {
      "text/plain": [
       "array([ 0.        , -0.        ,         nan, -0.        ,  0.        ,\n",
       "       -0.        ,  0.        , -1.57079633])"
      ]
     },
     "metadata": {},
     "output_type": "display_data"
    },
    {
     "data": {
      "text/plain": [
       "'np.arcsinh'"
      ]
     },
     "metadata": {},
     "output_type": "display_data"
    },
    {
     "data": {
      "text/plain": [
       "array([ 0.28811045, -0.41998269,  1.29103074, -0.12855622,  0.16828915,\n",
       "       -0.24088201,  0.05362681, -1.05012067])"
      ]
     },
     "metadata": {},
     "output_type": "display_data"
    },
    {
     "data": {
      "text/plain": [
       "'np.arctan'"
      ]
     },
     "metadata": {},
     "output_type": "display_data"
    },
    {
     "data": {
      "text/plain": [
       "array([ 0.        , -0.        ,  1.10714872, -0.        ,  0.        ,\n",
       "       -0.        ,  0.        , -0.78539816])"
      ]
     },
     "metadata": {},
     "output_type": "display_data"
    },
    {
     "data": {
      "text/plain": [
       "'np.arctanh'"
      ]
     },
     "metadata": {},
     "output_type": "display_data"
    },
    {
     "data": {
      "text/plain": [
       "array([ 0.30087474, -0.46289222,         nan, -0.1296319 ,  0.1707242 ,\n",
       "       -0.24819191,  0.05370409,         nan])"
      ]
     },
     "metadata": {},
     "output_type": "display_data"
    }
   ],
   "source": [
    "#arccos, arccosh, arcsin, arcsinh, arctan, arctanh Inverse trigonometric functions\n",
    "display(\"x\",x)\n",
    "display(\"np.rint\",np.rint(x))\n",
    "y = np.rint(x)\n",
    "display(\"np.arccos\",np.arccos(y))\n",
    "display(\"np.arccosh\",np.arccosh(x))\n",
    "display(\"np.arcsin\",np.arcsin(y))\n",
    "display(\"np.arcsinh\",np.arcsinh(x))\n",
    "display(\"np.arctan\",np.arctan(y))\n",
    "display(\"np.arctanh\",np.arctanh(x))"
   ]
  },
  {
   "cell_type": "code",
   "execution_count": 102,
   "id": "3641dc2b",
   "metadata": {},
   "outputs": [
    {
     "data": {
      "text/plain": [
       "'x'"
      ]
     },
     "metadata": {},
     "output_type": "display_data"
    },
    {
     "data": {
      "text/plain": [
       "array([ 0.29211292, -0.43243851,  1.68077287, -0.12891062,  0.16908463,\n",
       "       -0.24321828,  0.05365252, -1.25405022])"
      ]
     },
     "metadata": {},
     "output_type": "display_data"
    },
    {
     "data": {
      "text/plain": [
       "array([False, False, False, False, False, False, False, False])"
      ]
     },
     "execution_count": 102,
     "metadata": {},
     "output_type": "execute_result"
    }
   ],
   "source": [
    "# logical_not Compute truth value of not x element-wise (equivalent to ~arr).\n",
    "display(\"x\", x)\n",
    "np.logical_not(x)"
   ]
  },
  {
   "cell_type": "code",
   "execution_count": 5,
   "id": "20a192ac",
   "metadata": {},
   "outputs": [
    {
     "data": {
      "text/plain": [
       "'x'"
      ]
     },
     "metadata": {},
     "output_type": "display_data"
    },
    {
     "data": {
      "text/plain": [
       "array([ 2.47062974, -0.17074931, -1.47770278,  2.00138561,  2.36243895,\n",
       "       -1.29879203,  0.42612469,  0.97544994])"
      ]
     },
     "metadata": {},
     "output_type": "display_data"
    },
    {
     "data": {
      "text/plain": [
       "'y'"
      ]
     },
     "metadata": {},
     "output_type": "display_data"
    },
    {
     "data": {
      "text/plain": [
       "array([-1.53934585,  0.58598552, -0.80101747,  0.18252664,  0.26386404,\n",
       "        0.73780993,  0.37642809, -0.63301872])"
      ]
     },
     "metadata": {},
     "output_type": "display_data"
    },
    {
     "data": {
      "text/plain": [
       "'maximam'"
      ]
     },
     "metadata": {},
     "output_type": "display_data"
    },
    {
     "data": {
      "text/plain": [
       "array([ 2.47062974,  0.58598552, -0.80101747,  2.00138561,  2.36243895,\n",
       "        0.73780993,  0.42612469,  0.97544994])"
      ]
     },
     "metadata": {},
     "output_type": "display_data"
    }
   ],
   "source": [
    "\"\"\"These are referred to as unary ufuncs. Others, such as add or maximum, take two arrays\n",
    "(thus, binary ufuncs) and return a single array as the result:\"\"\"\n",
    "x = np.random.randn(8)\n",
    "y = np.random.randn(8)\n",
    "display(\"x\",x)\n",
    "display(\"y\",y)\n",
    "maximam = np.maximum(x, y)\n",
    "#it compare elements of both array at every index and keep those pne which is greater at particular index in final answer \n",
    "display(\"maximam\",maximam)"
   ]
  },
  {
   "cell_type": "code",
   "execution_count": 6,
   "id": "0fe2d9dd",
   "metadata": {},
   "outputs": [
    {
     "data": {
      "text/plain": [
       "'add'"
      ]
     },
     "metadata": {},
     "output_type": "display_data"
    },
    {
     "data": {
      "text/plain": [
       "array([ 0.93128389,  0.41523621, -2.27872025,  2.18391225,  2.62630299,\n",
       "       -0.56098209,  0.80255278,  0.34243121])"
      ]
     },
     "metadata": {},
     "output_type": "display_data"
    }
   ],
   "source": [
    "add = np.add(x,y)\n",
    "display(\"add\",add)"
   ]
  },
  {
   "cell_type": "code",
   "execution_count": 16,
   "id": "260c9ebc",
   "metadata": {},
   "outputs": [
    {
     "data": {
      "text/plain": [
       "array([-3.67283537, -0.2458653 , -0.13894765, -4.54084001, -4.74107167,\n",
       "       -0.53620194,  7.15511577])"
      ]
     },
     "metadata": {},
     "output_type": "display_data"
    }
   ],
   "source": [
    "display(arr)"
   ]
  },
  {
   "cell_type": "code",
   "execution_count": 62,
   "id": "1e402f8d",
   "metadata": {
    "scrolled": true
   },
   "outputs": [
    {
     "data": {
      "text/plain": [
       "'sqrt'"
      ]
     },
     "metadata": {},
     "output_type": "display_data"
    },
    {
     "data": {
      "text/plain": [
       "array([0.        , 1.        , 1.41421356, 1.73205081, 2.        ,\n",
       "       2.23606798, 2.44948974, 2.64575131, 2.82842712, 3.        ])"
      ]
     },
     "metadata": {},
     "output_type": "display_data"
    }
   ],
   "source": [
    "sqrt = np.sqrt(arr)\n",
    "display(\"sqrt\",sqrt) # it shows that -ve values sqrt is nan "
   ]
  },
  {
   "cell_type": "code",
   "execution_count": 63,
   "id": "fd0725ff",
   "metadata": {},
   "outputs": [
    {
     "data": {
      "text/plain": [
       "'arr'"
      ]
     },
     "metadata": {},
     "output_type": "display_data"
    },
    {
     "data": {
      "text/plain": [
       "array([0, 1, 2, 3, 4, 5, 6, 7, 8, 9])"
      ]
     },
     "metadata": {},
     "output_type": "display_data"
    },
    {
     "data": {
      "text/plain": [
       "'remove_negative_sign np.abs'"
      ]
     },
     "metadata": {},
     "output_type": "display_data"
    },
    {
     "data": {
      "text/plain": [
       "array([0, 1, 2, 3, 4, 5, 6, 7, 8, 9])"
      ]
     },
     "metadata": {},
     "output_type": "display_data"
    },
    {
     "data": {
      "text/plain": [
       "'remove_negative_sign np.fabs'"
      ]
     },
     "metadata": {},
     "output_type": "display_data"
    },
    {
     "data": {
      "text/plain": [
       "array([0., 1., 2., 3., 4., 5., 6., 7., 8., 9.])"
      ]
     },
     "metadata": {},
     "output_type": "display_data"
    }
   ],
   "source": [
    "# abs, fabs Compute the absolute value element-wise for integer, oating-point, or complex values\n",
    "display(\"arr\",arr)\n",
    "remove_negative_sign = np.abs(arr)\n",
    "display(\"remove_negative_sign np.abs\",remove_negative_sign)\n",
    "remove_negative_sign_fabs = np.fabs(arr)\n",
    "display(\"remove_negative_sign np.fabs\",remove_negative_sign_fabs)"
   ]
  },
  {
   "cell_type": "code",
   "execution_count": 78,
   "id": "b26c71fd",
   "metadata": {},
   "outputs": [
    {
     "data": {
      "text/plain": [
       "'arr'"
      ]
     },
     "metadata": {},
     "output_type": "display_data"
    },
    {
     "data": {
      "text/plain": [
       "array([0, 1, 2, 3, 4, 5, 6, 7, 8, 9])"
      ]
     },
     "metadata": {},
     "output_type": "display_data"
    },
    {
     "data": {
      "text/plain": [
       "'remove_negative_sign np.fabs'"
      ]
     },
     "metadata": {},
     "output_type": "display_data"
    },
    {
     "data": {
      "text/plain": [
       "array([0., 1., 2., 3., 4., 5., 6., 7., 8., 9.])"
      ]
     },
     "metadata": {},
     "output_type": "display_data"
    }
   ],
   "source": [
    "display(\"arr\",arr)\n",
    "remove_negative_sign = np.fabs(arr)\n",
    "display(\"remove_negative_sign np.fabs\",remove_negative_sign)"
   ]
  },
  {
   "cell_type": "code",
   "execution_count": 79,
   "id": "4d85b047",
   "metadata": {},
   "outputs": [
    {
     "data": {
      "text/plain": [
       "array([0, 1, 2, 3, 4, 5, 6, 7, 8, 9])"
      ]
     },
     "metadata": {},
     "output_type": "display_data"
    }
   ],
   "source": [
    "arr = np.arange(10)\n",
    "display(arr)"
   ]
  },
  {
   "cell_type": "code",
   "execution_count": 80,
   "id": "186d8469",
   "metadata": {},
   "outputs": [
    {
     "data": {
      "text/plain": [
       "array([0, 1, 2, 3, 4, 5, 6, 7, 8, 9])"
      ]
     },
     "execution_count": 80,
     "metadata": {},
     "output_type": "execute_result"
    }
   ],
   "source": [
    "np.abs(arr)"
   ]
  },
  {
   "cell_type": "code",
   "execution_count": 81,
   "id": "66ae9680",
   "metadata": {
    "scrolled": true
   },
   "outputs": [
    {
     "data": {
      "text/plain": [
       "array([ True,  True,  True,  True,  True,  True,  True,  True,  True,\n",
       "        True])"
      ]
     },
     "execution_count": 81,
     "metadata": {},
     "output_type": "execute_result"
    }
   ],
   "source": [
    "np.isfinite(arr)"
   ]
  },
  {
   "cell_type": "code",
   "execution_count": 112,
   "id": "60122ce9",
   "metadata": {
    "scrolled": false
   },
   "outputs": [
    {
     "name": "stdout",
     "output_type": "stream",
     "text": [
      "[  1   2   3   4   5   6   7   8   9  10  11  12  13  14  15  16  17  18\n",
      "  19  20  21  22  23  24  25  26  27  28  29  30  31  32  33  34  35  36\n",
      "  37  38  39  40  41  42  43  44  45  46  47  48  49  50  51  52  53  54\n",
      "  55  56  57  58  59  60  61  62  63  64  65  66  67  68  69  70  71  72\n",
      "  73  74  75  76  77  78  79  80  81  82  83  84  85  86  87  88  89  90\n",
      "  91  92  93  94  95  96  97  98  99 100]\n"
     ]
    }
   ],
   "source": [
    "import numpy as np \n",
    " \n",
    "data=np.arange(1,101,dtype=int) \n",
    "for i in range(len(data)): \n",
    "    if(i%2==1): \n",
    "        data[i]=-1 \n",
    "    print(data) \n",
    "    break\n",
    "#data"
   ]
  },
  {
   "cell_type": "code",
   "execution_count": 118,
   "id": "b0fceb05",
   "metadata": {},
   "outputs": [
    {
     "name": "stdout",
     "output_type": "stream",
     "text": [
      "[0 1 2 3 4 5 6 7 8 9]\n"
     ]
    }
   ],
   "source": [
    "arr = np.array([0, 1, 2, 3, 4, 5, 6, 7, 8, 9])\n",
    "for i in arr:\n",
    "    if(i%2==1):\n",
    "        arr[i]=-1\n",
    "    print(arr)\n",
    "    break"
   ]
  },
  {
   "cell_type": "code",
   "execution_count": 131,
   "id": "d873eb58",
   "metadata": {},
   "outputs": [
    {
     "name": "stdout",
     "output_type": "stream",
     "text": [
      "The clipped array: [9 9 9 9 9 9 9]\n"
     ]
    }
   ],
   "source": [
    "import numpy as np\n",
    "\n",
    "new_array = np.array([12,15,17,18,23,26,45])\n",
    "#ass =(new_array%2)\n",
    "#print(ass==0)\n",
    "out = np.clip(new_array, new_array%2==1, 9)\n",
    "print(\"The clipped array:\", out)"
   ]
  },
  {
   "cell_type": "code",
   "execution_count": 132,
   "id": "e9f390a2",
   "metadata": {},
   "outputs": [
    {
     "name": "stdout",
     "output_type": "stream",
     "text": [
      "[[0. 1. 0.]\n",
      " [1. 0. 0.]\n",
      " [0. 0. 1.]\n",
      " [0. 1. 0.]\n",
      " [1. 0. 0.]]\n"
     ]
    }
   ],
   "source": [
    "#write a email for customer that return the product but could get his money back\n",
    "import numpy as np\n",
    "\n",
    "def one_hot_encode(array):\n",
    "    unique_values = np.unique(array)\n",
    "    one_hot_encodings = np.eye(len(unique_values))[array]\n",
    "    return one_hot_encodings\n",
    "\n",
    "array = np.array([1, 0, 2, 1, 0])\n",
    "one_hot_encodings = one_hot_encode(array)\n",
    "print(one_hot_encodings)\n"
   ]
  },
  {
   "cell_type": "code",
   "execution_count": 4,
   "id": "4aad9315",
   "metadata": {},
   "outputs": [
    {
     "data": {
      "text/plain": [
       "array([1, 0, 2, 1, 0])"
      ]
     },
     "metadata": {},
     "output_type": "display_data"
    },
    {
     "data": {
      "text/plain": [
       "array([0, 1, 2])"
      ]
     },
     "metadata": {},
     "output_type": "display_data"
    },
    {
     "data": {
      "text/plain": [
       "array([[0., 1., 0.],\n",
       "       [1., 0., 0.],\n",
       "       [0., 0., 1.],\n",
       "       [0., 1., 0.],\n",
       "       [1., 0., 0.]])"
      ]
     },
     "metadata": {},
     "output_type": "display_data"
    }
   ],
   "source": [
    "import numpy as np\n",
    "array = np.array([1, 0, 2, 1, 0])\n",
    "display(array)\n",
    "unique_values = np.unique(array)\n",
    "display(unique_values)\n",
    "one_hot_encodings = np.eye(len(unique_values))[array]\n",
    "display(one_hot_encodings)"
   ]
  },
  {
   "cell_type": "code",
   "execution_count": 5,
   "id": "556e3f03",
   "metadata": {},
   "outputs": [
    {
     "name": "stdout",
     "output_type": "stream",
     "text": [
      "[7 7 5 7 7 8]\n"
     ]
    }
   ],
   "source": [
    "import numpy as np\n",
    "\n",
    "def count_unique_values_row_wise(arr):\n",
    "    counts = np.empty(arr.shape[0], dtype=int)\n",
    "    for i, row in enumerate(arr):\n",
    "        unique_values = set(row)\n",
    "        count = len(unique_values)\n",
    "        counts[i] = count\n",
    "    return counts\n",
    "\n",
    "np.random.seed(100)\n",
    "arr = np.random.randint(1,11,size=(6, 10))\n",
    "print(count_unique_values_row_wise(arr))\n"
   ]
  },
  {
   "cell_type": "code",
   "execution_count": 3,
   "id": "964961bf",
   "metadata": {},
   "outputs": [
    {
     "data": {
      "text/plain": [
       "array([[ 9,  9,  4,  8,  8,  1,  5,  3,  6,  3],\n",
       "       [ 3,  3,  2,  1,  9,  5,  1, 10,  7,  3],\n",
       "       [ 5,  2,  6,  4,  5,  5,  4,  8,  2,  2],\n",
       "       [ 8,  8,  1,  3, 10, 10,  4,  3,  6,  9],\n",
       "       [ 2,  1,  8,  7,  3,  1,  9,  3,  6,  2],\n",
       "       [ 9,  2,  6,  5,  3,  9,  4,  6,  1, 10]])"
      ]
     },
     "metadata": {},
     "output_type": "display_data"
    },
    {
     "data": {
      "text/plain": [
       "array([[4, 3, 0, 0, 0, 0, 0, 0, 0, 0],\n",
       "       [5, 1, 1, 0, 0, 0, 0, 0, 0, 0],\n",
       "       [2, 1, 2, 0, 0, 0, 0, 0, 0, 0],\n",
       "       [4, 3, 0, 0, 0, 0, 0, 0, 0, 0],\n",
       "       [4, 3, 0, 0, 0, 0, 0, 0, 0, 0],\n",
       "       [6, 2, 0, 0, 0, 0, 0, 0, 0, 0]], dtype=int64)"
      ]
     },
     "metadata": {},
     "output_type": "display_data"
    }
   ],
   "source": [
    "import numpy as np\n",
    "np.random.seed(100)\n",
    "arr = np.random.randint(1,11,size=(6, 10))\n",
    "display(arr)\n",
    "counts = [np.unique(row, return_counts=True)[1] for row in arr]\n",
    "counts = np.array([np.bincount(np.unique(row, return_counts=True)[1], minlength=11) for row in arr])[:, 1:]\n",
    "display(counts)"
   ]
  },
  {
   "cell_type": "code",
   "execution_count": 14,
   "id": "9850f774",
   "metadata": {},
   "outputs": [
    {
     "data": {
      "text/plain": [
       "array([[ 9,  9,  4,  8,  8,  1,  5,  3,  6,  3],\n",
       "       [ 3,  3,  2,  1,  9,  5,  1, 10,  7,  3],\n",
       "       [ 5,  2,  6,  4,  5,  5,  4,  8,  2,  2],\n",
       "       [ 8,  8,  1,  3, 10, 10,  4,  3,  6,  9],\n",
       "       [ 2,  1,  8,  7,  3,  1,  9,  3,  6,  2],\n",
       "       [ 9,  2,  6,  5,  3,  9,  4,  6,  1, 10]])"
      ]
     },
     "metadata": {},
     "output_type": "display_data"
    },
    {
     "data": {
      "text/plain": [
       "'you'"
      ]
     },
     "metadata": {},
     "output_type": "display_data"
    },
    {
     "data": {
      "text/plain": [
       "array([[0, 1, 0, 2, 1, 1, 1, 0, 2, 2]], dtype=int64)"
      ]
     },
     "metadata": {},
     "output_type": "display_data"
    },
    {
     "data": {
      "text/plain": [
       "'you'"
      ]
     },
     "metadata": {},
     "output_type": "display_data"
    },
    {
     "data": {
      "text/plain": [
       "array([[0, 2, 1, 3, 0, 1, 0, 1, 0, 1, 1]], dtype=int64)"
      ]
     },
     "metadata": {},
     "output_type": "display_data"
    },
    {
     "data": {
      "text/plain": [
       "'you'"
      ]
     },
     "metadata": {},
     "output_type": "display_data"
    },
    {
     "data": {
      "text/plain": [
       "array([[0, 0, 3, 0, 2, 3, 1, 0, 1]], dtype=int64)"
      ]
     },
     "metadata": {},
     "output_type": "display_data"
    },
    {
     "data": {
      "text/plain": [
       "'you'"
      ]
     },
     "metadata": {},
     "output_type": "display_data"
    },
    {
     "data": {
      "text/plain": [
       "array([[0, 1, 0, 2, 1, 0, 1, 0, 2, 1, 2]], dtype=int64)"
      ]
     },
     "metadata": {},
     "output_type": "display_data"
    },
    {
     "data": {
      "text/plain": [
       "'you'"
      ]
     },
     "metadata": {},
     "output_type": "display_data"
    },
    {
     "data": {
      "text/plain": [
       "array([[0, 2, 2, 2, 0, 0, 1, 1, 1, 1]], dtype=int64)"
      ]
     },
     "metadata": {},
     "output_type": "display_data"
    },
    {
     "data": {
      "text/plain": [
       "'you'"
      ]
     },
     "metadata": {},
     "output_type": "display_data"
    },
    {
     "data": {
      "text/plain": [
       "array([[0, 1, 1, 1, 1, 1, 2, 0, 0, 2, 1]], dtype=int64)"
      ]
     },
     "metadata": {},
     "output_type": "display_data"
    }
   ],
   "source": [
    "np.random.seed(100)\n",
    "arr = np.random.randint(1,11,size=(6, 10))\n",
    "display(arr)\n",
    "for row in arr:\n",
    "    counts = np.unique(row, return_counts=True)\n",
    "    #display(counts)\n",
    "    counts = np.unique(row, return_counts=True)[1]\n",
    "    #display(counts)\n",
    "    #return_counts=True tell howmany times a particular element come in list/array and\n",
    "    #if add [1] so it only bring the which would have quantity of unique element apprence only not array of unique eelements \n",
    "    counts = np.array([np.bincount(row)])\n",
    "    display(\"you\",counts)"
   ]
  },
  {
   "cell_type": "code",
   "execution_count": null,
   "id": "5ce92bfa",
   "metadata": {},
   "outputs": [],
   "source": [
    "[[ 9,  9,  4,  8,  8,  1,  5,  3,  6,  3]\n",
    "[[0, 1, 0, 2, 1, 1, 1, 0, 2, 2]]\n",
    "[1, 3, 4, 5, 6, 8, 9]\n",
    "[1, 2, 1, 1, 1, 2, 2]"
   ]
  }
 ],
 "metadata": {
  "kernelspec": {
   "display_name": "Python 3 (ipykernel)",
   "language": "python",
   "name": "python3"
  },
  "language_info": {
   "codemirror_mode": {
    "name": "ipython",
    "version": 3
   },
   "file_extension": ".py",
   "mimetype": "text/x-python",
   "name": "python",
   "nbconvert_exporter": "python",
   "pygments_lexer": "ipython3",
   "version": "3.9.12"
  }
 },
 "nbformat": 4,
 "nbformat_minor": 5
}
