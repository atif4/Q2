{
  "cells": [
    {
      "cell_type": "markdown",
      "metadata": {
        "id": "view-in-github",
        "colab_type": "text"
      },
      "source": [
        "<a href=\"https://colab.research.google.com/github/atif4/Q2/blob/gh-pages/exams_binary_class_KFold_validation_.ipynb\" target=\"_parent\"><img src=\"https://colab.research.google.com/assets/colab-badge.svg\" alt=\"Open In Colab\"/></a>"
      ]
    },
    {
      "cell_type": "code",
      "execution_count": 1,
      "metadata": {
        "id": "L0bvCJQCRWoT"
      },
      "outputs": [],
      "source": [
        "#hide earrings \n",
        "import warnings\n",
        "warnings.filterwarnings('ignore')\n",
        "import pandas as pd\n",
        "import numpy as np"
      ]
    },
    {
      "cell_type": "code",
      "source": [
        "import matplotlib.pyplot as plt\n",
        "%matplotlib inline\n",
        "import seaborn as sns"
      ],
      "metadata": {
        "id": "X2x3Cuu2vjq9"
      },
      "execution_count": 2,
      "outputs": []
    },
    {
      "cell_type": "code",
      "execution_count": 3,
      "metadata": {
        "id": "MHNqLHWxRtUp"
      },
      "outputs": [],
      "source": [
        "from sklearn.model_selection import train_test_split\n",
        "from sklearn import preprocessing\n",
        "from sklearn.preprocessing import LabelEncoder"
      ]
    },
    {
      "cell_type": "code",
      "execution_count": 4,
      "metadata": {
        "id": "UUkL_APQRuRV"
      },
      "outputs": [],
      "source": [
        "\"\"\"from tensorflow.keras.models import Sequential\n",
        "from tensorflow.keras.layers import Dense\n",
        "from tensorflow.keras.optimizers import Adam, SGD\n",
        "\n",
        "\"\"\"\n",
        "# ask question about the difference \n",
        "from keras import models\n",
        "from keras import layers"
      ]
    },
    {
      "cell_type": "code",
      "execution_count": 5,
      "metadata": {
        "colab": {
          "base_uri": "https://localhost:8080/",
          "height": 424
        },
        "id": "z_cHnOXlRxMk",
        "outputId": "95ae1834-d14a-4fcc-f6d3-65086245ab94"
      },
      "outputs": [
        {
          "output_type": "execute_result",
          "data": {
            "text/plain": [
              "     gender race/ethnicity parental level of education         lunch  \\\n",
              "0      male        group A                 high school      standard   \n",
              "1    female        group D            some high school  free/reduced   \n",
              "2      male        group E                some college  free/reduced   \n",
              "3      male        group B                 high school      standard   \n",
              "4      male        group E          associate's degree      standard   \n",
              "..      ...            ...                         ...           ...   \n",
              "995    male        group C                 high school      standard   \n",
              "996    male        group D          associate's degree  free/reduced   \n",
              "997  female        group C            some high school  free/reduced   \n",
              "998  female        group C                some college      standard   \n",
              "999    male        group A                some college      standard   \n",
              "\n",
              "    test preparation course  math score  reading score  writing score  \n",
              "0                 completed          67             67             63  \n",
              "1                      none          40             59             55  \n",
              "2                      none          59             60             50  \n",
              "3                      none          77             78             68  \n",
              "4                 completed          78             73             68  \n",
              "..                      ...         ...            ...            ...  \n",
              "995                    none          73             70             65  \n",
              "996               completed          85             91             92  \n",
              "997                    none          32             35             41  \n",
              "998                    none          73             74             82  \n",
              "999               completed          65             60             62  \n",
              "\n",
              "[1000 rows x 8 columns]"
            ],
            "text/html": [
              "\n",
              "  <div id=\"df-807cc70a-ce57-4bb6-995e-3c4800c53d35\">\n",
              "    <div class=\"colab-df-container\">\n",
              "      <div>\n",
              "<style scoped>\n",
              "    .dataframe tbody tr th:only-of-type {\n",
              "        vertical-align: middle;\n",
              "    }\n",
              "\n",
              "    .dataframe tbody tr th {\n",
              "        vertical-align: top;\n",
              "    }\n",
              "\n",
              "    .dataframe thead th {\n",
              "        text-align: right;\n",
              "    }\n",
              "</style>\n",
              "<table border=\"1\" class=\"dataframe\">\n",
              "  <thead>\n",
              "    <tr style=\"text-align: right;\">\n",
              "      <th></th>\n",
              "      <th>gender</th>\n",
              "      <th>race/ethnicity</th>\n",
              "      <th>parental level of education</th>\n",
              "      <th>lunch</th>\n",
              "      <th>test preparation course</th>\n",
              "      <th>math score</th>\n",
              "      <th>reading score</th>\n",
              "      <th>writing score</th>\n",
              "    </tr>\n",
              "  </thead>\n",
              "  <tbody>\n",
              "    <tr>\n",
              "      <th>0</th>\n",
              "      <td>male</td>\n",
              "      <td>group A</td>\n",
              "      <td>high school</td>\n",
              "      <td>standard</td>\n",
              "      <td>completed</td>\n",
              "      <td>67</td>\n",
              "      <td>67</td>\n",
              "      <td>63</td>\n",
              "    </tr>\n",
              "    <tr>\n",
              "      <th>1</th>\n",
              "      <td>female</td>\n",
              "      <td>group D</td>\n",
              "      <td>some high school</td>\n",
              "      <td>free/reduced</td>\n",
              "      <td>none</td>\n",
              "      <td>40</td>\n",
              "      <td>59</td>\n",
              "      <td>55</td>\n",
              "    </tr>\n",
              "    <tr>\n",
              "      <th>2</th>\n",
              "      <td>male</td>\n",
              "      <td>group E</td>\n",
              "      <td>some college</td>\n",
              "      <td>free/reduced</td>\n",
              "      <td>none</td>\n",
              "      <td>59</td>\n",
              "      <td>60</td>\n",
              "      <td>50</td>\n",
              "    </tr>\n",
              "    <tr>\n",
              "      <th>3</th>\n",
              "      <td>male</td>\n",
              "      <td>group B</td>\n",
              "      <td>high school</td>\n",
              "      <td>standard</td>\n",
              "      <td>none</td>\n",
              "      <td>77</td>\n",
              "      <td>78</td>\n",
              "      <td>68</td>\n",
              "    </tr>\n",
              "    <tr>\n",
              "      <th>4</th>\n",
              "      <td>male</td>\n",
              "      <td>group E</td>\n",
              "      <td>associate's degree</td>\n",
              "      <td>standard</td>\n",
              "      <td>completed</td>\n",
              "      <td>78</td>\n",
              "      <td>73</td>\n",
              "      <td>68</td>\n",
              "    </tr>\n",
              "    <tr>\n",
              "      <th>...</th>\n",
              "      <td>...</td>\n",
              "      <td>...</td>\n",
              "      <td>...</td>\n",
              "      <td>...</td>\n",
              "      <td>...</td>\n",
              "      <td>...</td>\n",
              "      <td>...</td>\n",
              "      <td>...</td>\n",
              "    </tr>\n",
              "    <tr>\n",
              "      <th>995</th>\n",
              "      <td>male</td>\n",
              "      <td>group C</td>\n",
              "      <td>high school</td>\n",
              "      <td>standard</td>\n",
              "      <td>none</td>\n",
              "      <td>73</td>\n",
              "      <td>70</td>\n",
              "      <td>65</td>\n",
              "    </tr>\n",
              "    <tr>\n",
              "      <th>996</th>\n",
              "      <td>male</td>\n",
              "      <td>group D</td>\n",
              "      <td>associate's degree</td>\n",
              "      <td>free/reduced</td>\n",
              "      <td>completed</td>\n",
              "      <td>85</td>\n",
              "      <td>91</td>\n",
              "      <td>92</td>\n",
              "    </tr>\n",
              "    <tr>\n",
              "      <th>997</th>\n",
              "      <td>female</td>\n",
              "      <td>group C</td>\n",
              "      <td>some high school</td>\n",
              "      <td>free/reduced</td>\n",
              "      <td>none</td>\n",
              "      <td>32</td>\n",
              "      <td>35</td>\n",
              "      <td>41</td>\n",
              "    </tr>\n",
              "    <tr>\n",
              "      <th>998</th>\n",
              "      <td>female</td>\n",
              "      <td>group C</td>\n",
              "      <td>some college</td>\n",
              "      <td>standard</td>\n",
              "      <td>none</td>\n",
              "      <td>73</td>\n",
              "      <td>74</td>\n",
              "      <td>82</td>\n",
              "    </tr>\n",
              "    <tr>\n",
              "      <th>999</th>\n",
              "      <td>male</td>\n",
              "      <td>group A</td>\n",
              "      <td>some college</td>\n",
              "      <td>standard</td>\n",
              "      <td>completed</td>\n",
              "      <td>65</td>\n",
              "      <td>60</td>\n",
              "      <td>62</td>\n",
              "    </tr>\n",
              "  </tbody>\n",
              "</table>\n",
              "<p>1000 rows × 8 columns</p>\n",
              "</div>\n",
              "      <button class=\"colab-df-convert\" onclick=\"convertToInteractive('df-807cc70a-ce57-4bb6-995e-3c4800c53d35')\"\n",
              "              title=\"Convert this dataframe to an interactive table.\"\n",
              "              style=\"display:none;\">\n",
              "        \n",
              "  <svg xmlns=\"http://www.w3.org/2000/svg\" height=\"24px\"viewBox=\"0 0 24 24\"\n",
              "       width=\"24px\">\n",
              "    <path d=\"M0 0h24v24H0V0z\" fill=\"none\"/>\n",
              "    <path d=\"M18.56 5.44l.94 2.06.94-2.06 2.06-.94-2.06-.94-.94-2.06-.94 2.06-2.06.94zm-11 1L8.5 8.5l.94-2.06 2.06-.94-2.06-.94L8.5 2.5l-.94 2.06-2.06.94zm10 10l.94 2.06.94-2.06 2.06-.94-2.06-.94-.94-2.06-.94 2.06-2.06.94z\"/><path d=\"M17.41 7.96l-1.37-1.37c-.4-.4-.92-.59-1.43-.59-.52 0-1.04.2-1.43.59L10.3 9.45l-7.72 7.72c-.78.78-.78 2.05 0 2.83L4 21.41c.39.39.9.59 1.41.59.51 0 1.02-.2 1.41-.59l7.78-7.78 2.81-2.81c.8-.78.8-2.07 0-2.86zM5.41 20L4 18.59l7.72-7.72 1.47 1.35L5.41 20z\"/>\n",
              "  </svg>\n",
              "      </button>\n",
              "      \n",
              "  <style>\n",
              "    .colab-df-container {\n",
              "      display:flex;\n",
              "      flex-wrap:wrap;\n",
              "      gap: 12px;\n",
              "    }\n",
              "\n",
              "    .colab-df-convert {\n",
              "      background-color: #E8F0FE;\n",
              "      border: none;\n",
              "      border-radius: 50%;\n",
              "      cursor: pointer;\n",
              "      display: none;\n",
              "      fill: #1967D2;\n",
              "      height: 32px;\n",
              "      padding: 0 0 0 0;\n",
              "      width: 32px;\n",
              "    }\n",
              "\n",
              "    .colab-df-convert:hover {\n",
              "      background-color: #E2EBFA;\n",
              "      box-shadow: 0px 1px 2px rgba(60, 64, 67, 0.3), 0px 1px 3px 1px rgba(60, 64, 67, 0.15);\n",
              "      fill: #174EA6;\n",
              "    }\n",
              "\n",
              "    [theme=dark] .colab-df-convert {\n",
              "      background-color: #3B4455;\n",
              "      fill: #D2E3FC;\n",
              "    }\n",
              "\n",
              "    [theme=dark] .colab-df-convert:hover {\n",
              "      background-color: #434B5C;\n",
              "      box-shadow: 0px 1px 3px 1px rgba(0, 0, 0, 0.15);\n",
              "      filter: drop-shadow(0px 1px 2px rgba(0, 0, 0, 0.3));\n",
              "      fill: #FFFFFF;\n",
              "    }\n",
              "  </style>\n",
              "\n",
              "      <script>\n",
              "        const buttonEl =\n",
              "          document.querySelector('#df-807cc70a-ce57-4bb6-995e-3c4800c53d35 button.colab-df-convert');\n",
              "        buttonEl.style.display =\n",
              "          google.colab.kernel.accessAllowed ? 'block' : 'none';\n",
              "\n",
              "        async function convertToInteractive(key) {\n",
              "          const element = document.querySelector('#df-807cc70a-ce57-4bb6-995e-3c4800c53d35');\n",
              "          const dataTable =\n",
              "            await google.colab.kernel.invokeFunction('convertToInteractive',\n",
              "                                                     [key], {});\n",
              "          if (!dataTable) return;\n",
              "\n",
              "          const docLinkHtml = 'Like what you see? Visit the ' +\n",
              "            '<a target=\"_blank\" href=https://colab.research.google.com/notebooks/data_table.ipynb>data table notebook</a>'\n",
              "            + ' to learn more about interactive tables.';\n",
              "          element.innerHTML = '';\n",
              "          dataTable['output_type'] = 'display_data';\n",
              "          await google.colab.output.renderOutput(dataTable, element);\n",
              "          const docLink = document.createElement('div');\n",
              "          docLink.innerHTML = docLinkHtml;\n",
              "          element.appendChild(docLink);\n",
              "        }\n",
              "      </script>\n",
              "    </div>\n",
              "  </div>\n",
              "  "
            ]
          },
          "metadata": {},
          "execution_count": 5
        }
      ],
      "source": [
        "df = pd.read_csv('/content/drive/MyDrive/Dataset/exams.csv')\n",
        "df"
      ]
    },
    {
      "cell_type": "code",
      "source": [
        "def get_percentage(total_number, col_id, conditional_name):\n",
        "  length = len(df[df[col_id]== conditional_name])\n",
        "  percentage = (length/total_number)*100\n",
        "  result = f\"The percentage of {conditional_name} is {percentage}\"\n",
        "  return result\n",
        "get_percentage(1000, 'gender', 'male')"
      ],
      "metadata": {
        "colab": {
          "base_uri": "https://localhost:8080/",
          "height": 35
        },
        "id": "3XIYWFArNjLS",
        "outputId": "729fcbcf-924b-4ba7-ea0b-1da64237be99"
      },
      "execution_count": 6,
      "outputs": [
        {
          "output_type": "execute_result",
          "data": {
            "text/plain": [
              "'The percentage of male is 51.7'"
            ],
            "application/vnd.google.colaboratory.intrinsic+json": {
              "type": "string"
            }
          },
          "metadata": {},
          "execution_count": 6
        }
      ]
    },
    {
      "cell_type": "code",
      "source": [
        "get_percentage(1000, 'gender', 'female')"
      ],
      "metadata": {
        "colab": {
          "base_uri": "https://localhost:8080/",
          "height": 35
        },
        "id": "aIySPOC6Ppav",
        "outputId": "37df5a71-1d5a-4450-dfb3-20e8b9f629d0"
      },
      "execution_count": 7,
      "outputs": [
        {
          "output_type": "execute_result",
          "data": {
            "text/plain": [
              "'The percentage of female is 48.3'"
            ],
            "application/vnd.google.colaboratory.intrinsic+json": {
              "type": "string"
            }
          },
          "metadata": {},
          "execution_count": 7
        }
      ]
    },
    {
      "cell_type": "code",
      "source": [
        "51.7+48.3"
      ],
      "metadata": {
        "colab": {
          "base_uri": "https://localhost:8080/"
        },
        "id": "Mhzwlx5zQdTJ",
        "outputId": "80b1aa6c-3a82-4c1c-e306-1708b14b0bf2"
      },
      "execution_count": 8,
      "outputs": [
        {
          "output_type": "execute_result",
          "data": {
            "text/plain": [
              "100.0"
            ]
          },
          "metadata": {},
          "execution_count": 8
        }
      ]
    },
    {
      "cell_type": "code",
      "execution_count": 9,
      "metadata": {
        "colab": {
          "base_uri": "https://localhost:8080/"
        },
        "id": "eZF6UrDcR-Z-",
        "outputId": "708f3ee9-801a-4eca-d937-f96d02669998"
      },
      "outputs": [
        {
          "output_type": "stream",
          "name": "stdout",
          "text": [
            "<class 'pandas.core.frame.DataFrame'>\n",
            "RangeIndex: 1000 entries, 0 to 999\n",
            "Data columns (total 8 columns):\n",
            " #   Column                       Non-Null Count  Dtype \n",
            "---  ------                       --------------  ----- \n",
            " 0   gender                       1000 non-null   object\n",
            " 1   race/ethnicity               1000 non-null   object\n",
            " 2   parental level of education  1000 non-null   object\n",
            " 3   lunch                        1000 non-null   object\n",
            " 4   test preparation course      1000 non-null   object\n",
            " 5   math score                   1000 non-null   int64 \n",
            " 6   reading score                1000 non-null   int64 \n",
            " 7   writing score                1000 non-null   int64 \n",
            "dtypes: int64(3), object(5)\n",
            "memory usage: 62.6+ KB\n"
          ]
        }
      ],
      "source": [
        "df.info()"
      ]
    },
    {
      "cell_type": "code",
      "source": [
        "def get_pair_plot(df_id,hue_id):\n",
        "    sns.pairplot(data= df_id,hue=hue_id)\n",
        "    plt.show()\n",
        "get_pair_plot(df, 'gender')"
      ],
      "metadata": {
        "colab": {
          "base_uri": "https://localhost:8080/",
          "height": 550
        },
        "id": "-tRvQx36vXd9",
        "outputId": "4c011600-dd58-417d-c049-eb4bb4109302"
      },
      "execution_count": 12,
      "outputs": [
        {
          "output_type": "display_data",
          "data": {
            "text/plain": [
              "<Figure size 610.5x540 with 12 Axes>"
            ],
            "image/png": "[encoded data removed]"
          },
          "metadata": {
            "needs_background": "light"
          }
        }
      ]
    },
    {
      "cell_type": "code",
      "source": [
        "def get_countplot(col_id, df_id,hu= \"gender\",pal=\"mako_r\",figsize=(6,4)):\n",
        "    #the parameter in which values are can be change at any time\n",
        "    plt.figure(figsize=figsize)\n",
        "    sns.countplot(x=col_id, data=df_id,hue=df_id[hu].sort_values(),palette=pal)\n",
        "    plt.show()\n",
        "get_countplot(\"gender\",df)"
      ],
      "metadata": {
        "colab": {
          "base_uri": "https://localhost:8080/",
          "height": 279
        },
        "id": "ueATEo2bwHjy",
        "outputId": "32de9726-a40c-465c-e5e9-79e40ea0a949"
      },
      "execution_count": 13,
      "outputs": [
        {
          "output_type": "display_data",
          "data": {
            "text/plain": [
              "<Figure size 432x288 with 1 Axes>"
            ],
            "image/png": "[encoded data removed]"
          },
          "metadata": {
            "needs_background": "light"
          }
        }
      ]
    },
    {
      "cell_type": "code",
      "source": [
        "get_countplot('gender',df,'race/ethnicity')"
      ],
      "metadata": {
        "colab": {
          "base_uri": "https://localhost:8080/",
          "height": 279
        },
        "id": "-xyYbxO3wr5l",
        "outputId": "739b28bd-6a9c-441d-f874-91e10959c646"
      },
      "execution_count": 14,
      "outputs": [
        {
          "output_type": "display_data",
          "data": {
            "text/plain": [
              "<Figure size 432x288 with 1 Axes>"
            ],
            "image/png": "[encoded data removed]"
          },
          "metadata": {
            "needs_background": "light"
          }
        }
      ]
    },
    {
      "cell_type": "code",
      "source": [
        "get_countplot('gender',df,'lunch')"
      ],
      "metadata": {
        "colab": {
          "base_uri": "https://localhost:8080/",
          "height": 279
        },
        "id": "VQLX33JJwz5l",
        "outputId": "31fb4102-e220-4fcb-ab3f-19076e73ba5a"
      },
      "execution_count": 15,
      "outputs": [
        {
          "output_type": "display_data",
          "data": {
            "text/plain": [
              "<Figure size 432x288 with 1 Axes>"
            ],
            "image/png": "[encoded data removed]"
          },
          "metadata": {
            "needs_background": "light"
          }
        }
      ]
    },
    {
      "cell_type": "code",
      "source": [
        "get_countplot('gender',df,'test preparation course')"
      ],
      "metadata": {
        "colab": {
          "base_uri": "https://localhost:8080/",
          "height": 279
        },
        "id": "3X0iGXJjw4bF",
        "outputId": "9a51b406-ed15-4149-8c14-e285d891c013"
      },
      "execution_count": 16,
      "outputs": [
        {
          "output_type": "display_data",
          "data": {
            "text/plain": [
              "<Figure size 432x288 with 1 Axes>"
            ],
            "image/png": "[encoded data removed]"
          },
          "metadata": {
            "needs_background": "light"
          }
        }
      ]
    },
    {
      "cell_type": "code",
      "source": [
        "def get_hist_plot(df_id, c_id, hue='gender', kde=True, line_kws = {'color':'red','linestyle': 'dashed'},pal=\"mako_r\",alpha=1.0):\n",
        "    sns.histplot(data=df_id, x=c_id, hue=hue, kde=True, line_kws=line_kws,palette=pal,alpha=alpha,)\n",
        "    plt.show()\n",
        "get_hist_plot(df,'reading score')"
      ],
      "metadata": {
        "colab": {
          "base_uri": "https://localhost:8080/",
          "height": 279
        },
        "id": "JcDIph9VxhwA",
        "outputId": "f0857f3b-8592-461f-9654-50da2dd1f4ce"
      },
      "execution_count": 17,
      "outputs": [
        {
          "output_type": "display_data",
          "data": {
            "text/plain": [
              "<Figure size 432x288 with 1 Axes>"
            ],
            "image/png": "[encoded data removed]"
          },
          "metadata": {
            "needs_background": "light"
          }
        }
      ]
    },
    {
      "cell_type": "code",
      "source": [
        "get_hist_plot(df,'math score')"
      ],
      "metadata": {
        "colab": {
          "base_uri": "https://localhost:8080/",
          "height": 279
        },
        "id": "BGij5T9UxqbT",
        "outputId": "537d1cd5-13f1-4d0e-9eee-6d83e4e2de99"
      },
      "execution_count": 18,
      "outputs": [
        {
          "output_type": "display_data",
          "data": {
            "text/plain": [
              "<Figure size 432x288 with 1 Axes>"
            ],
            "image/png": "[encoded data removed]"
          },
          "metadata": {
            "needs_background": "light"
          }
        }
      ]
    },
    {
      "cell_type": "code",
      "source": [
        "get_hist_plot(df,'writing score')"
      ],
      "metadata": {
        "colab": {
          "base_uri": "https://localhost:8080/",
          "height": 279
        },
        "id": "lk37gHYHxyMk",
        "outputId": "b82f2f80-3cc1-4f79-8120-29cad98d3117"
      },
      "execution_count": 19,
      "outputs": [
        {
          "output_type": "display_data",
          "data": {
            "text/plain": [
              "<Figure size 432x288 with 1 Axes>"
            ],
            "image/png": "[encoded data removed]"
          },
          "metadata": {
            "needs_background": "light"
          }
        }
      ]
    },
    {
      "cell_type": "code",
      "source": [
        "def get_heatmap(df_id):\n",
        "    sns.heatmap(df_id.corr(),annot=True)\n",
        "get_heatmap(df)"
      ],
      "metadata": {
        "colab": {
          "base_uri": "https://localhost:8080/",
          "height": 269
        },
        "id": "_Cpa0P_ex5IP",
        "outputId": "a07ab716-72c2-4ba8-a0d6-3b3b026c1c63"
      },
      "execution_count": 20,
      "outputs": [
        {
          "output_type": "display_data",
          "data": {
            "text/plain": [
              "<Figure size 432x288 with 2 Axes>"
            ],
            "image/png": "[encoded data removed]"
          },
          "metadata": {
            "needs_background": "light"
          }
        }
      ]
    },
    {
      "cell_type": "code",
      "source": [
        "df['race/ethnicity'].value_counts()"
      ],
      "metadata": {
        "colab": {
          "base_uri": "https://localhost:8080/"
        },
        "id": "7ZaY0FpdfQ6K",
        "outputId": "6fa46f78-e965-4d07-fd37-e0bd6e026f97"
      },
      "execution_count": 21,
      "outputs": [
        {
          "output_type": "execute_result",
          "data": {
            "text/plain": [
              "group C    323\n",
              "group D    262\n",
              "group B    205\n",
              "group E    131\n",
              "group A     79\n",
              "Name: race/ethnicity, dtype: int64"
            ]
          },
          "metadata": {},
          "execution_count": 21
        }
      ]
    },
    {
      "cell_type": "code",
      "source": [
        "df['lunch'].value_counts()"
      ],
      "metadata": {
        "colab": {
          "base_uri": "https://localhost:8080/"
        },
        "id": "n-BvTV74y4i-",
        "outputId": "569bae35-a092-4c82-99bd-2cb9386e7c83"
      },
      "execution_count": 22,
      "outputs": [
        {
          "output_type": "execute_result",
          "data": {
            "text/plain": [
              "standard        652\n",
              "free/reduced    348\n",
              "Name: lunch, dtype: int64"
            ]
          },
          "metadata": {},
          "execution_count": 22
        }
      ]
    },
    {
      "cell_type": "code",
      "source": [
        "df['parental level of education'].value_counts()"
      ],
      "metadata": {
        "colab": {
          "base_uri": "https://localhost:8080/"
        },
        "id": "te10x9X3y6H6",
        "outputId": "9e346e74-a521-4093-f104-c64502cc7305"
      },
      "execution_count": 23,
      "outputs": [
        {
          "output_type": "execute_result",
          "data": {
            "text/plain": [
              "some college          222\n",
              "associate's degree    203\n",
              "high school           202\n",
              "some high school      191\n",
              "bachelor's degree     112\n",
              "master's degree        70\n",
              "Name: parental level of education, dtype: int64"
            ]
          },
          "metadata": {},
          "execution_count": 23
        }
      ]
    },
    {
      "cell_type": "code",
      "source": [
        "df['test preparation course'].value_counts()"
      ],
      "metadata": {
        "colab": {
          "base_uri": "https://localhost:8080/"
        },
        "id": "xm7N64yHy7VX",
        "outputId": "502e4a19-f1d9-4f1e-8c33-6214b06a86d9"
      },
      "execution_count": 24,
      "outputs": [
        {
          "output_type": "execute_result",
          "data": {
            "text/plain": [
              "none         665\n",
              "completed    335\n",
              "Name: test preparation course, dtype: int64"
            ]
          },
          "metadata": {},
          "execution_count": 24
        }
      ]
    },
    {
      "cell_type": "code",
      "source": [
        "def get_labed_encoder(col_ids_list):\n",
        "    for col_id_list in col_ids_list:\n",
        "        df[col_id_list] = df[col_id_list].apply(LabelEncoder().fit_transform)\n",
        "get_labed_encoder([[\"gender\",\"race/ethnicity\",\"parental level of education\",\"lunch\",\"test preparation course\"]])"
      ],
      "metadata": {
        "id": "WffQM_BBa9I3"
      },
      "execution_count": 25,
      "outputs": []
    },
    {
      "cell_type": "code",
      "source": [
        "df"
      ],
      "metadata": {
        "colab": {
          "base_uri": "https://localhost:8080/",
          "height": 424
        },
        "id": "jJ6KFQKzbtEq",
        "outputId": "11fb7d43-03d3-4c2f-a1ed-2fcae646986b"
      },
      "execution_count": 26,
      "outputs": [
        {
          "output_type": "execute_result",
          "data": {
            "text/plain": [
              "     gender  race/ethnicity  parental level of education  lunch  \\\n",
              "0         1               0                            2      1   \n",
              "1         0               3                            5      0   \n",
              "2         1               4                            4      0   \n",
              "3         1               1                            2      1   \n",
              "4         1               4                            0      1   \n",
              "..      ...             ...                          ...    ...   \n",
              "995       1               2                            2      1   \n",
              "996       1               3                            0      0   \n",
              "997       0               2                            5      0   \n",
              "998       0               2                            4      1   \n",
              "999       1               0                            4      1   \n",
              "\n",
              "     test preparation course  math score  reading score  writing score  \n",
              "0                          0          67             67             63  \n",
              "1                          1          40             59             55  \n",
              "2                          1          59             60             50  \n",
              "3                          1          77             78             68  \n",
              "4                          0          78             73             68  \n",
              "..                       ...         ...            ...            ...  \n",
              "995                        1          73             70             65  \n",
              "996                        0          85             91             92  \n",
              "997                        1          32             35             41  \n",
              "998                        1          73             74             82  \n",
              "999                        0          65             60             62  \n",
              "\n",
              "[1000 rows x 8 columns]"
            ],
            "text/html": [
              "\n",
              "  <div id=\"df-d2b9fa36-154d-429b-94e7-0bd82eeaaa0d\">\n",
              "    <div class=\"colab-df-container\">\n",
              "      <div>\n",
              "<style scoped>\n",
              "    .dataframe tbody tr th:only-of-type {\n",
              "        vertical-align: middle;\n",
              "    }\n",
              "\n",
              "    .dataframe tbody tr th {\n",
              "        vertical-align: top;\n",
              "    }\n",
              "\n",
              "    .dataframe thead th {\n",
              "        text-align: right;\n",
              "    }\n",
              "</style>\n",
              "<table border=\"1\" class=\"dataframe\">\n",
              "  <thead>\n",
              "    <tr style=\"text-align: right;\">\n",
              "      <th></th>\n",
              "      <th>gender</th>\n",
              "      <th>race/ethnicity</th>\n",
              "      <th>parental level of education</th>\n",
              "      <th>lunch</th>\n",
              "      <th>test preparation course</th>\n",
              "      <th>math score</th>\n",
              "      <th>reading score</th>\n",
              "      <th>writing score</th>\n",
              "    </tr>\n",
              "  </thead>\n",
              "  <tbody>\n",
              "    <tr>\n",
              "      <th>0</th>\n",
              "      <td>1</td>\n",
              "      <td>0</td>\n",
              "      <td>2</td>\n",
              "      <td>1</td>\n",
              "      <td>0</td>\n",
              "      <td>67</td>\n",
              "      <td>67</td>\n",
              "      <td>63</td>\n",
              "    </tr>\n",
              "    <tr>\n",
              "      <th>1</th>\n",
              "      <td>0</td>\n",
              "      <td>3</td>\n",
              "      <td>5</td>\n",
              "      <td>0</td>\n",
              "      <td>1</td>\n",
              "      <td>40</td>\n",
              "      <td>59</td>\n",
              "      <td>55</td>\n",
              "    </tr>\n",
              "    <tr>\n",
              "      <th>2</th>\n",
              "      <td>1</td>\n",
              "      <td>4</td>\n",
              "      <td>4</td>\n",
              "      <td>0</td>\n",
              "      <td>1</td>\n",
              "      <td>59</td>\n",
              "      <td>60</td>\n",
              "      <td>50</td>\n",
              "    </tr>\n",
              "    <tr>\n",
              "      <th>3</th>\n",
              "      <td>1</td>\n",
              "      <td>1</td>\n",
              "      <td>2</td>\n",
              "      <td>1</td>\n",
              "      <td>1</td>\n",
              "      <td>77</td>\n",
              "      <td>78</td>\n",
              "      <td>68</td>\n",
              "    </tr>\n",
              "    <tr>\n",
              "      <th>4</th>\n",
              "      <td>1</td>\n",
              "      <td>4</td>\n",
              "      <td>0</td>\n",
              "      <td>1</td>\n",
              "      <td>0</td>\n",
              "      <td>78</td>\n",
              "      <td>73</td>\n",
              "      <td>68</td>\n",
              "    </tr>\n",
              "    <tr>\n",
              "      <th>...</th>\n",
              "      <td>...</td>\n",
              "      <td>...</td>\n",
              "      <td>...</td>\n",
              "      <td>...</td>\n",
              "      <td>...</td>\n",
              "      <td>...</td>\n",
              "      <td>...</td>\n",
              "      <td>...</td>\n",
              "    </tr>\n",
              "    <tr>\n",
              "      <th>995</th>\n",
              "      <td>1</td>\n",
              "      <td>2</td>\n",
              "      <td>2</td>\n",
              "      <td>1</td>\n",
              "      <td>1</td>\n",
              "      <td>73</td>\n",
              "      <td>70</td>\n",
              "      <td>65</td>\n",
              "    </tr>\n",
              "    <tr>\n",
              "      <th>996</th>\n",
              "      <td>1</td>\n",
              "      <td>3</td>\n",
              "      <td>0</td>\n",
              "      <td>0</td>\n",
              "      <td>0</td>\n",
              "      <td>85</td>\n",
              "      <td>91</td>\n",
              "      <td>92</td>\n",
              "    </tr>\n",
              "    <tr>\n",
              "      <th>997</th>\n",
              "      <td>0</td>\n",
              "      <td>2</td>\n",
              "      <td>5</td>\n",
              "      <td>0</td>\n",
              "      <td>1</td>\n",
              "      <td>32</td>\n",
              "      <td>35</td>\n",
              "      <td>41</td>\n",
              "    </tr>\n",
              "    <tr>\n",
              "      <th>998</th>\n",
              "      <td>0</td>\n",
              "      <td>2</td>\n",
              "      <td>4</td>\n",
              "      <td>1</td>\n",
              "      <td>1</td>\n",
              "      <td>73</td>\n",
              "      <td>74</td>\n",
              "      <td>82</td>\n",
              "    </tr>\n",
              "    <tr>\n",
              "      <th>999</th>\n",
              "      <td>1</td>\n",
              "      <td>0</td>\n",
              "      <td>4</td>\n",
              "      <td>1</td>\n",
              "      <td>0</td>\n",
              "      <td>65</td>\n",
              "      <td>60</td>\n",
              "      <td>62</td>\n",
              "    </tr>\n",
              "  </tbody>\n",
              "</table>\n",
              "<p>1000 rows × 8 columns</p>\n",
              "</div>\n",
              "      <button class=\"colab-df-convert\" onclick=\"convertToInteractive('df-d2b9fa36-154d-429b-94e7-0bd82eeaaa0d')\"\n",
              "              title=\"Convert this dataframe to an interactive table.\"\n",
              "              style=\"display:none;\">\n",
              "        \n",
              "  <svg xmlns=\"http://www.w3.org/2000/svg\" height=\"24px\"viewBox=\"0 0 24 24\"\n",
              "       width=\"24px\">\n",
              "    <path d=\"M0 0h24v24H0V0z\" fill=\"none\"/>\n",
              "    <path d=\"M18.56 5.44l.94 2.06.94-2.06 2.06-.94-2.06-.94-.94-2.06-.94 2.06-2.06.94zm-11 1L8.5 8.5l.94-2.06 2.06-.94-2.06-.94L8.5 2.5l-.94 2.06-2.06.94zm10 10l.94 2.06.94-2.06 2.06-.94-2.06-.94-.94-2.06-.94 2.06-2.06.94z\"/><path d=\"M17.41 7.96l-1.37-1.37c-.4-.4-.92-.59-1.43-.59-.52 0-1.04.2-1.43.59L10.3 9.45l-7.72 7.72c-.78.78-.78 2.05 0 2.83L4 21.41c.39.39.9.59 1.41.59.51 0 1.02-.2 1.41-.59l7.78-7.78 2.81-2.81c.8-.78.8-2.07 0-2.86zM5.41 20L4 18.59l7.72-7.72 1.47 1.35L5.41 20z\"/>\n",
              "  </svg>\n",
              "      </button>\n",
              "      \n",
              "  <style>\n",
              "    .colab-df-container {\n",
              "      display:flex;\n",
              "      flex-wrap:wrap;\n",
              "      gap: 12px;\n",
              "    }\n",
              "\n",
              "    .colab-df-convert {\n",
              "      background-color: #E8F0FE;\n",
              "      border: none;\n",
              "      border-radius: 50%;\n",
              "      cursor: pointer;\n",
              "      display: none;\n",
              "      fill: #1967D2;\n",
              "      height: 32px;\n",
              "      padding: 0 0 0 0;\n",
              "      width: 32px;\n",
              "    }\n",
              "\n",
              "    .colab-df-convert:hover {\n",
              "      background-color: #E2EBFA;\n",
              "      box-shadow: 0px 1px 2px rgba(60, 64, 67, 0.3), 0px 1px 3px 1px rgba(60, 64, 67, 0.15);\n",
              "      fill: #174EA6;\n",
              "    }\n",
              "\n",
              "    [theme=dark] .colab-df-convert {\n",
              "      background-color: #3B4455;\n",
              "      fill: #D2E3FC;\n",
              "    }\n",
              "\n",
              "    [theme=dark] .colab-df-convert:hover {\n",
              "      background-color: #434B5C;\n",
              "      box-shadow: 0px 1px 3px 1px rgba(0, 0, 0, 0.15);\n",
              "      filter: drop-shadow(0px 1px 2px rgba(0, 0, 0, 0.3));\n",
              "      fill: #FFFFFF;\n",
              "    }\n",
              "  </style>\n",
              "\n",
              "      <script>\n",
              "        const buttonEl =\n",
              "          document.querySelector('#df-d2b9fa36-154d-429b-94e7-0bd82eeaaa0d button.colab-df-convert');\n",
              "        buttonEl.style.display =\n",
              "          google.colab.kernel.accessAllowed ? 'block' : 'none';\n",
              "\n",
              "        async function convertToInteractive(key) {\n",
              "          const element = document.querySelector('#df-d2b9fa36-154d-429b-94e7-0bd82eeaaa0d');\n",
              "          const dataTable =\n",
              "            await google.colab.kernel.invokeFunction('convertToInteractive',\n",
              "                                                     [key], {});\n",
              "          if (!dataTable) return;\n",
              "\n",
              "          const docLinkHtml = 'Like what you see? Visit the ' +\n",
              "            '<a target=\"_blank\" href=https://colab.research.google.com/notebooks/data_table.ipynb>data table notebook</a>'\n",
              "            + ' to learn more about interactive tables.';\n",
              "          element.innerHTML = '';\n",
              "          dataTable['output_type'] = 'display_data';\n",
              "          await google.colab.output.renderOutput(dataTable, element);\n",
              "          const docLink = document.createElement('div');\n",
              "          docLink.innerHTML = docLinkHtml;\n",
              "          element.appendChild(docLink);\n",
              "        }\n",
              "      </script>\n",
              "    </div>\n",
              "  </div>\n",
              "  "
            ]
          },
          "metadata": {},
          "execution_count": 26
        }
      ]
    },
    {
      "cell_type": "code",
      "execution_count": 27,
      "metadata": {
        "id": "ibefjwFkSIkD"
      },
      "outputs": [],
      "source": [
        "#df.drop(['lunch','race/ethnicity','parental level of education','test preparation course'], axis=1,inplace=True)"
      ]
    },
    {
      "cell_type": "code",
      "execution_count": 28,
      "metadata": {
        "id": "-pZkjU1ySMHC"
      },
      "outputs": [],
      "source": [
        "#df"
      ]
    },
    {
      "cell_type": "code",
      "execution_count": 29,
      "metadata": {
        "id": "lpBv4oxdSd3j"
      },
      "outputs": [],
      "source": [
        "#Separate Feature and Target Matrix\n",
        "def get_seprate_features(df_id,col_id):\n",
        "    #col_id is special col or target col b/c this the whole model is going to be created \n",
        "    global X, y\n",
        "    X = df_id.drop(col_id,axis = 1) \n",
        "    y = df_id[col_id]\n",
        "get_seprate_features(df,'gender')"
      ]
    },
    {
      "cell_type": "code",
      "execution_count": 30,
      "metadata": {
        "colab": {
          "base_uri": "https://localhost:8080/",
          "height": 424
        },
        "id": "I-pi711HSlkW",
        "outputId": "8cf341ed-124c-4a21-e0da-954a3970bbbd"
      },
      "outputs": [
        {
          "output_type": "execute_result",
          "data": {
            "text/plain": [
              "     race/ethnicity  parental level of education  lunch  \\\n",
              "0                 0                            2      1   \n",
              "1                 3                            5      0   \n",
              "2                 4                            4      0   \n",
              "3                 1                            2      1   \n",
              "4                 4                            0      1   \n",
              "..              ...                          ...    ...   \n",
              "995               2                            2      1   \n",
              "996               3                            0      0   \n",
              "997               2                            5      0   \n",
              "998               2                            4      1   \n",
              "999               0                            4      1   \n",
              "\n",
              "     test preparation course  math score  reading score  writing score  \n",
              "0                          0          67             67             63  \n",
              "1                          1          40             59             55  \n",
              "2                          1          59             60             50  \n",
              "3                          1          77             78             68  \n",
              "4                          0          78             73             68  \n",
              "..                       ...         ...            ...            ...  \n",
              "995                        1          73             70             65  \n",
              "996                        0          85             91             92  \n",
              "997                        1          32             35             41  \n",
              "998                        1          73             74             82  \n",
              "999                        0          65             60             62  \n",
              "\n",
              "[1000 rows x 7 columns]"
            ],
            "text/html": [
              "\n",
              "  <div id=\"df-f1064ebb-8fe8-4255-94f9-7f80fc1a1244\">\n",
              "    <div class=\"colab-df-container\">\n",
              "      <div>\n",
              "<style scoped>\n",
              "    .dataframe tbody tr th:only-of-type {\n",
              "        vertical-align: middle;\n",
              "    }\n",
              "\n",
              "    .dataframe tbody tr th {\n",
              "        vertical-align: top;\n",
              "    }\n",
              "\n",
              "    .dataframe thead th {\n",
              "        text-align: right;\n",
              "    }\n",
              "</style>\n",
              "<table border=\"1\" class=\"dataframe\">\n",
              "  <thead>\n",
              "    <tr style=\"text-align: right;\">\n",
              "      <th></th>\n",
              "      <th>race/ethnicity</th>\n",
              "      <th>parental level of education</th>\n",
              "      <th>lunch</th>\n",
              "      <th>test preparation course</th>\n",
              "      <th>math score</th>\n",
              "      <th>reading score</th>\n",
              "      <th>writing score</th>\n",
              "    </tr>\n",
              "  </thead>\n",
              "  <tbody>\n",
              "    <tr>\n",
              "      <th>0</th>\n",
              "      <td>0</td>\n",
              "      <td>2</td>\n",
              "      <td>1</td>\n",
              "      <td>0</td>\n",
              "      <td>67</td>\n",
              "      <td>67</td>\n",
              "      <td>63</td>\n",
              "    </tr>\n",
              "    <tr>\n",
              "      <th>1</th>\n",
              "      <td>3</td>\n",
              "      <td>5</td>\n",
              "      <td>0</td>\n",
              "      <td>1</td>\n",
              "      <td>40</td>\n",
              "      <td>59</td>\n",
              "      <td>55</td>\n",
              "    </tr>\n",
              "    <tr>\n",
              "      <th>2</th>\n",
              "      <td>4</td>\n",
              "      <td>4</td>\n",
              "      <td>0</td>\n",
              "      <td>1</td>\n",
              "      <td>59</td>\n",
              "      <td>60</td>\n",
              "      <td>50</td>\n",
              "    </tr>\n",
              "    <tr>\n",
              "      <th>3</th>\n",
              "      <td>1</td>\n",
              "      <td>2</td>\n",
              "      <td>1</td>\n",
              "      <td>1</td>\n",
              "      <td>77</td>\n",
              "      <td>78</td>\n",
              "      <td>68</td>\n",
              "    </tr>\n",
              "    <tr>\n",
              "      <th>4</th>\n",
              "      <td>4</td>\n",
              "      <td>0</td>\n",
              "      <td>1</td>\n",
              "      <td>0</td>\n",
              "      <td>78</td>\n",
              "      <td>73</td>\n",
              "      <td>68</td>\n",
              "    </tr>\n",
              "    <tr>\n",
              "      <th>...</th>\n",
              "      <td>...</td>\n",
              "      <td>...</td>\n",
              "      <td>...</td>\n",
              "      <td>...</td>\n",
              "      <td>...</td>\n",
              "      <td>...</td>\n",
              "      <td>...</td>\n",
              "    </tr>\n",
              "    <tr>\n",
              "      <th>995</th>\n",
              "      <td>2</td>\n",
              "      <td>2</td>\n",
              "      <td>1</td>\n",
              "      <td>1</td>\n",
              "      <td>73</td>\n",
              "      <td>70</td>\n",
              "      <td>65</td>\n",
              "    </tr>\n",
              "    <tr>\n",
              "      <th>996</th>\n",
              "      <td>3</td>\n",
              "      <td>0</td>\n",
              "      <td>0</td>\n",
              "      <td>0</td>\n",
              "      <td>85</td>\n",
              "      <td>91</td>\n",
              "      <td>92</td>\n",
              "    </tr>\n",
              "    <tr>\n",
              "      <th>997</th>\n",
              "      <td>2</td>\n",
              "      <td>5</td>\n",
              "      <td>0</td>\n",
              "      <td>1</td>\n",
              "      <td>32</td>\n",
              "      <td>35</td>\n",
              "      <td>41</td>\n",
              "    </tr>\n",
              "    <tr>\n",
              "      <th>998</th>\n",
              "      <td>2</td>\n",
              "      <td>4</td>\n",
              "      <td>1</td>\n",
              "      <td>1</td>\n",
              "      <td>73</td>\n",
              "      <td>74</td>\n",
              "      <td>82</td>\n",
              "    </tr>\n",
              "    <tr>\n",
              "      <th>999</th>\n",
              "      <td>0</td>\n",
              "      <td>4</td>\n",
              "      <td>1</td>\n",
              "      <td>0</td>\n",
              "      <td>65</td>\n",
              "      <td>60</td>\n",
              "      <td>62</td>\n",
              "    </tr>\n",
              "  </tbody>\n",
              "</table>\n",
              "<p>1000 rows × 7 columns</p>\n",
              "</div>\n",
              "      <button class=\"colab-df-convert\" onclick=\"convertToInteractive('df-f1064ebb-8fe8-4255-94f9-7f80fc1a1244')\"\n",
              "              title=\"Convert this dataframe to an interactive table.\"\n",
              "              style=\"display:none;\">\n",
              "        \n",
              "  <svg xmlns=\"http://www.w3.org/2000/svg\" height=\"24px\"viewBox=\"0 0 24 24\"\n",
              "       width=\"24px\">\n",
              "    <path d=\"M0 0h24v24H0V0z\" fill=\"none\"/>\n",
              "    <path d=\"M18.56 5.44l.94 2.06.94-2.06 2.06-.94-2.06-.94-.94-2.06-.94 2.06-2.06.94zm-11 1L8.5 8.5l.94-2.06 2.06-.94-2.06-.94L8.5 2.5l-.94 2.06-2.06.94zm10 10l.94 2.06.94-2.06 2.06-.94-2.06-.94-.94-2.06-.94 2.06-2.06.94z\"/><path d=\"M17.41 7.96l-1.37-1.37c-.4-.4-.92-.59-1.43-.59-.52 0-1.04.2-1.43.59L10.3 9.45l-7.72 7.72c-.78.78-.78 2.05 0 2.83L4 21.41c.39.39.9.59 1.41.59.51 0 1.02-.2 1.41-.59l7.78-7.78 2.81-2.81c.8-.78.8-2.07 0-2.86zM5.41 20L4 18.59l7.72-7.72 1.47 1.35L5.41 20z\"/>\n",
              "  </svg>\n",
              "      </button>\n",
              "      \n",
              "  <style>\n",
              "    .colab-df-container {\n",
              "      display:flex;\n",
              "      flex-wrap:wrap;\n",
              "      gap: 12px;\n",
              "    }\n",
              "\n",
              "    .colab-df-convert {\n",
              "      background-color: #E8F0FE;\n",
              "      border: none;\n",
              "      border-radius: 50%;\n",
              "      cursor: pointer;\n",
              "      display: none;\n",
              "      fill: #1967D2;\n",
              "      height: 32px;\n",
              "      padding: 0 0 0 0;\n",
              "      width: 32px;\n",
              "    }\n",
              "\n",
              "    .colab-df-convert:hover {\n",
              "      background-color: #E2EBFA;\n",
              "      box-shadow: 0px 1px 2px rgba(60, 64, 67, 0.3), 0px 1px 3px 1px rgba(60, 64, 67, 0.15);\n",
              "      fill: #174EA6;\n",
              "    }\n",
              "\n",
              "    [theme=dark] .colab-df-convert {\n",
              "      background-color: #3B4455;\n",
              "      fill: #D2E3FC;\n",
              "    }\n",
              "\n",
              "    [theme=dark] .colab-df-convert:hover {\n",
              "      background-color: #434B5C;\n",
              "      box-shadow: 0px 1px 3px 1px rgba(0, 0, 0, 0.15);\n",
              "      filter: drop-shadow(0px 1px 2px rgba(0, 0, 0, 0.3));\n",
              "      fill: #FFFFFF;\n",
              "    }\n",
              "  </style>\n",
              "\n",
              "      <script>\n",
              "        const buttonEl =\n",
              "          document.querySelector('#df-f1064ebb-8fe8-4255-94f9-7f80fc1a1244 button.colab-df-convert');\n",
              "        buttonEl.style.display =\n",
              "          google.colab.kernel.accessAllowed ? 'block' : 'none';\n",
              "\n",
              "        async function convertToInteractive(key) {\n",
              "          const element = document.querySelector('#df-f1064ebb-8fe8-4255-94f9-7f80fc1a1244');\n",
              "          const dataTable =\n",
              "            await google.colab.kernel.invokeFunction('convertToInteractive',\n",
              "                                                     [key], {});\n",
              "          if (!dataTable) return;\n",
              "\n",
              "          const docLinkHtml = 'Like what you see? Visit the ' +\n",
              "            '<a target=\"_blank\" href=https://colab.research.google.com/notebooks/data_table.ipynb>data table notebook</a>'\n",
              "            + ' to learn more about interactive tables.';\n",
              "          element.innerHTML = '';\n",
              "          dataTable['output_type'] = 'display_data';\n",
              "          await google.colab.output.renderOutput(dataTable, element);\n",
              "          const docLink = document.createElement('div');\n",
              "          docLink.innerHTML = docLinkHtml;\n",
              "          element.appendChild(docLink);\n",
              "        }\n",
              "      </script>\n",
              "    </div>\n",
              "  </div>\n",
              "  "
            ]
          },
          "metadata": {},
          "execution_count": 30
        }
      ],
      "source": [
        "X"
      ]
    },
    {
      "cell_type": "code",
      "execution_count": 31,
      "metadata": {
        "colab": {
          "base_uri": "https://localhost:8080/"
        },
        "id": "C20gUStQSo1G",
        "outputId": "5468dc56-5b11-43ad-fe33-a93db67d653f"
      },
      "outputs": [
        {
          "output_type": "execute_result",
          "data": {
            "text/plain": [
              "0      1\n",
              "1      0\n",
              "2      1\n",
              "3      1\n",
              "4      1\n",
              "      ..\n",
              "995    1\n",
              "996    1\n",
              "997    0\n",
              "998    0\n",
              "999    1\n",
              "Name: gender, Length: 1000, dtype: int64"
            ]
          },
          "metadata": {},
          "execution_count": 31
        }
      ],
      "source": [
        "y"
      ]
    },
    {
      "cell_type": "code",
      "execution_count": 32,
      "metadata": {
        "colab": {
          "base_uri": "https://localhost:8080/",
          "height": 35
        },
        "id": "Fr3RAF1FSsBz",
        "outputId": "bc13e5d8-bbb2-456b-a122-2547fab801f7"
      },
      "outputs": [
        {
          "output_type": "execute_result",
          "data": {
            "text/plain": [
              "\"y = df['gender']\\ny = pd.get_dummies(y)\\ny.head()\""
            ],
            "application/vnd.google.colaboratory.intrinsic+json": {
              "type": "string"
            }
          },
          "metadata": {},
          "execution_count": 32
        }
      ],
      "source": [
        "\"\"\"y = df['gender']\n",
        "y = pd.get_dummies(y)\n",
        "y.head()\"\"\""
      ]
    },
    {
      "cell_type": "code",
      "execution_count": 33,
      "metadata": {
        "colab": {
          "base_uri": "https://localhost:8080/"
        },
        "id": "boxRlbmrSvBl",
        "outputId": "c4c4ac85-0ea6-4558-fe30-2ef3b2c6fb42"
      },
      "outputs": [
        {
          "output_type": "execute_result",
          "data": {
            "text/plain": [
              "0    1\n",
              "1    0\n",
              "Name: gender, dtype: int64"
            ]
          },
          "metadata": {},
          "execution_count": 33
        }
      ],
      "source": [
        "y.drop_duplicates()"
      ]
    },
    {
      "cell_type": "code",
      "execution_count": 34,
      "metadata": {
        "colab": {
          "base_uri": "https://localhost:8080/"
        },
        "id": "zBlcXC-ISylx",
        "outputId": "f6de4853-a9ff-4d4a-d451-9057398498e5"
      },
      "outputs": [
        {
          "output_type": "execute_result",
          "data": {
            "text/plain": [
              "array([[0.        , 0.4       , 1.        , ..., 0.62068966, 0.54794521,\n",
              "        0.51948052],\n",
              "       [0.75      , 1.        , 0.        , ..., 0.31034483, 0.43835616,\n",
              "        0.41558442],\n",
              "       [1.        , 0.8       , 0.        , ..., 0.52873563, 0.45205479,\n",
              "        0.35064935],\n",
              "       ...,\n",
              "       [0.5       , 1.        , 0.        , ..., 0.2183908 , 0.10958904,\n",
              "        0.23376623],\n",
              "       [0.5       , 0.8       , 1.        , ..., 0.68965517, 0.64383562,\n",
              "        0.76623377],\n",
              "       [0.        , 0.8       , 1.        , ..., 0.59770115, 0.45205479,\n",
              "        0.50649351]])"
            ]
          },
          "metadata": {},
          "execution_count": 34
        }
      ],
      "source": [
        "min_max_scaler = preprocessing.MinMaxScaler()\n",
        "X = min_max_scaler.fit_transform(X)\n",
        "X"
      ]
    },
    {
      "cell_type": "code",
      "execution_count": 35,
      "metadata": {
        "id": "iR1dWqUOS1FQ"
      },
      "outputs": [],
      "source": [
        "def get_train_test_split(array1, array2, test_size, random_state):\n",
        "    global X_train, X_test, y_train, y_test\n",
        "    X_train, X_test, y_train, y_test = train_test_split(array1, array2, test_size=test_size,random_state=random_state)\n",
        "get_train_test_split(X,y,0.3,0)"
      ]
    },
    {
      "cell_type": "code",
      "execution_count": 36,
      "metadata": {
        "colab": {
          "base_uri": "https://localhost:8080/"
        },
        "id": "fVdO2rw0TeeD",
        "outputId": "80938b4c-8410-4c66-f69a-2df422b29e69"
      },
      "outputs": [
        {
          "output_type": "stream",
          "name": "stdout",
          "text": [
            "Shape of X train: (700, 7)\n",
            "Shape of y train: (700,)\n",
            "Shape of X test: (300, 7)\n",
            "Shape of y test: (300,)\n"
          ]
        }
      ],
      "source": [
        "print(f\"Shape of X train: {X_train.shape}\\nShape of y train: {y_train.shape}\\nShape of X test: {X_test.shape}\\nShape of y test: {y_test.shape}\")"
      ]
    },
    {
      "cell_type": "code",
      "execution_count": 37,
      "metadata": {
        "id": "Q14NBsRpS7jg"
      },
      "outputs": [],
      "source": [
        "def build_model():\n",
        "  model = models.Sequential()\n",
        "  model.add(layers.Dense(64, activation='relu', input_shape=(X_train.shape[1],)))\n",
        "  model.add(layers.Dense(64, activation='relu'))\n",
        "  model.add(layers.Dense(1,activation='sigmoid'))\n",
        "  #model.add(Dense(2, activation='softmax')) # model.add(Dense(1 --> columns in Y, activation='sigmoid' ---> binary classification))\n",
        "  model.compile(optimizer='rmsprop',loss='binary_crossentropy',metrics=['accuracy'])\n",
        "  return model"
      ]
    },
    {
      "cell_type": "code",
      "source": [
        "k=4\n",
        "num_val_samples = len(X_train) // k\n",
        "num_epochs = 100\n",
        "all_acc_histories = []\n",
        "for i in range(k):\n",
        "    print('processing fold #', i)\n",
        "    # i = 1\n",
        "    val_data = X_train[i * num_val_samples: (i + 1) * num_val_samples]\n",
        "    val_targets = y_train[i * num_val_samples: (i + 1) * num_val_samples]\n",
        "    partial_train_data = np.concatenate([X_train[:i * num_val_samples], X_train[(i + 1) * num_val_samples:]],axis=0)\n",
        "    partial_train_targets = np.concatenate([y_train[:i * num_val_samples], y_train[(i + 1) * num_val_samples:]], axis=0)\n",
        "    model = build_model() # build_model() is function \n",
        "    history = model.fit(partial_train_data, partial_train_targets,validation_data=(val_data, val_targets),epochs=num_epochs, batch_size=1, verbose=0)\n",
        "    acc_history = history.history['val_accuracy']\n",
        "    all_acc_histories.append(acc_history)"
      ],
      "metadata": {
        "colab": {
          "base_uri": "https://localhost:8080/"
        },
        "id": "lIILTq6cmF_U",
        "outputId": "52eae140-aa8e-43cd-9c07-c9af107a3841"
      },
      "execution_count": 38,
      "outputs": [
        {
          "output_type": "stream",
          "name": "stdout",
          "text": [
            "processing fold # 0\n",
            "processing fold # 1\n",
            "processing fold # 2\n",
            "processing fold # 3\n"
          ]
        }
      ]
    },
    {
      "cell_type": "code",
      "source": [
        "all_acc_histories"
      ],
      "metadata": {
        "colab": {
          "base_uri": "https://localhost:8080/"
        },
        "id": "9H84_46klhBx",
        "outputId": "c6199c60-a263-4dac-e4c4-c4771997073d"
      },
      "execution_count": 39,
      "outputs": [
        {
          "output_type": "execute_result",
          "data": {
            "text/plain": [
              "[[0.508571445941925,\n",
              "  0.6800000071525574,\n",
              "  0.5257142782211304,\n",
              "  0.7599999904632568,\n",
              "  0.8171428442001343,\n",
              "  0.8285714387893677,\n",
              "  0.7142857313156128,\n",
              "  0.7657142877578735,\n",
              "  0.8799999952316284,\n",
              "  0.7942857146263123,\n",
              "  0.868571400642395,\n",
              "  0.8057143092155457,\n",
              "  0.6857143044471741,\n",
              "  0.845714271068573,\n",
              "  0.7599999904632568,\n",
              "  0.7599999904632568,\n",
              "  0.8399999737739563,\n",
              "  0.822857141494751,\n",
              "  0.8799999952316284,\n",
              "  0.8514285683631897,\n",
              "  0.868571400642395,\n",
              "  0.7828571200370789,\n",
              "  0.8571428656578064,\n",
              "  0.868571400642395,\n",
              "  0.868571400642395,\n",
              "  0.8628571629524231,\n",
              "  0.8571428656578064,\n",
              "  0.7542856931686401,\n",
              "  0.7714285850524902,\n",
              "  0.845714271068573,\n",
              "  0.8571428656578064,\n",
              "  0.8514285683631897,\n",
              "  0.8857142925262451,\n",
              "  0.8799999952316284,\n",
              "  0.8114285469055176,\n",
              "  0.8571428656578064,\n",
              "  0.7828571200370789,\n",
              "  0.845714271068573,\n",
              "  0.8628571629524231,\n",
              "  0.8342857360839844,\n",
              "  0.8799999952316284,\n",
              "  0.8342857360839844,\n",
              "  0.8285714387893677,\n",
              "  0.8342857360839844,\n",
              "  0.8628571629524231,\n",
              "  0.8171428442001343,\n",
              "  0.8285714387893677,\n",
              "  0.8399999737739563,\n",
              "  0.868571400642395,\n",
              "  0.8342857360839844,\n",
              "  0.8171428442001343,\n",
              "  0.8742856979370117,\n",
              "  0.8342857360839844,\n",
              "  0.8742856979370117,\n",
              "  0.8628571629524231,\n",
              "  0.8742856979370117,\n",
              "  0.8399999737739563,\n",
              "  0.8742856979370117,\n",
              "  0.8571428656578064,\n",
              "  0.8799999952316284,\n",
              "  0.8628571629524231,\n",
              "  0.8628571629524231,\n",
              "  0.8057143092155457,\n",
              "  0.868571400642395,\n",
              "  0.8571428656578064,\n",
              "  0.8514285683631897,\n",
              "  0.8799999952316284,\n",
              "  0.8742856979370117,\n",
              "  0.8571428656578064,\n",
              "  0.822857141494751,\n",
              "  0.8742856979370117,\n",
              "  0.8742856979370117,\n",
              "  0.8399999737739563,\n",
              "  0.8399999737739563,\n",
              "  0.8628571629524231,\n",
              "  0.8628571629524231,\n",
              "  0.8171428442001343,\n",
              "  0.8514285683631897,\n",
              "  0.822857141494751,\n",
              "  0.868571400642395,\n",
              "  0.8514285683631897,\n",
              "  0.868571400642395,\n",
              "  0.8171428442001343,\n",
              "  0.8514285683631897,\n",
              "  0.8571428656578064,\n",
              "  0.868571400642395,\n",
              "  0.8171428442001343,\n",
              "  0.868571400642395,\n",
              "  0.7714285850524902,\n",
              "  0.8514285683631897,\n",
              "  0.8399999737739563,\n",
              "  0.868571400642395,\n",
              "  0.8571428656578064,\n",
              "  0.822857141494751,\n",
              "  0.8742856979370117,\n",
              "  0.868571400642395,\n",
              "  0.8628571629524231,\n",
              "  0.8342857360839844,\n",
              "  0.8571428656578064,\n",
              "  0.8514285683631897],\n",
              " [0.6971428394317627,\n",
              "  0.7599999904632568,\n",
              "  0.7942857146263123,\n",
              "  0.800000011920929,\n",
              "  0.8171428442001343,\n",
              "  0.7371428608894348,\n",
              "  0.8057143092155457,\n",
              "  0.8171428442001343,\n",
              "  0.8057143092155457,\n",
              "  0.8057143092155457,\n",
              "  0.8171428442001343,\n",
              "  0.822857141494751,\n",
              "  0.8114285469055176,\n",
              "  0.8114285469055176,\n",
              "  0.8342857360839844,\n",
              "  0.8571428656578064,\n",
              "  0.8285714387893677,\n",
              "  0.8514285683631897,\n",
              "  0.8399999737739563,\n",
              "  0.8114285469055176,\n",
              "  0.8171428442001343,\n",
              "  0.822857141494751,\n",
              "  0.822857141494751,\n",
              "  0.8285714387893677,\n",
              "  0.8171428442001343,\n",
              "  0.845714271068573,\n",
              "  0.8114285469055176,\n",
              "  0.8514285683631897,\n",
              "  0.8285714387893677,\n",
              "  0.8399999737739563,\n",
              "  0.8285714387893677,\n",
              "  0.8399999737739563,\n",
              "  0.8628571629524231,\n",
              "  0.8342857360839844,\n",
              "  0.8342857360839844,\n",
              "  0.845714271068573,\n",
              "  0.8057143092155457,\n",
              "  0.8514285683631897,\n",
              "  0.845714271068573,\n",
              "  0.8342857360839844,\n",
              "  0.8514285683631897,\n",
              "  0.8171428442001343,\n",
              "  0.8514285683631897,\n",
              "  0.8342857360839844,\n",
              "  0.8399999737739563,\n",
              "  0.845714271068573,\n",
              "  0.8514285683631897,\n",
              "  0.8171428442001343,\n",
              "  0.8514285683631897,\n",
              "  0.8399999737739563,\n",
              "  0.8514285683631897,\n",
              "  0.8057143092155457,\n",
              "  0.8571428656578064,\n",
              "  0.8571428656578064,\n",
              "  0.8628571629524231,\n",
              "  0.8171428442001343,\n",
              "  0.8285714387893677,\n",
              "  0.8114285469055176,\n",
              "  0.8399999737739563,\n",
              "  0.8399999737739563,\n",
              "  0.8285714387893677,\n",
              "  0.8171428442001343,\n",
              "  0.8399999737739563,\n",
              "  0.8057143092155457,\n",
              "  0.8514285683631897,\n",
              "  0.8399999737739563,\n",
              "  0.8285714387893677,\n",
              "  0.845714271068573,\n",
              "  0.7942857146263123,\n",
              "  0.822857141494751,\n",
              "  0.8514285683631897,\n",
              "  0.8342857360839844,\n",
              "  0.8628571629524231,\n",
              "  0.8628571629524231,\n",
              "  0.845714271068573,\n",
              "  0.845714271068573,\n",
              "  0.8285714387893677,\n",
              "  0.7942857146263123,\n",
              "  0.8514285683631897,\n",
              "  0.8628571629524231,\n",
              "  0.8057143092155457,\n",
              "  0.800000011920929,\n",
              "  0.8342857360839844,\n",
              "  0.822857141494751,\n",
              "  0.8171428442001343,\n",
              "  0.845714271068573,\n",
              "  0.845714271068573,\n",
              "  0.8514285683631897,\n",
              "  0.7885714173316956,\n",
              "  0.8571428656578064,\n",
              "  0.8342857360839844,\n",
              "  0.8342857360839844,\n",
              "  0.868571400642395,\n",
              "  0.8057143092155457,\n",
              "  0.845714271068573,\n",
              "  0.8342857360839844,\n",
              "  0.868571400642395,\n",
              "  0.8571428656578064,\n",
              "  0.8057143092155457,\n",
              "  0.8114285469055176],\n",
              " [0.5885714292526245,\n",
              "  0.7371428608894348,\n",
              "  0.7085714340209961,\n",
              "  0.7828571200370789,\n",
              "  0.8628571629524231,\n",
              "  0.7657142877578735,\n",
              "  0.8342857360839844,\n",
              "  0.845714271068573,\n",
              "  0.8057143092155457,\n",
              "  0.7657142877578735,\n",
              "  0.8628571629524231,\n",
              "  0.8399999737739563,\n",
              "  0.8342857360839844,\n",
              "  0.8628571629524231,\n",
              "  0.8514285683631897,\n",
              "  0.7771428823471069,\n",
              "  0.7885714173316956,\n",
              "  0.8799999952316284,\n",
              "  0.868571400642395,\n",
              "  0.868571400642395,\n",
              "  0.8342857360839844,\n",
              "  0.8628571629524231,\n",
              "  0.8342857360839844,\n",
              "  0.845714271068573,\n",
              "  0.8742856979370117,\n",
              "  0.8971428275108337,\n",
              "  0.8628571629524231,\n",
              "  0.8742856979370117,\n",
              "  0.8628571629524231,\n",
              "  0.8571428656578064,\n",
              "  0.8571428656578064,\n",
              "  0.8514285683631897,\n",
              "  0.8628571629524231,\n",
              "  0.8628571629524231,\n",
              "  0.8399999737739563,\n",
              "  0.8399999737739563,\n",
              "  0.868571400642395,\n",
              "  0.8571428656578064,\n",
              "  0.8342857360839844,\n",
              "  0.8342857360839844,\n",
              "  0.8514285683631897,\n",
              "  0.845714271068573,\n",
              "  0.8514285683631897,\n",
              "  0.845714271068573,\n",
              "  0.8514285683631897,\n",
              "  0.7657142877578735,\n",
              "  0.8742856979370117,\n",
              "  0.8571428656578064,\n",
              "  0.8399999737739563,\n",
              "  0.8571428656578064,\n",
              "  0.8742856979370117,\n",
              "  0.8628571629524231,\n",
              "  0.8342857360839844,\n",
              "  0.8857142925262451,\n",
              "  0.8742856979370117,\n",
              "  0.845714271068573,\n",
              "  0.8571428656578064,\n",
              "  0.8628571629524231,\n",
              "  0.868571400642395,\n",
              "  0.845714271068573,\n",
              "  0.8628571629524231,\n",
              "  0.868571400642395,\n",
              "  0.822857141494751,\n",
              "  0.8628571629524231,\n",
              "  0.8514285683631897,\n",
              "  0.8628571629524231,\n",
              "  0.8285714387893677,\n",
              "  0.845714271068573,\n",
              "  0.8514285683631897,\n",
              "  0.868571400642395,\n",
              "  0.845714271068573,\n",
              "  0.822857141494751,\n",
              "  0.8628571629524231,\n",
              "  0.8285714387893677,\n",
              "  0.868571400642395,\n",
              "  0.8628571629524231,\n",
              "  0.8514285683631897,\n",
              "  0.8285714387893677,\n",
              "  0.8285714387893677,\n",
              "  0.868571400642395,\n",
              "  0.822857141494751,\n",
              "  0.8514285683631897,\n",
              "  0.8799999952316284,\n",
              "  0.8514285683631897,\n",
              "  0.8571428656578064,\n",
              "  0.822857141494751,\n",
              "  0.868571400642395,\n",
              "  0.868571400642395,\n",
              "  0.8514285683631897,\n",
              "  0.8342857360839844,\n",
              "  0.8628571629524231,\n",
              "  0.8171428442001343,\n",
              "  0.8514285683631897,\n",
              "  0.845714271068573,\n",
              "  0.8628571629524231,\n",
              "  0.8571428656578064,\n",
              "  0.868571400642395,\n",
              "  0.8171428442001343,\n",
              "  0.8628571629524231,\n",
              "  0.8057143092155457],\n",
              " [0.4628571569919586,\n",
              "  0.691428542137146,\n",
              "  0.7314285635948181,\n",
              "  0.7599999904632568,\n",
              "  0.7885714173316956,\n",
              "  0.7942857146263123,\n",
              "  0.8514285683631897,\n",
              "  0.822857141494751,\n",
              "  0.7599999904632568,\n",
              "  0.8514285683631897,\n",
              "  0.8399999737739563,\n",
              "  0.7714285850524902,\n",
              "  0.8799999952316284,\n",
              "  0.8628571629524231,\n",
              "  0.868571400642395,\n",
              "  0.8399999737739563,\n",
              "  0.8285714387893677,\n",
              "  0.8628571629524231,\n",
              "  0.8571428656578064,\n",
              "  0.8628571629524231,\n",
              "  0.8285714387893677,\n",
              "  0.8571428656578064,\n",
              "  0.8514285683631897,\n",
              "  0.868571400642395,\n",
              "  0.800000011920929,\n",
              "  0.8399999737739563,\n",
              "  0.7428571581840515,\n",
              "  0.868571400642395,\n",
              "  0.8514285683631897,\n",
              "  0.8514285683631897,\n",
              "  0.8399999737739563,\n",
              "  0.8571428656578064,\n",
              "  0.868571400642395,\n",
              "  0.8571428656578064,\n",
              "  0.8514285683631897,\n",
              "  0.8571428656578064,\n",
              "  0.7942857146263123,\n",
              "  0.8742856979370117,\n",
              "  0.868571400642395,\n",
              "  0.8171428442001343,\n",
              "  0.8514285683631897,\n",
              "  0.8514285683631897,\n",
              "  0.822857141494751,\n",
              "  0.868571400642395,\n",
              "  0.8628571629524231,\n",
              "  0.868571400642395,\n",
              "  0.8571428656578064,\n",
              "  0.8628571629524231,\n",
              "  0.8514285683631897,\n",
              "  0.8628571629524231,\n",
              "  0.8914285898208618,\n",
              "  0.8571428656578064,\n",
              "  0.8742856979370117,\n",
              "  0.868571400642395,\n",
              "  0.8399999737739563,\n",
              "  0.8399999737739563,\n",
              "  0.8514285683631897,\n",
              "  0.8742856979370117,\n",
              "  0.8514285683631897,\n",
              "  0.845714271068573,\n",
              "  0.8399999737739563,\n",
              "  0.8514285683631897,\n",
              "  0.868571400642395,\n",
              "  0.8799999952316284,\n",
              "  0.8799999952316284,\n",
              "  0.8628571629524231,\n",
              "  0.822857141494751,\n",
              "  0.8514285683631897,\n",
              "  0.8857142925262451,\n",
              "  0.8514285683631897,\n",
              "  0.8399999737739563,\n",
              "  0.8514285683631897,\n",
              "  0.8742856979370117,\n",
              "  0.8628571629524231,\n",
              "  0.8571428656578064,\n",
              "  0.8514285683631897,\n",
              "  0.8628571629524231,\n",
              "  0.8742856979370117,\n",
              "  0.8628571629524231,\n",
              "  0.8114285469055176,\n",
              "  0.8514285683631897,\n",
              "  0.8514285683631897,\n",
              "  0.8285714387893677,\n",
              "  0.845714271068573,\n",
              "  0.8628571629524231,\n",
              "  0.822857141494751,\n",
              "  0.8399999737739563,\n",
              "  0.8285714387893677,\n",
              "  0.8399999737739563,\n",
              "  0.845714271068573,\n",
              "  0.7828571200370789,\n",
              "  0.8628571629524231,\n",
              "  0.800000011920929,\n",
              "  0.8514285683631897,\n",
              "  0.8799999952316284,\n",
              "  0.8799999952316284,\n",
              "  0.845714271068573,\n",
              "  0.8399999737739563,\n",
              "  0.845714271068573,\n",
              "  0.8742856979370117]]"
            ]
          },
          "metadata": {},
          "execution_count": 39
        }
      ]
    },
    {
      "cell_type": "code",
      "source": [
        "history.history.keys()"
      ],
      "metadata": {
        "colab": {
          "base_uri": "https://localhost:8080/"
        },
        "id": "kPd-is7BmRsY",
        "outputId": "26b6ddf9-2937-4f94-a33f-56b661a344e4"
      },
      "execution_count": 40,
      "outputs": [
        {
          "output_type": "execute_result",
          "data": {
            "text/plain": [
              "dict_keys(['loss', 'accuracy', 'val_loss', 'val_accuracy'])"
            ]
          },
          "metadata": {},
          "execution_count": 40
        }
      ]
    },
    {
      "cell_type": "code",
      "source": [
        "average_acc_history = [np.mean([x[i] for x in all_acc_histories]) for i in range(num_epochs)]\n",
        "print(len(average_acc_history))\n",
        "average_acc_history "
      ],
      "metadata": {
        "colab": {
          "base_uri": "https://localhost:8080/"
        },
        "id": "s6qQCIbBuYfR",
        "outputId": "783010a8-f4df-4f60-d85d-9e2bc4befe24"
      },
      "execution_count": 41,
      "outputs": [
        {
          "output_type": "stream",
          "name": "stdout",
          "text": [
            "100\n"
          ]
        },
        {
          "output_type": "execute_result",
          "data": {
            "text/plain": [
              "[0.5642857179045677,\n",
              " 0.7171428501605988,\n",
              " 0.6899999976158142,\n",
              " 0.7757142782211304,\n",
              " 0.8214285671710968,\n",
              " 0.7814285755157471,\n",
              " 0.8014285862445831,\n",
              " 0.812857136130333,\n",
              " 0.8128571510314941,\n",
              " 0.8042857199907303,\n",
              " 0.8471428453922272,\n",
              " 0.8100000023841858,\n",
              " 0.8028571456670761,\n",
              " 0.8457142859697342,\n",
              " 0.8285714238882065,\n",
              " 0.8085714280605316,\n",
              " 0.8214285671710968,\n",
              " 0.854285717010498,\n",
              " 0.8614285588264465,\n",
              " 0.8485714197158813,\n",
              " 0.8371428549289703,\n",
              " 0.8314285725355148,\n",
              " 0.8414285778999329,\n",
              " 0.8528571277856827,\n",
              " 0.8399999886751175,\n",
              " 0.8614285588264465,\n",
              " 0.8185714334249496,\n",
              " 0.8371428400278091,\n",
              " 0.8285714387893677,\n",
              " 0.8485714197158813,\n",
              " 0.8457142859697342,\n",
              " 0.8499999940395355,\n",
              " 0.8700000047683716,\n",
              " 0.8585714399814606,\n",
              " 0.834285706281662,\n",
              " 0.8499999940395355,\n",
              " 0.812857136130333,\n",
              " 0.8571428507566452,\n",
              " 0.8528571426868439,\n",
              " 0.8300000131130219,\n",
              " 0.8585714250802994,\n",
              " 0.8371428549289703,\n",
              " 0.8385714292526245,\n",
              " 0.8457142859697342,\n",
              " 0.854285717010498,\n",
              " 0.824285700917244,\n",
              " 0.8528571426868439,\n",
              " 0.84428571164608,\n",
              " 0.8528571277856827,\n",
              " 0.8485714346170425,\n",
              " 0.8585714250802994,\n",
              " 0.8500000089406967,\n",
              " 0.8500000089406967,\n",
              " 0.8714285641908646,\n",
              " 0.8599999994039536,\n",
              " 0.8442856967449188,\n",
              " 0.84428571164608,\n",
              " 0.855714276432991,\n",
              " 0.8542857021093369,\n",
              " 0.8528571277856827,\n",
              " 0.8485714346170425,\n",
              " 0.8499999940395355,\n",
              " 0.834285706281662,\n",
              " 0.854285717010498,\n",
              " 0.8599999994039536,\n",
              " 0.854285717010498,\n",
              " 0.8400000035762787,\n",
              " 0.8542857021093369,\n",
              " 0.8471428602933884,\n",
              " 0.8414285629987717,\n",
              " 0.8528571277856827,\n",
              " 0.8457142859697342,\n",
              " 0.8599999994039536,\n",
              " 0.8485714346170425,\n",
              " 0.8585714250802994,\n",
              " 0.8557142913341522,\n",
              " 0.8400000035762787,\n",
              " 0.8371428549289703,\n",
              " 0.8414285778999329,\n",
              " 0.8528571277856827,\n",
              " 0.832857146859169,\n",
              " 0.8428571373224258,\n",
              " 0.8400000035762787,\n",
              " 0.8428571373224258,\n",
              " 0.8485714346170425,\n",
              " 0.8399999886751175,\n",
              " 0.8428571224212646,\n",
              " 0.8542857021093369,\n",
              " 0.812857136130333,\n",
              " 0.8471428602933884,\n",
              " 0.8299999982118607,\n",
              " 0.8457142859697342,\n",
              " 0.84428571164608,\n",
              " 0.8314285725355148,\n",
              " 0.8657142817974091,\n",
              " 0.8599999994039536,\n",
              " 0.8614285588264465,\n",
              " 0.8371428549289703,\n",
              " 0.842857152223587,\n",
              " 0.8357142806053162]"
            ]
          },
          "metadata": {},
          "execution_count": 41
        }
      ]
    },
    {
      "cell_type": "code",
      "source": [
        "plt.plot(range(1, len(average_acc_history) + 1), average_acc_history)\n",
        "plt.xlabel('Epochs')\n",
        "plt.ylabel('Validation Acc')\n",
        "plt.show()"
      ],
      "metadata": {
        "colab": {
          "base_uri": "https://localhost:8080/",
          "height": 279
        },
        "id": "wmFBjj5vulcM",
        "outputId": "8ce3e42f-fafe-471d-a302-82bc1248bbc5"
      },
      "execution_count": 42,
      "outputs": [
        {
          "output_type": "display_data",
          "data": {
            "text/plain": [
              "<Figure size 432x288 with 1 Axes>"
            ],
            "image/png": "[encoded data removed]"
          },
          "metadata": {
            "needs_background": "light"
          }
        }
      ]
    },
    {
      "cell_type": "code",
      "source": [
        "def smooth_curve(points, factor=0.9):\n",
        "  smoothed_points = []\n",
        "  for point in points:\n",
        "    if smoothed_points:\n",
        "      previous = smoothed_points[-1]\n",
        "      smoothed_points.append(previous * factor + point * (1 - factor))\n",
        "    else:\n",
        "      smoothed_points.append(point)\n",
        "  return smoothed_points\n",
        "\n",
        "smooth_mae_history = smooth_curve(average_acc_history[10:])\n",
        "plt.plot(range(1, len(smooth_mae_history) + 1), smooth_mae_history)\n",
        "plt.xlabel('Epochs')\n",
        "plt.ylabel('Validation MAE')\n",
        "plt.show()"
      ],
      "metadata": {
        "colab": {
          "base_uri": "https://localhost:8080/",
          "height": 279
        },
        "id": "T4rq2EK33wVp",
        "outputId": "d1e6c457-234a-4722-80d9-73d2a0f1b866"
      },
      "execution_count": 43,
      "outputs": [
        {
          "output_type": "display_data",
          "data": {
            "text/plain": [
              "<Figure size 432x288 with 1 Axes>"
            ],
            "image/png": "[encoded data removed]"
          },
          "metadata": {
            "needs_background": "light"
          }
        }
      ]
    },
    {
      "cell_type": "code",
      "source": [
        "model = build_model()\n",
        "model.fit(X_train, y_train, epochs=10, batch_size=16, verbose=0)\n",
        "test_loss_score, test_acc_score = model.evaluate(X_test, y_test)"
      ],
      "metadata": {
        "colab": {
          "base_uri": "https://localhost:8080/"
        },
        "id": "T7cF_czMge-l",
        "outputId": "1301edd7-1ea6-4abe-8ee6-288fb23c6b54"
      },
      "execution_count": 47,
      "outputs": [
        {
          "output_type": "stream",
          "name": "stdout",
          "text": [
            "10/10 [==============================] - 0s 2ms/step - loss: 0.4654 - accuracy: 0.8300\n"
          ]
        }
      ]
    },
    {
      "cell_type": "code",
      "source": [
        "test_acc_score"
      ],
      "metadata": {
        "colab": {
          "base_uri": "https://localhost:8080/"
        },
        "id": "6_3ndPWOg1Em",
        "outputId": "21553418-7e30-4fd0-e8f2-9c0372f09145"
      },
      "execution_count": 48,
      "outputs": [
        {
          "output_type": "execute_result",
          "data": {
            "text/plain": [
              "0.8299999833106995"
            ]
          },
          "metadata": {},
          "execution_count": 48
        }
      ]
    },
    {
      "cell_type": "code",
      "source": [
        "test_loss_score"
      ],
      "metadata": {
        "colab": {
          "base_uri": "https://localhost:8080/"
        },
        "id": "6EIU1aNAhBLG",
        "outputId": "9d2e8ef7-89df-4755-f761-ea08961727ba"
      },
      "execution_count": 49,
      "outputs": [
        {
          "output_type": "execute_result",
          "data": {
            "text/plain": [
              "0.4653646945953369"
            ]
          },
          "metadata": {},
          "execution_count": 49
        }
      ]
    },
    {
      "cell_type": "code",
      "source": [],
      "metadata": {
        "id": "k39hjUtwhIJF"
      },
      "execution_count": null,
      "outputs": []
    }
  ],
  "metadata": {
    "accelerator": "GPU",
    "colab": {
      "provenance": [],
      "mount_file_id": "1pT-cQ0x5JQXzaXlIH5ShZDv7hp4E8k3Y",
      "authorship_tag": "ABX9TyMvFR7jJ6Xqgwx2Lclezvih",
      "include_colab_link": true
    },
    "gpuClass": "standard",
    "kernelspec": {
      "display_name": "Python 3",
      "name": "python3"
    },
    "language_info": {
      "name": "python"
    }
  },
  "nbformat": 4,
  "nbformat_minor": 0
}