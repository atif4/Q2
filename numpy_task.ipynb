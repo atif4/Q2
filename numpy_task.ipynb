{
  "nbformat": 4,
  "nbformat_minor": 0,
  "metadata": {
    "colab": {
      "provenance": [],
      "include_colab_link": true
    },
    "kernelspec": {
      "name": "python3",
      "display_name": "Python 3"
    },
    "language_info": {
      "name": "python"
    }
  },
  "cells": [
    {
      "cell_type": "markdown",
      "metadata": {
        "id": "view-in-github",
        "colab_type": "text"
      },
      "source": [
        "<a href=\"https://colab.research.google.com/github/atif4/Q2/blob/gh-pages/numpy_task.ipynb\" target=\"_parent\"><img src=\"https://colab.research.google.com/assets/colab-badge.svg\" alt=\"Open In Colab\"/></a>"
      ]
    },
    {
      "cell_type": "markdown",
      "source": [
        "Problem  1\n",
        "\n",
        "Convert a 1D array to a 2D array with 2 rows\n",
        "\n",
        "Input:\n",
        "```\n",
        "np.arange(10)\n",
        "\n",
        "#> array([ 0, 1, 2, 3, 4, 5, 6, 7, 8, 9])\n",
        "```\n",
        "\n",
        "Output:\n",
        "\n",
        "\n",
        "```\n",
        "#> array([[0, 1, 2, 3, 4],\n",
        "#>        [5, 6, 7, 8, 9]])\n",
        "```\n",
        "\n"
      ],
      "metadata": {
        "id": "3c7NCXD4uwMi"
      }
    },
    {
      "cell_type": "code",
      "source": [
        "import numpy as np\n",
        "a = np.arange(2*5)\n",
        "display(a)\n",
        "display(a.reshape(2,5))"
      ],
      "metadata": {
        "id": "8CD3EzszvQX_",
        "outputId": "8d851a3a-eb67-4d0e-ca38-ae56b374842d",
        "colab": {
          "base_uri": "https://localhost:8080/",
          "height": 69
        }
      },
      "execution_count": 1,
      "outputs": [
        {
          "output_type": "display_data",
          "data": {
            "text/plain": [
              "array([0, 1, 2, 3, 4, 5, 6, 7, 8, 9])"
            ]
          },
          "metadata": {}
        },
        {
          "output_type": "display_data",
          "data": {
            "text/plain": [
              "array([[0, 1, 2, 3, 4],\n",
              "       [5, 6, 7, 8, 9]])"
            ]
          },
          "metadata": {}
        }
      ]
    },
    {
      "cell_type": "markdown",
      "source": [
        "Problem  2\n",
        "\n",
        "Extract all odd numbers from arr\n",
        "\n",
        "```\n",
        "arr = np.array([0, 1, 2, 3, 4, 5, 6, 7, 8, 9])\n",
        "```\n",
        "\n"
      ],
      "metadata": {
        "id": "Jfm1H1quvQ2v"
      }
    },
    {
      "cell_type": "code",
      "source": [
        "arr = np.array([0, 1, 2, 3, 4, 5, 6, 7, 8, 9])\n",
        "arr_odd = arr[arr%2!=0]\n",
        "display(\"ODD\",arr_odd)\n",
        "arr_even = arr[arr%2==0]\n",
        "display(\"EVEN\",arr_even)"
      ],
      "metadata": {
        "id": "E7YIi0covbZW",
        "colab": {
          "base_uri": "https://localhost:8080/",
          "height": 88
        },
        "outputId": "c9748033-abee-48dd-8583-c0d66e3c34b0"
      },
      "execution_count": 2,
      "outputs": [
        {
          "output_type": "display_data",
          "data": {
            "text/plain": [
              "'ODD'"
            ],
            "application/vnd.google.colaboratory.intrinsic+json": {
              "type": "string"
            }
          },
          "metadata": {}
        },
        {
          "output_type": "display_data",
          "data": {
            "text/plain": [
              "array([1, 3, 5, 7, 9])"
            ]
          },
          "metadata": {}
        },
        {
          "output_type": "display_data",
          "data": {
            "text/plain": [
              "'EVEN'"
            ],
            "application/vnd.google.colaboratory.intrinsic+json": {
              "type": "string"
            }
          },
          "metadata": {}
        },
        {
          "output_type": "display_data",
          "data": {
            "text/plain": [
              "array([0, 2, 4, 6, 8])"
            ]
          },
          "metadata": {}
        }
      ]
    },
    {
      "cell_type": "markdown",
      "source": [
        "Problem  3\n",
        "\n",
        "Replace all odd numbers in arr with -1\n",
        "\n",
        "```\n",
        "arr = np.array([0, 1, 2, 3, 4, 5, 6, 7, 8, 9])\n",
        "```\n",
        "\n",
        "Output:\n",
        "\n",
        "\n",
        "```\n",
        "#>  array([ 0, -1,  2, -1,  4, -1,  6, -1,  8, -1])\n",
        "```\n",
        "\n"
      ],
      "metadata": {
        "id": "DbI3SEjgvkoJ"
      }
    },
    {
      "cell_type": "code",
      "source": [
        "arr = np.array([0, 1, 2, 3, 4, 5, 6, 7, 8, 9])\n",
        "arr[arr%2!=0] = -1\n",
        "display(arr)"
      ],
      "metadata": {
        "id": "h6GIvmpVv71a",
        "colab": {
          "base_uri": "https://localhost:8080/",
          "height": 34
        },
        "outputId": "fef716c8-a2d6-42f1-e80a-7449605595f0"
      },
      "execution_count": 3,
      "outputs": [
        {
          "output_type": "display_data",
          "data": {
            "text/plain": [
              "array([ 0, -1,  2, -1,  4, -1,  6, -1,  8, -1])"
            ]
          },
          "metadata": {}
        }
      ]
    },
    {
      "cell_type": "markdown",
      "source": [
        "Problem  4\n",
        "\n",
        "Replace all odd numbers in arr with -1 without changing arr\n",
        "\n",
        "Input:\n",
        "\n",
        "`arr = np.array([0, 1, 2, 3, 4, 5, 6, 7, 8, 9])`\n",
        "\n",
        "Desired Output:\n",
        "\n",
        "```\n",
        "out\n",
        "#>  array([ 0, -1,  2, -1,  4, -1,  6, -1,  8, -1])\n",
        "arr\n",
        "#>  array([0, 1, 2, 3, 4, 5, 6, 7, 8, 9])\n",
        "```\n",
        "\n",
        "\n"
      ],
      "metadata": {
        "id": "DVPkniOuwHj_"
      }
    },
    {
      "cell_type": "code",
      "source": [
        "arr = np.array([0, 1, 2, 3, 4, 5, 6, 7, 8, 9])\n",
        "copy = np.copy(arr)\n",
        "arr[arr%2!=0] = -1\n",
        "display(\"output\",arr)\n",
        "display(\"arr\",copy)"
      ],
      "metadata": {
        "id": "oNPugS2awTLZ",
        "colab": {
          "base_uri": "https://localhost:8080/",
          "height": 88
        },
        "outputId": "e6468f73-8eca-4f37-e633-199b5d0d8488"
      },
      "execution_count": 4,
      "outputs": [
        {
          "output_type": "display_data",
          "data": {
            "text/plain": [
              "'output'"
            ],
            "application/vnd.google.colaboratory.intrinsic+json": {
              "type": "string"
            }
          },
          "metadata": {}
        },
        {
          "output_type": "display_data",
          "data": {
            "text/plain": [
              "array([ 0, -1,  2, -1,  4, -1,  6, -1,  8, -1])"
            ]
          },
          "metadata": {}
        },
        {
          "output_type": "display_data",
          "data": {
            "text/plain": [
              "'arr'"
            ],
            "application/vnd.google.colaboratory.intrinsic+json": {
              "type": "string"
            }
          },
          "metadata": {}
        },
        {
          "output_type": "display_data",
          "data": {
            "text/plain": [
              "array([0, 1, 2, 3, 4, 5, 6, 7, 8, 9])"
            ]
          },
          "metadata": {}
        }
      ]
    },
    {
      "cell_type": "markdown",
      "source": [
        "Problem  5\n",
        "\n",
        "Stack arrays a and b vertically\n",
        "\n",
        "Input\n",
        "\n",
        "\n",
        "\n",
        "```\n",
        "a = np.arange(10).reshape(2,-1)\n",
        "b = np.repeat(1, 10).reshape(2,-1)\n",
        "```\n",
        "\n",
        "\n",
        "Desired Output:\n",
        "\n",
        "\n",
        "```\n",
        "array([[0, 1, 2, 3, 4],\n",
        "       [5, 6, 7, 8, 9],\n",
        "       [1, 1, 1, 1, 1],\n",
        "       [1, 1, 1, 1, 1]])\n",
        "```\n",
        "\n",
        "\n"
      ],
      "metadata": {
        "id": "jXUu_NSCwfDP"
      }
    },
    {
      "cell_type": "code",
      "source": [
        "a = np.arange(10).reshape(2,-1)\n",
        "b = np.repeat(1, 10).reshape(2,-1)\n",
        "#display(\"a\",a)\n",
        "#display(\"b\",b)\n",
        "display(\"Desired Output: vstack\",np.vstack((a,b)))"
      ],
      "metadata": {
        "id": "ZeSCX31zwvKK",
        "colab": {
          "base_uri": "https://localhost:8080/",
          "height": 105
        },
        "outputId": "061aa612-49a6-4ed4-8b24-8a3b7ee33867"
      },
      "execution_count": 5,
      "outputs": [
        {
          "output_type": "display_data",
          "data": {
            "text/plain": [
              "'Desired Output: vstack'"
            ],
            "application/vnd.google.colaboratory.intrinsic+json": {
              "type": "string"
            }
          },
          "metadata": {}
        },
        {
          "output_type": "display_data",
          "data": {
            "text/plain": [
              "array([[0, 1, 2, 3, 4],\n",
              "       [5, 6, 7, 8, 9],\n",
              "       [1, 1, 1, 1, 1],\n",
              "       [1, 1, 1, 1, 1]])"
            ]
          },
          "metadata": {}
        }
      ]
    },
    {
      "cell_type": "markdown",
      "source": [
        "Problem  6\n",
        "\n",
        "Stack the arrays a and b horizontally.\n",
        "\n",
        "Input\n",
        "\n",
        "\n",
        "```\n",
        "a = np.arange(10).reshape(2,-1)\n",
        "b = np.repeat(1, 10).reshape(2,-1)\n",
        "```\n",
        "\n",
        "\n",
        "Desired Output:\n",
        "\n",
        "\n",
        "\n",
        "```\n",
        "array([[0, 1, 2, 3, 4, 1, 1, 1, 1, 1],\n",
        "       [5, 6, 7, 8, 9, 1, 1, 1, 1, 1]])\n",
        "```\n",
        "\n",
        "\n"
      ],
      "metadata": {
        "id": "dWoOzOMQw0E5"
      }
    },
    {
      "cell_type": "code",
      "source": [
        "display(\"Desired Output: np.hstack\",np.hstack((a,b)))"
      ],
      "metadata": {
        "id": "CPbTohhww-h4",
        "colab": {
          "base_uri": "https://localhost:8080/",
          "height": 70
        },
        "outputId": "5e131a82-7028-427c-f6ce-f1b237162441"
      },
      "execution_count": 6,
      "outputs": [
        {
          "output_type": "display_data",
          "data": {
            "text/plain": [
              "'Desired Output: np.hstack'"
            ],
            "application/vnd.google.colaboratory.intrinsic+json": {
              "type": "string"
            }
          },
          "metadata": {}
        },
        {
          "output_type": "display_data",
          "data": {
            "text/plain": [
              "array([[0, 1, 2, 3, 4, 1, 1, 1, 1, 1],\n",
              "       [5, 6, 7, 8, 9, 1, 1, 1, 1, 1]])"
            ]
          },
          "metadata": {}
        }
      ]
    },
    {
      "cell_type": "markdown",
      "source": [
        "Problem  7\n",
        "\n",
        "Create the following pattern without hardcoding. Use only numpy functions and the below input array a.\n",
        "\n",
        "Input:\n",
        "\n",
        "\n",
        "\n",
        "```\n",
        "a = np.array([1,2,3])\n",
        "```\n",
        "\n",
        "\n",
        "Desired Output:\n",
        "\n",
        "\n",
        "\n",
        "```\n",
        "#> array([1, 1, 1, 2, 2, 2, 3, 3, 3, 1, 2, 3, 1, 2, 3, 1, 2, 3])\n",
        "```\n",
        "\n",
        "\n"
      ],
      "metadata": {
        "id": "qiU8NCeexCLB"
      }
    },
    {
      "cell_type": "code",
      "source": [
        "a = np.array([1,2,3])\n",
        "#display(\"a\",a)\n",
        "\n",
        "repeat = np.repeat(a, 3)\n",
        "#display(\"np.repeat:\",repeat)\n",
        "\n",
        "\"\"\"Numpy tile (np.tile) in Python simply repeats the numbers of elements present in an array. Suppose you have a numpy array [4,5,6,7],\n",
        "then np.tile([4,5,6,7], 3) will duplicate the elements three times and make a new array.\"\"\"\n",
        "tile = np.tile([1, 2, 3], 3)\n",
        "#display(\"np.tile\",tile)\n",
        "\n",
        "\"\"\"np.r_[] concatenates arrays along first axis.\"\"\"\n",
        "r_ = np.r_[repeat, tile]\n",
        "display(\"Desired Output: np.r_\",r_)\n",
        "\n",
        "\"\"\"np.c_[] concatenates arrays along second axis\"\"\"\n",
        "c_ = np.c_[repeat, tile]\n",
        "#display(\"np.c_\",c_)"
      ],
      "metadata": {
        "id": "ucqs8mKuxOu_",
        "colab": {
          "base_uri": "https://localhost:8080/",
          "height": 53
        },
        "outputId": "6d0622a5-f8e9-4993-fe91-72a21badf3c6"
      },
      "execution_count": 7,
      "outputs": [
        {
          "output_type": "display_data",
          "data": {
            "text/plain": [
              "'Desired Output: np.r_'"
            ],
            "application/vnd.google.colaboratory.intrinsic+json": {
              "type": "string"
            }
          },
          "metadata": {}
        },
        {
          "output_type": "display_data",
          "data": {
            "text/plain": [
              "array([1, 1, 1, 2, 2, 2, 3, 3, 3, 1, 2, 3, 1, 2, 3, 1, 2, 3])"
            ]
          },
          "metadata": {}
        }
      ]
    },
    {
      "cell_type": "markdown",
      "source": [
        "Problem  8\n",
        "\n",
        "From array a remove all items present in array b\n",
        "\n",
        "Input:\n",
        "\n",
        "\n",
        "```\n",
        "a = np.array([1,2,3,4,5])\n",
        "b = np.array([5,6,7,8,9])\n",
        "```\n",
        "\n",
        "Desired Output:\n",
        "\n",
        "```\n",
        "array([1,2,3,4])\n",
        "```\n",
        "\n",
        "\n"
      ],
      "metadata": {
        "id": "z714O_AoyOKW"
      }
    },
    {
      "cell_type": "code",
      "source": [
        "\n",
        "a = np.array([1,2,3,4,5])\n",
        "b = np.array([5,6,7,8,9])\n",
        "\"\"\"Find the set difference of two arrays.\n",
        "Return the unique values in ar1 that are not in ar2.\"\"\"\n",
        "diff_of_a_b = np.setdiff1d(a, b)\n",
        "display(\"Desired Output: np.setdiff1d\",diff_of_a_b)"
      ],
      "metadata": {
        "id": "9S49aVovyY3D",
        "colab": {
          "base_uri": "https://localhost:8080/",
          "height": 53
        },
        "outputId": "23a5e8e7-5c72-4fb9-e62a-b4ddabf43e6b"
      },
      "execution_count": 8,
      "outputs": [
        {
          "output_type": "display_data",
          "data": {
            "text/plain": [
              "'Desired Output: np.setdiff1d'"
            ],
            "application/vnd.google.colaboratory.intrinsic+json": {
              "type": "string"
            }
          },
          "metadata": {}
        },
        {
          "output_type": "display_data",
          "data": {
            "text/plain": [
              "array([1, 2, 3, 4])"
            ]
          },
          "metadata": {}
        }
      ]
    },
    {
      "cell_type": "markdown",
      "source": [
        "Problem  9\n",
        "\n",
        "Get the positions where elements of a and b match\n",
        "\n",
        "Input:\n",
        "\n",
        "\n",
        "\n",
        "```\n",
        "a = np.array([1,2,3,2,3,4,3,4,5,6])\n",
        "b = np.array([7,2,10,2,7,4,9,4,9,8])\n",
        "```\n",
        "\n",
        "\n",
        "Desired Output:\n",
        "\n",
        "\n",
        "\n",
        "```\n",
        "(array([1, 3, 5, 7]),)\n",
        "```\n",
        "\n"
      ],
      "metadata": {
        "id": "EAfoETZyyZi2"
      }
    },
    {
      "cell_type": "code",
      "source": [
        "a = np.array([1,2,3 ,2,3,4,3,4,5,6])\n",
        "b = np.array([7,2,10,2,7,4,9,4,9,8])\n",
        "display(\"Desired Output:\",np.where(a==b))"
      ],
      "metadata": {
        "id": "pTW1JS-OysyM",
        "colab": {
          "base_uri": "https://localhost:8080/",
          "height": 53
        },
        "outputId": "508a69e6-4841-4bb6-bf55-41e2789537cb"
      },
      "execution_count": 9,
      "outputs": [
        {
          "output_type": "display_data",
          "data": {
            "text/plain": [
              "'Desired Output:'"
            ],
            "application/vnd.google.colaboratory.intrinsic+json": {
              "type": "string"
            }
          },
          "metadata": {}
        },
        {
          "output_type": "display_data",
          "data": {
            "text/plain": [
              "(array([1, 3, 5, 7]),)"
            ]
          },
          "metadata": {}
        }
      ]
    },
    {
      "cell_type": "markdown",
      "source": [
        "Problem  10\n",
        "\n",
        "Swap columns 1 and 2 in the array arr.\n",
        "\n",
        "```\n",
        "arr = np.arange(9).reshape(3,3)\n",
        "```\n",
        "\n",
        "Output:\n",
        "\n",
        "\n",
        "\n",
        "```\n",
        "array([[1, 0, 2],\n",
        "      [4, 3, 5],\n",
        "      [7, 6, 8]])\n",
        "```\n",
        "\n",
        "\n"
      ],
      "metadata": {
        "id": "0wj25KsAyxfv"
      }
    },
    {
      "cell_type": "code",
      "source": [
        "arr = np.arange(9).reshape(3,3)\n",
        "#display(\"arr:\",arr)\n",
        "swap = arr[:,[1,0,2]]\n",
        "display(\"output swap:\",swap)"
      ],
      "metadata": {
        "id": "V16xM0yjzfI0",
        "colab": {
          "base_uri": "https://localhost:8080/",
          "height": 87
        },
        "outputId": "c71f57ac-a87e-4269-c138-fa33603f735f"
      },
      "execution_count": 10,
      "outputs": [
        {
          "output_type": "display_data",
          "data": {
            "text/plain": [
              "'output swap:'"
            ],
            "application/vnd.google.colaboratory.intrinsic+json": {
              "type": "string"
            }
          },
          "metadata": {}
        },
        {
          "output_type": "display_data",
          "data": {
            "text/plain": [
              "array([[1, 0, 2],\n",
              "       [4, 3, 5],\n",
              "       [7, 6, 8]])"
            ]
          },
          "metadata": {}
        }
      ]
    },
    {
      "cell_type": "markdown",
      "source": [
        "Problem  11\n",
        "\n",
        "From the array a, replace all values greater than 30 to 30 and less than 10 to 10.\n",
        "\n",
        "Input:\n",
        "\n",
        "\n",
        "```\n",
        "np.random.seed(100)\n",
        "a = np.random.uniform(1,50, 20)\n",
        "```\n"
      ],
      "metadata": {
        "id": "T3JTUp181MAR"
      }
    },
    {
      "cell_type": "code",
      "source": [
        "np.random.seed(100) #randomly genrated will be same once they genrated by seed() \n",
        "a = np.random.uniform(1,50, 20)\n",
        "#display(\"a\",a)\n",
        "a[a >= 30] = 30\n",
        "a[a <= 10] = 10\n",
        "display(\"a\",a)\n",
        "#np.where(a>=30,30,a)"
      ],
      "metadata": {
        "id": "Ju77O_4x1TJl",
        "colab": {
          "base_uri": "https://localhost:8080/",
          "height": 105
        },
        "outputId": "23a935aa-fb10-4df4-94b4-acb76c0d5b4c"
      },
      "execution_count": 11,
      "outputs": [
        {
          "output_type": "display_data",
          "data": {
            "text/plain": [
              "'a'"
            ],
            "application/vnd.google.colaboratory.intrinsic+json": {
              "type": "string"
            }
          },
          "metadata": {}
        },
        {
          "output_type": "display_data",
          "data": {
            "text/plain": [
              "array([27.62684215, 14.64009987, 21.80136195, 30.        , 10.        ,\n",
              "       10.        , 30.        , 30.        , 10.        , 29.17957314,\n",
              "       30.        , 11.25090398, 10.08108276, 10.        , 11.76517714,\n",
              "       30.        , 30.        , 10.        , 30.        , 14.42961361])"
            ]
          },
          "metadata": {}
        }
      ]
    },
    {
      "cell_type": "markdown",
      "source": [
        "Problem  12\n",
        "\n",
        "Compute the counts of unique values row-wise.\n",
        "\n",
        "Input:\n",
        "\n",
        "\n",
        "\n",
        "```\n",
        "np.random.seed(100)\n",
        "arr = np.random.randint(1,11,size=(6, 10))\n",
        "arr\n",
        "> array([[ 9,  9,  4,  8,  8,  1,  5,  3,  6,  3],\n",
        ">        [ 3,  3,  2,  1,  9,  5,  1, 10,  7,  3],\n",
        ">        [ 5,  2,  6,  4,  5,  5,  4,  8,  2,  2],\n",
        ">        [ 8,  8,  1,  3, 10, 10,  4,  3,  6,  9],\n",
        ">        [ 2,  1,  8,  7,  3,  1,  9,  3,  6,  2],\n",
        ">        [ 9,  2,  6,  5,  3,  9,  4,  6,  1, 10]])\n",
        "```\n",
        "\n",
        "\n",
        "\n",
        "Desired Output:\n",
        "\n",
        "\n",
        "\n",
        "```\n",
        "> [[1, 0, 2, 1, 1, 1, 0, 2, 2, 0],\n",
        ">  [2, 1, 3, 0, 1, 0, 1, 0, 1, 1],\n",
        ">  [0, 3, 0, 2, 3, 1, 0, 1, 0, 0],\n",
        ">  [1, 0, 2, 1, 0, 1, 0, 2, 1, 2],\n",
        ">  [2, 2, 2, 0, 0, 1, 1, 1, 1, 0],\n",
        ">  [1, 1, 1, 1, 1, 2, 0, 0, 2, 1]]\n",
        "```\n",
        "\n"
      ],
      "metadata": {
        "id": "LHQfYYtLrz5e"
      }
    },
    {
      "cell_type": "code",
      "source": [
        "np.random.seed(100)\n",
        "arr = np.random.randint(1,11,size=(6, 10))\n",
        "result = np.zeros((arr.shape[0], arr.max()), dtype=int)\n",
        "for i in range(arr.shape[0]):\n",
        "    unique, counts = np.unique(arr[i], return_counts=True)\n",
        "    result[i, unique-1] = counts\n",
        "display(result)"
      ],
      "metadata": {
        "id": "MwEiQ9wssF1G",
        "colab": {
          "base_uri": "https://localhost:8080/",
          "height": 121
        },
        "outputId": "d912ab6c-235e-440e-f35a-65357bafdce9"
      },
      "execution_count": 12,
      "outputs": [
        {
          "output_type": "display_data",
          "data": {
            "text/plain": [
              "array([[1, 0, 2, 1, 1, 1, 0, 2, 2, 0],\n",
              "       [2, 1, 3, 0, 1, 0, 1, 0, 1, 1],\n",
              "       [0, 3, 0, 2, 3, 1, 0, 1, 0, 0],\n",
              "       [1, 0, 2, 1, 0, 1, 0, 2, 1, 2],\n",
              "       [2, 2, 2, 0, 0, 1, 1, 1, 1, 0],\n",
              "       [1, 1, 1, 1, 1, 2, 0, 0, 2, 1]])"
            ]
          },
          "metadata": {}
        }
      ]
    },
    {
      "cell_type": "markdown",
      "source": [
        "Problem  13\n",
        "\n",
        "Compute the one-hot encodings (dummy binary variables for each unique value in the array)"
      ],
      "metadata": {
        "id": "j5DBowUpsTSR"
      }
    },
    {
      "cell_type": "code",
      "source": [
        "array = np.array([1, 0, 2, 1, 0])\n",
        "#display(array)\n",
        "unique_values = np.unique(array)\n",
        "#display(unique_values)\n",
        "one_hot_encodings = np.eye(len(unique_values))[array] # np.eye(len(unique_values)) make the identity Matrix and [array] help to make each for onehotencode \n",
        "display(one_hot_encodings)"
      ],
      "metadata": {
        "id": "9_W66J-VwNnJ",
        "colab": {
          "base_uri": "https://localhost:8080/",
          "height": 104
        },
        "outputId": "de9d8d8f-d983-420f-fd22-2c59f5a23610"
      },
      "execution_count": 13,
      "outputs": [
        {
          "output_type": "display_data",
          "data": {
            "text/plain": [
              "array([[0., 1., 0.],\n",
              "       [1., 0., 0.],\n",
              "       [0., 0., 1.],\n",
              "       [0., 1., 0.],\n",
              "       [1., 0., 0.]])"
            ]
          },
          "metadata": {}
        }
      ]
    },
    {
      "cell_type": "markdown",
      "source": [
        "Problem  14\n",
        "\n",
        "Create the ranks for the given numeric array a.\n",
        "\n",
        "Input:\n",
        "\n",
        "\n",
        "\n",
        "```\n",
        "np.random.seed(10)\n",
        "a = np.random.randint(20, size=10)\n",
        "print(a)\n",
        "#> [ 9  4 15  0 17 16 17  8  9  0]\n",
        "```\n",
        "\n",
        "Desired output:\n",
        "\n",
        "```\n",
        "[4 2 6 0 8 7 9 3 5 1]\n",
        "```"
      ],
      "metadata": {
        "id": "ku1ShYriwWg5"
      }
    },
    {
      "cell_type": "code",
      "source": [
        "np.random.seed(10)\n",
        "a = np.random.randint(20, size=10)\n",
        "display(\"Actual array\",a)\n",
        "order = a.argsort() # it sort the index of each element of the actual array \n",
        "display('sorted index of actual array',order)\n",
        "re_order = order.argsort() # it resort the index of actual sorted array to get desire output\n",
        "display(\"resorted index of actual sorted array\",re_order)"
      ],
      "metadata": {
        "id": "MTqYk__owkLS",
        "colab": {
          "base_uri": "https://localhost:8080/",
          "height": 124
        },
        "outputId": "12a6adc6-ff95-4431-af49-1497e5d2a45c"
      },
      "execution_count": 14,
      "outputs": [
        {
          "output_type": "display_data",
          "data": {
            "text/plain": [
              "'Actual array'"
            ],
            "application/vnd.google.colaboratory.intrinsic+json": {
              "type": "string"
            }
          },
          "metadata": {}
        },
        {
          "output_type": "display_data",
          "data": {
            "text/plain": [
              "array([ 9,  4, 15,  0, 17, 16, 17,  8,  9,  0])"
            ]
          },
          "metadata": {}
        },
        {
          "output_type": "display_data",
          "data": {
            "text/plain": [
              "'sorted index of actual array'"
            ],
            "application/vnd.google.colaboratory.intrinsic+json": {
              "type": "string"
            }
          },
          "metadata": {}
        },
        {
          "output_type": "display_data",
          "data": {
            "text/plain": [
              "array([3, 9, 1, 7, 0, 8, 2, 5, 4, 6])"
            ]
          },
          "metadata": {}
        },
        {
          "output_type": "display_data",
          "data": {
            "text/plain": [
              "'resorted index of actual sorted array'"
            ],
            "application/vnd.google.colaboratory.intrinsic+json": {
              "type": "string"
            }
          },
          "metadata": {}
        },
        {
          "output_type": "display_data",
          "data": {
            "text/plain": [
              "array([4, 2, 6, 0, 8, 7, 9, 3, 5, 1])"
            ]
          },
          "metadata": {}
        }
      ]
    },
    {
      "cell_type": "markdown",
      "source": [
        "Problem  15\n",
        "\n",
        "Create a rank array of the same shape as a given numeric array a.\n",
        "\n",
        "Input:\n",
        "\n",
        "\n",
        "\n",
        "```\n",
        "np.random.seed(10)\n",
        "a = np.random.randint(20, size=[2,5])\n",
        "print(a)\n",
        "#> [[ 9  4 15  0 17]\n",
        "#>  [16 17  8  9  0]]\n",
        "```\n",
        "\n",
        "\n",
        "Desired output:\n",
        "\n",
        "\n",
        "\n",
        "```\n",
        "#> [[4 2 6 0 8]\n",
        "#>  [7 9 3 5 1]]\n",
        "```\n",
        "\n"
      ],
      "metadata": {
        "id": "GTX22O_CwBCn"
      }
    },
    {
      "cell_type": "code",
      "source": [
        "np.random.seed(10)\n",
        "a = np.random.randint(20, size=[2,5])\n",
        "display(\"actual array \",a)\n",
        "print(\"\")\n",
        "convert_1D = np.ravel(a)\n",
        "display(\"conversion of actual 2D array into 1D array by np.ravel\",convert_1D) # 1st it convert 2d array into 1d\n",
        "print(\"\")\n",
        "ranked = np.argsort(convert_1D) # sorted the index of of actual converted 1D array by np.argsort\n",
        "display(\"sorted the index of of actual converted 1D array by np.argsort\",ranked)\n",
        "print('')\n",
        "np_argsort = np.argsort(ranked)\n",
        "display(\"again resort the index by np.argsort\",np_argsort)\n",
        "print('')\n",
        "desire_output = np_argsort.reshape(a.shape) # np_argsort.reshape(a.shape) to give the same shape as the array a had  \n",
        "display(\"np_argsort.reshape(a.shape) to give the same shape as the array a had\",desire_output)"
      ],
      "metadata": {
        "id": "8Jrl4Xf8wL6n",
        "colab": {
          "base_uri": "https://localhost:8080/",
          "height": 300
        },
        "outputId": "3a151ef4-28f3-43fb-c742-6aa41f460a7a"
      },
      "execution_count": 15,
      "outputs": [
        {
          "output_type": "display_data",
          "data": {
            "text/plain": [
              "'actual array '"
            ],
            "application/vnd.google.colaboratory.intrinsic+json": {
              "type": "string"
            }
          },
          "metadata": {}
        },
        {
          "output_type": "display_data",
          "data": {
            "text/plain": [
              "array([[ 9,  4, 15,  0, 17],\n",
              "       [16, 17,  8,  9,  0]])"
            ]
          },
          "metadata": {}
        },
        {
          "output_type": "stream",
          "name": "stdout",
          "text": [
            "\n"
          ]
        },
        {
          "output_type": "display_data",
          "data": {
            "text/plain": [
              "'conversion of actual 2D array into 1D array by np.ravel'"
            ],
            "application/vnd.google.colaboratory.intrinsic+json": {
              "type": "string"
            }
          },
          "metadata": {}
        },
        {
          "output_type": "display_data",
          "data": {
            "text/plain": [
              "array([ 9,  4, 15,  0, 17, 16, 17,  8,  9,  0])"
            ]
          },
          "metadata": {}
        },
        {
          "output_type": "stream",
          "name": "stdout",
          "text": [
            "\n"
          ]
        },
        {
          "output_type": "display_data",
          "data": {
            "text/plain": [
              "'sorted the index of of actual converted 1D array by np.argsort'"
            ],
            "application/vnd.google.colaboratory.intrinsic+json": {
              "type": "string"
            }
          },
          "metadata": {}
        },
        {
          "output_type": "display_data",
          "data": {
            "text/plain": [
              "array([3, 9, 1, 7, 0, 8, 2, 5, 4, 6])"
            ]
          },
          "metadata": {}
        },
        {
          "output_type": "stream",
          "name": "stdout",
          "text": [
            "\n"
          ]
        },
        {
          "output_type": "display_data",
          "data": {
            "text/plain": [
              "'again resort the index by np.argsort'"
            ],
            "application/vnd.google.colaboratory.intrinsic+json": {
              "type": "string"
            }
          },
          "metadata": {}
        },
        {
          "output_type": "display_data",
          "data": {
            "text/plain": [
              "array([4, 2, 6, 0, 8, 7, 9, 3, 5, 1])"
            ]
          },
          "metadata": {}
        },
        {
          "output_type": "stream",
          "name": "stdout",
          "text": [
            "\n"
          ]
        },
        {
          "output_type": "display_data",
          "data": {
            "text/plain": [
              "'np_argsort.reshape(a.shape) to give the same shape as the array a had'"
            ],
            "application/vnd.google.colaboratory.intrinsic+json": {
              "type": "string"
            }
          },
          "metadata": {}
        },
        {
          "output_type": "display_data",
          "data": {
            "text/plain": [
              "array([[4, 2, 6, 0, 8],\n",
              "       [7, 9, 3, 5, 1]])"
            ]
          },
          "metadata": {}
        }
      ]
    },
    {
      "cell_type": "markdown",
      "source": [
        "Problem  16\n",
        "\n",
        "Compute the min-by-max for each row for given 2d numpy array\n",
        "\n",
        "Input:\n",
        "\n",
        "```\n",
        "np.random.seed(100)\n",
        "a = np.random.randint(1,10, [5,3])\n",
        "a\n",
        "#> array([[9, 9, 4],\n",
        "#>        [8, 8, 1],\n",
        "#>        [5, 3, 6],\n",
        "#>        [3, 3, 3],\n",
        "#>        [2, 1, 9]])\n",
        "```\n",
        "\n",
        "Desired Output:\n",
        "\n",
        "```\n",
        "array([ 0.44444444,  0.125     ,  0.5       ,  1.        ,  0.11111111])\n",
        "```"
      ],
      "metadata": {
        "id": "JX1wmQYXwsZP"
      }
    },
    {
      "cell_type": "code",
      "source": [
        "np.random.seed(100)\n",
        "a = np.random.randint(1,10, [5,3])\n",
        "display(a)\n",
        "print('')\n",
        "min = np.amin(a,axis=1)# it bring the min value from each row of actual array \n",
        "display('np.amin(a,axis=1) it bring the min value from each row of actual array',min)\n",
        "print('')\n",
        "max = np.amax(a,axis=1)\n",
        "display('np.amax(a,axis=1) it bring the max value from each row of actual array',max)\n",
        "print('')\n",
        "min_by_max = min/max\n",
        "display('Desired Output:',min_by_max)"
      ],
      "metadata": {
        "id": "9u7Vg5F-wtwu",
        "colab": {
          "base_uri": "https://localhost:8080/",
          "height": 263
        },
        "outputId": "0630b4c6-2394-4a6d-8c5e-25a695500d61"
      },
      "execution_count": 16,
      "outputs": [
        {
          "output_type": "display_data",
          "data": {
            "text/plain": [
              "array([[9, 9, 4],\n",
              "       [8, 8, 1],\n",
              "       [5, 3, 6],\n",
              "       [3, 3, 3],\n",
              "       [2, 1, 9]])"
            ]
          },
          "metadata": {}
        },
        {
          "output_type": "stream",
          "name": "stdout",
          "text": [
            "\n"
          ]
        },
        {
          "output_type": "display_data",
          "data": {
            "text/plain": [
              "'np.amin(a,axis=1) it bring the min value from each row of actual array'"
            ],
            "application/vnd.google.colaboratory.intrinsic+json": {
              "type": "string"
            }
          },
          "metadata": {}
        },
        {
          "output_type": "display_data",
          "data": {
            "text/plain": [
              "array([4, 1, 3, 3, 1])"
            ]
          },
          "metadata": {}
        },
        {
          "output_type": "stream",
          "name": "stdout",
          "text": [
            "\n"
          ]
        },
        {
          "output_type": "display_data",
          "data": {
            "text/plain": [
              "'np.amax(a,axis=1) it bring the max value from each row of actual array'"
            ],
            "application/vnd.google.colaboratory.intrinsic+json": {
              "type": "string"
            }
          },
          "metadata": {}
        },
        {
          "output_type": "display_data",
          "data": {
            "text/plain": [
              "array([9, 8, 6, 3, 9])"
            ]
          },
          "metadata": {}
        },
        {
          "output_type": "stream",
          "name": "stdout",
          "text": [
            "\n"
          ]
        },
        {
          "output_type": "display_data",
          "data": {
            "text/plain": [
              "'Desired Output:'"
            ],
            "application/vnd.google.colaboratory.intrinsic+json": {
              "type": "string"
            }
          },
          "metadata": {}
        },
        {
          "output_type": "display_data",
          "data": {
            "text/plain": [
              "array([0.44444444, 0.125     , 0.5       , 1.        , 0.11111111])"
            ]
          },
          "metadata": {}
        }
      ]
    },
    {
      "cell_type": "markdown",
      "source": [
        "Problem  17\n",
        "\n",
        "Find the duplicate entries (2nd occurrence onwards) in the given numpy array and mark them as True. First time occurrences should be False\n",
        "\n",
        "Input\n",
        "```\n",
        "np.random.seed(100)\n",
        "a = np.random.randint(0, 5, 10)\n",
        "print('Array: ', a)\n",
        "#> Array: [0 0 3 0 2 4 2 2 2 2]\n",
        "```\n",
        "Desired Output:\n",
        "```\n",
        "#> [False  True False  True False False  True  True  True  True]\n",
        "```"
      ],
      "metadata": {
        "id": "pLwGxnDdwvNZ"
      }
    },
    {
      "cell_type": "code",
      "source": [
        "import numpy as np\n",
        "\n",
        "np.random.seed(100)\n",
        "a = np.random.randint(0, 5, 10)\n",
        "display('Array: ', a)\n",
        "\n",
        "unique, counts = np.unique(a, return_counts=True)\n",
        "duplicates = np.zeros(a.shape, dtype=bool)\n",
        "duplicates[np.in1d(a, unique[counts > 1])] = True\n",
        "display('Duplicates: ', duplicates)\n"
      ],
      "metadata": {
        "id": "iFzMSHx-xWTX",
        "colab": {
          "base_uri": "https://localhost:8080/",
          "height": 106
        },
        "outputId": "313133fa-d8fa-4f07-e865-a289bd2bcaac"
      },
      "execution_count": 17,
      "outputs": [
        {
          "output_type": "display_data",
          "data": {
            "text/plain": [
              "'Array: '"
            ],
            "application/vnd.google.colaboratory.intrinsic+json": {
              "type": "string"
            }
          },
          "metadata": {}
        },
        {
          "output_type": "display_data",
          "data": {
            "text/plain": [
              "array([0, 0, 3, 0, 2, 4, 2, 2, 2, 2])"
            ]
          },
          "metadata": {}
        },
        {
          "output_type": "display_data",
          "data": {
            "text/plain": [
              "'Duplicates: '"
            ],
            "application/vnd.google.colaboratory.intrinsic+json": {
              "type": "string"
            }
          },
          "metadata": {}
        },
        {
          "output_type": "display_data",
          "data": {
            "text/plain": [
              "array([ True,  True, False,  True,  True, False,  True,  True,  True,\n",
              "        True])"
            ]
          },
          "metadata": {}
        }
      ]
    },
    {
      "cell_type": "markdown",
      "source": [
        "Problem  18\n",
        "\n",
        "Drop all nan values from a 1D numpy array\n",
        "\n",
        "Input:\n",
        "```\n",
        "np.array([1,2,3,np.nan,5,6,7,np.nan])\n",
        "```\n",
        "Desired Output:\n",
        "```\n",
        "array([ 1.,  2.,  3.,  5.,  6.,  7.])\n",
        "```"
      ],
      "metadata": {
        "id": "gE2QG7lfwvKP"
      }
    },
    {
      "cell_type": "code",
      "source": [
        "from numpy.lib.function_base import delete\n",
        "a = np.array([1,2,3,np.nan,5,6,7,np.nan])\n",
        "display(a)\n",
        "a[~np.isnan(a)]"
      ],
      "metadata": {
        "id": "jrEnT6SQxmuL",
        "colab": {
          "base_uri": "https://localhost:8080/",
          "height": 52
        },
        "outputId": "d27b0064-6157-4096-a094-6dbe362df7f9"
      },
      "execution_count": 18,
      "outputs": [
        {
          "output_type": "display_data",
          "data": {
            "text/plain": [
              "array([ 1.,  2.,  3., nan,  5.,  6.,  7., nan])"
            ]
          },
          "metadata": {}
        },
        {
          "output_type": "execute_result",
          "data": {
            "text/plain": [
              "array([1., 2., 3., 5., 6., 7.])"
            ]
          },
          "metadata": {},
          "execution_count": 18
        }
      ]
    },
    {
      "cell_type": "markdown",
      "source": [
        "Problem 19\n",
        "\n",
        "Find all the peaks in a 1D numpy array a. Peaks are points surrounded by smaller values on both sides.\n",
        "\n",
        "Input:\n",
        "```\n",
        "a = np.array([1, 3, 7, 1, 2, 6, 0, 1])\n",
        "```\n",
        "Desired Output:\n",
        "```\n",
        "#> array([2, 5])\n",
        "```"
      ],
      "metadata": {
        "id": "aDvGrDytx7Jh"
      }
    },
    {
      "cell_type": "code",
      "source": [
        "\"\"\"This code first defines a function find_peaks which takes in an array a and returns the indices of the peaks in the array.\n",
        " The function uses a for loop to iterate through the elements of the array and checks if the current element is greater than its two neighbors.\n",
        "  If it is, the index is added to the peaks list. Finally, the function returns the peaks list.\"\"\"\n",
        "def find_peaks(a):\n",
        "  peaks = []\n",
        "  for i in range(1, len(a) - 1):\n",
        "    if a[i] > a[i - 1] and a[i] > a[i + 1]:\n",
        "      peaks.append(i)\n",
        "  return peaks\n",
        "a = np.array([1, 3, 7, 1, 2, 6, 0, 1])\n",
        "peaks = find_peaks(a)\n",
        "print(peaks)"
      ],
      "metadata": {
        "id": "PVAt2DVGxnUc",
        "colab": {
          "base_uri": "https://localhost:8080/"
        },
        "outputId": "542af6ea-ef77-461d-ab93-e0990ed45efb"
      },
      "execution_count": 25,
      "outputs": [
        {
          "output_type": "stream",
          "name": "stdout",
          "text": [
            "[2, 5]\n"
          ]
        }
      ]
    },
    {
      "cell_type": "markdown",
      "source": [
        "Problem 20\n",
        "\n",
        "Subtract the 1d array b_1d from the 2d array a_2d, such that each item of b_1d subtracts from respective row of a_2d.\n",
        "\n",
        "\n",
        "Input\n",
        "```\n",
        "a_2d = np.array([[3,3,3],[4,4,4],[5,5,5]])\n",
        "b_1d = np.array([1,1,1]\n",
        "\n",
        "```\n",
        "Desired Output:\n",
        "```\n",
        "#> [[2 2 2]\n",
        "#>  [2 2 2]\n",
        "#>  [2 2 2]]\n",
        "```"
      ],
      "metadata": {
        "id": "ueqd1H7WyHT6"
      }
    },
    {
      "cell_type": "code",
      "source": [
        "a_2d = np.array([[3,3,3],[4,4,4],[5,5,5]])\n",
        "b_1d = np.array([1,1,1])\n",
        "for a in a_2d:\n",
        "  result = a-b_1d\n",
        "  b_1d+=1\n",
        "  display(result)"
      ],
      "metadata": {
        "id": "usT-gMqOySyG",
        "colab": {
          "base_uri": "https://localhost:8080/",
          "height": 69
        },
        "outputId": "effaf97f-895d-4d16-ddb4-af27d75a1451"
      },
      "execution_count": 73,
      "outputs": [
        {
          "output_type": "display_data",
          "data": {
            "text/plain": [
              "array([2, 2, 2])"
            ]
          },
          "metadata": {}
        },
        {
          "output_type": "display_data",
          "data": {
            "text/plain": [
              "array([2, 2, 2])"
            ]
          },
          "metadata": {}
        },
        {
          "output_type": "display_data",
          "data": {
            "text/plain": [
              "array([2, 2, 2])"
            ]
          },
          "metadata": {}
        }
      ]
    },
    {
      "cell_type": "markdown",
      "source": [
        "Problem 21\n",
        "\n",
        "Find the index of 5th repetition of number 1 in x.\n",
        "\n",
        "Input:\n",
        "\n",
        "```\n",
        "x = np.array([1, 2, 1, 1, 3, 4, 3, 1, 1, 2, 1, 1, 2])\n",
        "```\n",
        "\n"
      ],
      "metadata": {
        "id": "HWe3-R9C3rMi"
      }
    },
    {
      "cell_type": "code",
      "source": [
        "import numpy as np\n",
        "x = np.array([1, 2, 1, 1, 3, 4, 3, 1, 1, 2, 1, 1, 2])\n",
        "indices = np.where(x == 1)[0]\n",
        "#display(indices)\n",
        "fifth_rep = indices[4]\n",
        "print(fifth_rep)\n"
      ],
      "metadata": {
        "id": "EvD16zlJ3wVZ",
        "colab": {
          "base_uri": "https://localhost:8080/"
        },
        "outputId": "5b73841e-42a2-4edc-ef35-5137f4e609fa"
      },
      "execution_count": 75,
      "outputs": [
        {
          "output_type": "stream",
          "name": "stdout",
          "text": [
            "8\n"
          ]
        }
      ]
    },
    {
      "cell_type": "markdown",
      "source": [
        "Problem 22\n",
        "\n",
        "Create a numpy array of length 10, starting from 5 and has a step of 3 between consecutive numbers"
      ],
      "metadata": {
        "id": "I791Ruie3xBD"
      }
    },
    {
      "cell_type": "code",
      "source": [
        "a = np.arange(5, 33, 3)\n",
        "display(a)\n",
        "#display(len(a))"
      ],
      "metadata": {
        "id": "kzFiZ_SC39em",
        "colab": {
          "base_uri": "https://localhost:8080/",
          "height": 34
        },
        "outputId": "7f605c13-4e8a-4a63-d460-6c466582efc8"
      },
      "execution_count": 67,
      "outputs": [
        {
          "output_type": "display_data",
          "data": {
            "text/plain": [
              "array([ 5,  8, 11, 14, 17, 20, 23, 26, 29, 32])"
            ]
          },
          "metadata": {}
        }
      ]
    },
    {
      "cell_type": "markdown",
      "source": [
        "Problem 23\n",
        "\n",
        " From the given 1d array arr, generate a 2d matrix using strides, with a window length of 4 and strides of 2, like [[0,1,2,3], [2,3,4,5], [4,5,6,7]..]\n",
        "\n",
        "Input:\n",
        "```\n",
        "arr = np.arange(15) \n",
        "arr\n",
        "#> array([ 0,  1,  2,  3,  4,  5,  6,  7,  8,  9, 10, 11, 12, 13, 14])\n",
        "```\n",
        "\n",
        "Desired Output:\n",
        "```\n",
        "#> [[ 0  1  2  3]\n",
        "#>  [ 2  3  4  5]\n",
        "#>  [ 4  5  6  7]\n",
        "#>  [ 6  7  8  9]\n",
        "#>  [ 8  9 10 11]\n",
        "#>  [10 11 12 13]]\n",
        "```"
      ],
      "metadata": {
        "id": "QyQmrqM43-SS"
      }
    },
    {
      "cell_type": "code",
      "source": [
        "def rolling(a, window):\n",
        "    shape = (a.size - window + 1, window)\n",
        "    strides = (a.itemsize, a.itemsize)\n",
        "    return np.lib.stride_tricks.as_strided(a, shape=shape, strides=strides)\n",
        "\n",
        "a = np.arange(15) \n",
        "print(rolling(a, 4))"
      ],
      "metadata": {
        "id": "My6d6SyU4NhC",
        "colab": {
          "base_uri": "https://localhost:8080/"
        },
        "outputId": "5a054a9a-f1aa-48af-8da1-b6bbd1e18737"
      },
      "execution_count": 68,
      "outputs": [
        {
          "output_type": "stream",
          "name": "stdout",
          "text": [
            "[[ 0  1  2  3]\n",
            " [ 1  2  3  4]\n",
            " [ 2  3  4  5]\n",
            " [ 3  4  5  6]\n",
            " [ 4  5  6  7]\n",
            " [ 5  6  7  8]\n",
            " [ 6  7  8  9]\n",
            " [ 7  8  9 10]\n",
            " [ 8  9 10 11]\n",
            " [ 9 10 11 12]\n",
            " [10 11 12 13]\n",
            " [11 12 13 14]]\n"
          ]
        }
      ]
    },
    {
      "cell_type": "markdown",
      "source": [],
      "metadata": {
        "id": "M7Vn6W854Oym"
      }
    }
  ]
}