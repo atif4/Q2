{
  "cells": [
    {
      "cell_type": "markdown",
      "metadata": {
        "id": "view-in-github",
        "colab_type": "text"
      },
      "source": [
        "<a href=\"https://colab.research.google.com/github/atif4/Q2/blob/gh-pages/astronauts.ipynb\" target=\"_parent\"><img src=\"https://colab.research.google.com/assets/colab-badge.svg\" alt=\"Open In Colab\"/></a>"
      ]
    },
    {
      "cell_type": "code",
      "execution_count": 1,
      "metadata": {
        "id": "DwB5BPeqv7Q-"
      },
      "outputs": [],
      "source": [
        "#hide earrings \n",
        "import warnings\n",
        "warnings.filterwarnings('ignore')\n",
        "import pandas as pd\n",
        "import numpy as np"
      ]
    },
    {
      "cell_type": "code",
      "source": [
        "\n",
        "from sklearn.preprocessing import LabelEncoder\n",
        "from sklearn.model_selection import train_test_split"
      ],
      "metadata": {
        "id": "3K6233uBwQmI"
      },
      "execution_count": 41,
      "outputs": []
    },
    {
      "cell_type": "code",
      "execution_count": 2,
      "metadata": {
        "id": "zJx7TcUiPodo"
      },
      "outputs": [],
      "source": [
        "import matplotlib.pyplot as plt\n",
        "%matplotlib inline\n",
        "import seaborn as sns\n",
        "plt.style.use('seaborn')"
      ]
    },
    {
      "cell_type": "code",
      "execution_count": 3,
      "metadata": {
        "id": "ede6KExlPsQ_"
      },
      "outputs": [],
      "source": [
        "from sklearn.model_selection import train_test_split\n",
        "from sklearn.preprocessing import MinMaxScaler"
      ]
    },
    {
      "cell_type": "code",
      "execution_count": 4,
      "metadata": {
        "id": "M8t6wX9fT2k5"
      },
      "outputs": [],
      "source": [
        "\"\"\"from tensorflow.keras.models import Sequential\n",
        "from tensorflow.keras.layers import Dense\"\"\"\n",
        "from tensorflow.keras.optimizers import Adam, SGD\n",
        "from keras import regularizers\n",
        "from keras import layers\n",
        "from tensorflow.keras import models"
      ]
    },
    {
      "cell_type": "code",
      "execution_count": 5,
      "metadata": {
        "colab": {
          "base_uri": "https://localhost:8080/",
          "height": 485
        },
        "id": "fHIWSftWT3QS",
        "outputId": "dcd06ddf-bd9b-4059-80e0-92ad228360d6"
      },
      "outputs": [
        {
          "output_type": "execute_result",
          "data": {
            "text/plain": [
              "               Name    Year  Group   Status Birth Date    Birth Place Gender  \\\n",
              "0   Joseph M. Acaba  2004.0   19.0   Active  5/17/1967  Inglewood, CA   Male   \n",
              "1    Loren W. Acton     NaN    NaN  Retired   3/7/1936   Lewiston, MT   Male   \n",
              "2  James C. Adamson  1984.0   10.0  Retired   3/3/1946     Warsaw, NY   Male   \n",
              "\n",
              "                                          Alma Mater  Undergraduate Major  \\\n",
              "0  University of California-Santa Barbara; Univer...              Geology   \n",
              "1   Montana State University; University of Colorado  Engineering Physics   \n",
              "2          US Military Academy; Princeton University          Engineering   \n",
              "\n",
              "          Graduate Major Military Rank    Military Branch  Space Flights  \\\n",
              "0                Geology           NaN                NaN              2   \n",
              "1          Solar Physics           NaN                NaN              1   \n",
              "2  Aerospace Engineering       Colonel  US Army (Retired)              2   \n",
              "\n",
              "   Space Flight (hr)  Space Walks  Space Walks (hr)  \\\n",
              "0               3307            2              13.0   \n",
              "1                190            0               0.0   \n",
              "2                334            0               0.0   \n",
              "\n",
              "                                 Missions Death Date Death Mission  \n",
              "0  STS-119 (Discovery), ISS-31/32 (Soyuz)        NaN           NaN  \n",
              "1                   STS 51-F (Challenger)        NaN           NaN  \n",
              "2    STS-28 (Columbia), STS-43 (Atlantis)        NaN           NaN  "
            ],
            "text/html": [
              "\n",
              "  <div id=\"df-0c8f76d6-d2bf-4df0-8002-53857f93297f\">\n",
              "    <div class=\"colab-df-container\">\n",
              "      <div>\n",
              "<style scoped>\n",
              "    .dataframe tbody tr th:only-of-type {\n",
              "        vertical-align: middle;\n",
              "    }\n",
              "\n",
              "    .dataframe tbody tr th {\n",
              "        vertical-align: top;\n",
              "    }\n",
              "\n",
              "    .dataframe thead th {\n",
              "        text-align: right;\n",
              "    }\n",
              "</style>\n",
              "<table border=\"1\" class=\"dataframe\">\n",
              "  <thead>\n",
              "    <tr style=\"text-align: right;\">\n",
              "      <th></th>\n",
              "      <th>Name</th>\n",
              "      <th>Year</th>\n",
              "      <th>Group</th>\n",
              "      <th>Status</th>\n",
              "      <th>Birth Date</th>\n",
              "      <th>Birth Place</th>\n",
              "      <th>Gender</th>\n",
              "      <th>Alma Mater</th>\n",
              "      <th>Undergraduate Major</th>\n",
              "      <th>Graduate Major</th>\n",
              "      <th>Military Rank</th>\n",
              "      <th>Military Branch</th>\n",
              "      <th>Space Flights</th>\n",
              "      <th>Space Flight (hr)</th>\n",
              "      <th>Space Walks</th>\n",
              "      <th>Space Walks (hr)</th>\n",
              "      <th>Missions</th>\n",
              "      <th>Death Date</th>\n",
              "      <th>Death Mission</th>\n",
              "    </tr>\n",
              "  </thead>\n",
              "  <tbody>\n",
              "    <tr>\n",
              "      <th>0</th>\n",
              "      <td>Joseph M. Acaba</td>\n",
              "      <td>2004.0</td>\n",
              "      <td>19.0</td>\n",
              "      <td>Active</td>\n",
              "      <td>5/17/1967</td>\n",
              "      <td>Inglewood, CA</td>\n",
              "      <td>Male</td>\n",
              "      <td>University of California-Santa Barbara; Univer...</td>\n",
              "      <td>Geology</td>\n",
              "      <td>Geology</td>\n",
              "      <td>NaN</td>\n",
              "      <td>NaN</td>\n",
              "      <td>2</td>\n",
              "      <td>3307</td>\n",
              "      <td>2</td>\n",
              "      <td>13.0</td>\n",
              "      <td>STS-119 (Discovery), ISS-31/32 (Soyuz)</td>\n",
              "      <td>NaN</td>\n",
              "      <td>NaN</td>\n",
              "    </tr>\n",
              "    <tr>\n",
              "      <th>1</th>\n",
              "      <td>Loren W. Acton</td>\n",
              "      <td>NaN</td>\n",
              "      <td>NaN</td>\n",
              "      <td>Retired</td>\n",
              "      <td>3/7/1936</td>\n",
              "      <td>Lewiston, MT</td>\n",
              "      <td>Male</td>\n",
              "      <td>Montana State University; University of Colorado</td>\n",
              "      <td>Engineering Physics</td>\n",
              "      <td>Solar Physics</td>\n",
              "      <td>NaN</td>\n",
              "      <td>NaN</td>\n",
              "      <td>1</td>\n",
              "      <td>190</td>\n",
              "      <td>0</td>\n",
              "      <td>0.0</td>\n",
              "      <td>STS 51-F (Challenger)</td>\n",
              "      <td>NaN</td>\n",
              "      <td>NaN</td>\n",
              "    </tr>\n",
              "    <tr>\n",
              "      <th>2</th>\n",
              "      <td>James C. Adamson</td>\n",
              "      <td>1984.0</td>\n",
              "      <td>10.0</td>\n",
              "      <td>Retired</td>\n",
              "      <td>3/3/1946</td>\n",
              "      <td>Warsaw, NY</td>\n",
              "      <td>Male</td>\n",
              "      <td>US Military Academy; Princeton University</td>\n",
              "      <td>Engineering</td>\n",
              "      <td>Aerospace Engineering</td>\n",
              "      <td>Colonel</td>\n",
              "      <td>US Army (Retired)</td>\n",
              "      <td>2</td>\n",
              "      <td>334</td>\n",
              "      <td>0</td>\n",
              "      <td>0.0</td>\n",
              "      <td>STS-28 (Columbia), STS-43 (Atlantis)</td>\n",
              "      <td>NaN</td>\n",
              "      <td>NaN</td>\n",
              "    </tr>\n",
              "  </tbody>\n",
              "</table>\n",
              "</div>\n",
              "      <button class=\"colab-df-convert\" onclick=\"convertToInteractive('df-0c8f76d6-d2bf-4df0-8002-53857f93297f')\"\n",
              "              title=\"Convert this dataframe to an interactive table.\"\n",
              "              style=\"display:none;\">\n",
              "        \n",
              "  <svg xmlns=\"http://www.w3.org/2000/svg\" height=\"24px\"viewBox=\"0 0 24 24\"\n",
              "       width=\"24px\">\n",
              "    <path d=\"M0 0h24v24H0V0z\" fill=\"none\"/>\n",
              "    <path d=\"M18.56 5.44l.94 2.06.94-2.06 2.06-.94-2.06-.94-.94-2.06-.94 2.06-2.06.94zm-11 1L8.5 8.5l.94-2.06 2.06-.94-2.06-.94L8.5 2.5l-.94 2.06-2.06.94zm10 10l.94 2.06.94-2.06 2.06-.94-2.06-.94-.94-2.06-.94 2.06-2.06.94z\"/><path d=\"M17.41 7.96l-1.37-1.37c-.4-.4-.92-.59-1.43-.59-.52 0-1.04.2-1.43.59L10.3 9.45l-7.72 7.72c-.78.78-.78 2.05 0 2.83L4 21.41c.39.39.9.59 1.41.59.51 0 1.02-.2 1.41-.59l7.78-7.78 2.81-2.81c.8-.78.8-2.07 0-2.86zM5.41 20L4 18.59l7.72-7.72 1.47 1.35L5.41 20z\"/>\n",
              "  </svg>\n",
              "      </button>\n",
              "      \n",
              "  <style>\n",
              "    .colab-df-container {\n",
              "      display:flex;\n",
              "      flex-wrap:wrap;\n",
              "      gap: 12px;\n",
              "    }\n",
              "\n",
              "    .colab-df-convert {\n",
              "      background-color: #E8F0FE;\n",
              "      border: none;\n",
              "      border-radius: 50%;\n",
              "      cursor: pointer;\n",
              "      display: none;\n",
              "      fill: #1967D2;\n",
              "      height: 32px;\n",
              "      padding: 0 0 0 0;\n",
              "      width: 32px;\n",
              "    }\n",
              "\n",
              "    .colab-df-convert:hover {\n",
              "      background-color: #E2EBFA;\n",
              "      box-shadow: 0px 1px 2px rgba(60, 64, 67, 0.3), 0px 1px 3px 1px rgba(60, 64, 67, 0.15);\n",
              "      fill: #174EA6;\n",
              "    }\n",
              "\n",
              "    [theme=dark] .colab-df-convert {\n",
              "      background-color: #3B4455;\n",
              "      fill: #D2E3FC;\n",
              "    }\n",
              "\n",
              "    [theme=dark] .colab-df-convert:hover {\n",
              "      background-color: #434B5C;\n",
              "      box-shadow: 0px 1px 3px 1px rgba(0, 0, 0, 0.15);\n",
              "      filter: drop-shadow(0px 1px 2px rgba(0, 0, 0, 0.3));\n",
              "      fill: #FFFFFF;\n",
              "    }\n",
              "  </style>\n",
              "\n",
              "      <script>\n",
              "        const buttonEl =\n",
              "          document.querySelector('#df-0c8f76d6-d2bf-4df0-8002-53857f93297f button.colab-df-convert');\n",
              "        buttonEl.style.display =\n",
              "          google.colab.kernel.accessAllowed ? 'block' : 'none';\n",
              "\n",
              "        async function convertToInteractive(key) {\n",
              "          const element = document.querySelector('#df-0c8f76d6-d2bf-4df0-8002-53857f93297f');\n",
              "          const dataTable =\n",
              "            await google.colab.kernel.invokeFunction('convertToInteractive',\n",
              "                                                     [key], {});\n",
              "          if (!dataTable) return;\n",
              "\n",
              "          const docLinkHtml = 'Like what you see? Visit the ' +\n",
              "            '<a target=\"_blank\" href=https://colab.research.google.com/notebooks/data_table.ipynb>data table notebook</a>'\n",
              "            + ' to learn more about interactive tables.';\n",
              "          element.innerHTML = '';\n",
              "          dataTable['output_type'] = 'display_data';\n",
              "          await google.colab.output.renderOutput(dataTable, element);\n",
              "          const docLink = document.createElement('div');\n",
              "          docLink.innerHTML = docLinkHtml;\n",
              "          element.appendChild(docLink);\n",
              "        }\n",
              "      </script>\n",
              "    </div>\n",
              "  </div>\n",
              "  "
            ]
          },
          "metadata": {},
          "execution_count": 5
        }
      ],
      "source": [
        "df = pd.read_csv(\"/content/drive/MyDrive/Dataset/astronauts.csv\")\n",
        "df.head(3)"
      ]
    },
    {
      "cell_type": "code",
      "execution_count": 6,
      "metadata": {
        "id": "8QtGSUB1EaSu"
      },
      "outputs": [],
      "source": [
        "df.rename(columns={'Birth Date':'Birth_Date', 'Birth Place':'Birth_Place','Alma Mater':'Alma_Mater', 'Undergraduate Major':'Undergraduate_Major', 'Graduate Major':'Graduate_Major',\n",
        "       'Military Rank':'Military_Rank', 'Military Branch':'Military_Branch', 'Space Flights':'Space_Flights',\n",
        "       'Space Flight (hr)':'Space_Flight_(hr)', 'Space Walks':'Space_Walks', 'Space Walks (hr)':'Space_Walks_(hr)',\n",
        "       'Death Date':'Death_Date', 'Death Mission':'Death_Mission'},inplace=True)"
      ]
    },
    {
      "cell_type": "code",
      "execution_count": 7,
      "metadata": {
        "colab": {
          "base_uri": "https://localhost:8080/"
        },
        "id": "DuZIyHzqUIAc",
        "outputId": "c2a8e1ac-a910-43ed-f5ce-222be39851e4"
      },
      "outputs": [
        {
          "output_type": "stream",
          "name": "stdout",
          "text": [
            "<class 'pandas.core.frame.DataFrame'>\n",
            "RangeIndex: 357 entries, 0 to 356\n",
            "Data columns (total 19 columns):\n",
            " #   Column               Non-Null Count  Dtype  \n",
            "---  ------               --------------  -----  \n",
            " 0   Name                 357 non-null    object \n",
            " 1   Year                 330 non-null    float64\n",
            " 2   Group                330 non-null    float64\n",
            " 3   Status               357 non-null    object \n",
            " 4   Birth_Date           357 non-null    object \n",
            " 5   Birth_Place          357 non-null    object \n",
            " 6   Gender               357 non-null    object \n",
            " 7   Alma_Mater           356 non-null    object \n",
            " 8   Undergraduate_Major  335 non-null    object \n",
            " 9   Graduate_Major       298 non-null    object \n",
            " 10  Military_Rank        207 non-null    object \n",
            " 11  Military_Branch      211 non-null    object \n",
            " 12  Space_Flights        357 non-null    int64  \n",
            " 13  Space_Flight_(hr)    357 non-null    int64  \n",
            " 14  Space_Walks          357 non-null    int64  \n",
            " 15  Space_Walks_(hr)     357 non-null    float64\n",
            " 16  Missions             334 non-null    object \n",
            " 17  Death_Date           52 non-null     object \n",
            " 18  Death_Mission        16 non-null     object \n",
            "dtypes: float64(3), int64(3), object(13)\n",
            "memory usage: 53.1+ KB\n"
          ]
        }
      ],
      "source": [
        "df.info()"
      ]
    },
    {
      "cell_type": "code",
      "source": [
        "df['Death_Date']=df['Death_Date'].astype('datetime64[ns]')\n",
        "df['Birth_Date']=df['Birth_Date'].astype('datetime64[ns]')"
      ],
      "metadata": {
        "id": "9HfGd-2LkBa3"
      },
      "execution_count": 8,
      "outputs": []
    },
    {
      "cell_type": "code",
      "source": [
        "def get_each_dtpyes(col_list):\n",
        "    ob = []\n",
        "    integer = []\n",
        "    fl = []\n",
        "    data_time = []\n",
        "    bol = []\n",
        "    for i in col_list:\n",
        "        if df[i].dtypes == 'object':\n",
        "            ob.append(i)\n",
        "        if df[i].dtypes == 'int64':\n",
        "            integer.append(i)\n",
        "        if  df[i].dtypes == 'float64':\n",
        "            fl.append(i)\n",
        "        if df[i].dtypes == 'datetime64[ns]':\n",
        "            data_time.append(i)\n",
        "        if df[i].dtypes == \"bool\":\n",
        "            bol.append(i)\n",
        "    return print(f\"list of object dtpyes:\\n{ob}\\n{len(ob)}\\n\\nlist of integers dtypes:\\n{integer}\\n{len(integer)}\\n\\nlist of float dtypes:\\n{fl}\\n{len(fl)}\\n\\nlist of datatime dtype:\\n{data_time}\\n{len(data_time)}\\nlist of datatime dtype:\\n{bol}\\n{len(bol)}\\n\")\n",
        "get_each_dtpyes(['Name', 'Year', 'Group', 'Status', 'Birth_Date', 'Birth_Place','Gender', 'Alma_Mater', 'Undergraduate_Major', 'Graduate_Major',\n",
        "       'Military_Rank', 'Military_Branch', 'Space_Flights','Space_Flight_(hr)', 'Space_Walks', 'Space_Walks_(hr)', 'Missions','Death_Date', 'Death_Mission'])"
      ],
      "metadata": {
        "colab": {
          "base_uri": "https://localhost:8080/"
        },
        "id": "K7JV-6eNjynO",
        "outputId": "7881d684-265e-4c25-9778-08d6f6aee01f"
      },
      "execution_count": 9,
      "outputs": [
        {
          "output_type": "stream",
          "name": "stdout",
          "text": [
            "list of object dtpyes:\n",
            "['Name', 'Status', 'Birth_Place', 'Gender', 'Alma_Mater', 'Undergraduate_Major', 'Graduate_Major', 'Military_Rank', 'Military_Branch', 'Missions', 'Death_Mission']\n",
            "11\n",
            "\n",
            "list of integers dtypes:\n",
            "['Space_Flights', 'Space_Flight_(hr)', 'Space_Walks']\n",
            "3\n",
            "\n",
            "list of float dtypes:\n",
            "['Year', 'Group', 'Space_Walks_(hr)']\n",
            "3\n",
            "\n",
            "list of datatime dtype:\n",
            "['Birth_Date', 'Death_Date']\n",
            "2\n",
            "list of datatime dtype:\n",
            "[]\n",
            "0\n",
            "\n"
          ]
        }
      ]
    },
    {
      "cell_type": "code",
      "source": [
        "null_value = {}\n",
        "not_null_value = {}\n",
        "def get_null_value_col(list_col):\n",
        "  for i in list_col:\n",
        "    if df[i].isnull().sum() == 0:\n",
        "      not_null_value[i]=df[i].isnull().sum()\n",
        "    else:\n",
        "      null_value[i]=df[i].isnull().sum()\n",
        "get_null_value_col(['Name', 'Year', 'Group', 'Status', 'Birth_Date', 'Birth_Place', 'Gender', 'Alma_Mater', 'Undergraduate_Major', 'Graduate_Major',\n",
        "       'Military_Rank', 'Military_Branch', 'Space_Flights','Space_Flight_(hr)', 'Space_Walks', 'Space_Walks_(hr)', 'Missions', 'Death_Date', 'Death_Mission'])"
      ],
      "metadata": {
        "id": "xzFU-Ckxg7me"
      },
      "execution_count": 10,
      "outputs": []
    },
    {
      "cell_type": "code",
      "source": [
        "display(\"This is list of columns which has null values: \",null_value)\n",
        "display(\"The number of columns which has null value are  \",len(null_value))\n",
        "#display(\"This is list of columns which does not have null values: \",not_null_value)\n",
        "#display(\"This is lenght of list which does not have null value: \",len(not_null_value))"
      ],
      "metadata": {
        "colab": {
          "base_uri": "https://localhost:8080/",
          "height": 245
        },
        "id": "Z2ZuUHAUikW8",
        "outputId": "e9340eb6-e983-4c80-d84b-53a36c3c1820"
      },
      "execution_count": 11,
      "outputs": [
        {
          "output_type": "display_data",
          "data": {
            "text/plain": [
              "'This is list of columns which has null values: '"
            ],
            "application/vnd.google.colaboratory.intrinsic+json": {
              "type": "string"
            }
          },
          "metadata": {}
        },
        {
          "output_type": "display_data",
          "data": {
            "text/plain": [
              "{'Year': 27,\n",
              " 'Group': 27,\n",
              " 'Alma_Mater': 1,\n",
              " 'Undergraduate_Major': 22,\n",
              " 'Graduate_Major': 59,\n",
              " 'Military_Rank': 150,\n",
              " 'Military_Branch': 146,\n",
              " 'Missions': 23,\n",
              " 'Death_Date': 305,\n",
              " 'Death_Mission': 341}"
            ]
          },
          "metadata": {}
        },
        {
          "output_type": "display_data",
          "data": {
            "text/plain": [
              "'The number of columns which has null value are  '"
            ],
            "application/vnd.google.colaboratory.intrinsic+json": {
              "type": "string"
            }
          },
          "metadata": {}
        },
        {
          "output_type": "display_data",
          "data": {
            "text/plain": [
              "10"
            ]
          },
          "metadata": {}
        }
      ]
    },
    {
      "cell_type": "code",
      "source": [
        "null_value.keys()"
      ],
      "metadata": {
        "colab": {
          "base_uri": "https://localhost:8080/"
        },
        "id": "YXy_zBani-nB",
        "outputId": "4aea492c-c95b-4fc7-c0ce-b1b069b8a665"
      },
      "execution_count": 12,
      "outputs": [
        {
          "output_type": "execute_result",
          "data": {
            "text/plain": [
              "dict_keys(['Year', 'Group', 'Alma_Mater', 'Undergraduate_Major', 'Graduate_Major', 'Military_Rank', 'Military_Branch', 'Missions', 'Death_Date', 'Death_Mission'])"
            ]
          },
          "metadata": {},
          "execution_count": 12
        }
      ]
    },
    {
      "cell_type": "code",
      "source": [
        "update_col_dic={}\n",
        "drop_col_dic ={}\n",
        "def get_percentage_of_each_col(list_col):\n",
        "  for i in list_col:\n",
        "    if df[i].isnull().sum()/len(df)*100 > 30:\n",
        "      update_col_dic[i] = df[i].isnull().sum()/len(df)*100\n",
        "    else:\n",
        "      drop_col_dic[i]=df[i].isnull().sum()/len(df)*100 \n",
        "get_percentage_of_each_col(['Year', 'Group', 'Alma_Mater', 'Undergraduate_Major', 'Graduate_Major', 'Military_Rank', 'Military_Branch', 'Missions', 'Death_Date', 'Death_Mission'])"
      ],
      "metadata": {
        "id": "iSuQ4Qzzi7CP"
      },
      "execution_count": 13,
      "outputs": []
    },
    {
      "cell_type": "code",
      "source": [
        "display(\"These percentages are greater then 30 you have to use techniques to fill the missing values of following columns: \", update_col_dic)"
      ],
      "metadata": {
        "colab": {
          "base_uri": "https://localhost:8080/",
          "height": 105
        },
        "id": "BWACP1RNjg2U",
        "outputId": "6954933b-6544-4386-af8d-849deae8994e"
      },
      "execution_count": 14,
      "outputs": [
        {
          "output_type": "display_data",
          "data": {
            "text/plain": [
              "'The percentages are greater then 30 you use techniques to fill the value for following columns: '"
            ],
            "application/vnd.google.colaboratory.intrinsic+json": {
              "type": "string"
            }
          },
          "metadata": {}
        },
        {
          "output_type": "display_data",
          "data": {
            "text/plain": [
              "{'Military_Rank': 42.016806722689076,\n",
              " 'Military_Branch': 40.896358543417364,\n",
              " 'Death_Date': 85.43417366946778,\n",
              " 'Death_Mission': 95.51820728291317}"
            ]
          },
          "metadata": {}
        }
      ]
    },
    {
      "cell_type": "code",
      "source": [
        "display(\"These percentages are not greater then 30 you have to drop the following columns: \",drop_col_dic)"
      ],
      "metadata": {
        "colab": {
          "base_uri": "https://localhost:8080/",
          "height": 140
        },
        "id": "WwwrmLxxjnN_",
        "outputId": "5814368c-910e-4d10-fab6-477242bb49c7"
      },
      "execution_count": 15,
      "outputs": [
        {
          "output_type": "display_data",
          "data": {
            "text/plain": [
              "'The percentages are not greater then 30 you have to drop the following columns: '"
            ],
            "application/vnd.google.colaboratory.intrinsic+json": {
              "type": "string"
            }
          },
          "metadata": {}
        },
        {
          "output_type": "display_data",
          "data": {
            "text/plain": [
              "{'Year': 7.563025210084033,\n",
              " 'Group': 7.563025210084033,\n",
              " 'Alma_Mater': 0.2801120448179272,\n",
              " 'Undergraduate_Major': 6.162464985994398,\n",
              " 'Graduate_Major': 16.5266106442577,\n",
              " 'Missions': 6.442577030812324}"
            ]
          },
          "metadata": {}
        }
      ]
    },
    {
      "cell_type": "code",
      "execution_count": 16,
      "metadata": {
        "colab": {
          "base_uri": "https://localhost:8080/"
        },
        "id": "9k1Busjxrxhx",
        "outputId": "37676b54-a627-4db6-d64a-c7a0fce41841"
      },
      "outputs": [
        {
          "output_type": "execute_result",
          "data": {
            "text/plain": [
              "dict_keys(['Year', 'Group', 'Alma_Mater', 'Undergraduate_Major', 'Graduate_Major', 'Missions'])"
            ]
          },
          "metadata": {},
          "execution_count": 16
        }
      ],
      "source": [
        "drop_col_dic.keys()"
      ]
    },
    {
      "cell_type": "code",
      "execution_count": 17,
      "metadata": {
        "id": "v378-t3K_HDG"
      },
      "outputs": [],
      "source": [
        "df.drop(['Year', 'Group', 'Alma_Mater', 'Undergraduate_Major', 'Graduate_Major', 'Missions'],axis=1,inplace=True)"
      ]
    },
    {
      "cell_type": "code",
      "execution_count": 18,
      "metadata": {
        "colab": {
          "base_uri": "https://localhost:8080/",
          "height": 246
        },
        "id": "M8OTfyDW_Y_R",
        "outputId": "0401bb08-889a-47e1-a8c5-0d315aa15310"
      },
      "outputs": [
        {
          "output_type": "execute_result",
          "data": {
            "text/plain": [
              "              Name   Status Birth_Date    Birth_Place Gender Military_Rank  \\\n",
              "0  Joseph M. Acaba   Active 1967-05-17  Inglewood, CA   Male           NaN   \n",
              "1   Loren W. Acton  Retired 1936-03-07   Lewiston, MT   Male           NaN   \n",
              "\n",
              "  Military_Branch  Space_Flights  Space_Flight_(hr)  Space_Walks  \\\n",
              "0             NaN              2               3307            2   \n",
              "1             NaN              1                190            0   \n",
              "\n",
              "   Space_Walks_(hr) Death_Date Death_Mission  \n",
              "0              13.0        NaT           NaN  \n",
              "1               0.0        NaT           NaN  "
            ],
            "text/html": [
              "\n",
              "  <div id=\"df-9bb313ed-ec43-4c98-8844-9fd125afe77e\">\n",
              "    <div class=\"colab-df-container\">\n",
              "      <div>\n",
              "<style scoped>\n",
              "    .dataframe tbody tr th:only-of-type {\n",
              "        vertical-align: middle;\n",
              "    }\n",
              "\n",
              "    .dataframe tbody tr th {\n",
              "        vertical-align: top;\n",
              "    }\n",
              "\n",
              "    .dataframe thead th {\n",
              "        text-align: right;\n",
              "    }\n",
              "</style>\n",
              "<table border=\"1\" class=\"dataframe\">\n",
              "  <thead>\n",
              "    <tr style=\"text-align: right;\">\n",
              "      <th></th>\n",
              "      <th>Name</th>\n",
              "      <th>Status</th>\n",
              "      <th>Birth_Date</th>\n",
              "      <th>Birth_Place</th>\n",
              "      <th>Gender</th>\n",
              "      <th>Military_Rank</th>\n",
              "      <th>Military_Branch</th>\n",
              "      <th>Space_Flights</th>\n",
              "      <th>Space_Flight_(hr)</th>\n",
              "      <th>Space_Walks</th>\n",
              "      <th>Space_Walks_(hr)</th>\n",
              "      <th>Death_Date</th>\n",
              "      <th>Death_Mission</th>\n",
              "    </tr>\n",
              "  </thead>\n",
              "  <tbody>\n",
              "    <tr>\n",
              "      <th>0</th>\n",
              "      <td>Joseph M. Acaba</td>\n",
              "      <td>Active</td>\n",
              "      <td>1967-05-17</td>\n",
              "      <td>Inglewood, CA</td>\n",
              "      <td>Male</td>\n",
              "      <td>NaN</td>\n",
              "      <td>NaN</td>\n",
              "      <td>2</td>\n",
              "      <td>3307</td>\n",
              "      <td>2</td>\n",
              "      <td>13.0</td>\n",
              "      <td>NaT</td>\n",
              "      <td>NaN</td>\n",
              "    </tr>\n",
              "    <tr>\n",
              "      <th>1</th>\n",
              "      <td>Loren W. Acton</td>\n",
              "      <td>Retired</td>\n",
              "      <td>1936-03-07</td>\n",
              "      <td>Lewiston, MT</td>\n",
              "      <td>Male</td>\n",
              "      <td>NaN</td>\n",
              "      <td>NaN</td>\n",
              "      <td>1</td>\n",
              "      <td>190</td>\n",
              "      <td>0</td>\n",
              "      <td>0.0</td>\n",
              "      <td>NaT</td>\n",
              "      <td>NaN</td>\n",
              "    </tr>\n",
              "  </tbody>\n",
              "</table>\n",
              "</div>\n",
              "      <button class=\"colab-df-convert\" onclick=\"convertToInteractive('df-9bb313ed-ec43-4c98-8844-9fd125afe77e')\"\n",
              "              title=\"Convert this dataframe to an interactive table.\"\n",
              "              style=\"display:none;\">\n",
              "        \n",
              "  <svg xmlns=\"http://www.w3.org/2000/svg\" height=\"24px\"viewBox=\"0 0 24 24\"\n",
              "       width=\"24px\">\n",
              "    <path d=\"M0 0h24v24H0V0z\" fill=\"none\"/>\n",
              "    <path d=\"M18.56 5.44l.94 2.06.94-2.06 2.06-.94-2.06-.94-.94-2.06-.94 2.06-2.06.94zm-11 1L8.5 8.5l.94-2.06 2.06-.94-2.06-.94L8.5 2.5l-.94 2.06-2.06.94zm10 10l.94 2.06.94-2.06 2.06-.94-2.06-.94-.94-2.06-.94 2.06-2.06.94z\"/><path d=\"M17.41 7.96l-1.37-1.37c-.4-.4-.92-.59-1.43-.59-.52 0-1.04.2-1.43.59L10.3 9.45l-7.72 7.72c-.78.78-.78 2.05 0 2.83L4 21.41c.39.39.9.59 1.41.59.51 0 1.02-.2 1.41-.59l7.78-7.78 2.81-2.81c.8-.78.8-2.07 0-2.86zM5.41 20L4 18.59l7.72-7.72 1.47 1.35L5.41 20z\"/>\n",
              "  </svg>\n",
              "      </button>\n",
              "      \n",
              "  <style>\n",
              "    .colab-df-container {\n",
              "      display:flex;\n",
              "      flex-wrap:wrap;\n",
              "      gap: 12px;\n",
              "    }\n",
              "\n",
              "    .colab-df-convert {\n",
              "      background-color: #E8F0FE;\n",
              "      border: none;\n",
              "      border-radius: 50%;\n",
              "      cursor: pointer;\n",
              "      display: none;\n",
              "      fill: #1967D2;\n",
              "      height: 32px;\n",
              "      padding: 0 0 0 0;\n",
              "      width: 32px;\n",
              "    }\n",
              "\n",
              "    .colab-df-convert:hover {\n",
              "      background-color: #E2EBFA;\n",
              "      box-shadow: 0px 1px 2px rgba(60, 64, 67, 0.3), 0px 1px 3px 1px rgba(60, 64, 67, 0.15);\n",
              "      fill: #174EA6;\n",
              "    }\n",
              "\n",
              "    [theme=dark] .colab-df-convert {\n",
              "      background-color: #3B4455;\n",
              "      fill: #D2E3FC;\n",
              "    }\n",
              "\n",
              "    [theme=dark] .colab-df-convert:hover {\n",
              "      background-color: #434B5C;\n",
              "      box-shadow: 0px 1px 3px 1px rgba(0, 0, 0, 0.15);\n",
              "      filter: drop-shadow(0px 1px 2px rgba(0, 0, 0, 0.3));\n",
              "      fill: #FFFFFF;\n",
              "    }\n",
              "  </style>\n",
              "\n",
              "      <script>\n",
              "        const buttonEl =\n",
              "          document.querySelector('#df-9bb313ed-ec43-4c98-8844-9fd125afe77e button.colab-df-convert');\n",
              "        buttonEl.style.display =\n",
              "          google.colab.kernel.accessAllowed ? 'block' : 'none';\n",
              "\n",
              "        async function convertToInteractive(key) {\n",
              "          const element = document.querySelector('#df-9bb313ed-ec43-4c98-8844-9fd125afe77e');\n",
              "          const dataTable =\n",
              "            await google.colab.kernel.invokeFunction('convertToInteractive',\n",
              "                                                     [key], {});\n",
              "          if (!dataTable) return;\n",
              "\n",
              "          const docLinkHtml = 'Like what you see? Visit the ' +\n",
              "            '<a target=\"_blank\" href=https://colab.research.google.com/notebooks/data_table.ipynb>data table notebook</a>'\n",
              "            + ' to learn more about interactive tables.';\n",
              "          element.innerHTML = '';\n",
              "          dataTable['output_type'] = 'display_data';\n",
              "          await google.colab.output.renderOutput(dataTable, element);\n",
              "          const docLink = document.createElement('div');\n",
              "          docLink.innerHTML = docLinkHtml;\n",
              "          element.appendChild(docLink);\n",
              "        }\n",
              "      </script>\n",
              "    </div>\n",
              "  </div>\n",
              "  "
            ]
          },
          "metadata": {},
          "execution_count": 18
        }
      ],
      "source": [
        "df.head(2)"
      ]
    },
    {
      "cell_type": "code",
      "execution_count": 19,
      "metadata": {
        "colab": {
          "base_uri": "https://localhost:8080/"
        },
        "id": "2T54dnxfDu1r",
        "outputId": "cebd49b9-be6c-4737-8ee6-030bca627b55"
      },
      "outputs": [
        {
          "output_type": "execute_result",
          "data": {
            "text/plain": [
              "dict_keys(['Military_Rank', 'Military_Branch', 'Death_Date', 'Death_Mission'])"
            ]
          },
          "metadata": {},
          "execution_count": 19
        }
      ],
      "source": [
        "update_col_dic.keys()"
      ]
    },
    {
      "cell_type": "code",
      "source": [
        "dict_of_mode_values = {}\n",
        "def get_mode_value_to_fill_na_values(col_list):\n",
        "    for i in col_list:\n",
        "        dict_of_mode_values[i] = df[i].mode()\n",
        "get_mode_value_to_fill_na_values(['Military_Rank', 'Military_Branch', 'Death_Date', 'Death_Mission'])"
      ],
      "metadata": {
        "id": "hhBcNpqVVj5b"
      },
      "execution_count": 20,
      "outputs": []
    },
    {
      "cell_type": "code",
      "source": [
        "dict_of_mode_values"
      ],
      "metadata": {
        "colab": {
          "base_uri": "https://localhost:8080/"
        },
        "id": "w40i_7UzWb24",
        "outputId": "97796326-363b-429e-f683-2ba9644800e1"
      },
      "execution_count": 21,
      "outputs": [
        {
          "output_type": "execute_result",
          "data": {
            "text/plain": [
              "{'Military_Rank': 0    Colonel\n",
              " dtype: object, 'Military_Branch': 0    US Air Force (Retired)\n",
              " dtype: object, 'Death_Date': 0   1986-01-28\n",
              " dtype: datetime64[ns], 'Death_Mission': 0    STS 51-L (Challenger)\n",
              " dtype: object}"
            ]
          },
          "metadata": {},
          "execution_count": 21
        }
      ]
    },
    {
      "cell_type": "code",
      "source": [
        "df[\"Military_Rank\"].fillna(\"Colonel\", inplace = True)\n",
        "df[\"Death_Mission\"].fillna(\"STS 51-L (Challenger)\", inplace = True)\n",
        "df[\"Military_Branch\"].fillna(\"US Air Force (Retired)\", inplace = True)\n",
        "df[\"Death_Date\"].fillna(\"1986-01-28\", inplace=True)"
      ],
      "metadata": {
        "id": "aYnH-GBcWtXY"
      },
      "execution_count": 22,
      "outputs": []
    },
    {
      "cell_type": "code",
      "source": [
        "\"\"\"def get_fill(list_of_col_id):\n",
        "  for i in list_of_col_id:\n",
        "    df[i].fillna(df[i].mode(), inplace = True)\"\"\""
      ],
      "metadata": {
        "id": "7Oe_mcrDXmnr",
        "outputId": "41ad5e67-bfb4-41d6-dffd-e133d8759416",
        "colab": {
          "base_uri": "https://localhost:8080/",
          "height": 35
        }
      },
      "execution_count": 23,
      "outputs": [
        {
          "output_type": "execute_result",
          "data": {
            "text/plain": [
              "'def get_fill(list_of_col_id):\\n  for i in list_of_col_id:\\n    df[i].fillna(df[i].mode(), inplace = True)'"
            ],
            "application/vnd.google.colaboratory.intrinsic+json": {
              "type": "string"
            }
          },
          "metadata": {},
          "execution_count": 23
        }
      ]
    },
    {
      "cell_type": "code",
      "source": [
        "df.info()"
      ],
      "metadata": {
        "colab": {
          "base_uri": "https://localhost:8080/"
        },
        "id": "ZSSPdwx-bJFK",
        "outputId": "bb50fa71-fa1e-48a0-cb91-a963aed0e8d8"
      },
      "execution_count": 24,
      "outputs": [
        {
          "output_type": "stream",
          "name": "stdout",
          "text": [
            "<class 'pandas.core.frame.DataFrame'>\n",
            "RangeIndex: 357 entries, 0 to 356\n",
            "Data columns (total 13 columns):\n",
            " #   Column             Non-Null Count  Dtype         \n",
            "---  ------             --------------  -----         \n",
            " 0   Name               357 non-null    object        \n",
            " 1   Status             357 non-null    object        \n",
            " 2   Birth_Date         357 non-null    datetime64[ns]\n",
            " 3   Birth_Place        357 non-null    object        \n",
            " 4   Gender             357 non-null    object        \n",
            " 5   Military_Rank      357 non-null    object        \n",
            " 6   Military_Branch    357 non-null    object        \n",
            " 7   Space_Flights      357 non-null    int64         \n",
            " 8   Space_Flight_(hr)  357 non-null    int64         \n",
            " 9   Space_Walks        357 non-null    int64         \n",
            " 10  Space_Walks_(hr)   357 non-null    float64       \n",
            " 11  Death_Date         357 non-null    datetime64[ns]\n",
            " 12  Death_Mission      357 non-null    object        \n",
            "dtypes: datetime64[ns](2), float64(1), int64(3), object(7)\n",
            "memory usage: 36.4+ KB\n"
          ]
        }
      ]
    },
    {
      "cell_type": "code",
      "source": [
        "df.head(1)"
      ],
      "metadata": {
        "colab": {
          "base_uri": "https://localhost:8080/",
          "height": 179
        },
        "id": "kP7ZkqqIbcty",
        "outputId": "4d6e0d79-6f5d-4fbb-9aee-a44f07815076"
      },
      "execution_count": 28,
      "outputs": [
        {
          "output_type": "execute_result",
          "data": {
            "text/plain": [
              "              Name  Status Birth_Date    Birth_Place Gender Military_Rank  \\\n",
              "0  Joseph M. Acaba  Active 1967-05-17  Inglewood, CA   Male       Colonel   \n",
              "\n",
              "          Military_Branch  Space_Flights  Space_Flight_(hr)  Space_Walks  \\\n",
              "0  US Air Force (Retired)              2               3307            2   \n",
              "\n",
              "   Space_Walks_(hr) Death_Date          Death_Mission  \n",
              "0              13.0 1986-01-28  STS 51-L (Challenger)  "
            ],
            "text/html": [
              "\n",
              "  <div id=\"df-e8367ea4-730f-49a8-a011-a360ef033359\">\n",
              "    <div class=\"colab-df-container\">\n",
              "      <div>\n",
              "<style scoped>\n",
              "    .dataframe tbody tr th:only-of-type {\n",
              "        vertical-align: middle;\n",
              "    }\n",
              "\n",
              "    .dataframe tbody tr th {\n",
              "        vertical-align: top;\n",
              "    }\n",
              "\n",
              "    .dataframe thead th {\n",
              "        text-align: right;\n",
              "    }\n",
              "</style>\n",
              "<table border=\"1\" class=\"dataframe\">\n",
              "  <thead>\n",
              "    <tr style=\"text-align: right;\">\n",
              "      <th></th>\n",
              "      <th>Name</th>\n",
              "      <th>Status</th>\n",
              "      <th>Birth_Date</th>\n",
              "      <th>Birth_Place</th>\n",
              "      <th>Gender</th>\n",
              "      <th>Military_Rank</th>\n",
              "      <th>Military_Branch</th>\n",
              "      <th>Space_Flights</th>\n",
              "      <th>Space_Flight_(hr)</th>\n",
              "      <th>Space_Walks</th>\n",
              "      <th>Space_Walks_(hr)</th>\n",
              "      <th>Death_Date</th>\n",
              "      <th>Death_Mission</th>\n",
              "    </tr>\n",
              "  </thead>\n",
              "  <tbody>\n",
              "    <tr>\n",
              "      <th>0</th>\n",
              "      <td>Joseph M. Acaba</td>\n",
              "      <td>Active</td>\n",
              "      <td>1967-05-17</td>\n",
              "      <td>Inglewood, CA</td>\n",
              "      <td>Male</td>\n",
              "      <td>Colonel</td>\n",
              "      <td>US Air Force (Retired)</td>\n",
              "      <td>2</td>\n",
              "      <td>3307</td>\n",
              "      <td>2</td>\n",
              "      <td>13.0</td>\n",
              "      <td>1986-01-28</td>\n",
              "      <td>STS 51-L (Challenger)</td>\n",
              "    </tr>\n",
              "  </tbody>\n",
              "</table>\n",
              "</div>\n",
              "      <button class=\"colab-df-convert\" onclick=\"convertToInteractive('df-e8367ea4-730f-49a8-a011-a360ef033359')\"\n",
              "              title=\"Convert this dataframe to an interactive table.\"\n",
              "              style=\"display:none;\">\n",
              "        \n",
              "  <svg xmlns=\"http://www.w3.org/2000/svg\" height=\"24px\"viewBox=\"0 0 24 24\"\n",
              "       width=\"24px\">\n",
              "    <path d=\"M0 0h24v24H0V0z\" fill=\"none\"/>\n",
              "    <path d=\"M18.56 5.44l.94 2.06.94-2.06 2.06-.94-2.06-.94-.94-2.06-.94 2.06-2.06.94zm-11 1L8.5 8.5l.94-2.06 2.06-.94-2.06-.94L8.5 2.5l-.94 2.06-2.06.94zm10 10l.94 2.06.94-2.06 2.06-.94-2.06-.94-.94-2.06-.94 2.06-2.06.94z\"/><path d=\"M17.41 7.96l-1.37-1.37c-.4-.4-.92-.59-1.43-.59-.52 0-1.04.2-1.43.59L10.3 9.45l-7.72 7.72c-.78.78-.78 2.05 0 2.83L4 21.41c.39.39.9.59 1.41.59.51 0 1.02-.2 1.41-.59l7.78-7.78 2.81-2.81c.8-.78.8-2.07 0-2.86zM5.41 20L4 18.59l7.72-7.72 1.47 1.35L5.41 20z\"/>\n",
              "  </svg>\n",
              "      </button>\n",
              "      \n",
              "  <style>\n",
              "    .colab-df-container {\n",
              "      display:flex;\n",
              "      flex-wrap:wrap;\n",
              "      gap: 12px;\n",
              "    }\n",
              "\n",
              "    .colab-df-convert {\n",
              "      background-color: #E8F0FE;\n",
              "      border: none;\n",
              "      border-radius: 50%;\n",
              "      cursor: pointer;\n",
              "      display: none;\n",
              "      fill: #1967D2;\n",
              "      height: 32px;\n",
              "      padding: 0 0 0 0;\n",
              "      width: 32px;\n",
              "    }\n",
              "\n",
              "    .colab-df-convert:hover {\n",
              "      background-color: #E2EBFA;\n",
              "      box-shadow: 0px 1px 2px rgba(60, 64, 67, 0.3), 0px 1px 3px 1px rgba(60, 64, 67, 0.15);\n",
              "      fill: #174EA6;\n",
              "    }\n",
              "\n",
              "    [theme=dark] .colab-df-convert {\n",
              "      background-color: #3B4455;\n",
              "      fill: #D2E3FC;\n",
              "    }\n",
              "\n",
              "    [theme=dark] .colab-df-convert:hover {\n",
              "      background-color: #434B5C;\n",
              "      box-shadow: 0px 1px 3px 1px rgba(0, 0, 0, 0.15);\n",
              "      filter: drop-shadow(0px 1px 2px rgba(0, 0, 0, 0.3));\n",
              "      fill: #FFFFFF;\n",
              "    }\n",
              "  </style>\n",
              "\n",
              "      <script>\n",
              "        const buttonEl =\n",
              "          document.querySelector('#df-e8367ea4-730f-49a8-a011-a360ef033359 button.colab-df-convert');\n",
              "        buttonEl.style.display =\n",
              "          google.colab.kernel.accessAllowed ? 'block' : 'none';\n",
              "\n",
              "        async function convertToInteractive(key) {\n",
              "          const element = document.querySelector('#df-e8367ea4-730f-49a8-a011-a360ef033359');\n",
              "          const dataTable =\n",
              "            await google.colab.kernel.invokeFunction('convertToInteractive',\n",
              "                                                     [key], {});\n",
              "          if (!dataTable) return;\n",
              "\n",
              "          const docLinkHtml = 'Like what you see? Visit the ' +\n",
              "            '<a target=\"_blank\" href=https://colab.research.google.com/notebooks/data_table.ipynb>data table notebook</a>'\n",
              "            + ' to learn more about interactive tables.';\n",
              "          element.innerHTML = '';\n",
              "          dataTable['output_type'] = 'display_data';\n",
              "          await google.colab.output.renderOutput(dataTable, element);\n",
              "          const docLink = document.createElement('div');\n",
              "          docLink.innerHTML = docLinkHtml;\n",
              "          element.appendChild(docLink);\n",
              "        }\n",
              "      </script>\n",
              "    </div>\n",
              "  </div>\n",
              "  "
            ]
          },
          "metadata": {},
          "execution_count": 28
        }
      ]
    },
    {
      "cell_type": "code",
      "source": [
        "df.to_csv('/content/drive/MyDrive/Dataset/astronauts_ready_for_viz.csv', index=False)"
      ],
      "metadata": {
        "id": "_VLhkVlMlMrC"
      },
      "execution_count": 26,
      "outputs": []
    },
    {
      "cell_type": "code",
      "source": [
        "def get_labed_encoder(col_ids_list):\n",
        "    for col_id_list in col_ids_list:\n",
        "        df[col_id_list] = df[col_id_list].apply(LabelEncoder().fit_transform)\n",
        "get_labed_encoder([['Name', 'Status', 'Birth_Place', 'Gender', 'Military_Rank', 'Military_Branch', 'Death_Mission']])\n",
        "df.head(3)"
      ],
      "metadata": {
        "colab": {
          "base_uri": "https://localhost:8080/",
          "height": 207
        },
        "id": "T166Z-Vwu9wp",
        "outputId": "a66d72ab-d169-4761-b75d-2f4571e590c6"
      },
      "execution_count": 38,
      "outputs": [
        {
          "output_type": "execute_result",
          "data": {
            "text/plain": [
              "   Name  Status Birth_Date  Birth_Place  Gender  Military_Rank  \\\n",
              "0   167       0 1967-05-17          115       1              3   \n",
              "1   203       3 1936-03-07          135       1              3   \n",
              "2   127       3 1946-03-03          259       1              3   \n",
              "\n",
              "   Military_Branch  Space_Flights  Space_Flight_(hr)  Space_Walks  \\\n",
              "0                1              2               3307            2   \n",
              "1                1              1                190            0   \n",
              "2                5              2                334            0   \n",
              "\n",
              "   Space_Walks_(hr) Death_Date  Death_Mission  \n",
              "0              13.0 1986-01-28              1  \n",
              "1               0.0 1986-01-28              1  \n",
              "2               0.0 1986-01-28              1  "
            ],
            "text/html": [
              "\n",
              "  <div id=\"df-1c2280d0-f4e8-4ade-8881-1d9292d58245\">\n",
              "    <div class=\"colab-df-container\">\n",
              "      <div>\n",
              "<style scoped>\n",
              "    .dataframe tbody tr th:only-of-type {\n",
              "        vertical-align: middle;\n",
              "    }\n",
              "\n",
              "    .dataframe tbody tr th {\n",
              "        vertical-align: top;\n",
              "    }\n",
              "\n",
              "    .dataframe thead th {\n",
              "        text-align: right;\n",
              "    }\n",
              "</style>\n",
              "<table border=\"1\" class=\"dataframe\">\n",
              "  <thead>\n",
              "    <tr style=\"text-align: right;\">\n",
              "      <th></th>\n",
              "      <th>Name</th>\n",
              "      <th>Status</th>\n",
              "      <th>Birth_Date</th>\n",
              "      <th>Birth_Place</th>\n",
              "      <th>Gender</th>\n",
              "      <th>Military_Rank</th>\n",
              "      <th>Military_Branch</th>\n",
              "      <th>Space_Flights</th>\n",
              "      <th>Space_Flight_(hr)</th>\n",
              "      <th>Space_Walks</th>\n",
              "      <th>Space_Walks_(hr)</th>\n",
              "      <th>Death_Date</th>\n",
              "      <th>Death_Mission</th>\n",
              "    </tr>\n",
              "  </thead>\n",
              "  <tbody>\n",
              "    <tr>\n",
              "      <th>0</th>\n",
              "      <td>167</td>\n",
              "      <td>0</td>\n",
              "      <td>1967-05-17</td>\n",
              "      <td>115</td>\n",
              "      <td>1</td>\n",
              "      <td>3</td>\n",
              "      <td>1</td>\n",
              "      <td>2</td>\n",
              "      <td>3307</td>\n",
              "      <td>2</td>\n",
              "      <td>13.0</td>\n",
              "      <td>1986-01-28</td>\n",
              "      <td>1</td>\n",
              "    </tr>\n",
              "    <tr>\n",
              "      <th>1</th>\n",
              "      <td>203</td>\n",
              "      <td>3</td>\n",
              "      <td>1936-03-07</td>\n",
              "      <td>135</td>\n",
              "      <td>1</td>\n",
              "      <td>3</td>\n",
              "      <td>1</td>\n",
              "      <td>1</td>\n",
              "      <td>190</td>\n",
              "      <td>0</td>\n",
              "      <td>0.0</td>\n",
              "      <td>1986-01-28</td>\n",
              "      <td>1</td>\n",
              "    </tr>\n",
              "    <tr>\n",
              "      <th>2</th>\n",
              "      <td>127</td>\n",
              "      <td>3</td>\n",
              "      <td>1946-03-03</td>\n",
              "      <td>259</td>\n",
              "      <td>1</td>\n",
              "      <td>3</td>\n",
              "      <td>5</td>\n",
              "      <td>2</td>\n",
              "      <td>334</td>\n",
              "      <td>0</td>\n",
              "      <td>0.0</td>\n",
              "      <td>1986-01-28</td>\n",
              "      <td>1</td>\n",
              "    </tr>\n",
              "  </tbody>\n",
              "</table>\n",
              "</div>\n",
              "      <button class=\"colab-df-convert\" onclick=\"convertToInteractive('df-1c2280d0-f4e8-4ade-8881-1d9292d58245')\"\n",
              "              title=\"Convert this dataframe to an interactive table.\"\n",
              "              style=\"display:none;\">\n",
              "        \n",
              "  <svg xmlns=\"http://www.w3.org/2000/svg\" height=\"24px\"viewBox=\"0 0 24 24\"\n",
              "       width=\"24px\">\n",
              "    <path d=\"M0 0h24v24H0V0z\" fill=\"none\"/>\n",
              "    <path d=\"M18.56 5.44l.94 2.06.94-2.06 2.06-.94-2.06-.94-.94-2.06-.94 2.06-2.06.94zm-11 1L8.5 8.5l.94-2.06 2.06-.94-2.06-.94L8.5 2.5l-.94 2.06-2.06.94zm10 10l.94 2.06.94-2.06 2.06-.94-2.06-.94-.94-2.06-.94 2.06-2.06.94z\"/><path d=\"M17.41 7.96l-1.37-1.37c-.4-.4-.92-.59-1.43-.59-.52 0-1.04.2-1.43.59L10.3 9.45l-7.72 7.72c-.78.78-.78 2.05 0 2.83L4 21.41c.39.39.9.59 1.41.59.51 0 1.02-.2 1.41-.59l7.78-7.78 2.81-2.81c.8-.78.8-2.07 0-2.86zM5.41 20L4 18.59l7.72-7.72 1.47 1.35L5.41 20z\"/>\n",
              "  </svg>\n",
              "      </button>\n",
              "      \n",
              "  <style>\n",
              "    .colab-df-container {\n",
              "      display:flex;\n",
              "      flex-wrap:wrap;\n",
              "      gap: 12px;\n",
              "    }\n",
              "\n",
              "    .colab-df-convert {\n",
              "      background-color: #E8F0FE;\n",
              "      border: none;\n",
              "      border-radius: 50%;\n",
              "      cursor: pointer;\n",
              "      display: none;\n",
              "      fill: #1967D2;\n",
              "      height: 32px;\n",
              "      padding: 0 0 0 0;\n",
              "      width: 32px;\n",
              "    }\n",
              "\n",
              "    .colab-df-convert:hover {\n",
              "      background-color: #E2EBFA;\n",
              "      box-shadow: 0px 1px 2px rgba(60, 64, 67, 0.3), 0px 1px 3px 1px rgba(60, 64, 67, 0.15);\n",
              "      fill: #174EA6;\n",
              "    }\n",
              "\n",
              "    [theme=dark] .colab-df-convert {\n",
              "      background-color: #3B4455;\n",
              "      fill: #D2E3FC;\n",
              "    }\n",
              "\n",
              "    [theme=dark] .colab-df-convert:hover {\n",
              "      background-color: #434B5C;\n",
              "      box-shadow: 0px 1px 3px 1px rgba(0, 0, 0, 0.15);\n",
              "      filter: drop-shadow(0px 1px 2px rgba(0, 0, 0, 0.3));\n",
              "      fill: #FFFFFF;\n",
              "    }\n",
              "  </style>\n",
              "\n",
              "      <script>\n",
              "        const buttonEl =\n",
              "          document.querySelector('#df-1c2280d0-f4e8-4ade-8881-1d9292d58245 button.colab-df-convert');\n",
              "        buttonEl.style.display =\n",
              "          google.colab.kernel.accessAllowed ? 'block' : 'none';\n",
              "\n",
              "        async function convertToInteractive(key) {\n",
              "          const element = document.querySelector('#df-1c2280d0-f4e8-4ade-8881-1d9292d58245');\n",
              "          const dataTable =\n",
              "            await google.colab.kernel.invokeFunction('convertToInteractive',\n",
              "                                                     [key], {});\n",
              "          if (!dataTable) return;\n",
              "\n",
              "          const docLinkHtml = 'Like what you see? Visit the ' +\n",
              "            '<a target=\"_blank\" href=https://colab.research.google.com/notebooks/data_table.ipynb>data table notebook</a>'\n",
              "            + ' to learn more about interactive tables.';\n",
              "          element.innerHTML = '';\n",
              "          dataTable['output_type'] = 'display_data';\n",
              "          await google.colab.output.renderOutput(dataTable, element);\n",
              "          const docLink = document.createElement('div');\n",
              "          docLink.innerHTML = docLinkHtml;\n",
              "          element.appendChild(docLink);\n",
              "        }\n",
              "      </script>\n",
              "    </div>\n",
              "  </div>\n",
              "  "
            ]
          },
          "metadata": {},
          "execution_count": 38
        }
      ]
    }
  ],
  "metadata": {
    "colab": {
      "provenance": [],
      "mount_file_id": "1Rk75WAPCq9-1Ka1cLuq75yCbd0Cq75PG",
      "authorship_tag": "ABX9TyNjIGv8E9yl7uXm1rjEt56C",
      "include_colab_link": true
    },
    "kernelspec": {
      "display_name": "Python 3",
      "name": "python3"
    },
    "language_info": {
      "name": "python"
    }
  },
  "nbformat": 4,
  "nbformat_minor": 0
}