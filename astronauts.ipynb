{
  "cells": [
    {
      "cell_type": "markdown",
      "metadata": {
        "id": "view-in-github",
        "colab_type": "text"
      },
      "source": [
        "<a href=\"https://colab.research.google.com/github/atif4/Q2/blob/gh-pages/astronauts.ipynb\" target=\"_parent\"><img src=\"https://colab.research.google.com/assets/colab-badge.svg\" alt=\"Open In Colab\"/></a>"
      ]
    },
    {
      "cell_type": "code",
      "execution_count": 1,
      "metadata": {
        "id": "DwB5BPeqv7Q-"
      },
      "outputs": [],
      "source": [
        "#hide earrings \n",
        "import warnings\n",
        "warnings.filterwarnings('ignore')\n",
        "import pandas as pd\n",
        "import numpy as np"
      ]
    },
    {
      "cell_type": "code",
      "execution_count": 2,
      "metadata": {
        "id": "zJx7TcUiPodo"
      },
      "outputs": [],
      "source": [
        "import matplotlib.pyplot as plt\n",
        "%matplotlib inline\n",
        "import seaborn as sns\n",
        "plt.style.use('seaborn')"
      ]
    },
    {
      "cell_type": "code",
      "execution_count": 3,
      "metadata": {
        "id": "ede6KExlPsQ_"
      },
      "outputs": [],
      "source": [
        "from sklearn.model_selection import train_test_split\n",
        "from sklearn.preprocessing import MinMaxScaler"
      ]
    },
    {
      "cell_type": "code",
      "execution_count": 4,
      "metadata": {
        "id": "M8t6wX9fT2k5"
      },
      "outputs": [],
      "source": [
        "\"\"\"from tensorflow.keras.models import Sequential\n",
        "from tensorflow.keras.layers import Dense\"\"\"\n",
        "from tensorflow.keras.optimizers import Adam, SGD\n",
        "from keras import regularizers\n",
        "from keras import layers\n",
        "from tensorflow.keras import models"
      ]
    },
    {
      "cell_type": "code",
      "execution_count": 5,
      "metadata": {
        "colab": {
          "base_uri": "https://localhost:8080/",
          "height": 485
        },
        "id": "fHIWSftWT3QS",
        "outputId": "3a7f45eb-1508-4a01-e63f-06a80347db74"
      },
      "outputs": [
        {
          "output_type": "execute_result",
          "data": {
            "text/plain": [
              "               Name    Year  Group   Status Birth Date    Birth Place Gender  \\\n",
              "0   Joseph M. Acaba  2004.0   19.0   Active  5/17/1967  Inglewood, CA   Male   \n",
              "1    Loren W. Acton     NaN    NaN  Retired   3/7/1936   Lewiston, MT   Male   \n",
              "2  James C. Adamson  1984.0   10.0  Retired   3/3/1946     Warsaw, NY   Male   \n",
              "\n",
              "                                          Alma Mater  Undergraduate Major  \\\n",
              "0  University of California-Santa Barbara; Univer...              Geology   \n",
              "1   Montana State University; University of Colorado  Engineering Physics   \n",
              "2          US Military Academy; Princeton University          Engineering   \n",
              "\n",
              "          Graduate Major Military Rank    Military Branch  Space Flights  \\\n",
              "0                Geology           NaN                NaN              2   \n",
              "1          Solar Physics           NaN                NaN              1   \n",
              "2  Aerospace Engineering       Colonel  US Army (Retired)              2   \n",
              "\n",
              "   Space Flight (hr)  Space Walks  Space Walks (hr)  \\\n",
              "0               3307            2              13.0   \n",
              "1                190            0               0.0   \n",
              "2                334            0               0.0   \n",
              "\n",
              "                                 Missions Death Date Death Mission  \n",
              "0  STS-119 (Discovery), ISS-31/32 (Soyuz)        NaN           NaN  \n",
              "1                   STS 51-F (Challenger)        NaN           NaN  \n",
              "2    STS-28 (Columbia), STS-43 (Atlantis)        NaN           NaN  "
            ],
            "text/html": [
              "\n",
              "  <div id=\"df-fb7b9ead-7b4f-4450-9047-ef6524d5350a\">\n",
              "    <div class=\"colab-df-container\">\n",
              "      <div>\n",
              "<style scoped>\n",
              "    .dataframe tbody tr th:only-of-type {\n",
              "        vertical-align: middle;\n",
              "    }\n",
              "\n",
              "    .dataframe tbody tr th {\n",
              "        vertical-align: top;\n",
              "    }\n",
              "\n",
              "    .dataframe thead th {\n",
              "        text-align: right;\n",
              "    }\n",
              "</style>\n",
              "<table border=\"1\" class=\"dataframe\">\n",
              "  <thead>\n",
              "    <tr style=\"text-align: right;\">\n",
              "      <th></th>\n",
              "      <th>Name</th>\n",
              "      <th>Year</th>\n",
              "      <th>Group</th>\n",
              "      <th>Status</th>\n",
              "      <th>Birth Date</th>\n",
              "      <th>Birth Place</th>\n",
              "      <th>Gender</th>\n",
              "      <th>Alma Mater</th>\n",
              "      <th>Undergraduate Major</th>\n",
              "      <th>Graduate Major</th>\n",
              "      <th>Military Rank</th>\n",
              "      <th>Military Branch</th>\n",
              "      <th>Space Flights</th>\n",
              "      <th>Space Flight (hr)</th>\n",
              "      <th>Space Walks</th>\n",
              "      <th>Space Walks (hr)</th>\n",
              "      <th>Missions</th>\n",
              "      <th>Death Date</th>\n",
              "      <th>Death Mission</th>\n",
              "    </tr>\n",
              "  </thead>\n",
              "  <tbody>\n",
              "    <tr>\n",
              "      <th>0</th>\n",
              "      <td>Joseph M. Acaba</td>\n",
              "      <td>2004.0</td>\n",
              "      <td>19.0</td>\n",
              "      <td>Active</td>\n",
              "      <td>5/17/1967</td>\n",
              "      <td>Inglewood, CA</td>\n",
              "      <td>Male</td>\n",
              "      <td>University of California-Santa Barbara; Univer...</td>\n",
              "      <td>Geology</td>\n",
              "      <td>Geology</td>\n",
              "      <td>NaN</td>\n",
              "      <td>NaN</td>\n",
              "      <td>2</td>\n",
              "      <td>3307</td>\n",
              "      <td>2</td>\n",
              "      <td>13.0</td>\n",
              "      <td>STS-119 (Discovery), ISS-31/32 (Soyuz)</td>\n",
              "      <td>NaN</td>\n",
              "      <td>NaN</td>\n",
              "    </tr>\n",
              "    <tr>\n",
              "      <th>1</th>\n",
              "      <td>Loren W. Acton</td>\n",
              "      <td>NaN</td>\n",
              "      <td>NaN</td>\n",
              "      <td>Retired</td>\n",
              "      <td>3/7/1936</td>\n",
              "      <td>Lewiston, MT</td>\n",
              "      <td>Male</td>\n",
              "      <td>Montana State University; University of Colorado</td>\n",
              "      <td>Engineering Physics</td>\n",
              "      <td>Solar Physics</td>\n",
              "      <td>NaN</td>\n",
              "      <td>NaN</td>\n",
              "      <td>1</td>\n",
              "      <td>190</td>\n",
              "      <td>0</td>\n",
              "      <td>0.0</td>\n",
              "      <td>STS 51-F (Challenger)</td>\n",
              "      <td>NaN</td>\n",
              "      <td>NaN</td>\n",
              "    </tr>\n",
              "    <tr>\n",
              "      <th>2</th>\n",
              "      <td>James C. Adamson</td>\n",
              "      <td>1984.0</td>\n",
              "      <td>10.0</td>\n",
              "      <td>Retired</td>\n",
              "      <td>3/3/1946</td>\n",
              "      <td>Warsaw, NY</td>\n",
              "      <td>Male</td>\n",
              "      <td>US Military Academy; Princeton University</td>\n",
              "      <td>Engineering</td>\n",
              "      <td>Aerospace Engineering</td>\n",
              "      <td>Colonel</td>\n",
              "      <td>US Army (Retired)</td>\n",
              "      <td>2</td>\n",
              "      <td>334</td>\n",
              "      <td>0</td>\n",
              "      <td>0.0</td>\n",
              "      <td>STS-28 (Columbia), STS-43 (Atlantis)</td>\n",
              "      <td>NaN</td>\n",
              "      <td>NaN</td>\n",
              "    </tr>\n",
              "  </tbody>\n",
              "</table>\n",
              "</div>\n",
              "      <button class=\"colab-df-convert\" onclick=\"convertToInteractive('df-fb7b9ead-7b4f-4450-9047-ef6524d5350a')\"\n",
              "              title=\"Convert this dataframe to an interactive table.\"\n",
              "              style=\"display:none;\">\n",
              "        \n",
              "  <svg xmlns=\"http://www.w3.org/2000/svg\" height=\"24px\"viewBox=\"0 0 24 24\"\n",
              "       width=\"24px\">\n",
              "    <path d=\"M0 0h24v24H0V0z\" fill=\"none\"/>\n",
              "    <path d=\"M18.56 5.44l.94 2.06.94-2.06 2.06-.94-2.06-.94-.94-2.06-.94 2.06-2.06.94zm-11 1L8.5 8.5l.94-2.06 2.06-.94-2.06-.94L8.5 2.5l-.94 2.06-2.06.94zm10 10l.94 2.06.94-2.06 2.06-.94-2.06-.94-.94-2.06-.94 2.06-2.06.94z\"/><path d=\"M17.41 7.96l-1.37-1.37c-.4-.4-.92-.59-1.43-.59-.52 0-1.04.2-1.43.59L10.3 9.45l-7.72 7.72c-.78.78-.78 2.05 0 2.83L4 21.41c.39.39.9.59 1.41.59.51 0 1.02-.2 1.41-.59l7.78-7.78 2.81-2.81c.8-.78.8-2.07 0-2.86zM5.41 20L4 18.59l7.72-7.72 1.47 1.35L5.41 20z\"/>\n",
              "  </svg>\n",
              "      </button>\n",
              "      \n",
              "  <style>\n",
              "    .colab-df-container {\n",
              "      display:flex;\n",
              "      flex-wrap:wrap;\n",
              "      gap: 12px;\n",
              "    }\n",
              "\n",
              "    .colab-df-convert {\n",
              "      background-color: #E8F0FE;\n",
              "      border: none;\n",
              "      border-radius: 50%;\n",
              "      cursor: pointer;\n",
              "      display: none;\n",
              "      fill: #1967D2;\n",
              "      height: 32px;\n",
              "      padding: 0 0 0 0;\n",
              "      width: 32px;\n",
              "    }\n",
              "\n",
              "    .colab-df-convert:hover {\n",
              "      background-color: #E2EBFA;\n",
              "      box-shadow: 0px 1px 2px rgba(60, 64, 67, 0.3), 0px 1px 3px 1px rgba(60, 64, 67, 0.15);\n",
              "      fill: #174EA6;\n",
              "    }\n",
              "\n",
              "    [theme=dark] .colab-df-convert {\n",
              "      background-color: #3B4455;\n",
              "      fill: #D2E3FC;\n",
              "    }\n",
              "\n",
              "    [theme=dark] .colab-df-convert:hover {\n",
              "      background-color: #434B5C;\n",
              "      box-shadow: 0px 1px 3px 1px rgba(0, 0, 0, 0.15);\n",
              "      filter: drop-shadow(0px 1px 2px rgba(0, 0, 0, 0.3));\n",
              "      fill: #FFFFFF;\n",
              "    }\n",
              "  </style>\n",
              "\n",
              "      <script>\n",
              "        const buttonEl =\n",
              "          document.querySelector('#df-fb7b9ead-7b4f-4450-9047-ef6524d5350a button.colab-df-convert');\n",
              "        buttonEl.style.display =\n",
              "          google.colab.kernel.accessAllowed ? 'block' : 'none';\n",
              "\n",
              "        async function convertToInteractive(key) {\n",
              "          const element = document.querySelector('#df-fb7b9ead-7b4f-4450-9047-ef6524d5350a');\n",
              "          const dataTable =\n",
              "            await google.colab.kernel.invokeFunction('convertToInteractive',\n",
              "                                                     [key], {});\n",
              "          if (!dataTable) return;\n",
              "\n",
              "          const docLinkHtml = 'Like what you see? Visit the ' +\n",
              "            '<a target=\"_blank\" href=https://colab.research.google.com/notebooks/data_table.ipynb>data table notebook</a>'\n",
              "            + ' to learn more about interactive tables.';\n",
              "          element.innerHTML = '';\n",
              "          dataTable['output_type'] = 'display_data';\n",
              "          await google.colab.output.renderOutput(dataTable, element);\n",
              "          const docLink = document.createElement('div');\n",
              "          docLink.innerHTML = docLinkHtml;\n",
              "          element.appendChild(docLink);\n",
              "        }\n",
              "      </script>\n",
              "    </div>\n",
              "  </div>\n",
              "  "
            ]
          },
          "metadata": {},
          "execution_count": 5
        }
      ],
      "source": [
        "df = pd.read_csv(\"/content/drive/MyDrive/Dataset/astronauts.csv\")\n",
        "df.head(3)"
      ]
    },
    {
      "cell_type": "code",
      "execution_count": 6,
      "metadata": {
        "id": "8QtGSUB1EaSu"
      },
      "outputs": [],
      "source": [
        "df.rename(columns={'Birth Date':'Birth_Date', 'Birth Place':'Birth_Place','Alma Mater':'Alma_Mater', 'Undergraduate Major':'Undergraduate_Major', 'Graduate Major':'Graduate_Major',\n",
        "       'Military Rank':'Military_Rank', 'Military Branch':'Military_Branch', 'Space Flights':'Space_Flights',\n",
        "       'Space Flight (hr)':'Space_Flight_(hr)', 'Space Walks':'Space_Walks', 'Space Walks (hr)':'Space_Walks_(hr)',\n",
        "       'Death Date':'Death_Date', 'Death Mission':'Death_Mission'},inplace=True)"
      ]
    },
    {
      "cell_type": "code",
      "execution_count": 7,
      "metadata": {
        "colab": {
          "base_uri": "https://localhost:8080/"
        },
        "id": "DuZIyHzqUIAc",
        "outputId": "1ca6733c-05f4-4963-869c-ec51fac614af"
      },
      "outputs": [
        {
          "output_type": "stream",
          "name": "stdout",
          "text": [
            "<class 'pandas.core.frame.DataFrame'>\n",
            "RangeIndex: 357 entries, 0 to 356\n",
            "Data columns (total 19 columns):\n",
            " #   Column               Non-Null Count  Dtype  \n",
            "---  ------               --------------  -----  \n",
            " 0   Name                 357 non-null    object \n",
            " 1   Year                 330 non-null    float64\n",
            " 2   Group                330 non-null    float64\n",
            " 3   Status               357 non-null    object \n",
            " 4   Birth_Date           357 non-null    object \n",
            " 5   Birth_Place          357 non-null    object \n",
            " 6   Gender               357 non-null    object \n",
            " 7   Alma_Mater           356 non-null    object \n",
            " 8   Undergraduate_Major  335 non-null    object \n",
            " 9   Graduate_Major       298 non-null    object \n",
            " 10  Military_Rank        207 non-null    object \n",
            " 11  Military_Branch      211 non-null    object \n",
            " 12  Space_Flights        357 non-null    int64  \n",
            " 13  Space_Flight_(hr)    357 non-null    int64  \n",
            " 14  Space_Walks          357 non-null    int64  \n",
            " 15  Space_Walks_(hr)     357 non-null    float64\n",
            " 16  Missions             334 non-null    object \n",
            " 17  Death_Date           52 non-null     object \n",
            " 18  Death_Mission        16 non-null     object \n",
            "dtypes: float64(3), int64(3), object(13)\n",
            "memory usage: 53.1+ KB\n"
          ]
        }
      ],
      "source": [
        "df.info()"
      ]
    },
    {
      "cell_type": "code",
      "source": [
        "df['Death_Date']=df['Death_Date'].astype('datetime64[ns]')"
      ],
      "metadata": {
        "id": "9HfGd-2LkBa3"
      },
      "execution_count": 17,
      "outputs": []
    },
    {
      "cell_type": "code",
      "source": [
        "def get_each_dtpyes(col_list):\n",
        "    ob = []\n",
        "    integer = []\n",
        "    fl = []\n",
        "    data_time = []\n",
        "    bol = []\n",
        "    for i in col_list:\n",
        "        if df[i].dtypes == 'object':\n",
        "            ob.append(i)\n",
        "        if df[i].dtypes == 'int64':\n",
        "            integer.append(i)\n",
        "        if  df[i].dtypes == 'float64':\n",
        "            fl.append(i)\n",
        "        if df[i].dtypes == 'datetime64[ns]':\n",
        "            data_time.append(i)\n",
        "        if df[i].dtypes == \"bool\":\n",
        "            bol.append(i)\n",
        "    return print(f\"list of object dtpyes:\\n{ob}\\n{len(ob)}\\n\\nlist of integers dtypes:\\n{integer}\\n{len(integer)}\\n\\nlist of float dtypes:\\n{fl}\\n{len(fl)}\\n\\nlist of datatime dtype:\\n{data_time}\\n{len(data_time)}\\nlist of datatime dtype:\\n{bol}\\n{len(bol)}\\n\")\n",
        "get_each_dtpyes(['Name', 'Year', 'Group', 'Status', 'Birth_Date', 'Birth_Place','Gender', 'Alma_Mater', 'Undergraduate_Major', 'Graduate_Major',\n",
        "       'Military_Rank', 'Military_Branch', 'Space_Flights','Space_Flight_(hr)', 'Space_Walks', 'Space_Walks_(hr)', 'Missions','Death_Date', 'Death_Mission'])"
      ],
      "metadata": {
        "id": "K7JV-6eNjynO",
        "outputId": "2fab38eb-1697-4f60-e0ef-1a96c617ee2d",
        "colab": {
          "base_uri": "https://localhost:8080/"
        }
      },
      "execution_count": 18,
      "outputs": [
        {
          "output_type": "stream",
          "name": "stdout",
          "text": [
            "list of object dtpyes:\n",
            "['Name', 'Status', 'Birth_Date', 'Birth_Place', 'Gender', 'Alma_Mater', 'Undergraduate_Major', 'Graduate_Major', 'Military_Rank', 'Military_Branch', 'Missions', 'Death_Mission']\n",
            "12\n",
            "\n",
            "list of integers dtypes:\n",
            "['Space_Flights', 'Space_Flight_(hr)', 'Space_Walks']\n",
            "3\n",
            "\n",
            "list of float dtypes:\n",
            "['Year', 'Group', 'Space_Walks_(hr)']\n",
            "3\n",
            "\n",
            "list of datatime dtype:\n",
            "['Death_Date']\n",
            "1\n",
            "list of datatime dtype:\n",
            "[]\n",
            "0\n",
            "\n"
          ]
        }
      ]
    },
    {
      "cell_type": "code",
      "source": [
        "null_value = {}\n",
        "not_null_value = {}\n",
        "def get_null_value_col(list_col):\n",
        "  for i in list_col:\n",
        "    if df[i].isnull().sum() == 0:\n",
        "      not_null_value[i]=df[i].isnull().sum()\n",
        "    else:\n",
        "      null_value[i]=df[i].isnull().sum()\n",
        "get_null_value_col(['Name', 'Year', 'Group', 'Status', 'Birth_Date', 'Birth_Place', 'Gender', 'Alma_Mater', 'Undergraduate_Major', 'Graduate_Major',\n",
        "       'Military_Rank', 'Military_Branch', 'Space_Flights','Space_Flight_(hr)', 'Space_Walks', 'Space_Walks_(hr)', 'Missions', 'Death_Date', 'Death_Mission'])"
      ],
      "metadata": {
        "id": "xzFU-Ckxg7me"
      },
      "execution_count": 8,
      "outputs": []
    },
    {
      "cell_type": "code",
      "source": [
        "display(\"This is list of columns which has null values: \",null_value)\n",
        "display(\"The number of columns which has null value are  \",len(null_value))\n",
        "#display(\"This is list of columns which does not have null values: \",not_null_value)\n",
        "#display(\"This is lenght of list which does not have null value: \",len(not_null_value))"
      ],
      "metadata": {
        "id": "Z2ZuUHAUikW8",
        "outputId": "b0b4b735-2aac-402d-dba5-21d797b01e51",
        "colab": {
          "base_uri": "https://localhost:8080/",
          "height": 245
        }
      },
      "execution_count": 10,
      "outputs": [
        {
          "output_type": "display_data",
          "data": {
            "text/plain": [
              "'This is list of columns which has null values: '"
            ],
            "application/vnd.google.colaboratory.intrinsic+json": {
              "type": "string"
            }
          },
          "metadata": {}
        },
        {
          "output_type": "display_data",
          "data": {
            "text/plain": [
              "{'Year': 27,\n",
              " 'Group': 27,\n",
              " 'Alma_Mater': 1,\n",
              " 'Undergraduate_Major': 22,\n",
              " 'Graduate_Major': 59,\n",
              " 'Military_Rank': 150,\n",
              " 'Military_Branch': 146,\n",
              " 'Missions': 23,\n",
              " 'Death_Date': 305,\n",
              " 'Death_Mission': 341}"
            ]
          },
          "metadata": {}
        },
        {
          "output_type": "display_data",
          "data": {
            "text/plain": [
              "'The number of columns which has null value are  '"
            ],
            "application/vnd.google.colaboratory.intrinsic+json": {
              "type": "string"
            }
          },
          "metadata": {}
        },
        {
          "output_type": "display_data",
          "data": {
            "text/plain": [
              "10"
            ]
          },
          "metadata": {}
        }
      ]
    },
    {
      "cell_type": "code",
      "source": [
        "null_value.keys()"
      ],
      "metadata": {
        "id": "YXy_zBani-nB",
        "outputId": "58291425-99e1-49b7-cdac-84c5c7ec3cf3",
        "colab": {
          "base_uri": "https://localhost:8080/"
        }
      },
      "execution_count": 11,
      "outputs": [
        {
          "output_type": "execute_result",
          "data": {
            "text/plain": [
              "dict_keys(['Year', 'Group', 'Alma_Mater', 'Undergraduate_Major', 'Graduate_Major', 'Military_Rank', 'Military_Branch', 'Missions', 'Death_Date', 'Death_Mission'])"
            ]
          },
          "metadata": {},
          "execution_count": 11
        }
      ]
    },
    {
      "cell_type": "code",
      "source": [
        "update_col_dic={}\n",
        "drop_col_dic ={}\n",
        "def get_percentage_of_each_col(list_col):\n",
        "  for i in list_col:\n",
        "    if df[i].isnull().sum()/len(df)*100 > 30:\n",
        "      update_col_dic[i] = df[i].isnull().sum()/len(df)*100\n",
        "    else:\n",
        "      drop_col_dic[i]=df[i].isnull().sum()/len(df)*100 \n",
        "get_percentage_of_each_col(['Year', 'Group', 'Alma_Mater', 'Undergraduate_Major', 'Graduate_Major', 'Military_Rank', 'Military_Branch', 'Missions', 'Death_Date', 'Death_Mission'])"
      ],
      "metadata": {
        "id": "iSuQ4Qzzi7CP"
      },
      "execution_count": 13,
      "outputs": []
    },
    {
      "cell_type": "code",
      "source": [
        "display(\"The percentages are greater then 30 you use techniques to fill the value for following columns: \", update_col_dic)"
      ],
      "metadata": {
        "id": "BWACP1RNjg2U",
        "outputId": "a0962676-7381-4207-eee7-1771933a636f",
        "colab": {
          "base_uri": "https://localhost:8080/",
          "height": 105
        }
      },
      "execution_count": 14,
      "outputs": [
        {
          "output_type": "display_data",
          "data": {
            "text/plain": [
              "'The percentages are greater then 30 you use techniques to fill the value for following columns: '"
            ],
            "application/vnd.google.colaboratory.intrinsic+json": {
              "type": "string"
            }
          },
          "metadata": {}
        },
        {
          "output_type": "display_data",
          "data": {
            "text/plain": [
              "{'Military_Rank': 42.016806722689076,\n",
              " 'Military_Branch': 40.896358543417364,\n",
              " 'Death_Date': 85.43417366946778,\n",
              " 'Death_Mission': 95.51820728291317}"
            ]
          },
          "metadata": {}
        }
      ]
    },
    {
      "cell_type": "code",
      "source": [
        "display(\"The percentages are not greater then 30 you have to drop the following columns: \",drop_col_dic)"
      ],
      "metadata": {
        "id": "WwwrmLxxjnN_",
        "outputId": "4aaa6a6b-efea-4c7f-e2e7-3426d5bff33f",
        "colab": {
          "base_uri": "https://localhost:8080/",
          "height": 140
        }
      },
      "execution_count": 15,
      "outputs": [
        {
          "output_type": "display_data",
          "data": {
            "text/plain": [
              "'The percentages are not greater then 30 you have to drop the following columns: '"
            ],
            "application/vnd.google.colaboratory.intrinsic+json": {
              "type": "string"
            }
          },
          "metadata": {}
        },
        {
          "output_type": "display_data",
          "data": {
            "text/plain": [
              "{'Year': 7.563025210084033,\n",
              " 'Group': 7.563025210084033,\n",
              " 'Alma_Mater': 0.2801120448179272,\n",
              " 'Undergraduate_Major': 6.162464985994398,\n",
              " 'Graduate_Major': 16.5266106442577,\n",
              " 'Missions': 6.442577030812324}"
            ]
          },
          "metadata": {}
        }
      ]
    },
    {
      "cell_type": "code",
      "execution_count": 19,
      "metadata": {
        "colab": {
          "base_uri": "https://localhost:8080/"
        },
        "id": "9k1Busjxrxhx",
        "outputId": "31ec4609-10f3-442f-98e3-2edbd577d6f5"
      },
      "outputs": [
        {
          "output_type": "execute_result",
          "data": {
            "text/plain": [
              "dict_keys(['Year', 'Group', 'Alma_Mater', 'Undergraduate_Major', 'Graduate_Major', 'Missions'])"
            ]
          },
          "metadata": {},
          "execution_count": 19
        }
      ],
      "source": [
        "drop_col_dic.keys()"
      ]
    },
    {
      "cell_type": "code",
      "execution_count": 20,
      "metadata": {
        "id": "v378-t3K_HDG"
      },
      "outputs": [],
      "source": [
        "df.drop(['Year', 'Group', 'Alma_Mater', 'Undergraduate_Major', 'Graduate_Major', 'Missions'],axis=1,inplace=True)"
      ]
    },
    {
      "cell_type": "code",
      "execution_count": 21,
      "metadata": {
        "colab": {
          "base_uri": "https://localhost:8080/",
          "height": 246
        },
        "id": "M8OTfyDW_Y_R",
        "outputId": "264bc9f4-d67e-4455-a009-8ea559be780a"
      },
      "outputs": [
        {
          "output_type": "execute_result",
          "data": {
            "text/plain": [
              "              Name   Status Birth_Date    Birth_Place Gender Military_Rank  \\\n",
              "0  Joseph M. Acaba   Active  5/17/1967  Inglewood, CA   Male           NaN   \n",
              "1   Loren W. Acton  Retired   3/7/1936   Lewiston, MT   Male           NaN   \n",
              "\n",
              "  Military_Branch  Space_Flights  Space_Flight_(hr)  Space_Walks  \\\n",
              "0             NaN              2               3307            2   \n",
              "1             NaN              1                190            0   \n",
              "\n",
              "   Space_Walks_(hr) Death_Date Death_Mission  \n",
              "0              13.0        NaT           NaN  \n",
              "1               0.0        NaT           NaN  "
            ],
            "text/html": [
              "\n",
              "  <div id=\"df-3d717ec5-be2b-4531-8287-e77990795975\">\n",
              "    <div class=\"colab-df-container\">\n",
              "      <div>\n",
              "<style scoped>\n",
              "    .dataframe tbody tr th:only-of-type {\n",
              "        vertical-align: middle;\n",
              "    }\n",
              "\n",
              "    .dataframe tbody tr th {\n",
              "        vertical-align: top;\n",
              "    }\n",
              "\n",
              "    .dataframe thead th {\n",
              "        text-align: right;\n",
              "    }\n",
              "</style>\n",
              "<table border=\"1\" class=\"dataframe\">\n",
              "  <thead>\n",
              "    <tr style=\"text-align: right;\">\n",
              "      <th></th>\n",
              "      <th>Name</th>\n",
              "      <th>Status</th>\n",
              "      <th>Birth_Date</th>\n",
              "      <th>Birth_Place</th>\n",
              "      <th>Gender</th>\n",
              "      <th>Military_Rank</th>\n",
              "      <th>Military_Branch</th>\n",
              "      <th>Space_Flights</th>\n",
              "      <th>Space_Flight_(hr)</th>\n",
              "      <th>Space_Walks</th>\n",
              "      <th>Space_Walks_(hr)</th>\n",
              "      <th>Death_Date</th>\n",
              "      <th>Death_Mission</th>\n",
              "    </tr>\n",
              "  </thead>\n",
              "  <tbody>\n",
              "    <tr>\n",
              "      <th>0</th>\n",
              "      <td>Joseph M. Acaba</td>\n",
              "      <td>Active</td>\n",
              "      <td>5/17/1967</td>\n",
              "      <td>Inglewood, CA</td>\n",
              "      <td>Male</td>\n",
              "      <td>NaN</td>\n",
              "      <td>NaN</td>\n",
              "      <td>2</td>\n",
              "      <td>3307</td>\n",
              "      <td>2</td>\n",
              "      <td>13.0</td>\n",
              "      <td>NaT</td>\n",
              "      <td>NaN</td>\n",
              "    </tr>\n",
              "    <tr>\n",
              "      <th>1</th>\n",
              "      <td>Loren W. Acton</td>\n",
              "      <td>Retired</td>\n",
              "      <td>3/7/1936</td>\n",
              "      <td>Lewiston, MT</td>\n",
              "      <td>Male</td>\n",
              "      <td>NaN</td>\n",
              "      <td>NaN</td>\n",
              "      <td>1</td>\n",
              "      <td>190</td>\n",
              "      <td>0</td>\n",
              "      <td>0.0</td>\n",
              "      <td>NaT</td>\n",
              "      <td>NaN</td>\n",
              "    </tr>\n",
              "  </tbody>\n",
              "</table>\n",
              "</div>\n",
              "      <button class=\"colab-df-convert\" onclick=\"convertToInteractive('df-3d717ec5-be2b-4531-8287-e77990795975')\"\n",
              "              title=\"Convert this dataframe to an interactive table.\"\n",
              "              style=\"display:none;\">\n",
              "        \n",
              "  <svg xmlns=\"http://www.w3.org/2000/svg\" height=\"24px\"viewBox=\"0 0 24 24\"\n",
              "       width=\"24px\">\n",
              "    <path d=\"M0 0h24v24H0V0z\" fill=\"none\"/>\n",
              "    <path d=\"M18.56 5.44l.94 2.06.94-2.06 2.06-.94-2.06-.94-.94-2.06-.94 2.06-2.06.94zm-11 1L8.5 8.5l.94-2.06 2.06-.94-2.06-.94L8.5 2.5l-.94 2.06-2.06.94zm10 10l.94 2.06.94-2.06 2.06-.94-2.06-.94-.94-2.06-.94 2.06-2.06.94z\"/><path d=\"M17.41 7.96l-1.37-1.37c-.4-.4-.92-.59-1.43-.59-.52 0-1.04.2-1.43.59L10.3 9.45l-7.72 7.72c-.78.78-.78 2.05 0 2.83L4 21.41c.39.39.9.59 1.41.59.51 0 1.02-.2 1.41-.59l7.78-7.78 2.81-2.81c.8-.78.8-2.07 0-2.86zM5.41 20L4 18.59l7.72-7.72 1.47 1.35L5.41 20z\"/>\n",
              "  </svg>\n",
              "      </button>\n",
              "      \n",
              "  <style>\n",
              "    .colab-df-container {\n",
              "      display:flex;\n",
              "      flex-wrap:wrap;\n",
              "      gap: 12px;\n",
              "    }\n",
              "\n",
              "    .colab-df-convert {\n",
              "      background-color: #E8F0FE;\n",
              "      border: none;\n",
              "      border-radius: 50%;\n",
              "      cursor: pointer;\n",
              "      display: none;\n",
              "      fill: #1967D2;\n",
              "      height: 32px;\n",
              "      padding: 0 0 0 0;\n",
              "      width: 32px;\n",
              "    }\n",
              "\n",
              "    .colab-df-convert:hover {\n",
              "      background-color: #E2EBFA;\n",
              "      box-shadow: 0px 1px 2px rgba(60, 64, 67, 0.3), 0px 1px 3px 1px rgba(60, 64, 67, 0.15);\n",
              "      fill: #174EA6;\n",
              "    }\n",
              "\n",
              "    [theme=dark] .colab-df-convert {\n",
              "      background-color: #3B4455;\n",
              "      fill: #D2E3FC;\n",
              "    }\n",
              "\n",
              "    [theme=dark] .colab-df-convert:hover {\n",
              "      background-color: #434B5C;\n",
              "      box-shadow: 0px 1px 3px 1px rgba(0, 0, 0, 0.15);\n",
              "      filter: drop-shadow(0px 1px 2px rgba(0, 0, 0, 0.3));\n",
              "      fill: #FFFFFF;\n",
              "    }\n",
              "  </style>\n",
              "\n",
              "      <script>\n",
              "        const buttonEl =\n",
              "          document.querySelector('#df-3d717ec5-be2b-4531-8287-e77990795975 button.colab-df-convert');\n",
              "        buttonEl.style.display =\n",
              "          google.colab.kernel.accessAllowed ? 'block' : 'none';\n",
              "\n",
              "        async function convertToInteractive(key) {\n",
              "          const element = document.querySelector('#df-3d717ec5-be2b-4531-8287-e77990795975');\n",
              "          const dataTable =\n",
              "            await google.colab.kernel.invokeFunction('convertToInteractive',\n",
              "                                                     [key], {});\n",
              "          if (!dataTable) return;\n",
              "\n",
              "          const docLinkHtml = 'Like what you see? Visit the ' +\n",
              "            '<a target=\"_blank\" href=https://colab.research.google.com/notebooks/data_table.ipynb>data table notebook</a>'\n",
              "            + ' to learn more about interactive tables.';\n",
              "          element.innerHTML = '';\n",
              "          dataTable['output_type'] = 'display_data';\n",
              "          await google.colab.output.renderOutput(dataTable, element);\n",
              "          const docLink = document.createElement('div');\n",
              "          docLink.innerHTML = docLinkHtml;\n",
              "          element.appendChild(docLink);\n",
              "        }\n",
              "      </script>\n",
              "    </div>\n",
              "  </div>\n",
              "  "
            ]
          },
          "metadata": {},
          "execution_count": 21
        }
      ],
      "source": [
        "df.head(2)"
      ]
    },
    {
      "cell_type": "code",
      "execution_count": 22,
      "metadata": {
        "colab": {
          "base_uri": "https://localhost:8080/"
        },
        "id": "2T54dnxfDu1r",
        "outputId": "24ee12c4-d076-4e5c-9860-9a5805546675"
      },
      "outputs": [
        {
          "output_type": "execute_result",
          "data": {
            "text/plain": [
              "dict_keys(['Military_Rank', 'Military_Branch', 'Death_Date', 'Death_Mission'])"
            ]
          },
          "metadata": {},
          "execution_count": 22
        }
      ],
      "source": [
        "update_col_dic.keys()"
      ]
    },
    {
      "cell_type": "code",
      "source": [
        "dict_of_mode_values = {}\n",
        "def get_mode_value_to_fill_na_values(col_list):\n",
        "    for i in col_list:\n",
        "        dict_of_mode_values[i] = df[i].mode()\n",
        "get_mode_value_to_fill_na_values(['Military_Rank', 'Military_Branch', 'Death_Date', 'Death_Mission'])"
      ],
      "metadata": {
        "id": "hhBcNpqVVj5b"
      },
      "execution_count": 24,
      "outputs": []
    },
    {
      "cell_type": "code",
      "source": [
        "dict_of_mode_values"
      ],
      "metadata": {
        "id": "w40i_7UzWb24",
        "outputId": "ed4ca674-8c3f-4969-cf25-8f65610c96fd",
        "colab": {
          "base_uri": "https://localhost:8080/"
        }
      },
      "execution_count": 25,
      "outputs": [
        {
          "output_type": "execute_result",
          "data": {
            "text/plain": [
              "{'Military_Rank': 0    Colonel\n",
              " dtype: object, 'Military_Branch': 0    US Air Force (Retired)\n",
              " dtype: object, 'Death_Date': 0   1986-01-28\n",
              " dtype: datetime64[ns], 'Death_Mission': 0    STS 51-L (Challenger)\n",
              " dtype: object}"
            ]
          },
          "metadata": {},
          "execution_count": 25
        }
      ]
    },
    {
      "cell_type": "code",
      "source": [
        "df[\"Military_Rank\"].fillna(\"Colonel\", inplace = True)\n",
        "df[\"Death_Mission\"].fillna(\"STS 51-L (Challenger)\", inplace = True)\n",
        "df[\"Military_Branch\"].fillna(\"US Air Force (Retired)\", inplace = True)\n",
        "df[\"Death_Date\"].fillna(\"1986-01-28\", inplace=True)"
      ],
      "metadata": {
        "id": "aYnH-GBcWtXY"
      },
      "execution_count": 27,
      "outputs": []
    },
    {
      "cell_type": "code",
      "source": [
        "def get_fill(list_of_col_id):\n",
        "  for i in list_of_col_id:\n",
        "    df[i].fillna(df[i].mode(), inplace = True)"
      ],
      "metadata": {
        "id": "7Oe_mcrDXmnr"
      },
      "execution_count": 81,
      "outputs": []
    },
    {
      "cell_type": "code",
      "source": [
        "df.info()"
      ],
      "metadata": {
        "id": "ZSSPdwx-bJFK",
        "outputId": "a6cff338-20d4-4e07-bbe9-7418e06ee1e2",
        "colab": {
          "base_uri": "https://localhost:8080/"
        }
      },
      "execution_count": 28,
      "outputs": [
        {
          "output_type": "stream",
          "name": "stdout",
          "text": [
            "<class 'pandas.core.frame.DataFrame'>\n",
            "RangeIndex: 357 entries, 0 to 356\n",
            "Data columns (total 13 columns):\n",
            " #   Column             Non-Null Count  Dtype         \n",
            "---  ------             --------------  -----         \n",
            " 0   Name               357 non-null    object        \n",
            " 1   Status             357 non-null    object        \n",
            " 2   Birth_Date         357 non-null    object        \n",
            " 3   Birth_Place        357 non-null    object        \n",
            " 4   Gender             357 non-null    object        \n",
            " 5   Military_Rank      357 non-null    object        \n",
            " 6   Military_Branch    357 non-null    object        \n",
            " 7   Space_Flights      357 non-null    int64         \n",
            " 8   Space_Flight_(hr)  357 non-null    int64         \n",
            " 9   Space_Walks        357 non-null    int64         \n",
            " 10  Space_Walks_(hr)   357 non-null    float64       \n",
            " 11  Death_Date         357 non-null    datetime64[ns]\n",
            " 12  Death_Mission      357 non-null    object        \n",
            "dtypes: datetime64[ns](1), float64(1), int64(3), object(8)\n",
            "memory usage: 36.4+ KB\n"
          ]
        }
      ]
    },
    {
      "cell_type": "code",
      "source": [
        "df.head(1)"
      ],
      "metadata": {
        "id": "kP7ZkqqIbcty",
        "outputId": "c5d6bdaf-50ae-4bd2-c998-0063cc3ea4ee",
        "colab": {
          "base_uri": "https://localhost:8080/",
          "height": 179
        }
      },
      "execution_count": 29,
      "outputs": [
        {
          "output_type": "execute_result",
          "data": {
            "text/plain": [
              "              Name  Status Birth_Date    Birth_Place Gender Military_Rank  \\\n",
              "0  Joseph M. Acaba  Active  5/17/1967  Inglewood, CA   Male       Colonel   \n",
              "\n",
              "          Military_Branch  Space_Flights  Space_Flight_(hr)  Space_Walks  \\\n",
              "0  US Air Force (Retired)              2               3307            2   \n",
              "\n",
              "   Space_Walks_(hr) Death_Date          Death_Mission  \n",
              "0              13.0 1986-01-28  STS 51-L (Challenger)  "
            ],
            "text/html": [
              "\n",
              "  <div id=\"df-fc321a8e-aea2-47ea-b4ef-a5bbd4798e38\">\n",
              "    <div class=\"colab-df-container\">\n",
              "      <div>\n",
              "<style scoped>\n",
              "    .dataframe tbody tr th:only-of-type {\n",
              "        vertical-align: middle;\n",
              "    }\n",
              "\n",
              "    .dataframe tbody tr th {\n",
              "        vertical-align: top;\n",
              "    }\n",
              "\n",
              "    .dataframe thead th {\n",
              "        text-align: right;\n",
              "    }\n",
              "</style>\n",
              "<table border=\"1\" class=\"dataframe\">\n",
              "  <thead>\n",
              "    <tr style=\"text-align: right;\">\n",
              "      <th></th>\n",
              "      <th>Name</th>\n",
              "      <th>Status</th>\n",
              "      <th>Birth_Date</th>\n",
              "      <th>Birth_Place</th>\n",
              "      <th>Gender</th>\n",
              "      <th>Military_Rank</th>\n",
              "      <th>Military_Branch</th>\n",
              "      <th>Space_Flights</th>\n",
              "      <th>Space_Flight_(hr)</th>\n",
              "      <th>Space_Walks</th>\n",
              "      <th>Space_Walks_(hr)</th>\n",
              "      <th>Death_Date</th>\n",
              "      <th>Death_Mission</th>\n",
              "    </tr>\n",
              "  </thead>\n",
              "  <tbody>\n",
              "    <tr>\n",
              "      <th>0</th>\n",
              "      <td>Joseph M. Acaba</td>\n",
              "      <td>Active</td>\n",
              "      <td>5/17/1967</td>\n",
              "      <td>Inglewood, CA</td>\n",
              "      <td>Male</td>\n",
              "      <td>Colonel</td>\n",
              "      <td>US Air Force (Retired)</td>\n",
              "      <td>2</td>\n",
              "      <td>3307</td>\n",
              "      <td>2</td>\n",
              "      <td>13.0</td>\n",
              "      <td>1986-01-28</td>\n",
              "      <td>STS 51-L (Challenger)</td>\n",
              "    </tr>\n",
              "  </tbody>\n",
              "</table>\n",
              "</div>\n",
              "      <button class=\"colab-df-convert\" onclick=\"convertToInteractive('df-fc321a8e-aea2-47ea-b4ef-a5bbd4798e38')\"\n",
              "              title=\"Convert this dataframe to an interactive table.\"\n",
              "              style=\"display:none;\">\n",
              "        \n",
              "  <svg xmlns=\"http://www.w3.org/2000/svg\" height=\"24px\"viewBox=\"0 0 24 24\"\n",
              "       width=\"24px\">\n",
              "    <path d=\"M0 0h24v24H0V0z\" fill=\"none\"/>\n",
              "    <path d=\"M18.56 5.44l.94 2.06.94-2.06 2.06-.94-2.06-.94-.94-2.06-.94 2.06-2.06.94zm-11 1L8.5 8.5l.94-2.06 2.06-.94-2.06-.94L8.5 2.5l-.94 2.06-2.06.94zm10 10l.94 2.06.94-2.06 2.06-.94-2.06-.94-.94-2.06-.94 2.06-2.06.94z\"/><path d=\"M17.41 7.96l-1.37-1.37c-.4-.4-.92-.59-1.43-.59-.52 0-1.04.2-1.43.59L10.3 9.45l-7.72 7.72c-.78.78-.78 2.05 0 2.83L4 21.41c.39.39.9.59 1.41.59.51 0 1.02-.2 1.41-.59l7.78-7.78 2.81-2.81c.8-.78.8-2.07 0-2.86zM5.41 20L4 18.59l7.72-7.72 1.47 1.35L5.41 20z\"/>\n",
              "  </svg>\n",
              "      </button>\n",
              "      \n",
              "  <style>\n",
              "    .colab-df-container {\n",
              "      display:flex;\n",
              "      flex-wrap:wrap;\n",
              "      gap: 12px;\n",
              "    }\n",
              "\n",
              "    .colab-df-convert {\n",
              "      background-color: #E8F0FE;\n",
              "      border: none;\n",
              "      border-radius: 50%;\n",
              "      cursor: pointer;\n",
              "      display: none;\n",
              "      fill: #1967D2;\n",
              "      height: 32px;\n",
              "      padding: 0 0 0 0;\n",
              "      width: 32px;\n",
              "    }\n",
              "\n",
              "    .colab-df-convert:hover {\n",
              "      background-color: #E2EBFA;\n",
              "      box-shadow: 0px 1px 2px rgba(60, 64, 67, 0.3), 0px 1px 3px 1px rgba(60, 64, 67, 0.15);\n",
              "      fill: #174EA6;\n",
              "    }\n",
              "\n",
              "    [theme=dark] .colab-df-convert {\n",
              "      background-color: #3B4455;\n",
              "      fill: #D2E3FC;\n",
              "    }\n",
              "\n",
              "    [theme=dark] .colab-df-convert:hover {\n",
              "      background-color: #434B5C;\n",
              "      box-shadow: 0px 1px 3px 1px rgba(0, 0, 0, 0.15);\n",
              "      filter: drop-shadow(0px 1px 2px rgba(0, 0, 0, 0.3));\n",
              "      fill: #FFFFFF;\n",
              "    }\n",
              "  </style>\n",
              "\n",
              "      <script>\n",
              "        const buttonEl =\n",
              "          document.querySelector('#df-fc321a8e-aea2-47ea-b4ef-a5bbd4798e38 button.colab-df-convert');\n",
              "        buttonEl.style.display =\n",
              "          google.colab.kernel.accessAllowed ? 'block' : 'none';\n",
              "\n",
              "        async function convertToInteractive(key) {\n",
              "          const element = document.querySelector('#df-fc321a8e-aea2-47ea-b4ef-a5bbd4798e38');\n",
              "          const dataTable =\n",
              "            await google.colab.kernel.invokeFunction('convertToInteractive',\n",
              "                                                     [key], {});\n",
              "          if (!dataTable) return;\n",
              "\n",
              "          const docLinkHtml = 'Like what you see? Visit the ' +\n",
              "            '<a target=\"_blank\" href=https://colab.research.google.com/notebooks/data_table.ipynb>data table notebook</a>'\n",
              "            + ' to learn more about interactive tables.';\n",
              "          element.innerHTML = '';\n",
              "          dataTable['output_type'] = 'display_data';\n",
              "          await google.colab.output.renderOutput(dataTable, element);\n",
              "          const docLink = document.createElement('div');\n",
              "          docLink.innerHTML = docLinkHtml;\n",
              "          element.appendChild(docLink);\n",
              "        }\n",
              "      </script>\n",
              "    </div>\n",
              "  </div>\n",
              "  "
            ]
          },
          "metadata": {},
          "execution_count": 29
        }
      ]
    },
    {
      "cell_type": "code",
      "source": [],
      "metadata": {
        "id": "_VLhkVlMlMrC"
      },
      "execution_count": null,
      "outputs": []
    }
  ],
  "metadata": {
    "colab": {
      "provenance": [],
      "mount_file_id": "1Rk75WAPCq9-1Ka1cLuq75yCbd0Cq75PG",
      "authorship_tag": "ABX9TyPF5PAx4aMB46lPANtTFT5J",
      "include_colab_link": true
    },
    "kernelspec": {
      "display_name": "Python 3",
      "name": "python3"
    },
    "language_info": {
      "name": "python"
    }
  },
  "nbformat": 4,
  "nbformat_minor": 0
}